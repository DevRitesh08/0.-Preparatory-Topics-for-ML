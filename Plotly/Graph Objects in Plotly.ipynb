{
 "cells": [
  {
   "cell_type": "markdown",
   "id": "2d5f5131",
   "metadata": {},
   "source": [
    "# Introduction to Plotly\n",
    "\n",
    "1. Until now we did visualisations using Matplotlib, Seaborn and Pandas. All of them produce static image files.\n",
    "\n",
    "2. Plotly is company based out in Canada famous for it's products like Plotly and Dash\n",
    "\n",
    "3. Plotly creates interactive visualisations in the form of HTML files\n",
    "\n",
    "4. Drawback- can't work with a live data source\n",
    "\n",
    "5. Dash is used to create live data based dashboards."
   ]
  },
  {
   "cell_type": "code",
   "execution_count": 24,
   "id": "c1680b75",
   "metadata": {
    "ExecuteTime": {
     "end_time": "2025-09-13T13:30:41.966006Z",
     "start_time": "2025-09-13T13:30:41.950086Z"
    }
   },
   "outputs": [],
   "source": [
    "import numpy as np \n",
    "import pandas as pd \n",
    "import plotly.offline as pyo \n",
    "import plotly.graph_objs as go"
   ]
  },
  {
   "cell_type": "code",
   "execution_count": 25,
   "id": "04dbfe5c",
   "metadata": {
    "ExecuteTime": {
     "end_time": "2025-09-13T13:30:53.468631Z",
     "start_time": "2025-09-13T13:30:53.145996Z"
    }
   },
   "outputs": [
    {
     "data": {
      "text/plain": [
       "Index(['match_id', 'inning', 'batting_team', 'bowling_team', 'over', 'ball',\n",
       "       'batsman', 'non_striker', 'bowler', 'is_super_over', 'wide_runs',\n",
       "       'bye_runs', 'legbye_runs', 'noball_runs', 'penalty_runs',\n",
       "       'batsman_runs', 'extra_runs', 'total_runs', 'player_dismissed',\n",
       "       'dismissal_kind', 'fielder', 'id', 'season', 'city', 'date', 'team1',\n",
       "       'team2', 'toss_winner', 'toss_decision', 'result', 'dl_applied',\n",
       "       'winner', 'win_by_runs', 'win_by_wickets', 'player_of_match', 'venue',\n",
       "       'umpire1', 'umpire2', 'umpire3'],\n",
       "      dtype='object')"
      ]
     },
     "execution_count": 25,
     "metadata": {},
     "output_type": "execute_result"
    }
   ],
   "source": [
    "match = pd.read_csv('../DataSets/matches.csv')\n",
    "delivery = pd.read_csv('../DataSets/deliveries.csv')\n",
    "ipl = delivery.merge(match,left_on='match_id' , right_on='id')\n",
    "ipl.columns"
   ]
  },
  {
   "cell_type": "markdown",
   "id": "fbd4a4b7",
   "metadata": {},
   "source": [
    "## Scatter Plot using Plotly"
   ]
  },
  {
   "cell_type": "code",
   "execution_count": 26,
   "id": "e92ce1b6",
   "metadata": {
    "ExecuteTime": {
     "end_time": "2025-09-13T13:33:14.636815Z",
     "start_time": "2025-09-13T13:33:14.632791Z"
    }
   },
   "outputs": [],
   "source": [
    "# scatter plots are drawn between two continuous variables .\n",
    "# Q : we are going to draw a scatter plot between batman avg(x-axis) and strike rate(y-axis) of best 50 players in ipl history ."
   ]
  },
  {
   "cell_type": "code",
   "execution_count": 27,
   "id": "f3f73b15",
   "metadata": {
    "ExecuteTime": {
     "end_time": "2025-09-13T13:33:15.028368Z",
     "start_time": "2025-09-13T13:33:14.963218Z"
    }
   },
   "outputs": [],
   "source": [
    "# fetching top 50 batsman based on total runs scored\n",
    "top50 = ipl.groupby('batsman')['batsman_runs'].sum().sort_values(ascending=False).head(50).index.to_list()\n",
    "new_ipl = ipl[ipl['batsman'].isin(top50)]"
   ]
  },
  {
   "cell_type": "code",
   "execution_count": 28,
   "id": "5f05e525",
   "metadata": {
    "ExecuteTime": {
     "end_time": "2025-09-13T13:48:53.968205Z",
     "start_time": "2025-09-13T13:48:53.945100Z"
    }
   },
   "outputs": [
    {
     "data": {
      "text/plain": [
       "pandas.core.frame.DataFrame"
      ]
     },
     "execution_count": 28,
     "metadata": {},
     "output_type": "execute_result"
    }
   ],
   "source": [
    "# calculating strike rate\n",
    "runs = new_ipl.groupby('batsman')['batsman_runs'].sum()\n",
    "balls = new_ipl.groupby('batsman')['ball'].count()\n",
    "strikerate = (runs / balls) * 100\n",
    "type(strikerate)\n",
    "# converting series to dataframe\n",
    "strikerate = strikerate.reset_index()\n",
    "type(strikerate)"
   ]
  },
  {
   "cell_type": "code",
   "execution_count": 29,
   "id": "45efb8fe",
   "metadata": {
    "ExecuteTime": {
     "end_time": "2025-09-13T13:48:54.224210Z",
     "start_time": "2025-09-13T13:48:54.212303Z"
    }
   },
   "outputs": [
    {
     "data": {
      "application/vnd.microsoft.datawrangler.viewer.v0+json": {
       "columns": [
        {
         "name": "index",
         "rawType": "int64",
         "type": "integer"
        },
        {
         "name": "batsman",
         "rawType": "object",
         "type": "string"
        },
        {
         "name": "0",
         "rawType": "float64",
         "type": "float"
        }
       ],
       "ref": "cfeb6ae3-67d9-4ad1-8655-7c493d545067",
       "rows": [
        [
         "0",
         "AB de Villiers",
         "145.12905911740216"
        ],
        [
         "1",
         "AC Gilchrist",
         "133.05466237942122"
        ],
        [
         "2",
         "AJ Finch",
         "126.2992125984252"
        ],
        [
         "3",
         "AM Rahane",
         "117.48654880860876"
        ],
        [
         "4",
         "AT Rayudu",
         "123.0142566191446"
        ],
        [
         "5",
         "BB McCullum",
         "126.31820265933058"
        ],
        [
         "6",
         "BJ Hodge",
         "121.42237640936686"
        ],
        [
         "7",
         "CH Gayle",
         "144.19431279620852"
        ],
        [
         "8",
         "DA Miller",
         "137.7092511013216"
        ],
        [
         "9",
         "DA Warner",
         "138.3184011026878"
        ],
        [
         "10",
         "DJ Bravo",
         "122.28682170542635"
        ],
        [
         "11",
         "DJ Hussey",
         "120.07266121707538"
        ],
        [
         "12",
         "DPMD Jayawardene",
         "118.7910643889619"
        ],
        [
         "13",
         "DR Smith",
         "132.27953410981698"
        ],
        [
         "14",
         "F du Plessis",
         "124.16107382550337"
        ],
        [
         "15",
         "G Gambhir",
         "120.36120011651616"
        ],
        [
         "16",
         "GJ Maxwell",
         "157.56410256410257"
        ],
        [
         "17",
         "JH Kallis",
         "105.93627237014405"
        ],
        [
         "18",
         "JP Duminy",
         "121.97062423500613"
        ],
        [
         "19",
         "KA Pollard",
         "140.62126642771804"
        ],
        [
         "20",
         "KC Sangakkara",
         "118.4691011235955"
        ],
        [
         "21",
         "KD Karthik",
         "123.00847457627117"
        ],
        [
         "22",
         "KK Nair",
         "124.65016146393972"
        ],
        [
         "23",
         "M Vijay",
         "120.02868068833652"
        ],
        [
         "24",
         "MEK Hussey",
         "119.96359223300972"
        ],
        [
         "25",
         "MK Pandey",
         "116.93845344555498"
        ],
        [
         "26",
         "MK Tiwary",
         "114.12742382271468"
        ],
        [
         "27",
         "MS Dhoni",
         "132.8358208955224"
        ],
        [
         "28",
         "NV Ojha",
         "114.52802359882006"
        ],
        [
         "29",
         "PA Patel",
         "112.71844660194175"
        ],
        [
         "30",
         "R Dravid",
         "113.34723670490095"
        ],
        [
         "31",
         "RA Jadeja",
         "118.79286694101509"
        ],
        [
         "32",
         "RG Sharma",
         "128.49725106902872"
        ],
        [
         "33",
         "RV Uthappa",
         "127.63513513513513"
        ],
        [
         "34",
         "S Badrinath",
         "115.74297188755021"
        ],
        [
         "35",
         "S Dhawan",
         "118.50249584026622"
        ],
        [
         "36",
         "SC Ganguly",
         "101.73453996983409"
        ],
        [
         "37",
         "SE Marsh",
         "130.10977522216413"
        ],
        [
         "38",
         "SK Raina",
         "134.99554764024933"
        ],
        [
         "39",
         "SPD Smith",
         "128.50712678169543"
        ],
        [
         "40",
         "SR Tendulkar",
         "114.18786692759295"
        ],
        [
         "41",
         "SR Watson",
         "134.83837865572087"
        ],
        [
         "42",
         "SS Tiwary",
         "114.85148514851484"
        ],
        [
         "43",
         "SV Samson",
         "122.40343347639484"
        ],
        [
         "44",
         "TM Dilshan",
         "110.12416427889207"
        ],
        [
         "45",
         "V Kohli",
         "126.58843732112193"
        ],
        [
         "46",
         "V Sehwag",
         "148.82705946535734"
        ],
        [
         "47",
         "WP Saha",
         "127.72764561115667"
        ],
        [
         "48",
         "YK Pathan",
         "140.75144508670522"
        ],
        [
         "49",
         "Yuvraj Singh",
         "126.39024390243902"
        ]
       ],
       "shape": {
        "columns": 2,
        "rows": 50
       }
      },
      "text/html": [
       "<div>\n",
       "<style scoped>\n",
       "    .dataframe tbody tr th:only-of-type {\n",
       "        vertical-align: middle;\n",
       "    }\n",
       "\n",
       "    .dataframe tbody tr th {\n",
       "        vertical-align: top;\n",
       "    }\n",
       "\n",
       "    .dataframe thead th {\n",
       "        text-align: right;\n",
       "    }\n",
       "</style>\n",
       "<table border=\"1\" class=\"dataframe\">\n",
       "  <thead>\n",
       "    <tr style=\"text-align: right;\">\n",
       "      <th></th>\n",
       "      <th>batsman</th>\n",
       "      <th>0</th>\n",
       "    </tr>\n",
       "  </thead>\n",
       "  <tbody>\n",
       "    <tr>\n",
       "      <th>0</th>\n",
       "      <td>AB de Villiers</td>\n",
       "      <td>145.129059</td>\n",
       "    </tr>\n",
       "    <tr>\n",
       "      <th>1</th>\n",
       "      <td>AC Gilchrist</td>\n",
       "      <td>133.054662</td>\n",
       "    </tr>\n",
       "    <tr>\n",
       "      <th>2</th>\n",
       "      <td>AJ Finch</td>\n",
       "      <td>126.299213</td>\n",
       "    </tr>\n",
       "    <tr>\n",
       "      <th>3</th>\n",
       "      <td>AM Rahane</td>\n",
       "      <td>117.486549</td>\n",
       "    </tr>\n",
       "    <tr>\n",
       "      <th>4</th>\n",
       "      <td>AT Rayudu</td>\n",
       "      <td>123.014257</td>\n",
       "    </tr>\n",
       "    <tr>\n",
       "      <th>5</th>\n",
       "      <td>BB McCullum</td>\n",
       "      <td>126.318203</td>\n",
       "    </tr>\n",
       "    <tr>\n",
       "      <th>6</th>\n",
       "      <td>BJ Hodge</td>\n",
       "      <td>121.422376</td>\n",
       "    </tr>\n",
       "    <tr>\n",
       "      <th>7</th>\n",
       "      <td>CH Gayle</td>\n",
       "      <td>144.194313</td>\n",
       "    </tr>\n",
       "    <tr>\n",
       "      <th>8</th>\n",
       "      <td>DA Miller</td>\n",
       "      <td>137.709251</td>\n",
       "    </tr>\n",
       "    <tr>\n",
       "      <th>9</th>\n",
       "      <td>DA Warner</td>\n",
       "      <td>138.318401</td>\n",
       "    </tr>\n",
       "    <tr>\n",
       "      <th>10</th>\n",
       "      <td>DJ Bravo</td>\n",
       "      <td>122.286822</td>\n",
       "    </tr>\n",
       "    <tr>\n",
       "      <th>11</th>\n",
       "      <td>DJ Hussey</td>\n",
       "      <td>120.072661</td>\n",
       "    </tr>\n",
       "    <tr>\n",
       "      <th>12</th>\n",
       "      <td>DPMD Jayawardene</td>\n",
       "      <td>118.791064</td>\n",
       "    </tr>\n",
       "    <tr>\n",
       "      <th>13</th>\n",
       "      <td>DR Smith</td>\n",
       "      <td>132.279534</td>\n",
       "    </tr>\n",
       "    <tr>\n",
       "      <th>14</th>\n",
       "      <td>F du Plessis</td>\n",
       "      <td>124.161074</td>\n",
       "    </tr>\n",
       "    <tr>\n",
       "      <th>15</th>\n",
       "      <td>G Gambhir</td>\n",
       "      <td>120.361200</td>\n",
       "    </tr>\n",
       "    <tr>\n",
       "      <th>16</th>\n",
       "      <td>GJ Maxwell</td>\n",
       "      <td>157.564103</td>\n",
       "    </tr>\n",
       "    <tr>\n",
       "      <th>17</th>\n",
       "      <td>JH Kallis</td>\n",
       "      <td>105.936272</td>\n",
       "    </tr>\n",
       "    <tr>\n",
       "      <th>18</th>\n",
       "      <td>JP Duminy</td>\n",
       "      <td>121.970624</td>\n",
       "    </tr>\n",
       "    <tr>\n",
       "      <th>19</th>\n",
       "      <td>KA Pollard</td>\n",
       "      <td>140.621266</td>\n",
       "    </tr>\n",
       "    <tr>\n",
       "      <th>20</th>\n",
       "      <td>KC Sangakkara</td>\n",
       "      <td>118.469101</td>\n",
       "    </tr>\n",
       "    <tr>\n",
       "      <th>21</th>\n",
       "      <td>KD Karthik</td>\n",
       "      <td>123.008475</td>\n",
       "    </tr>\n",
       "    <tr>\n",
       "      <th>22</th>\n",
       "      <td>KK Nair</td>\n",
       "      <td>124.650161</td>\n",
       "    </tr>\n",
       "    <tr>\n",
       "      <th>23</th>\n",
       "      <td>M Vijay</td>\n",
       "      <td>120.028681</td>\n",
       "    </tr>\n",
       "    <tr>\n",
       "      <th>24</th>\n",
       "      <td>MEK Hussey</td>\n",
       "      <td>119.963592</td>\n",
       "    </tr>\n",
       "    <tr>\n",
       "      <th>25</th>\n",
       "      <td>MK Pandey</td>\n",
       "      <td>116.938453</td>\n",
       "    </tr>\n",
       "    <tr>\n",
       "      <th>26</th>\n",
       "      <td>MK Tiwary</td>\n",
       "      <td>114.127424</td>\n",
       "    </tr>\n",
       "    <tr>\n",
       "      <th>27</th>\n",
       "      <td>MS Dhoni</td>\n",
       "      <td>132.835821</td>\n",
       "    </tr>\n",
       "    <tr>\n",
       "      <th>28</th>\n",
       "      <td>NV Ojha</td>\n",
       "      <td>114.528024</td>\n",
       "    </tr>\n",
       "    <tr>\n",
       "      <th>29</th>\n",
       "      <td>PA Patel</td>\n",
       "      <td>112.718447</td>\n",
       "    </tr>\n",
       "    <tr>\n",
       "      <th>30</th>\n",
       "      <td>R Dravid</td>\n",
       "      <td>113.347237</td>\n",
       "    </tr>\n",
       "    <tr>\n",
       "      <th>31</th>\n",
       "      <td>RA Jadeja</td>\n",
       "      <td>118.792867</td>\n",
       "    </tr>\n",
       "    <tr>\n",
       "      <th>32</th>\n",
       "      <td>RG Sharma</td>\n",
       "      <td>128.497251</td>\n",
       "    </tr>\n",
       "    <tr>\n",
       "      <th>33</th>\n",
       "      <td>RV Uthappa</td>\n",
       "      <td>127.635135</td>\n",
       "    </tr>\n",
       "    <tr>\n",
       "      <th>34</th>\n",
       "      <td>S Badrinath</td>\n",
       "      <td>115.742972</td>\n",
       "    </tr>\n",
       "    <tr>\n",
       "      <th>35</th>\n",
       "      <td>S Dhawan</td>\n",
       "      <td>118.502496</td>\n",
       "    </tr>\n",
       "    <tr>\n",
       "      <th>36</th>\n",
       "      <td>SC Ganguly</td>\n",
       "      <td>101.734540</td>\n",
       "    </tr>\n",
       "    <tr>\n",
       "      <th>37</th>\n",
       "      <td>SE Marsh</td>\n",
       "      <td>130.109775</td>\n",
       "    </tr>\n",
       "    <tr>\n",
       "      <th>38</th>\n",
       "      <td>SK Raina</td>\n",
       "      <td>134.995548</td>\n",
       "    </tr>\n",
       "    <tr>\n",
       "      <th>39</th>\n",
       "      <td>SPD Smith</td>\n",
       "      <td>128.507127</td>\n",
       "    </tr>\n",
       "    <tr>\n",
       "      <th>40</th>\n",
       "      <td>SR Tendulkar</td>\n",
       "      <td>114.187867</td>\n",
       "    </tr>\n",
       "    <tr>\n",
       "      <th>41</th>\n",
       "      <td>SR Watson</td>\n",
       "      <td>134.838379</td>\n",
       "    </tr>\n",
       "    <tr>\n",
       "      <th>42</th>\n",
       "      <td>SS Tiwary</td>\n",
       "      <td>114.851485</td>\n",
       "    </tr>\n",
       "    <tr>\n",
       "      <th>43</th>\n",
       "      <td>SV Samson</td>\n",
       "      <td>122.403433</td>\n",
       "    </tr>\n",
       "    <tr>\n",
       "      <th>44</th>\n",
       "      <td>TM Dilshan</td>\n",
       "      <td>110.124164</td>\n",
       "    </tr>\n",
       "    <tr>\n",
       "      <th>45</th>\n",
       "      <td>V Kohli</td>\n",
       "      <td>126.588437</td>\n",
       "    </tr>\n",
       "    <tr>\n",
       "      <th>46</th>\n",
       "      <td>V Sehwag</td>\n",
       "      <td>148.827059</td>\n",
       "    </tr>\n",
       "    <tr>\n",
       "      <th>47</th>\n",
       "      <td>WP Saha</td>\n",
       "      <td>127.727646</td>\n",
       "    </tr>\n",
       "    <tr>\n",
       "      <th>48</th>\n",
       "      <td>YK Pathan</td>\n",
       "      <td>140.751445</td>\n",
       "    </tr>\n",
       "    <tr>\n",
       "      <th>49</th>\n",
       "      <td>Yuvraj Singh</td>\n",
       "      <td>126.390244</td>\n",
       "    </tr>\n",
       "  </tbody>\n",
       "</table>\n",
       "</div>"
      ],
      "text/plain": [
       "             batsman           0\n",
       "0     AB de Villiers  145.129059\n",
       "1       AC Gilchrist  133.054662\n",
       "2           AJ Finch  126.299213\n",
       "3          AM Rahane  117.486549\n",
       "4          AT Rayudu  123.014257\n",
       "5        BB McCullum  126.318203\n",
       "6           BJ Hodge  121.422376\n",
       "7           CH Gayle  144.194313\n",
       "8          DA Miller  137.709251\n",
       "9          DA Warner  138.318401\n",
       "10          DJ Bravo  122.286822\n",
       "11         DJ Hussey  120.072661\n",
       "12  DPMD Jayawardene  118.791064\n",
       "13          DR Smith  132.279534\n",
       "14      F du Plessis  124.161074\n",
       "15         G Gambhir  120.361200\n",
       "16        GJ Maxwell  157.564103\n",
       "17         JH Kallis  105.936272\n",
       "18         JP Duminy  121.970624\n",
       "19        KA Pollard  140.621266\n",
       "20     KC Sangakkara  118.469101\n",
       "21        KD Karthik  123.008475\n",
       "22           KK Nair  124.650161\n",
       "23           M Vijay  120.028681\n",
       "24        MEK Hussey  119.963592\n",
       "25         MK Pandey  116.938453\n",
       "26         MK Tiwary  114.127424\n",
       "27          MS Dhoni  132.835821\n",
       "28           NV Ojha  114.528024\n",
       "29          PA Patel  112.718447\n",
       "30          R Dravid  113.347237\n",
       "31         RA Jadeja  118.792867\n",
       "32         RG Sharma  128.497251\n",
       "33        RV Uthappa  127.635135\n",
       "34       S Badrinath  115.742972\n",
       "35          S Dhawan  118.502496\n",
       "36        SC Ganguly  101.734540\n",
       "37          SE Marsh  130.109775\n",
       "38          SK Raina  134.995548\n",
       "39         SPD Smith  128.507127\n",
       "40      SR Tendulkar  114.187867\n",
       "41         SR Watson  134.838379\n",
       "42         SS Tiwary  114.851485\n",
       "43         SV Samson  122.403433\n",
       "44        TM Dilshan  110.124164\n",
       "45           V Kohli  126.588437\n",
       "46          V Sehwag  148.827059\n",
       "47           WP Saha  127.727646\n",
       "48         YK Pathan  140.751445\n",
       "49      Yuvraj Singh  126.390244"
      ]
     },
     "execution_count": 29,
     "metadata": {},
     "output_type": "execute_result"
    }
   ],
   "source": [
    "strikerate"
   ]
  },
  {
   "cell_type": "code",
   "execution_count": 30,
   "id": "626fe2a1",
   "metadata": {
    "ExecuteTime": {
     "end_time": "2025-09-13T13:48:54.723869Z",
     "start_time": "2025-09-13T13:48:54.692584Z"
    }
   },
   "outputs": [],
   "source": [
    "# calculating average\n",
    "out = ipl[ipl['player_dismissed'].isin(top50)]\n",
    "nout = out['player_dismissed'].value_counts()\n",
    "\n",
    "avg = runs / nout\n",
    "avg = avg.reset_index()\n",
    "avg.rename(columns={'index' : 'batsman', 0 : 'average' },inplace=True)  "
   ]
  },
  {
   "cell_type": "code",
   "execution_count": 31,
   "id": "8abb7d2c",
   "metadata": {
    "ExecuteTime": {
     "end_time": "2025-09-13T13:49:13.912304Z",
     "start_time": "2025-09-13T13:49:13.900615Z"
    }
   },
   "outputs": [
    {
     "data": {
      "application/vnd.microsoft.datawrangler.viewer.v0+json": {
       "columns": [
        {
         "name": "index",
         "rawType": "int64",
         "type": "integer"
        },
        {
         "name": "batsman",
         "rawType": "object",
         "type": "string"
        },
        {
         "name": "average",
         "rawType": "float64",
         "type": "float"
        },
        {
         "name": "strikeRate",
         "rawType": "float64",
         "type": "float"
        }
       ],
       "ref": "3719352f-5a69-45e2-9e03-8d2828600a0a",
       "rows": [
        [
         "0",
         "AB de Villiers",
         "38.30769230769231",
         "145.12905911740216"
        ],
        [
         "1",
         "AC Gilchrist",
         "27.223684210526315",
         "133.05466237942122"
        ],
        [
         "2",
         "AJ Finch",
         "27.1864406779661",
         "126.2992125984252"
        ],
        [
         "3",
         "AM Rahane",
         "33.59340659340659",
         "117.48654880860876"
        ],
        [
         "4",
         "AT Rayudu",
         "27.146067415730336",
         "123.0142566191446"
        ],
        [
         "5",
         "BB McCullum",
         "28.112244897959183",
         "126.31820265933058"
        ],
        [
         "6",
         "BJ Hodge",
         "33.333333333333336",
         "121.42237640936686"
        ],
        [
         "7",
         "CH Gayle",
         "41.02247191011236",
         "144.19431279620852"
        ],
        [
         "8",
         "DA Miller",
         "34.733333333333334",
         "137.7092511013216"
        ],
        [
         "9",
         "DA Warner",
         "40.14",
         "138.3184011026878"
        ],
        [
         "10",
         "DJ Bravo",
         "22.945454545454545",
         "122.28682170542635"
        ],
        [
         "11",
         "DJ Hussey",
         "26.979591836734695",
         "120.07266121707538"
        ],
        [
         "12",
         "DPMD Jayawardene",
         "28.25",
         "118.7910643889619"
        ],
        [
         "13",
         "DR Smith",
         "28.392857142857142",
         "132.27953410981698"
        ],
        [
         "14",
         "F du Plessis",
         "30.11627906976744",
         "124.16107382550337"
        ],
        [
         "15",
         "G Gambhir",
         "31.541984732824428",
         "120.36120011651616"
        ],
        [
         "16",
         "GJ Maxwell",
         "25.081632653061224",
         "157.56410256410257"
        ],
        [
         "17",
         "JH Kallis",
         "28.55294117647059",
         "105.93627237014405"
        ],
        [
         "18",
         "JP Duminy",
         "39.86",
         "121.97062423500613"
        ],
        [
         "19",
         "KA Pollard",
         "28.70731707317073",
         "140.62126642771804"
        ],
        [
         "20",
         "KC Sangakkara",
         "25.953846153846154",
         "118.4691011235955"
        ],
        [
         "21",
         "KD Karthik",
         "24.811965811965813",
         "123.00847457627117"
        ],
        [
         "22",
         "KK Nair",
         "25.17391304347826",
         "124.65016146393972"
        ],
        [
         "23",
         "M Vijay",
         "26.431578947368422",
         "120.02868068833652"
        ],
        [
         "24",
         "MEK Hussey",
         "38.76470588235294",
         "119.96359223300972"
        ],
        [
         "25",
         "MK Pandey",
         "28.5",
         "116.93845344555498"
        ],
        [
         "26",
         "MK Tiwary",
         "29.428571428571427",
         "114.12742382271468"
        ],
        [
         "27",
         "MS Dhoni",
         "37.87234042553192",
         "132.8358208955224"
        ],
        [
         "28",
         "NV Ojha",
         "20.986486486486488",
         "114.52802359882006"
        ],
        [
         "29",
         "PA Patel",
         "21.700934579439252",
         "112.71844660194175"
        ],
        [
         "30",
         "R Dravid",
         "28.233766233766232",
         "113.34723670490095"
        ],
        [
         "31",
         "RA Jadeja",
         "24.055555555555557",
         "118.79286694101509"
        ],
        [
         "32",
         "RG Sharma",
         "32.6124031007752",
         "128.49725106902872"
        ],
        [
         "33",
         "RV Uthappa",
         "29.515625",
         "127.63513513513513"
        ],
        [
         "34",
         "S Badrinath",
         "30.659574468085108",
         "115.74297188755021"
        ],
        [
         "35",
         "S Dhawan",
         "32.669724770642205",
         "118.50249584026622"
        ],
        [
         "36",
         "SC Ganguly",
         "25.452830188679247",
         "101.73453996983409"
        ],
        [
         "37",
         "SE Marsh",
         "39.507936507936506",
         "130.10977522216413"
        ],
        [
         "38",
         "SK Raina",
         "33.940298507462686",
         "134.99554764024933"
        ],
        [
         "39",
         "SPD Smith",
         "37.23913043478261",
         "128.50712678169543"
        ],
        [
         "40",
         "SR Tendulkar",
         "33.82608695652174",
         "114.18786692759295"
        ],
        [
         "41",
         "SR Watson",
         "30.91764705882353",
         "134.83837865572087"
        ],
        [
         "42",
         "SS Tiwary",
         "28.355555555555554",
         "114.85148514851484"
        ],
        [
         "43",
         "SV Samson",
         "25.464285714285715",
         "122.40343347639484"
        ],
        [
         "44",
         "TM Dilshan",
         "26.813953488372093",
         "110.12416427889207"
        ],
        [
         "45",
         "V Kohli",
         "37.483050847457626",
         "126.58843732112193"
        ],
        [
         "46",
         "V Sehwag",
         "27.555555555555557",
         "148.82705946535734"
        ],
        [
         "47",
         "WP Saha",
         "25.524590163934427",
         "127.72764561115667"
        ],
        [
         "48",
         "YK Pathan",
         "29.816326530612244",
         "140.75144508670522"
        ],
        [
         "49",
         "Yuvraj Singh",
         "25.653465346534652",
         "126.39024390243902"
        ]
       ],
       "shape": {
        "columns": 3,
        "rows": 50
       }
      },
      "text/html": [
       "<div>\n",
       "<style scoped>\n",
       "    .dataframe tbody tr th:only-of-type {\n",
       "        vertical-align: middle;\n",
       "    }\n",
       "\n",
       "    .dataframe tbody tr th {\n",
       "        vertical-align: top;\n",
       "    }\n",
       "\n",
       "    .dataframe thead th {\n",
       "        text-align: right;\n",
       "    }\n",
       "</style>\n",
       "<table border=\"1\" class=\"dataframe\">\n",
       "  <thead>\n",
       "    <tr style=\"text-align: right;\">\n",
       "      <th></th>\n",
       "      <th>batsman</th>\n",
       "      <th>average</th>\n",
       "      <th>strikeRate</th>\n",
       "    </tr>\n",
       "  </thead>\n",
       "  <tbody>\n",
       "    <tr>\n",
       "      <th>0</th>\n",
       "      <td>AB de Villiers</td>\n",
       "      <td>38.307692</td>\n",
       "      <td>145.129059</td>\n",
       "    </tr>\n",
       "    <tr>\n",
       "      <th>1</th>\n",
       "      <td>AC Gilchrist</td>\n",
       "      <td>27.223684</td>\n",
       "      <td>133.054662</td>\n",
       "    </tr>\n",
       "    <tr>\n",
       "      <th>2</th>\n",
       "      <td>AJ Finch</td>\n",
       "      <td>27.186441</td>\n",
       "      <td>126.299213</td>\n",
       "    </tr>\n",
       "    <tr>\n",
       "      <th>3</th>\n",
       "      <td>AM Rahane</td>\n",
       "      <td>33.593407</td>\n",
       "      <td>117.486549</td>\n",
       "    </tr>\n",
       "    <tr>\n",
       "      <th>4</th>\n",
       "      <td>AT Rayudu</td>\n",
       "      <td>27.146067</td>\n",
       "      <td>123.014257</td>\n",
       "    </tr>\n",
       "    <tr>\n",
       "      <th>5</th>\n",
       "      <td>BB McCullum</td>\n",
       "      <td>28.112245</td>\n",
       "      <td>126.318203</td>\n",
       "    </tr>\n",
       "    <tr>\n",
       "      <th>6</th>\n",
       "      <td>BJ Hodge</td>\n",
       "      <td>33.333333</td>\n",
       "      <td>121.422376</td>\n",
       "    </tr>\n",
       "    <tr>\n",
       "      <th>7</th>\n",
       "      <td>CH Gayle</td>\n",
       "      <td>41.022472</td>\n",
       "      <td>144.194313</td>\n",
       "    </tr>\n",
       "    <tr>\n",
       "      <th>8</th>\n",
       "      <td>DA Miller</td>\n",
       "      <td>34.733333</td>\n",
       "      <td>137.709251</td>\n",
       "    </tr>\n",
       "    <tr>\n",
       "      <th>9</th>\n",
       "      <td>DA Warner</td>\n",
       "      <td>40.140000</td>\n",
       "      <td>138.318401</td>\n",
       "    </tr>\n",
       "    <tr>\n",
       "      <th>10</th>\n",
       "      <td>DJ Bravo</td>\n",
       "      <td>22.945455</td>\n",
       "      <td>122.286822</td>\n",
       "    </tr>\n",
       "    <tr>\n",
       "      <th>11</th>\n",
       "      <td>DJ Hussey</td>\n",
       "      <td>26.979592</td>\n",
       "      <td>120.072661</td>\n",
       "    </tr>\n",
       "    <tr>\n",
       "      <th>12</th>\n",
       "      <td>DPMD Jayawardene</td>\n",
       "      <td>28.250000</td>\n",
       "      <td>118.791064</td>\n",
       "    </tr>\n",
       "    <tr>\n",
       "      <th>13</th>\n",
       "      <td>DR Smith</td>\n",
       "      <td>28.392857</td>\n",
       "      <td>132.279534</td>\n",
       "    </tr>\n",
       "    <tr>\n",
       "      <th>14</th>\n",
       "      <td>F du Plessis</td>\n",
       "      <td>30.116279</td>\n",
       "      <td>124.161074</td>\n",
       "    </tr>\n",
       "    <tr>\n",
       "      <th>15</th>\n",
       "      <td>G Gambhir</td>\n",
       "      <td>31.541985</td>\n",
       "      <td>120.361200</td>\n",
       "    </tr>\n",
       "    <tr>\n",
       "      <th>16</th>\n",
       "      <td>GJ Maxwell</td>\n",
       "      <td>25.081633</td>\n",
       "      <td>157.564103</td>\n",
       "    </tr>\n",
       "    <tr>\n",
       "      <th>17</th>\n",
       "      <td>JH Kallis</td>\n",
       "      <td>28.552941</td>\n",
       "      <td>105.936272</td>\n",
       "    </tr>\n",
       "    <tr>\n",
       "      <th>18</th>\n",
       "      <td>JP Duminy</td>\n",
       "      <td>39.860000</td>\n",
       "      <td>121.970624</td>\n",
       "    </tr>\n",
       "    <tr>\n",
       "      <th>19</th>\n",
       "      <td>KA Pollard</td>\n",
       "      <td>28.707317</td>\n",
       "      <td>140.621266</td>\n",
       "    </tr>\n",
       "    <tr>\n",
       "      <th>20</th>\n",
       "      <td>KC Sangakkara</td>\n",
       "      <td>25.953846</td>\n",
       "      <td>118.469101</td>\n",
       "    </tr>\n",
       "    <tr>\n",
       "      <th>21</th>\n",
       "      <td>KD Karthik</td>\n",
       "      <td>24.811966</td>\n",
       "      <td>123.008475</td>\n",
       "    </tr>\n",
       "    <tr>\n",
       "      <th>22</th>\n",
       "      <td>KK Nair</td>\n",
       "      <td>25.173913</td>\n",
       "      <td>124.650161</td>\n",
       "    </tr>\n",
       "    <tr>\n",
       "      <th>23</th>\n",
       "      <td>M Vijay</td>\n",
       "      <td>26.431579</td>\n",
       "      <td>120.028681</td>\n",
       "    </tr>\n",
       "    <tr>\n",
       "      <th>24</th>\n",
       "      <td>MEK Hussey</td>\n",
       "      <td>38.764706</td>\n",
       "      <td>119.963592</td>\n",
       "    </tr>\n",
       "    <tr>\n",
       "      <th>25</th>\n",
       "      <td>MK Pandey</td>\n",
       "      <td>28.500000</td>\n",
       "      <td>116.938453</td>\n",
       "    </tr>\n",
       "    <tr>\n",
       "      <th>26</th>\n",
       "      <td>MK Tiwary</td>\n",
       "      <td>29.428571</td>\n",
       "      <td>114.127424</td>\n",
       "    </tr>\n",
       "    <tr>\n",
       "      <th>27</th>\n",
       "      <td>MS Dhoni</td>\n",
       "      <td>37.872340</td>\n",
       "      <td>132.835821</td>\n",
       "    </tr>\n",
       "    <tr>\n",
       "      <th>28</th>\n",
       "      <td>NV Ojha</td>\n",
       "      <td>20.986486</td>\n",
       "      <td>114.528024</td>\n",
       "    </tr>\n",
       "    <tr>\n",
       "      <th>29</th>\n",
       "      <td>PA Patel</td>\n",
       "      <td>21.700935</td>\n",
       "      <td>112.718447</td>\n",
       "    </tr>\n",
       "    <tr>\n",
       "      <th>30</th>\n",
       "      <td>R Dravid</td>\n",
       "      <td>28.233766</td>\n",
       "      <td>113.347237</td>\n",
       "    </tr>\n",
       "    <tr>\n",
       "      <th>31</th>\n",
       "      <td>RA Jadeja</td>\n",
       "      <td>24.055556</td>\n",
       "      <td>118.792867</td>\n",
       "    </tr>\n",
       "    <tr>\n",
       "      <th>32</th>\n",
       "      <td>RG Sharma</td>\n",
       "      <td>32.612403</td>\n",
       "      <td>128.497251</td>\n",
       "    </tr>\n",
       "    <tr>\n",
       "      <th>33</th>\n",
       "      <td>RV Uthappa</td>\n",
       "      <td>29.515625</td>\n",
       "      <td>127.635135</td>\n",
       "    </tr>\n",
       "    <tr>\n",
       "      <th>34</th>\n",
       "      <td>S Badrinath</td>\n",
       "      <td>30.659574</td>\n",
       "      <td>115.742972</td>\n",
       "    </tr>\n",
       "    <tr>\n",
       "      <th>35</th>\n",
       "      <td>S Dhawan</td>\n",
       "      <td>32.669725</td>\n",
       "      <td>118.502496</td>\n",
       "    </tr>\n",
       "    <tr>\n",
       "      <th>36</th>\n",
       "      <td>SC Ganguly</td>\n",
       "      <td>25.452830</td>\n",
       "      <td>101.734540</td>\n",
       "    </tr>\n",
       "    <tr>\n",
       "      <th>37</th>\n",
       "      <td>SE Marsh</td>\n",
       "      <td>39.507937</td>\n",
       "      <td>130.109775</td>\n",
       "    </tr>\n",
       "    <tr>\n",
       "      <th>38</th>\n",
       "      <td>SK Raina</td>\n",
       "      <td>33.940299</td>\n",
       "      <td>134.995548</td>\n",
       "    </tr>\n",
       "    <tr>\n",
       "      <th>39</th>\n",
       "      <td>SPD Smith</td>\n",
       "      <td>37.239130</td>\n",
       "      <td>128.507127</td>\n",
       "    </tr>\n",
       "    <tr>\n",
       "      <th>40</th>\n",
       "      <td>SR Tendulkar</td>\n",
       "      <td>33.826087</td>\n",
       "      <td>114.187867</td>\n",
       "    </tr>\n",
       "    <tr>\n",
       "      <th>41</th>\n",
       "      <td>SR Watson</td>\n",
       "      <td>30.917647</td>\n",
       "      <td>134.838379</td>\n",
       "    </tr>\n",
       "    <tr>\n",
       "      <th>42</th>\n",
       "      <td>SS Tiwary</td>\n",
       "      <td>28.355556</td>\n",
       "      <td>114.851485</td>\n",
       "    </tr>\n",
       "    <tr>\n",
       "      <th>43</th>\n",
       "      <td>SV Samson</td>\n",
       "      <td>25.464286</td>\n",
       "      <td>122.403433</td>\n",
       "    </tr>\n",
       "    <tr>\n",
       "      <th>44</th>\n",
       "      <td>TM Dilshan</td>\n",
       "      <td>26.813953</td>\n",
       "      <td>110.124164</td>\n",
       "    </tr>\n",
       "    <tr>\n",
       "      <th>45</th>\n",
       "      <td>V Kohli</td>\n",
       "      <td>37.483051</td>\n",
       "      <td>126.588437</td>\n",
       "    </tr>\n",
       "    <tr>\n",
       "      <th>46</th>\n",
       "      <td>V Sehwag</td>\n",
       "      <td>27.555556</td>\n",
       "      <td>148.827059</td>\n",
       "    </tr>\n",
       "    <tr>\n",
       "      <th>47</th>\n",
       "      <td>WP Saha</td>\n",
       "      <td>25.524590</td>\n",
       "      <td>127.727646</td>\n",
       "    </tr>\n",
       "    <tr>\n",
       "      <th>48</th>\n",
       "      <td>YK Pathan</td>\n",
       "      <td>29.816327</td>\n",
       "      <td>140.751445</td>\n",
       "    </tr>\n",
       "    <tr>\n",
       "      <th>49</th>\n",
       "      <td>Yuvraj Singh</td>\n",
       "      <td>25.653465</td>\n",
       "      <td>126.390244</td>\n",
       "    </tr>\n",
       "  </tbody>\n",
       "</table>\n",
       "</div>"
      ],
      "text/plain": [
       "             batsman    average  strikeRate\n",
       "0     AB de Villiers  38.307692  145.129059\n",
       "1       AC Gilchrist  27.223684  133.054662\n",
       "2           AJ Finch  27.186441  126.299213\n",
       "3          AM Rahane  33.593407  117.486549\n",
       "4          AT Rayudu  27.146067  123.014257\n",
       "5        BB McCullum  28.112245  126.318203\n",
       "6           BJ Hodge  33.333333  121.422376\n",
       "7           CH Gayle  41.022472  144.194313\n",
       "8          DA Miller  34.733333  137.709251\n",
       "9          DA Warner  40.140000  138.318401\n",
       "10          DJ Bravo  22.945455  122.286822\n",
       "11         DJ Hussey  26.979592  120.072661\n",
       "12  DPMD Jayawardene  28.250000  118.791064\n",
       "13          DR Smith  28.392857  132.279534\n",
       "14      F du Plessis  30.116279  124.161074\n",
       "15         G Gambhir  31.541985  120.361200\n",
       "16        GJ Maxwell  25.081633  157.564103\n",
       "17         JH Kallis  28.552941  105.936272\n",
       "18         JP Duminy  39.860000  121.970624\n",
       "19        KA Pollard  28.707317  140.621266\n",
       "20     KC Sangakkara  25.953846  118.469101\n",
       "21        KD Karthik  24.811966  123.008475\n",
       "22           KK Nair  25.173913  124.650161\n",
       "23           M Vijay  26.431579  120.028681\n",
       "24        MEK Hussey  38.764706  119.963592\n",
       "25         MK Pandey  28.500000  116.938453\n",
       "26         MK Tiwary  29.428571  114.127424\n",
       "27          MS Dhoni  37.872340  132.835821\n",
       "28           NV Ojha  20.986486  114.528024\n",
       "29          PA Patel  21.700935  112.718447\n",
       "30          R Dravid  28.233766  113.347237\n",
       "31         RA Jadeja  24.055556  118.792867\n",
       "32         RG Sharma  32.612403  128.497251\n",
       "33        RV Uthappa  29.515625  127.635135\n",
       "34       S Badrinath  30.659574  115.742972\n",
       "35          S Dhawan  32.669725  118.502496\n",
       "36        SC Ganguly  25.452830  101.734540\n",
       "37          SE Marsh  39.507937  130.109775\n",
       "38          SK Raina  33.940299  134.995548\n",
       "39         SPD Smith  37.239130  128.507127\n",
       "40      SR Tendulkar  33.826087  114.187867\n",
       "41         SR Watson  30.917647  134.838379\n",
       "42         SS Tiwary  28.355556  114.851485\n",
       "43         SV Samson  25.464286  122.403433\n",
       "44        TM Dilshan  26.813953  110.124164\n",
       "45           V Kohli  37.483051  126.588437\n",
       "46          V Sehwag  27.555556  148.827059\n",
       "47           WP Saha  25.524590  127.727646\n",
       "48         YK Pathan  29.816327  140.751445\n",
       "49      Yuvraj Singh  25.653465  126.390244"
      ]
     },
     "execution_count": 31,
     "metadata": {},
     "output_type": "execute_result"
    }
   ],
   "source": [
    "avg = avg.merge(strikerate,on='batsman')\n",
    "avg.rename(columns={0: \"strikeRate\"}, inplace=True)\n",
    "avg"
   ]
  },
  {
   "cell_type": "code",
   "execution_count": 23,
   "id": "7e32a2e6",
   "metadata": {
    "ExecuteTime": {
     "end_time": "2025-09-13T13:53:00.100658Z",
     "start_time": "2025-09-13T13:52:59.914705Z"
    }
   },
   "outputs": [
    {
     "ename": "KeyError",
     "evalue": "'strikeRate'",
     "output_type": "error",
     "traceback": [
      "\u001b[31m---------------------------------------------------------------------------\u001b[39m",
      "\u001b[31mKeyError\u001b[39m                                  Traceback (most recent call last)",
      "\u001b[36mFile \u001b[39m\u001b[32mc:\\Users\\RITESH\\AppData\\Local\\Programs\\Python\\Python313\\Lib\\site-packages\\pandas\\core\\indexes\\base.py:3812\u001b[39m, in \u001b[36mIndex.get_loc\u001b[39m\u001b[34m(self, key)\u001b[39m\n\u001b[32m   3811\u001b[39m \u001b[38;5;28;01mtry\u001b[39;00m:\n\u001b[32m-> \u001b[39m\u001b[32m3812\u001b[39m     \u001b[38;5;28;01mreturn\u001b[39;00m \u001b[38;5;28;43mself\u001b[39;49m\u001b[43m.\u001b[49m\u001b[43m_engine\u001b[49m\u001b[43m.\u001b[49m\u001b[43mget_loc\u001b[49m\u001b[43m(\u001b[49m\u001b[43mcasted_key\u001b[49m\u001b[43m)\u001b[49m\n\u001b[32m   3813\u001b[39m \u001b[38;5;28;01mexcept\u001b[39;00m \u001b[38;5;167;01mKeyError\u001b[39;00m \u001b[38;5;28;01mas\u001b[39;00m err:\n",
      "\u001b[36mFile \u001b[39m\u001b[32mpandas/_libs/index.pyx:167\u001b[39m, in \u001b[36mpandas._libs.index.IndexEngine.get_loc\u001b[39m\u001b[34m()\u001b[39m\n",
      "\u001b[36mFile \u001b[39m\u001b[32mpandas/_libs/index.pyx:196\u001b[39m, in \u001b[36mpandas._libs.index.IndexEngine.get_loc\u001b[39m\u001b[34m()\u001b[39m\n",
      "\u001b[36mFile \u001b[39m\u001b[32mpandas/_libs/hashtable_class_helper.pxi:7088\u001b[39m, in \u001b[36mpandas._libs.hashtable.PyObjectHashTable.get_item\u001b[39m\u001b[34m()\u001b[39m\n",
      "\u001b[36mFile \u001b[39m\u001b[32mpandas/_libs/hashtable_class_helper.pxi:7096\u001b[39m, in \u001b[36mpandas._libs.hashtable.PyObjectHashTable.get_item\u001b[39m\u001b[34m()\u001b[39m\n",
      "\u001b[31mKeyError\u001b[39m: 'strikeRate'",
      "\nThe above exception was the direct cause of the following exception:\n",
      "\u001b[31mKeyError\u001b[39m                                  Traceback (most recent call last)",
      "\u001b[36mCell\u001b[39m\u001b[36m \u001b[39m\u001b[32mIn[23]\u001b[39m\u001b[32m, line 2\u001b[39m\n\u001b[32m      1\u001b[39m \u001b[38;5;66;03m# scatter plot between avg and strike rate\u001b[39;00m\n\u001b[32m----> \u001b[39m\u001b[32m2\u001b[39m trace = go.Scatter(x = avg[\u001b[33m'\u001b[39m\u001b[33maverage\u001b[39m\u001b[33m'\u001b[39m], y = \u001b[43mavg\u001b[49m\u001b[43m[\u001b[49m\u001b[33;43m'\u001b[39;49m\u001b[33;43mstrikeRate\u001b[39;49m\u001b[33;43m'\u001b[39;49m\u001b[43m]\u001b[49m, mode = \u001b[33m'\u001b[39m\u001b[33mmarkers\u001b[39m\u001b[33m'\u001b[39m, text = avg[\u001b[33m'\u001b[39m\u001b[33mbatsman\u001b[39m\u001b[33m'\u001b[39m])\n\u001b[32m      3\u001b[39m data = [trace]\n\u001b[32m      4\u001b[39m layout = go.Layout(title = \u001b[33m'\u001b[39m\u001b[33mBatsman Average vs Strike Rate\u001b[39m\u001b[33m'\u001b[39m, xaxis = \u001b[38;5;28mdict\u001b[39m(title = \u001b[33m'\u001b[39m\u001b[33mAverage\u001b[39m\u001b[33m'\u001b[39m), yaxis = \u001b[38;5;28mdict\u001b[39m(title = \u001b[33m'\u001b[39m\u001b[33mStrike Rate\u001b[39m\u001b[33m'\u001b[39m))\n",
      "\u001b[36mFile \u001b[39m\u001b[32mc:\\Users\\RITESH\\AppData\\Local\\Programs\\Python\\Python313\\Lib\\site-packages\\pandas\\core\\frame.py:4107\u001b[39m, in \u001b[36mDataFrame.__getitem__\u001b[39m\u001b[34m(self, key)\u001b[39m\n\u001b[32m   4105\u001b[39m \u001b[38;5;28;01mif\u001b[39;00m \u001b[38;5;28mself\u001b[39m.columns.nlevels > \u001b[32m1\u001b[39m:\n\u001b[32m   4106\u001b[39m     \u001b[38;5;28;01mreturn\u001b[39;00m \u001b[38;5;28mself\u001b[39m._getitem_multilevel(key)\n\u001b[32m-> \u001b[39m\u001b[32m4107\u001b[39m indexer = \u001b[38;5;28;43mself\u001b[39;49m\u001b[43m.\u001b[49m\u001b[43mcolumns\u001b[49m\u001b[43m.\u001b[49m\u001b[43mget_loc\u001b[49m\u001b[43m(\u001b[49m\u001b[43mkey\u001b[49m\u001b[43m)\u001b[49m\n\u001b[32m   4108\u001b[39m \u001b[38;5;28;01mif\u001b[39;00m is_integer(indexer):\n\u001b[32m   4109\u001b[39m     indexer = [indexer]\n",
      "\u001b[36mFile \u001b[39m\u001b[32mc:\\Users\\RITESH\\AppData\\Local\\Programs\\Python\\Python313\\Lib\\site-packages\\pandas\\core\\indexes\\base.py:3819\u001b[39m, in \u001b[36mIndex.get_loc\u001b[39m\u001b[34m(self, key)\u001b[39m\n\u001b[32m   3814\u001b[39m     \u001b[38;5;28;01mif\u001b[39;00m \u001b[38;5;28misinstance\u001b[39m(casted_key, \u001b[38;5;28mslice\u001b[39m) \u001b[38;5;129;01mor\u001b[39;00m (\n\u001b[32m   3815\u001b[39m         \u001b[38;5;28misinstance\u001b[39m(casted_key, abc.Iterable)\n\u001b[32m   3816\u001b[39m         \u001b[38;5;129;01mand\u001b[39;00m \u001b[38;5;28many\u001b[39m(\u001b[38;5;28misinstance\u001b[39m(x, \u001b[38;5;28mslice\u001b[39m) \u001b[38;5;28;01mfor\u001b[39;00m x \u001b[38;5;129;01min\u001b[39;00m casted_key)\n\u001b[32m   3817\u001b[39m     ):\n\u001b[32m   3818\u001b[39m         \u001b[38;5;28;01mraise\u001b[39;00m InvalidIndexError(key)\n\u001b[32m-> \u001b[39m\u001b[32m3819\u001b[39m     \u001b[38;5;28;01mraise\u001b[39;00m \u001b[38;5;167;01mKeyError\u001b[39;00m(key) \u001b[38;5;28;01mfrom\u001b[39;00m\u001b[38;5;250m \u001b[39m\u001b[34;01merr\u001b[39;00m\n\u001b[32m   3820\u001b[39m \u001b[38;5;28;01mexcept\u001b[39;00m \u001b[38;5;167;01mTypeError\u001b[39;00m:\n\u001b[32m   3821\u001b[39m     \u001b[38;5;66;03m# If we have a listlike key, _check_indexing_error will raise\u001b[39;00m\n\u001b[32m   3822\u001b[39m     \u001b[38;5;66;03m#  InvalidIndexError. Otherwise we fall through and re-raise\u001b[39;00m\n\u001b[32m   3823\u001b[39m     \u001b[38;5;66;03m#  the TypeError.\u001b[39;00m\n\u001b[32m   3824\u001b[39m     \u001b[38;5;28mself\u001b[39m._check_indexing_error(key)\n",
      "\u001b[31mKeyError\u001b[39m: 'strikeRate'"
     ]
    }
   ],
   "source": [
    "# scatter plot between avg and strike rate\n",
    "trace = go.Scatter(x = avg['average'], y = avg['strikeRate'], mode = 'markers', text = avg['batsman'])\n",
    "data = [trace]\n",
    "layout = go.Layout(title = 'Batsman Average vs Strike Rate', xaxis = dict(title = 'Average'), yaxis = dict(title = 'Strike Rate'))\n",
    "fig = go.Figure(data = data ,layout = layout)\n",
    "pyo.plot(fig)"
   ]
  },
  {
   "cell_type": "code",
   "execution_count": 14,
   "id": "682673787a7663dd",
   "metadata": {},
   "outputs": [],
   "source": [
    "import seaborn as sns\n",
    "iris = sns.load_dataset('iris')"
   ]
  },
  {
   "cell_type": "code",
   "execution_count": 17,
   "id": "fce0bd4d",
   "metadata": {},
   "outputs": [
    {
     "data": {
      "text/plain": [
       "'temp-plot.html'"
      ]
     },
     "execution_count": 17,
     "metadata": {},
     "output_type": "execute_result"
    }
   ],
   "source": [
    "trace1 = go.Scatter(x = iris['sepal_length'], y = iris['sepal_width'], mode = 'markers', text = iris['species'])\n",
    "trace2 = go.Scatter(x = iris['petal_length'], y = iris['petal_width'], mode = 'markers', text = iris['species'])\n",
    "data = [trace1, trace2]\n",
    "layout = go.Layout(title = 'Iris Dataset', xaxis = dict(title = 'Length'), yaxis = dict(title = 'Width'))\n",
    "fig = go.Figure(data = data, layout = layout)\n",
    "pyo.plot(fig)"
   ]
  },
  {
   "cell_type": "code",
   "execution_count": null,
   "id": "f3326abe",
   "metadata": {},
   "outputs": [],
   "source": []
  }
 ],
 "metadata": {
  "kernelspec": {
   "display_name": "Python 3",
   "language": "python",
   "name": "python3"
  },
  "language_info": {
   "codemirror_mode": {
    "name": "ipython",
    "version": 3
   },
   "file_extension": ".py",
   "mimetype": "text/x-python",
   "name": "python",
   "nbconvert_exporter": "python",
   "pygments_lexer": "ipython3",
   "version": "3.13.7"
  }
 },
 "nbformat": 4,
 "nbformat_minor": 5
}
