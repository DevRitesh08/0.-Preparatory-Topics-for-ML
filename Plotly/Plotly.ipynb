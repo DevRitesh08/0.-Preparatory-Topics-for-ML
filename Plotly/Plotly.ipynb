{
 "cells": [
  {
   "metadata": {},
   "cell_type": "markdown",
   "source": [
    "# Plotly\n",
    "\n",
    "Plotly is a Data Viz library by the company Plotly based out of Canada with support in languages such as Python, Js, Julia etc.\n",
    "\n",
    "- reference : https://plotly.com/python/plotly-express/\n",
    "\n",
    "## Advantages\n",
    "\n",
    "- Multi-language support\n",
    "- Lots of graphs\n",
    "- Interactive plots that can be embedded in web pages.\n",
    "- Beautiful plots\n",
    "\n",
    "Does not work with live data streams. Dash can be explored for that.\n",
    "\n",
    "## The Plotly Roadmap\n",
    "\n",
    "- Plotly Go\n",
    "- Plotly Express\n",
    "- Dash\n",
    "\n",
    "---"
   ],
   "id": "f0147ff00ee66caa"
  },
  {
   "metadata": {},
   "cell_type": "markdown",
   "source": "## Working with Plotly Go",
   "id": "b22513e7967cc53f"
  },
  {
   "metadata": {},
   "cell_type": "code",
   "source": "# pip install plotly",
   "id": "bbc4c765271d709e",
   "outputs": [],
   "execution_count": null
  },
  {
   "metadata": {},
   "cell_type": "code",
   "source": [
    "import pandas as pd\n",
    "import numpy as np\n",
    "import plotly.graph_objs as go\n",
    "import plotly.express as px"
   ],
   "id": "49c98904e35eb02d",
   "outputs": [],
   "execution_count": null
  },
  {
   "metadata": {},
   "cell_type": "code",
   "source": [
    "# import datasets\n",
    "tip = px.data.tips()\n",
    "iris = px.data.iris()\n",
    "gap = px.data.gapminder()"
   ],
   "id": "ecd494577fec0a1",
   "outputs": [],
   "execution_count": null
  },
  {
   "metadata": {},
   "cell_type": "code",
   "source": "gap.head()",
   "id": "b9220317d9ac6cde",
   "outputs": [],
   "execution_count": null
  },
  {
   "metadata": {},
   "cell_type": "code",
   "source": [
    "# Scatter plot using Plotly Go\n",
    "temp = gap[gap['year'] == 2007]\n",
    "temp"
   ],
   "id": "48f5c5185dc1c9bc",
   "outputs": [],
   "execution_count": null
  },
  {
   "metadata": {},
   "cell_type": "code",
   "source": [
    "trace1 = go.Scatter(x = temp['lifeExp'] , y = temp['gdpPercap'] , mode='markers')\n",
    "data = [trace1]\n",
    "layout = go.Layout(title = 'Life Expectancy vs GDP per Capita for 2007' , xaxis = {'title' : 'Life Expectancy'} , yaxis = {'title' : 'GDP per Capita'})\n",
    "fig = go.Figure(data, layout)\n",
    "fig.show()"
   ],
   "id": "a57fbe49f83d8794",
   "outputs": [],
   "execution_count": null
  },
  {
   "metadata": {},
   "cell_type": "markdown",
   "source": [
    "- we can add more traces to the same plot\n",
    "- we can add lines, shapes, annotations etc."
   ],
   "id": "a03fb18cc895dc52"
  },
  {
   "metadata": {},
   "cell_type": "code",
   "source": [
    "trace1 = go.Scatter(x = temp['lifeExp'] , y = temp['gdpPercap'] , mode='markers')\n",
    "trace2 = go.Scatter(x = [0 , 25 ,40 ,55 ,70 ,78] , y = [0 , 15000, 18000, 33000, 12000, 48000] , mode='lines')\n",
    "data = [trace1 , trace2]\n",
    "layout = go.Layout(title = 'Life Expectancy vs GDP per Capita for 2007' , xaxis = {'title' : 'Life Expectancy' , } , yaxis = {'title' : 'GDP per Capita'})\n",
    "fig = go.Figure(data, layout)\n",
    "fig.show()"
   ],
   "id": "fa62eb79880dd3e",
   "outputs": [],
   "execution_count": null
  },
  {
   "metadata": {},
   "cell_type": "markdown",
   "source": [
    "## Plotly Express\n",
    "- Plotly Express is a high level wrapper around Plotly Go\n",
    "- Less code\n",
    "- Less flexibility\n",
    "- Easier to use and Good for quick visualisations ."
   ],
   "id": "2d30b34e0fb2e4e3"
  },
  {
   "metadata": {},
   "cell_type": "code",
   "source": [
    "# plot life expectancy vs gdp scatter plot using plotly express -> continent as color and population as size -> hover name ->range_x and range_y -> log_x and log_y\n",
    "# for year 2007\n",
    "fig = px.scatter(temp , x = 'lifeExp' , y = 'gdpPercap' , color = 'continent' , size = 'pop', size_max=80 , hover_name = 'country' ,  range_x = [35 , 90] , range_y = [-20000 , 60000] , title = 'Life Expectancy vs GDP per Capita for 2007')\n",
    "fig.show()"
   ],
   "id": "d12a376667482e36",
   "outputs": [],
   "execution_count": null
  },
  {
   "metadata": {},
   "cell_type": "code",
   "source": [
    "# plot animation of above plot for all years\n",
    "fig = px.scatter(gap , x = 'lifeExp' , y = 'gdpPercap' , color = 'continent' , size = 'pop', size_max=80 , hover_name = 'country' , range_x = [35 , 90] , range_y = [-20000 , 60000] , title = 'Life Expectancy vs GDP per Capita quick visualisations for all years' , animation_frame = 'year' , animation_group = 'country')\n",
    "fig.show()"
   ],
   "id": "87cd335f6a2c5a07",
   "outputs": [],
   "execution_count": null
  },
  {
   "metadata": {},
   "cell_type": "markdown",
   "source": "**`line plot`**",
   "id": "f54df2846db265d9"
  },
  {
   "metadata": {},
   "cell_type": "code",
   "source": [
    " # plot a line plot for india pop growth over the years\n",
    "ind = gap[gap['country'] == 'India']\n",
    "fig = px.line(ind , x = 'year' , y = 'pop' , title = 'Population Growth of India over the years')\n",
    "fig.show()"
   ],
   "id": "481ff39414d68db9",
   "outputs": [],
   "execution_count": null
  },
  {
   "metadata": {},
   "cell_type": "code",
   "source": [
    "# temp = gap[gap['country'].isin(['India' , 'China' , 'Pakistan'])]\n",
    "# px.line(temp , x = temp.index , y = temp.columns , title = 'Life Expectancy of India , China and Pakistan over the years')"
   ],
   "id": "d7e490a09c7489e9",
   "outputs": [],
   "execution_count": null
  },
  {
   "metadata": {},
   "cell_type": "markdown",
   "source": "`ValueError :` Plotly Express cannot process wide-form data with columns of different type.",
   "id": "7aa3959354560422"
  },
  {
   "metadata": {},
   "cell_type": "code",
   "source": [
    "# plot life expectancy of india , china and pakistan over the years using line plot\n",
    "# we can do it directly using px.line but here we will do it using pivot table\n",
    "# but since here we have one column for ex\n",
    "temp = gap[gap['country'].isin(['India' , 'China' , 'Pakistan'])].pivot(index='year' , columns='country' , values='lifeExp')\n",
    "temp"
   ],
   "id": "397030b01a162caa",
   "outputs": [],
   "execution_count": null
  },
  {
   "metadata": {},
   "cell_type": "code",
   "source": "px.line(temp , x = temp.index , y = temp.columns , title = 'Life Expectancy of India , China and Pakistan over the years')",
   "id": "a80cdb4e555be1d7",
   "outputs": [],
   "execution_count": null
  },
  {
   "metadata": {},
   "cell_type": "markdown",
   "source": "**`Bar chart`**",
   "id": "b5bdcb38f26136f8"
  },
  {
   "metadata": {},
   "cell_type": "code",
   "source": [
    "# ind population over the years using bar chart\n",
    "fig = px.bar(ind , x = 'year' , y = 'pop' , title = 'Population Growth of India over the years')\n",
    "\n",
    "# set the layout to have white background\n",
    "fig.update_layout(\n",
    "    plot_bgcolor='white',\n",
    "    paper_bgcolor='white',\n",
    "    font_color='black'\n",
    ")\n",
    "\n",
    "fig.show()"
   ],
   "id": "b02c4c68a3943261",
   "outputs": [],
   "execution_count": null
  },
  {
   "metadata": {},
   "cell_type": "code",
   "source": [
    "# Grouped bar chart\n",
    "# plot pop growth of india , china and pakistan over the years using bar chart\n",
    "temp = gap[gap['country'].isin(['India' , 'China' , 'Pakistan'])]\n",
    "fig = px.bar(temp , x = 'year' , y = 'pop' , color = 'country' , barmode = 'group' , title = 'Population Growth of India , China and Pakistan over the years' , log_y= True , text_auto=True)\n",
    "fig.show()"
   ],
   "id": "d5964be39d46f4a6",
   "outputs": [],
   "execution_count": null
  },
  {
   "metadata": {},
   "cell_type": "code",
   "source": [
    "# Stacked bar chart\n",
    "# plot pop growth of india , china and pakistan over the years using bar chart\n",
    "temp = gap[gap['country'].isin(['India' , 'China' , 'Pakistan'])]\n",
    "fig = px.bar(temp , x = 'year' , y = 'pop' , color = 'country' , title = 'Population Growth of India , China and Pakistan over the years')\n",
    "fig.show()"
   ],
   "id": "66e4debbc158f919",
   "outputs": [],
   "execution_count": null
  },
  {
   "metadata": {},
   "cell_type": "code",
   "source": [
    "# pop comp of 3 countries\n",
    "temp_df = gap[gap['country'].isin(['India','China','Pakistan'])].pivot(index='year',columns='country',values='gdpPercap')\n",
    "temp_df"
   ],
   "id": "1f194f41582e5ea0",
   "outputs": [],
   "execution_count": null
  },
  {
   "metadata": {},
   "cell_type": "code",
   "source": [
    "# plot Grouped bar chart for gdp per capita of india , china and pakistan over the years\n",
    "px.bar(temp_df , x = temp_df.index , y = temp_df.columns , title = 'GDP per Capita of India , China and Pakistan over the years' , barmode = 'group' , text_auto=True , log_y=True)"
   ],
   "id": "209775473b5fd709",
   "outputs": [],
   "execution_count": null
  },
  {
   "metadata": {},
   "cell_type": "code",
   "source": [
    "# plot Stacked bar chart for gdp per capita of india , china and pakistan over the years\n",
    "px.bar(temp_df , x = temp_df.index , y = temp_df.columns , title = 'GDP per Capita of India , China and Pakistan over the years' , text_auto=True )"
   ],
   "id": "816a0fc89345c15b",
   "outputs": [],
   "execution_count": null
  },
  {
   "metadata": {},
   "cell_type": "code",
   "source": [
    "# stacked bar chart\n",
    "# pop contribution per country to a continents pop stacked for a particular year(2007)\n",
    "temp_df = gap[gap['year'] == 2007]\n",
    "px.bar(temp_df, x='continent', y='pop', color='country' , log_y=True , title = 'Population contribution of countries to a continent for the year 2007')"
   ],
   "id": "2252159c93f97d51",
   "outputs": [],
   "execution_count": null
  },
  {
   "metadata": {},
   "cell_type": "code",
   "source": [
    "# Bar chart with animation\n",
    "px.bar(gap, x='continent', y='pop', color='continent', title = 'Population contribution of countries to a continent for all years' , animation_frame='year', animation_group='country',  range_y=[0,4500000000])"
   ],
   "id": "448f886f96c5c8a2",
   "outputs": [],
   "execution_count": null
  },
  {
   "metadata": {},
   "cell_type": "code",
   "source": [
    "# histogram\n",
    "# plot histogram of life expt of all countries in 2007 -> nbins -> text_auto\n",
    "temp_df = gap[gap['year'] == 2007]\n",
    "px.histogram(temp_df, x='lifeExp',nbins=10,text_auto=True , color_discrete_sequence=['indianred'] , title = 'Life Expectancy of all countries in 2007')"
   ],
   "id": "9062c6819b794596",
   "outputs": [],
   "execution_count": null
  },
  {
   "metadata": {},
   "cell_type": "code",
   "source": [
    "# plot histogram of sepal length of all iris species\n",
    "px.histogram(iris, x='sepal_length', color='species' , nbins=30 , title = 'Sepal Length of all Iris Species' , text_auto=True)"
   ],
   "id": "b879323c89b1258d",
   "outputs": [],
   "execution_count": null
  },
  {
   "metadata": {},
   "cell_type": "code",
   "source": [
    "# Pie -> values -> names\n",
    "# find the pie chart of pop of european countries in 2007\n",
    "temp = gap[(gap['continent'] == 'Europe') & (gap['year'] == 2007)]\n",
    "px.pie(temp , values = 'pop' , names = 'country' , title = 'Population of European countries in 2007')"
   ],
   "id": "f9cbdc58906b3f28",
   "outputs": [],
   "execution_count": null
  },
  {
   "metadata": {},
   "cell_type": "code",
   "source": [
    "# plot pie chart of world pop in 1952 continent wise -> explode(pull) asia\n",
    "temp = gap[gap['year'] == 1952]\n",
    "px.pie(temp , values = 'pop' , names = 'continent' , title ='Population of World in 1952 continent wise' )\n",
    "\n",
    "# alternative way\n",
    "# temp = gap[gap['year'] == 1952].groupby('continent')['pop'].sum().reset_index()\n",
    "# px.pie(temp , values = 'pop' , names = 'continent' , title ='Population of World in 1952 continent wise' )\n",
    "\n",
    "# but here we are not able to explode a particular continent because we need go (graph objects) for that"
   ],
   "id": "d92dadd0a58ad02d",
   "outputs": [],
   "execution_count": null
  },
  {
   "metadata": {},
   "cell_type": "markdown",
   "source": [
    "`Sunburst Plot`\n",
    "- Sunburst plots visualize hierarchical data spanning outwards radially from root to leaves.\n",
    "- The hierarchy is represented by a sequence of rings, where the root node is the innermost circle and the leaves are the outermost rings.\n",
    "- here we can only use categorical variables in path"
   ],
   "id": "33c6af2743d94a74"
  },
  {
   "metadata": {},
   "cell_type": "code",
   "source": [
    "# Sunburst plot -> Sunburst plots visualize hierarchical data spanning outwards radially from root to leaves. -> color\n",
    "# path -> [], values\n",
    "\n",
    "temp_df = gap[gap['year'] == 2007]\n",
    "px.sunburst(temp_df, path=['continent','country'], values='pop' , color='lifeExp',title='Population of countries in each continent for the year 2007')\n",
    "\n",
    "# more levels\n",
    "# temp_df['planet'] = 'earth'\n",
    "# px.sunburst(temp_df, path=['planet','continent','country'], values='pop')"
   ],
   "id": "8b9e5d9ea2a93dcd",
   "outputs": [],
   "execution_count": null
  },
  {
   "metadata": {},
   "cell_type": "code",
   "source": [
    "import seaborn as sns\n",
    "tips = sns.load_dataset('tips')\n",
    "tips"
   ],
   "id": "a0ea2c727032ab67",
   "outputs": [],
   "execution_count": null
  },
  {
   "metadata": {},
   "cell_type": "code",
   "source": "px.sunburst(tips , path = ['sex', 'smoker' , 'day' , 'time' ] , values = 'total_bill' , color = 'tip' , title = 'Sunburst plot of tips dataset')",
   "id": "4d439ec9df7f3d90",
   "outputs": [],
   "execution_count": null
  },
  {
   "metadata": {},
   "cell_type": "markdown",
   "source": [
    "`treemap`\n",
    "- Treemaps display hierarchical data as a set of nested rectangles.\n",
    "- The area of each rectangle is proportional to a specified dimension of the data."
   ],
   "id": "ffa21aeaf90d8e44"
  },
  {
   "metadata": {},
   "cell_type": "code",
   "source": [
    "temp_df = gap[gap['year'] == 2007]\n",
    "px.treemap(temp_df, path=[px.Constant('World'),'continent','country'], values='pop' , color='lifeExp',title='Population of countries in each continent for the year 2007')"
   ],
   "id": "48ffa6867bb7ef23",
   "outputs": [],
   "execution_count": null
  },
  {
   "metadata": {},
   "cell_type": "markdown",
   "source": "- here color is just like hue in seaborn",
   "id": "782d70497ddad3f3"
  },
  {
   "metadata": {},
   "cell_type": "code",
   "source": [
    "# Heatmap -> find heatmap of all continents with year on avg life exp\n",
    "temp_df = tips.pivot_table(index='day', columns='sex', values='total_bill', aggfunc='sum')\n",
    "\n",
    "px.imshow(temp_df)"
   ],
   "id": "a3344563b7c12f38",
   "outputs": [],
   "execution_count": null
  },
  {
   "metadata": {},
   "cell_type": "code",
   "source": [
    "# find heatmap of all continents with year on avg life exp\n",
    "temp_df = gap.pivot_table(index='year', columns='continent', values='lifeExp', aggfunc='mean')\n",
    "px.imshow(temp_df , title = 'Heatmap of avg life expectancy of continents over the years')"
   ],
   "id": "7172706b7a833fe2",
   "outputs": [],
   "execution_count": null
  },
  {
   "metadata": {},
   "cell_type": "markdown",
   "source": [
    "`3D scatter plot`\n",
    "- A three-dimensional scatter plot is a graphical representation of data points in a three-dimensional space, where each point is defined by three coordinates (x, y, z).\n",
    "- It is used to visualize the relationship between three continuous variables and can help identify patterns, trends, and clusters within the data.\n",
    "- generally used with numeric data"
   ],
   "id": "bbac04e3f66b441f"
  },
  {
   "metadata": {},
   "cell_type": "code",
   "source": [
    "# plot a 3D scatter plot of all countries in 2007 with life exp on x , gdp per cap on y and pop on z axis\n",
    "temp_df = gap[gap['year'] == 2007]\n",
    "px.scatter_3d(temp_df , x = 'lifeExp' , y = 'pop' , z = 'gdpPercap' , color = 'continent' , size_max = 60 , hover_name = 'country' , title = '3D scatter plot of all countries in 2007' , log_y = True)"
   ],
   "id": "bb68c67ea78753c2",
   "outputs": [],
   "execution_count": null
  },
  {
   "metadata": {},
   "cell_type": "code",
   "source": "px.scatter_3d(iris , x = 'sepal_length' , y = 'sepal_width' , z = 'petal_width' , color = 'species' , hover_name = 'species' , title = '3D scatter plot of all iris species')",
   "id": "4f1b84b7f1005ae1",
   "outputs": [],
   "execution_count": null
  },
  {
   "metadata": {},
   "cell_type": "code",
   "source": [
    "# scatter_matrix -> dimensions\n",
    "px.scatter_matrix(iris, dimensions=['sepal_length', 'sepal_width', 'petal_length', 'petal_width'] , color='species' , title = 'Scatter matrix of all iris species' , symbol='species' , height=700)\n",
    "# here symbol is used to differentiate the species using different shapes and height is used to increase the size of the plot ."
   ],
   "id": "ddd7429f8d385356",
   "outputs": [],
   "execution_count": null
  },
  {
   "metadata": {},
   "cell_type": "code",
   "source": "# facet plot",
   "id": "cb971c85b1a8704f",
   "outputs": [],
   "execution_count": null
  },
  {
   "metadata": {},
   "cell_type": "code",
   "source": "# 3d surface plot",
   "id": "6634e3b420b484b3",
   "outputs": [],
   "execution_count": null
  },
  {
   "metadata": {},
   "cell_type": "code",
   "source": [
    "# subplots\n",
    "from plotly.subplots import make_subplots"
   ],
   "id": "8bd5f1a2d3fc4371",
   "outputs": [],
   "execution_count": null
  },
  {
   "metadata": {},
   "cell_type": "code",
   "source": "",
   "id": "d60eb663f0c13255",
   "outputs": [],
   "execution_count": null
  }
 ],
 "metadata": {
  "kernelspec": {
   "display_name": "Python 3",
   "language": "python",
   "name": "python3"
  },
  "language_info": {
   "codemirror_mode": {
    "name": "ipython",
    "version": 2
   },
   "file_extension": ".py",
   "mimetype": "text/x-python",
   "name": "python",
   "nbconvert_exporter": "python",
   "pygments_lexer": "ipython2",
   "version": "2.7.6"
  }
 },
 "nbformat": 4,
 "nbformat_minor": 5
}
