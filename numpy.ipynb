{
 "cells": [
  {
   "cell_type": "markdown",
   "metadata": {},
   "source": [
    "**Tools - NumPy**\n",
    "\n",
    "*NumPy is the fundamental library for scientific computing with Python. NumPy is centered around a powerful N-dimensional array object, and it also contains useful linear algebra, Fourier transform, and random number functions.*"
   ]
  },
  {
   "cell_type": "markdown",
   "metadata": {},
   "source": [
    "<table align=\"left\">\n",
    "  <td>\n",
    "    <a target=\"_blank\" href=\"https://www.kaggle.com/code/riteshswami08/numpy-guide\"><img src=\"https://kaggle.com/static/images/open-in-kaggle.svg\" /></a>\n",
    "  </td>\n",
    "</table>"
   ]
  },
  {
   "cell_type": "markdown",
   "metadata": {},
   "source": [
    "### What is numpy?\n",
    "\n",
    "NumPy is the fundamental package for scientific computing in Python. It is a Python library that provides a multidimensional array object, various derived objects (such as masked arrays and matrices), and an assortment of routines for fast operations on arrays, including mathematical, logical, shape manipulation, sorting, selecting, I/O, discrete Fourier transforms, basic linear algebra, basic statistical operations, random simulation and much more.\n",
    "\n",
    "\n",
    "At the core of the NumPy package, is the ndarray object. This encapsulates n-dimensional arrays of homogeneous data types"
   ]
  },
  {
   "cell_type": "markdown",
   "metadata": {},
   "source": [
    "### Numpy Arrays Vs Python Sequences\n",
    "\n",
    "- NumPy arrays have a fixed size at creation, unlike Python lists (which can grow dynamically). Changing the size of an ndarray will create a new array and delete the original.\n",
    "\n",
    "- The elements in a NumPy array are all required to be of the same data type, and thus will be the same size in memory.\n",
    "\n",
    "- NumPy arrays facilitate advanced mathematical and other types of operations on large numbers of data. Typically, such operations are executed more efficiently and with less code than is possible using Python’s built-in sequences.\n",
    "\n",
    "- A growing plethora of scientific and mathematical Python-based packages are using NumPy arrays; though these typically support Python-sequence input, they convert such input to NumPy arrays prior to processing, and they often output NumPy arrays."
   ]
  },
  {
   "cell_type": "markdown",
   "metadata": {},
   "source": [
    "# Creating Arrays"
   ]
  },
  {
   "cell_type": "markdown",
   "metadata": {},
   "source": [
    "Now let's import `numpy`. Most people import it as `np`:"
   ]
  },
  {
   "cell_type": "code",
   "metadata": {},
   "source": [
    "import numpy as np"
   ],
   "outputs": [],
   "execution_count": null
  },
  {
   "cell_type": "markdown",
   "metadata": {},
   "source": [
    "## `np.zeros`"
   ]
  },
  {
   "cell_type": "markdown",
   "metadata": {},
   "source": [
    "The `zeros` function creates an array containing any number of zeros:"
   ]
  },
  {
   "cell_type": "code",
   "metadata": {},
   "source": [
    "np.zeros(5)\n",
    "# np.zeros(5 , dtype = int ) # this will print zero in int form ."
   ],
   "outputs": [],
   "execution_count": null
  },
  {
   "cell_type": "markdown",
   "metadata": {},
   "source": [
    "It's just as easy to create a 2D array (i.e. a matrix) by providing a tuple with the desired number of rows and columns. For example, here's a 3x4 matrix:"
   ]
  },
  {
   "cell_type": "code",
   "metadata": {},
   "source": [
    "np.zeros((3,4))"
   ],
   "outputs": [],
   "execution_count": null
  },
  {
   "cell_type": "markdown",
   "metadata": {},
   "source": [
    "## Some vocabulary\n",
    "\n",
    "* In NumPy, each dimension is called an **axis**.\n",
    "* The number of axes is called the **rank**.\n",
    "    * For example, the above 3x4 matrix is an array of rank 2 (it is 2-dimensional).\n",
    "    * The first axis has length 3, the second has length 4.\n",
    "* An array's list of axis lengths is called the **shape** of the array.\n",
    "    * For example, the above matrix's shape is `(3, 4)`.\n",
    "    * The rank is equal to the shape's length.\n",
    "* The **size** of an array is the total number of elements, which is the product of all axis lengths (e.g. 3*4=12)\n",
    "* 1-D ndarray is known as a vector .\n",
    "* 2-D ndarray is known as a matrix .\n",
    "* ndarray of any dimension is known as a tensor ."
   ]
  },
  {
   "cell_type": "code",
   "metadata": {},
   "source": [
    "a = np.zeros((3,4))\n",
    "a"
   ],
   "outputs": [],
   "execution_count": null
  },
  {
   "cell_type": "code",
   "metadata": {},
   "source": [
    "a.shape"
   ],
   "outputs": [],
   "execution_count": null
  },
  {
   "cell_type": "code",
   "metadata": {},
   "source": [
    "a.ndim  # equal to len(a.shape) , dimension of the array ."
   ],
   "outputs": [],
   "execution_count": null
  },
  {
   "cell_type": "code",
   "metadata": {},
   "source": [
    "a.size # the total number of elements, which is the product of all axis lengths (e.g. 3*4=12)"
   ],
   "outputs": [],
   "execution_count": null
  },
  {
   "cell_type": "markdown",
   "metadata": {},
   "source": [
    "## N-dimensional arrays\n",
    "You can also create an N-dimensional array of arbitrary rank. For example, here's a 3D array (rank=3), with shape `(2,3,4)`:"
   ]
  },
  {
   "cell_type": "code",
   "metadata": {},
   "source": [
    "np.zeros((2,3,4))"
   ],
   "outputs": [],
   "execution_count": null
  },
  {
   "cell_type": "markdown",
   "metadata": {},
   "source": [
    "## Array type\n",
    "NumPy arrays have the type `ndarray`s:"
   ]
  },
  {
   "cell_type": "code",
   "metadata": {},
   "source": [
    "type(np.zeros((3,4)))"
   ],
   "outputs": [],
   "execution_count": null
  },
  {
   "cell_type": "markdown",
   "metadata": {},
   "source": [
    "## `np.ones`\n",
    "Many other NumPy functions create `ndarray`s.\n",
    "\n",
    "Here's a 3x4 matrix full of ones:"
   ]
  },
  {
   "cell_type": "code",
   "metadata": {},
   "source": [
    "a = np.ones((3,4))\n",
    "b = np.ones((2,2) , dtype=int)\n",
    "print(a)\n",
    "print()\n",
    "print(b)"
   ],
   "outputs": [],
   "execution_count": null
  },
  {
   "cell_type": "markdown",
   "metadata": {},
   "source": [
    "## `np.identity`\n",
    "It is used to create identity matrix ."
   ]
  },
  {
   "cell_type": "code",
   "metadata": {},
   "source": [
    "np.identity(3)"
   ],
   "outputs": [],
   "execution_count": null
  },
  {
   "cell_type": "markdown",
   "metadata": {},
   "source": [
    "## `np.full`\n",
    "Creates an array of the given shape initialized with the given value. Here's a 3x4 matrix full of `π`."
   ]
  },
  {
   "cell_type": "code",
   "metadata": {},
   "source": [
    "p = np.full((2,3), np.pi)\n",
    "q = np.full((3,4) , 8)\n",
    "print(p)\n",
    "print()\n",
    "print(q)"
   ],
   "outputs": [],
   "execution_count": null
  },
  {
   "cell_type": "markdown",
   "metadata": {},
   "source": [
    "## `np.empty`\n",
    "An uninitialized 2x3 array (its content is not predictable, as it is whatever is in memory at that point):"
   ]
  },
  {
   "cell_type": "code",
   "metadata": {
    "scrolled": true
   },
   "source": [
    "np.empty((3,4))\n",
    "# can change dtype = complex , to understand that the elements keeps on changing after each execution ."
   ],
   "outputs": [],
   "execution_count": null
  },
  {
   "cell_type": "markdown",
   "metadata": {},
   "source": [
    "## `np.array`\n",
    "Of course, you can initialize an `ndarray` using a regular python array. Just call the `array` function:"
   ]
  },
  {
   "cell_type": "code",
   "metadata": {},
   "source": [
    "c = np.array([[1,2,3,4], [10, 20, 30, 40]])\n",
    "d = np.array([[1,2],[3,4],[5,6]])\n",
    "print(c)\n",
    "print()\n",
    "print(d)"
   ],
   "outputs": [],
   "execution_count": null
  },
  {
   "cell_type": "markdown",
   "metadata": {},
   "source": [
    "## `np.arange`\n",
    "You can create an `ndarray` using NumPy's `arange` function, which is similar to python's built-in `range` function:"
   ]
  },
  {
   "cell_type": "code",
   "metadata": {
    "scrolled": true
   },
   "source": [
    "np.arange(1, 5 ) # the maximum value is *excluded* ."
   ],
   "outputs": [],
   "execution_count": null
  },
  {
   "cell_type": "markdown",
   "metadata": {},
   "source": [
    "It also works with floats:"
   ]
  },
  {
   "cell_type": "code",
   "metadata": {},
   "source": [
    "x = np.arange(1.0, 5.0)\n",
    "y = np.arange(1, 5 , dtype=float)\n",
    "print(x)\n",
    "print()\n",
    "print(y)"
   ],
   "outputs": [],
   "execution_count": null
  },
  {
   "cell_type": "markdown",
   "metadata": {},
   "source": [
    "Of course, you can provide a step parameter:"
   ]
  },
  {
   "cell_type": "code",
   "metadata": {},
   "source": [
    "np.arange(1, 5, 0.5)"
   ],
   "outputs": [],
   "execution_count": null
  },
  {
   "cell_type": "markdown",
   "metadata": {},
   "source": [
    "However, when dealing with floats, the exact number of elements in the array is not always predictable. For example, consider this:"
   ]
  },
  {
   "cell_type": "code",
   "metadata": {},
   "source": [
    "print(np.arange(0, 5/3, 1/3)) # depending on floating point errors, the max value is 4/3 or 5/3.\n",
    "print(np.arange(0, 5/3, 0.333333333))\n",
    "print(np.arange(0, 5/3, 0.333333334))\n"
   ],
   "outputs": [],
   "execution_count": null
  },
  {
   "cell_type": "markdown",
   "metadata": {},
   "source": [
    "## `np.linspace`\n",
    "For this reason, it is generally preferable to use the `linspace` function instead of `arange` when working with floats. The `linspace` function returns an array containing a specific number of points evenly distributed between two values (note that the maximum value is *included*, contrary to `arange`):"
   ]
  },
  {
   "cell_type": "code",
   "metadata": {},
   "source": [
    "print(np.linspace(0, 5/3, 6)) # here 0 is strat value , 5/3 is end or max value and 6 is not steps , it is the count of evenly distributed numbers ."
   ],
   "outputs": [],
   "execution_count": null
  },
  {
   "cell_type": "markdown",
   "metadata": {},
   "source": [
    "**Why doesn't NumPy use commas by default?** :\n",
    "    NumPy's array display is designed for scientific computing where compactness and readability of large arrays matter more than a \"pretty\" output. Commas are omitted to save space and reduce visual clutter, especially for large arrays."
   ]
  },
  {
   "cell_type": "code",
   "metadata": {},
   "source": [
    "# to still use commas we can use python list\n",
    "print(list(np.linspace(0, 5/3, 6)))"
   ],
   "outputs": [],
   "execution_count": null
  },
  {
   "cell_type": "markdown",
   "metadata": {},
   "source": [
    "## `np.rand` and `np.randn`\n",
    "A number of functions are available in NumPy's `random` module to create `ndarray`s initialized with random values .\n",
    "1. `numpy.random.rand()`\n",
    "    - Distribution: Uniform distribution between 0 and 1.\n",
    "    - Range : always between 0 and 1 (excluding 1 ) .\n",
    "    - Purpose: Often used to quickly generate random datasets or initialize weights in machine learning.\n",
    "    - Syntax: np.random.rand(shape...)\n",
    "    - For example, here is a 3x4 matrix initialized with random floats between 0 and 1 (uniform distribution):"
   ]
  },
  {
   "cell_type": "code",
   "metadata": {},
   "source": [
    "print(np.random.rand(3))      # 3 numbers between 0 and 1\n",
    "print()\n",
    "print(np.random.rand(3,4))    # 3x4 matrix of numbers between 0 and 1"
   ],
   "outputs": [],
   "execution_count": null
  },
  {
   "cell_type": "markdown",
   "metadata": {},
   "source": [
    "2. `numpy.random.randn()`\n",
    "- Distribution: Standard normal distribution (Gaussian), mean = 0, standard deviation = 1.\n",
    "- Range: Can be negative or positive (most values between -3 and 3).\n",
    "- Syntax: np.random.randn(shape...)\n",
    "- Example:"
   ]
  },
  {
   "cell_type": "code",
   "metadata": {},
   "source": [
    "print(np.random.randn(3))      # 3 numbers from normal distribution\n",
    "print()\n",
    "print(np.random.randn(2, 2))   # 2x2 matrix from normal distribution\n"
   ],
   "outputs": [],
   "execution_count": null
  },
  {
   "cell_type": "markdown",
   "metadata": {},
   "source": [
    "- Use: Useful for simulating data, initializing weights in neural networks, or any task needing normally distributed random numbers.\n",
    "- To give you a feel of what these distributions look like, let's use matplotlib (see the [matplotlib tutorial](tools_matplotlib.ipynb) for more details):"
   ]
  },
  {
   "cell_type": "markdown",
   "metadata": {},
   "source": [
    "| Function  | Distribution Type         | Mean | Std Dev | Range       |\n",
    "|-----------|---------------------------|------|---------|-------------|\n",
    "| `rand`    | Uniform [0, 1)             | 0.5  | ~0.288  | 0 ≤ x < 1   |\n",
    "| `randn`   | Normal (Gaussian)          | 0    | 1       | (-∞, +∞)    |\n"
   ]
  },
  {
   "cell_type": "code",
   "metadata": {},
   "source": [
    "import matplotlib.pyplot as plt"
   ],
   "outputs": [],
   "execution_count": null
  },
  {
   "cell_type": "code",
   "metadata": {},
   "source": [
    "plt.hist(np.random.rand(100000), density=True, bins=100, histtype=\"step\", color=\"brown\", label=\"rand\")\n",
    "plt.hist(np.random.randn(100000), density=True, bins=100, histtype=\"step\", color=\"olive\", label=\"randn\")\n",
    "plt.axis((-2.5, 2.5, 0, 1.1))\n",
    "plt.legend(loc = \"upper left\")\n",
    "plt.title(\"Random distributions\")\n",
    "plt.xlabel(\"Value\")\n",
    "plt.ylabel(\"Density\")\n",
    "plt.show()"
   ],
   "outputs": [],
   "execution_count": null
  },
  {
   "cell_type": "markdown",
   "metadata": {},
   "source": [
    "## np.fromfunction\n",
    "\n",
    "You can initialize an `ndarray` using a function with `np.fromfunction`. This method efficiently generates arrays by passing the index values of each element (according to the specified shape) to the provided function, and assigning the function’s return value to each element.\n",
    "- example 1 :"
   ]
  },
  {
   "cell_type": "code",
   "metadata": {},
   "source": [
    "def my_function(z, y, x):\n",
    "    return x + 10 * y + 100 * z + 5\n",
    "\n",
    "np.fromfunction(my_function, (3, 2, 10) )"
   ],
   "outputs": [],
   "execution_count": null
  },
  {
   "cell_type": "markdown",
   "metadata": {},
   "source": [
    "NumPy internally creates three `ndarray`s (one per dimension), each of shape `(3, 2, 10)`, holding the coordinate values along their respective axes. For instance, the array for `z` looks like:\n",
    "\n",
    "```\n",
    "[[[0. 0. 0. 0. 0. 0. 0. 0. 0. 0.]\n",
    "  [0. 0. 0. 0. 0. 0. 0. 0. 0. 0.]]\n",
    "\n",
    " [[1. 1. 1. 1. 1. 1. 1. 1. 1. 1.]\n",
    "  [1. 1. 1. 1. 1. 1. 1. 1. 1. 1.]]\n",
    "\n",
    " [[2. 2. 2. 2. 2. 2. 2. 2. 2. 2.]\n",
    "  [2. 2. 2. 2. 2. 2. 2. 2. 2. 2.]]]\n",
    "```\n",
    "\n",
    "Here, `x`, `y`, and `z` are `ndarray`s representing their respective indices. The function `my_function` is called **once** with these entire arrays, not for each element individually. This vectorized approach makes array initialization highly efficient.\n",
    "\n",
    "---\n",
    "**Key point:**\n",
    "- `np.fromfunction` passes entire coordinate arrays to your function, enabling fast, vectorized initialization of large `ndarray`s.\n",
    "\n",
    "---\n",
    "example 2 :"
   ]
  },
  {
   "cell_type": "code",
   "metadata": {},
   "source": [
    "arr = np.fromfunction(lambda i, j: i + j, (4, 4), dtype=int) # Can also define the function this way .\n",
    "print(arr)\n"
   ],
   "outputs": [],
   "execution_count": null
  },
  {
   "cell_type": "markdown",
   "metadata": {},
   "source": [
    "# Array data\n",
    "## `dtype`\n",
    "NumPy's `ndarray`s are also efficient in part because all their elements must have the same type (usually numbers).\n",
    "You can check what the data type is by looking at the `dtype` attribute:"
   ]
  },
  {
   "cell_type": "code",
   "metadata": {
    "scrolled": true
   },
   "source": [
    "c = np.arange(1, 5)\n",
    "print(c.dtype, c )\n",
    "print()\n",
    "# trying things\n",
    "print(c + c , c-c , c*c , c/c)"
   ],
   "outputs": [],
   "execution_count": null
  },
  {
   "cell_type": "code",
   "metadata": {},
   "source": [
    "c = np.arange(1.0, 5.0)\n",
    "print(c.dtype, c)"
   ],
   "outputs": [],
   "execution_count": null
  },
  {
   "cell_type": "markdown",
   "metadata": {},
   "source": [
    "Instead of letting NumPy guess what data type to use, you can set it explicitly when creating an array by setting the `dtype` parameter:"
   ]
  },
  {
   "cell_type": "code",
   "metadata": {},
   "source": [
    "d = np.arange(1, 5, dtype = np.complex64)\n",
    "print(d.dtype, d)"
   ],
   "outputs": [],
   "execution_count": null
  },
  {
   "cell_type": "markdown",
   "metadata": {},
   "source": [
    "Available data types include signed `int8`, `int16`, `int32`, `int64`, unsigned `uint8`|`16`|`32`|`64`, `float16`|`32`|`64` and `complex64`|`128`. Check out the documentation for the [basic types](https://numpy.org/doc/stable/user/basics.types.html) and [sized aliases](https://numpy.org/doc/stable/reference/arrays.scalars.html#sized-aliases) for the full list.\n",
    "\n",
    "## `itemsize`\n",
    "The `itemsize` attribute returns the size (in bytes) of each item:"
   ]
  },
  {
   "cell_type": "code",
   "metadata": {},
   "source": [
    "e = np.arange(1, 5, dtype=np.complex64)\n",
    "e.itemsize"
   ],
   "outputs": [],
   "execution_count": null
  },
  {
   "cell_type": "markdown",
   "metadata": {},
   "source": [
    "## `shape`\n",
    "It returns the shape of array ."
   ]
  },
  {
   "cell_type": "code",
   "metadata": {},
   "source": [
    "a = np.arange(16).reshape(4,2,2)\n",
    "a.shape"
   ],
   "outputs": [],
   "execution_count": null
  },
  {
   "cell_type": "markdown",
   "metadata": {},
   "source": [
    "## `size`\n",
    "It returns the number of elements in the array ."
   ]
  },
  {
   "cell_type": "code",
   "metadata": {},
   "source": [
    "a = np.arange(16).reshape(4,2,2)\n",
    "a.size"
   ],
   "outputs": [],
   "execution_count": null
  },
  {
   "cell_type": "markdown",
   "metadata": {},
   "source": [
    "## `data` buffer\n",
    "An array's data is actually stored in memory as a flat (one dimensional) byte buffer. It is available *via* the `data` attribute (you will rarely need it, though).\n",
    "- f.data is a Python buffer object that exposes the memory area where the array’s elements are physically stored."
   ]
  },
  {
   "cell_type": "code",
   "metadata": {},
   "source": [
    "f = np.array([[1,2],[1000, 2000]], dtype=np.int32)\n",
    "f.data"
   ],
   "outputs": [],
   "execution_count": null
  },
  {
   "cell_type": "markdown",
   "metadata": {},
   "source": [
    "In python 2, `f.data` is a buffer. In python 3, it is a memoryview."
   ]
  },
  {
   "cell_type": "code",
   "metadata": {},
   "source": [
    "if hasattr(f.data, \"tobytes\"):\n",
    "    data_bytes = f.data.tobytes() # python 3\n",
    "else:\n",
    "    data_bytes = memoryview(f.data).tobytes() # python 2\n",
    "\n",
    "data_bytes"
   ],
   "outputs": [],
   "execution_count": null
  },
  {
   "cell_type": "markdown",
   "metadata": {},
   "source": [
    "Several `ndarray`s can share the same data buffer, meaning that modifying one will also modify the others. We will see an example in a minute."
   ]
  },
  {
   "cell_type": "markdown",
   "metadata": {},
   "source": [
    "# Changing Datatype"
   ]
  },
  {
   "cell_type": "code",
   "metadata": {},
   "source": [
    "print(\"Previous dtype : \" , a.dtype )\n",
    "# changing its dtype to int int32 to save space .\n",
    "a = a.astype(np.int32) # important to reassign to 'a' otherwise it will just create a new array with new dtype and our original array remains unchanged .\n",
    "print(\"New changed dtype : \" , a.dtype)"
   ],
   "outputs": [],
   "execution_count": null
  },
  {
   "cell_type": "markdown",
   "metadata": {},
   "source": [
    "i# Reshaping an array\n",
    "## In place\n",
    "Changing the shape of an `ndarray` is as simple as setting its `shape` attribute. However, the array's size must remain the same."
   ]
  },
  {
   "cell_type": "code",
   "metadata": {},
   "source": [
    "g = np.arange(24)\n",
    "print(g)\n",
    "print(\"Rank:\", g.ndim)"
   ],
   "outputs": [],
   "execution_count": null
  },
  {
   "cell_type": "code",
   "metadata": {},
   "source": [
    "g.shape = (6, 4)\n",
    "print(g)\n",
    "print(\"Rank:\", g.ndim)"
   ],
   "outputs": [],
   "execution_count": null
  },
  {
   "cell_type": "code",
   "metadata": {
    "scrolled": true
   },
   "source": [
    "g.shape = (2, 3, 4)\n",
    "print(g)\n",
    "print(\"Rank:\", g.ndim)"
   ],
   "outputs": [],
   "execution_count": null
  },
  {
   "cell_type": "markdown",
   "metadata": {},
   "source": [
    "## `reshape`\n",
    "The `reshape` function returns a new `ndarray` object pointing at the *same* data. This means that modifying one array data will also modify the other."
   ]
  },
  {
   "cell_type": "code",
   "metadata": {
    "scrolled": true
   },
   "source": [
    "g2 = g.reshape(4,6)\n",
    "print(g2)\n",
    "print(\"Rank:\", g2.ndim)"
   ],
   "outputs": [],
   "execution_count": null
  },
  {
   "cell_type": "markdown",
   "metadata": {},
   "source": [
    "Set item at row 1, col 2 to 999 (more about indexing below)."
   ]
  },
  {
   "cell_type": "code",
   "metadata": {},
   "source": [
    "g2[1, 2] = 999\n",
    "g2"
   ],
   "outputs": [],
   "execution_count": null
  },
  {
   "cell_type": "markdown",
   "metadata": {},
   "source": [
    "The corresponding element in `g` has been modified , not that position ."
   ]
  },
  {
   "cell_type": "code",
   "metadata": {},
   "source": [
    "g"
   ],
   "outputs": [],
   "execution_count": null
  },
  {
   "cell_type": "code",
   "metadata": {},
   "source": [
    "# Example: Shared Data Between Arrays\n",
    "\n",
    "a = np.arange(24)\n",
    "a2 = a.reshape(4, 6)\n",
    "a[0] = 99\n",
    "print(a2)\n",
    "print(\"rank:\", a2.ndim)\n",
    "print(a)\n",
    "print(\"rank:\", a.ndim)\n",
    "\n",
    "# Note: a2 is a view of a, not a separate copy. Any change to a will be reflected in a2 and vice versa, since both reference the same underlying data in memory."
   ],
   "outputs": [],
   "execution_count": null
  },
  {
   "cell_type": "markdown",
   "metadata": {},
   "source": [
    "- -1 tells NumPy to infer that dimension so the total number of elements stays the same.\n",
    "- You can use -1 for at most one dimension.\n",
    "- The product of the other dimensions must evenly divide the total elements, or you’ll get a ValueError.\n",
    "- examples :\n",
    "    - np.arange(12).reshape(3, -1) -> shape (3, 4)\n",
    "    - np.arange(12).reshape(-1) -> shape (12,) (flattens)\n",
    "    - np.arange(12).reshape(5, -1) -> ValueError (12 not divisible by 5)"
   ]
  },
  {
   "cell_type": "code",
   "metadata": {},
   "source": [
    "a = np.arange(18).reshape(-1, 3)\n",
    "a"
   ],
   "outputs": [],
   "execution_count": null
  },
  {
   "cell_type": "markdown",
   "metadata": {},
   "source": [
    "## `ravel`\n",
    "Finally, the `ravel` function returns a new one-dimensional `ndarray` that also points to the same data:\n"
   ]
  },
  {
   "cell_type": "code",
   "metadata": {},
   "source": [
    "a = np.ones((5,5) , dtype=int)\n",
    "print(\"Before flattening :\\n\", a)\n",
    "print(\"\\nAfter flattening:\\n\", a.ravel())"
   ],
   "outputs": [],
   "execution_count": null
  },
  {
   "cell_type": "code",
   "metadata": {},
   "source": [
    "a1 = np.random.random((3,3))\n",
    "a1 = np.round(a1*100)\n",
    "a1"
   ],
   "outputs": [],
   "execution_count": null
  },
  {
   "cell_type": "code",
   "metadata": {},
   "source": [
    "# max , min , prod , sum\n",
    "print(\"Maximum element of our array is : \" , np.max(a1))\n",
    "print(\"Minimum element of our array is : \" , np.min(a1))\n",
    "print(\"Sum of all elements of our array is : \" , np.sum(a1))\n",
    "print(\"Product of all elements of our array is : \" , np.prod(a1))"
   ],
   "outputs": [],
   "execution_count": null
  },
  {
   "cell_type": "markdown",
   "metadata": {},
   "source": [
    "### axis"
   ]
  },
  {
   "cell_type": "code",
   "metadata": {},
   "source": [
    "# We can also use axis with these functions to get these values like min, max etc. for column wise and row wise data .\n",
    "# axis = 0 is for column whereas axis = 1 is for row .\n",
    "\n",
    "print(\"Maximum element of our array column-wise is : \" , np.max(a1, axis = 0))\n",
    "print(\"Minimum element of our array column-wise is : \" , np.min(a1 , axis = 0))\n",
    "print(\"Sum of all elements of our array column-wise is : \" , np.sum(a1 , axis = 0))\n",
    "print(\"Product of all elements of our array column-wise is : \" , np.prod(a1 , axis = 0))\n"
   ],
   "outputs": [],
   "execution_count": null
  },
  {
   "cell_type": "code",
   "metadata": {},
   "source": [
    "# mean , median , var , std\n",
    "print(\"Mean of our array row-wise is : \" , np.mean(a1, axis = 1))\n",
    "print(\"Median of our array row-wise is : \" , np.median(a1 , axis = 1))\n",
    "print(\"Variance of elements of our array row-wise is : \" , np.var(a1 , axis = 1))\n",
    "print(\"Product of elements of our array row-wise is : \" , np.std(a1 , axis = 1))"
   ],
   "outputs": [],
   "execution_count": null
  },
  {
   "cell_type": "code",
   "metadata": {},
   "source": [
    "# Trigonometric functions (seldom used )\n",
    "np.sin(a1)"
   ],
   "outputs": [],
   "execution_count": null
  },
  {
   "cell_type": "code",
   "metadata": {},
   "source": [
    "# log and exponents\n",
    "print(np.log(a1))\n",
    "print()\n",
    "print(np.exp(a1))"
   ],
   "outputs": [],
   "execution_count": null
  },
  {
   "cell_type": "code",
   "metadata": {},
   "source": [
    "# round / floor / ceil\n",
    "x1 = np.random.random((2,3))*100\n",
    "print(np.round(x1) , \"\\n\") # Rounds to the nearest integer.\n",
    "print(np.floor(x1) , \"\\n\") # Rounds down (removes decimal part).\n",
    "print(np.ceil(x1) , \"\\n\") # Rounds up (adds 1 if there is any decimal part)."
   ],
   "outputs": [],
   "execution_count": null
  },
  {
   "cell_type": "markdown",
   "metadata": {},
   "source": [
    "## Dot Product (Matrix Multiplication)\n",
    "For A.B to be valid:\n",
    "- Number of columns of A must equal number of rows of B\n",
    "- If A is m x p and B is p x n, the result will be m x n"
   ]
  },
  {
   "cell_type": "code",
   "metadata": {},
   "source": [
    "# dot product\n",
    "a2 = np.arange(12).reshape(3,4)\n",
    "a3 = np.arange(12,24).reshape(4,3)\n",
    "\n",
    "np.dot(a2,a3)"
   ],
   "outputs": [],
   "execution_count": null
  },
  {
   "cell_type": "markdown",
   "metadata": {},
   "source": [
    "# Arithmetic operations\n",
    "All the usual arithmetic operators (`+`, `-`, `*`, `/`, `//`, `**`, etc.) can be used with `ndarray`s. They apply *elementwise*:"
   ]
  },
  {
   "cell_type": "code",
   "metadata": {},
   "source": [
    "a = np.arange(1,13).reshape(3,4)\n",
    "b = np.arange(12,24).reshape(3,4)"
   ],
   "outputs": [],
   "execution_count": null
  },
  {
   "cell_type": "markdown",
   "metadata": {},
   "source": [
    "## Scalar  Operations"
   ]
  },
  {
   "cell_type": "code",
   "metadata": {},
   "source": [
    "# Arithmetic Operations\n",
    "print(a - 5)\n",
    "print(a / 2)\n",
    "print(a * 2)\n",
    "print(a ** 2)"
   ],
   "outputs": [],
   "execution_count": null
  },
  {
   "cell_type": "code",
   "metadata": {},
   "source": [
    "# Relational Opertions\n",
    "print(b < 15)\n",
    "print(b == 15)\n",
    "b"
   ],
   "outputs": [],
   "execution_count": null
  },
  {
   "cell_type": "markdown",
   "metadata": {},
   "source": [
    "## Vector Operations"
   ]
  },
  {
   "cell_type": "code",
   "metadata": {},
   "source": [
    "print(a + b)\n",
    "print(a * b)\n",
    "print(b / a)\n",
    "print(b ** a)"
   ],
   "outputs": [],
   "execution_count": null
  },
  {
   "cell_type": "code",
   "metadata": {},
   "source": [
    "c = np.array([[1,2,3,4], [10, 20, 30, 40]])\n",
    "d = np.array([[1,2 ,3,4],[5,6,8,5]])\n",
    "c*d"
   ],
   "outputs": [],
   "execution_count": null
  },
  {
   "cell_type": "markdown",
   "metadata": {},
   "source": [
    "Note that the multiplication is *not* a matrix multiplication. We will discuss matrix operations below.\n",
    "\n",
    "The arrays must have the same shape. If they do not, NumPy will apply the *broadcasting rules*."
   ]
  },
  {
   "cell_type": "markdown",
   "metadata": {},
   "source": [
    "# Broadcasting"
   ]
  },
  {
   "cell_type": "markdown",
   "metadata": {},
   "source": [
    "Broadcasting is a powerful NumPy feature that allows you to perform arithmetic operations on arrays of different shapes and sizes, without writing explicit loops. But how does it actually work?\n",
    "\n",
    "---\n",
    "\n",
    "## What Is Broadcasting?\n",
    "\n",
    "**Broadcasting** automatically expands the shapes of arrays so that elementwise operations can be performed, even if the shapes don't match exactly. NumPy “broadcasts” the smaller array(s) across the larger one so their shapes become compatible.\n",
    "\n",
    "<img src = \"https://jakevdp.github.io/PythonDataScienceHandbook/figures/02.05-broadcasting.png\">"
   ]
  },
  {
   "metadata": {},
   "cell_type": "code",
   "source": [
    "# diff shape\n",
    "a = np.arange(6).reshape(2,3)\n",
    "b = np.arange(3).reshape(1,3)\n",
    "\n",
    "print(a, \"\\n\")\n",
    "print(b, \"\\n\")\n",
    "\n",
    "print(a+b)"
   ],
   "outputs": [],
   "execution_count": null
  },
  {
   "metadata": {},
   "cell_type": "markdown",
   "source": [
    "## The Three Broadcasting Rules\n",
    "\n",
    "### **Rule 1:**\n",
    " If arrays have a different number of dimensions, pad the smaller shape with 1s on the left until both shapes have the same length.\n",
    "\n",
    "- Example:\n",
    "    - Shape `(5,)` becomes `(1, 5)` when used with a 2D array of shape `(3, 5)`.\n",
    "    - Shape `(4,)` becomes `(1, 4)` for a 2D array of `(2, 4)`.\n",
    "    - For a 3D array `(2, 1, 5)` and a 1D array `(5,)`, NumPy treats the latter as `(1, 1, 5)`.\n",
    "\n",
    "### **Rule 2:**\n",
    " Arrays are compatible in a dimension if they have the same size, or if one of them is 1 in that dimension.\n",
    "\n",
    "- If an array has size `1` along a particular axis, NumPy automatically \"stretches\" it to match the other array's size for that axis (the value is repeated as needed).\n",
    "- Example:\n",
    "    - `(2, 3)` and `(2, 1)` can be added — the second dimension (1) is stretched to 3.\n",
    "    - `(1, 3, 4)` and `(5, 1, 4)` can be combined — the 1st and 2nd axes are stretched as needed.\n",
    "\n",
    "### **Rule 3:**\n",
    " If after applying the above rules, the shapes do not match in any dimension, broadcasting cannot proceed and NumPy will raise an error.\n",
    "\n",
    "- Example:\n",
    "    - `(2, 3)` and `(2, 4)` cannot be broadcast together (3 ≠ 4).\n",
    "\n",
    "---\n",
    "\n",
    "## Broadcasting Examples (with Operations)\n",
    "\n",
    "### 1. Addition with 1D and 2D arrays"
   ]
  },
  {
   "cell_type": "code",
   "metadata": {},
   "source": [
    "A = np.array([[1, 2, 3, 4, 5],\n",
    "              [6, 7, 8, 9, 10],\n",
    "              [11, 12, 13, 14, 15]])    # Shape: (3, 5)\n",
    "\n",
    "B = np.array([10, 20, 30, 40, 50])      # Shape: (5,)\n",
    "\n",
    "C = A + B   # Broadcasting happens here!\n",
    "print(C)"
   ],
   "outputs": [],
   "execution_count": null
  },
  {
   "cell_type": "markdown",
   "metadata": {},
   "source": [
    "**How?**\n",
    "B is treated as shape `(1, 5)`, then stretched to `(3, 5)` to match A.\n",
    "\n",
    "---\n",
    "\n",
    "### 2. Addition with a column vector and a matrix"
   ]
  },
  {
   "cell_type": "code",
   "metadata": {},
   "source": [
    "A = np.array([[1, 2, 3],\n",
    "              [4, 5, 6]])    # Shape: (2, 3)\n",
    "\n",
    "B = np.array([[10],\n",
    "              [20]])         # Shape: (2, 1) => array with one column and multiple rows is column vector\n",
    "\n",
    "C = A + B\n",
    "print(C)"
   ],
   "outputs": [],
   "execution_count": null
  },
  {
   "cell_type": "markdown",
   "metadata": {},
   "source": [
    "**How?**\n",
    "B is stretched from `(2, 1)` to `(2, 3)` to match A column-wise.\n",
    "\n",
    "---\n",
    "\n",
    "### 3. Addition with 3D and 2D arrays"
   ]
  },
  {
   "cell_type": "code",
   "metadata": {},
   "source": [
    "import numpy as np\n",
    "A = np.ones((4, 1, 6))         # Shape: (4, 1, 6)\n",
    "B = np.arange(3).reshape((3, 1))  # Shape: (3, 1)\n",
    "\n",
    "# To broadcast, B is reshaped to (1, 3, 1)\n",
    "C = A + B\n",
    "print(C.shape)  # (4, 3, 6)\n",
    "print(A, \"\\n\")\n",
    "print(B, \"\\n\")\n",
    "print(C, \"\\n\")"
   ],
   "outputs": [],
   "execution_count": null
  },
  {
   "cell_type": "markdown",
   "metadata": {},
   "source": [
    "### Example Where Broadcasting Fails"
   ]
  },
  {
   "cell_type": "code",
   "metadata": {},
   "source": [
    "A = np.ones((2, 3))\n",
    "B = np.arange(2)\n",
    "try:\n",
    "    C = A + B\n",
    "except ValueError as e:\n",
    "    print(e)\n",
    "    # since 2 != 3"
   ],
   "outputs": [],
   "execution_count": null
  },
  {
   "cell_type": "markdown",
   "metadata": {},
   "source": [
    "---\n",
    "\n",
    "## Visual Summary\n",
    "\n",
    "| Array 1 Shape | Array 2 Shape | Operation   | Broadcast? | Result Shape |\n",
    "|---------------|---------------|-------------|------------|-------------|\n",
    "| (3, 4)        | (4,)          | add         | Yes        | (3, 4)      |\n",
    "| (2, 1, 3)     | (1, 4, 1)     | add         | Yes        | (2, 4, 3)   |\n",
    "| (5, 6, 7)     | (   6, 1)     | add         | Yes        | (5, 6, 7)   |\n",
    "| (2, 3)        | (3,)          | add         | Yes        | (2, 3)      |\n",
    "| (2, 3)        | (2,)          | add         | **No**     | —           |\n",
    "\n",
    "---\n",
    "\n",
    "## Quick Tips\n",
    "\n",
    "- **Singleton dimensions (size 1)** are your friend: they allow arrays to be stretched to match other shapes during operations.\n",
    "- Broadcasting does **not** copy data — it’s efficient!\n",
    "- If you get a “could not be broadcast” error, check each axis from the rightmost (last) axis and see where the shapes differ in a way that can’t be resolved by stretching a 1.\n"
   ]
  },
  {
   "cell_type": "code",
   "metadata": {},
   "source": [
    "k = np.arange(6).reshape(2,3)  # k is a numpy array: [0, 1, 2, 3, 4, 5]\n",
    "k + [100, 200, 300]  # after rule 1: [[100, 200, 300]], and after rule 2: [[100, 200, 300], [100, 200, 300]]"
   ],
   "outputs": [],
   "execution_count": null
  },
  {
   "cell_type": "markdown",
   "metadata": {},
   "source": [
    "And also, very simply:"
   ]
  },
  {
   "cell_type": "code",
   "metadata": {},
   "source": [
    "k + 1000  # same as: k + [[1000, 1000, 1000], [1000, 1000, 1000]]"
   ],
   "outputs": [],
   "execution_count": null
  },
  {
   "cell_type": "markdown",
   "metadata": {},
   "source": [
    "## Further Reading\n",
    "\n",
    "- [NumPy Broadcasting documentation](https://numpy.org/doc/stable/user/basics.broadcasting.html)\n",
    "- [NumPy Quickstart Tutorial](https://numpy.org/doc/stable/user/quickstart.html#broadcasting)"
   ]
  },
  {
   "cell_type": "markdown",
   "metadata": {},
   "source": [
    "## Upcasting\n",
    "When trying to combine arrays with different `dtype`s, NumPy will *upcast* to a type capable of handling all possible values (regardless of what the *actual* values are)."
   ]
  },
  {
   "cell_type": "code",
   "metadata": {},
   "source": [
    "# uint8 is an unsigned 8-bit integer type in NumPy.\n",
    "# It can store integer values from 0 to 255.\n",
    "# \"Unsigned\" means it cannot represent negative numbers.\n",
    "\n",
    "k1 = np.arange(0, 5, dtype=np.uint8)\n",
    "print(k1.dtype, k1)"
   ],
   "outputs": [],
   "execution_count": null
  },
  {
   "cell_type": "code",
   "metadata": {},
   "source": [
    "k2 = k1 + np.array([5, 6, 7, 8, 9], dtype=np.int8)\n",
    "print(k2.dtype, k2)"
   ],
   "outputs": [],
   "execution_count": null
  },
  {
   "cell_type": "markdown",
   "metadata": {},
   "source": [
    "Note that `int16` is required to represent all *possible* `int8` and `uint8` values (from -128 to 255), even though in this case a `uint8` would have sufficed."
   ]
  },
  {
   "cell_type": "code",
   "metadata": {},
   "source": [
    "k3 = k1 + 1.5\n",
    "print(k3.dtype, k3)"
   ],
   "outputs": [],
   "execution_count": null
  },
  {
   "cell_type": "markdown",
   "metadata": {},
   "source": [
    "# Conditional operators"
   ]
  },
  {
   "cell_type": "markdown",
   "metadata": {},
   "source": [
    "The conditional operators also apply elementwise:"
   ]
  },
  {
   "cell_type": "code",
   "metadata": {},
   "source": [
    "m = np.array([20, -5, 30, 40])\n",
    "m < [15, 16, 35, 36]"
   ],
   "outputs": [],
   "execution_count": null
  },
  {
   "cell_type": "markdown",
   "metadata": {},
   "source": [
    "And using broadcasting:"
   ]
  },
  {
   "cell_type": "code",
   "metadata": {},
   "source": [
    "m < 25  # equivalent to m < [25, 25, 25, 25]"
   ],
   "outputs": [],
   "execution_count": null
  },
  {
   "cell_type": "markdown",
   "metadata": {},
   "source": [
    "This is most useful in conjunction with boolean indexing (discussed below)."
   ]
  },
  {
   "cell_type": "code",
   "metadata": {},
   "source": [
    "m[m < 25]"
   ],
   "outputs": [],
   "execution_count": null
  },
  {
   "cell_type": "markdown",
   "metadata": {},
   "source": [
    "# Mathematical and statistical functions"
   ]
  },
  {
   "cell_type": "markdown",
   "metadata": {},
   "source": [
    "Many mathematical and statistical functions are available for `ndarray`s.\n",
    "\n",
    "## `ndarray` methods\n",
    "Some functions are simply `ndarray` methods, for example:"
   ]
  },
  {
   "cell_type": "code",
   "metadata": {},
   "source": [
    "a = np.array([[-2.5, 3.1, 7], [10, 11, 12]])\n",
    "print(a)\n",
    "print(\"mean =\", a.mean())"
   ],
   "outputs": [],
   "execution_count": null
  },
  {
   "cell_type": "markdown",
   "metadata": {},
   "source": [
    "Note that this computes the mean of all elements in the `ndarray`, regardless of its shape.\n",
    "\n",
    "Here are a few more useful `ndarray` methods:"
   ]
  },
  {
   "cell_type": "code",
   "metadata": {},
   "source": [
    "for func in (a.min, a.max, a.sum, a.prod, a.std, a.var):\n",
    "    print(func.__name__, \"=\", func())"
   ],
   "outputs": [],
   "execution_count": null
  },
  {
   "cell_type": "markdown",
   "metadata": {},
   "source": [
    "These functions accept an optional argument `axis` which lets you ask for the operation to be performed on elements along the given axis. For example:"
   ]
  },
  {
   "cell_type": "code",
   "metadata": {},
   "source": [
    "c=np.arange(24).reshape(2,3,4)\n",
    "c"
   ],
   "outputs": [],
   "execution_count": null
  },
  {
   "cell_type": "code",
   "metadata": {},
   "source": [
    "c.sum(axis=0)  # sum across matrices"
   ],
   "outputs": [],
   "execution_count": null
  },
  {
   "cell_type": "code",
   "metadata": {},
   "source": [
    "c.sum(axis=1)  # sum across rows"
   ],
   "outputs": [],
   "execution_count": null
  },
  {
   "cell_type": "markdown",
   "metadata": {},
   "source": [
    "You can also sum over multiple axes:"
   ]
  },
  {
   "cell_type": "code",
   "metadata": {},
   "source": [
    "c.sum(axis=(0,2))  # sum across matrices and columns"
   ],
   "outputs": [],
   "execution_count": null
  },
  {
   "cell_type": "code",
   "metadata": {},
   "source": [
    "0+1+2+3 + 12+13+14+15, 4+5+6+7 + 16+17+18+19, 8+9+10+11 + 20+21+22+23"
   ],
   "outputs": [],
   "execution_count": null
  },
  {
   "cell_type": "markdown",
   "metadata": {},
   "source": [
    "## Universal functions\n",
    "NumPy also provides fast elementwise functions called *universal functions*, or **ufunc**. They are vectorized wrappers of simple functions. For example `square` returns a new `ndarray` which is a copy of the original `ndarray` except that each element is squared:"
   ]
  },
  {
   "cell_type": "code",
   "metadata": {},
   "source": [
    "a = np.array([[-2.5, 3.1, 7], [10, 11, 12]])\n",
    "print(a)\n",
    "np.square(a)\n"
   ],
   "outputs": [],
   "execution_count": null
  },
  {
   "cell_type": "markdown",
   "metadata": {},
   "source": [
    "Here are a few more useful unary ufuncs:"
   ]
  },
  {
   "cell_type": "code",
   "metadata": {},
   "source": [
    "print(\"Original ndarray\")\n",
    "print(a)\n",
    "for func in (np.abs, np.sqrt, np.exp, np.log, np.sign, np.ceil, np.modf, np.isnan, np.cos):\n",
    "    print(\"\\n\", func.__name__)\n",
    "    print(func(a))"
   ],
   "outputs": [],
   "execution_count": null
  },
  {
   "cell_type": "markdown",
   "metadata": {},
   "source": [
    "The two warnings are due to the fact that `sqrt()` and `log()` are undefined for negative numbers, which is why there is a `np.nan` value in the first cell of the output of these two functions."
   ]
  },
  {
   "cell_type": "markdown",
   "metadata": {},
   "source": [
    "## Binary ufuncs\n",
    "There are also many binary ufuncs, that apply elementwise on two `ndarray`s.  Broadcasting rules are applied if the arrays do not have the same shape:"
   ]
  },
  {
   "cell_type": "code",
   "metadata": {},
   "source": [
    "a = np.array([1, -2, 3, 4])\n",
    "b = np.array([2, 8, -1, 7])\n",
    "np.add(a, b)  # equivalent to a + b"
   ],
   "outputs": [],
   "execution_count": null
  },
  {
   "cell_type": "code",
   "metadata": {},
   "source": [
    "np.greater(a, b)  # equivalent to a > b"
   ],
   "outputs": [],
   "execution_count": null
  },
  {
   "cell_type": "code",
   "metadata": {},
   "source": [
    "np.maximum(a, b)"
   ],
   "outputs": [],
   "execution_count": null
  },
  {
   "cell_type": "code",
   "metadata": {},
   "source": [
    "np.copysign(a, b)"
   ],
   "outputs": [],
   "execution_count": null
  },
  {
   "cell_type": "markdown",
   "metadata": {},
   "source": [
    "# Array indexing\n",
    "## One-dimensional arrays\n",
    "One-dimensional NumPy arrays can be accessed more or less like regular python arrays:"
   ]
  },
  {
   "cell_type": "code",
   "metadata": {},
   "source": [
    "a = np.array([1, 5, 3, 19, 13, 7, 3])\n",
    "a[3]"
   ],
   "outputs": [],
   "execution_count": null
  },
  {
   "cell_type": "code",
   "metadata": {},
   "source": [
    "a[2:5]"
   ],
   "outputs": [],
   "execution_count": null
  },
  {
   "cell_type": "code",
   "metadata": {},
   "source": [
    "a[2:-1]"
   ],
   "outputs": [],
   "execution_count": null
  },
  {
   "cell_type": "code",
   "metadata": {},
   "source": [
    "a[:2]"
   ],
   "outputs": [],
   "execution_count": null
  },
  {
   "cell_type": "code",
   "metadata": {},
   "source": [
    "a[2::2]"
   ],
   "outputs": [],
   "execution_count": null
  },
  {
   "cell_type": "code",
   "metadata": {},
   "source": [
    "a[::-1]"
   ],
   "outputs": [],
   "execution_count": null
  },
  {
   "cell_type": "markdown",
   "metadata": {},
   "source": [
    "Of course, you can modify elements:"
   ]
  },
  {
   "cell_type": "code",
   "metadata": {},
   "source": [
    "a[3]=999\n",
    "a"
   ],
   "outputs": [],
   "execution_count": null
  },
  {
   "cell_type": "markdown",
   "metadata": {},
   "source": [
    "You can also modify an `ndarray` slice:"
   ]
  },
  {
   "cell_type": "code",
   "metadata": {},
   "source": [
    "a[2:5] = [997, 998, 999]\n",
    "a"
   ],
   "outputs": [],
   "execution_count": null
  },
  {
   "cell_type": "markdown",
   "metadata": {},
   "source": [
    "## Differences with regular python arrays\n",
    "Contrary to regular python arrays, if you assign a single value to an `ndarray` slice, it is copied across the whole slice, thanks to broadcasting rules discussed above."
   ]
  },
  {
   "cell_type": "code",
   "metadata": {},
   "source": [
    "a[2:5] = -1\n",
    "a"
   ],
   "outputs": [],
   "execution_count": null
  },
  {
   "cell_type": "markdown",
   "metadata": {},
   "source": [
    "Also, you cannot grow or shrink `ndarray`s this way:"
   ]
  },
  {
   "cell_type": "code",
   "metadata": {},
   "source": [
    "try:\n",
    "    a[2:5] = [1,2,3,4,5,6]  # too long\n",
    "except ValueError as e:\n",
    "    print(e)"
   ],
   "outputs": [],
   "execution_count": null
  },
  {
   "cell_type": "markdown",
   "metadata": {},
   "source": [
    "You cannot delete elements either:"
   ]
  },
  {
   "cell_type": "code",
   "metadata": {},
   "source": [
    "try:\n",
    "    del a[2:5]\n",
    "except ValueError as e:\n",
    "    print(e)"
   ],
   "outputs": [],
   "execution_count": null
  },
  {
   "cell_type": "markdown",
   "metadata": {},
   "source": [
    "Last but not least, `ndarray` **slices are actually *views*** on the same data buffer. This means that if you create a slice and modify it, you are actually going to modify the original `ndarray` as well!"
   ]
  },
  {
   "cell_type": "code",
   "metadata": {},
   "source": [
    "a_slice = a[2:6]\n",
    "a_slice[1] = 1000\n",
    "a  # the original array was modified!"
   ],
   "outputs": [],
   "execution_count": null
  },
  {
   "cell_type": "code",
   "metadata": {},
   "source": [
    "a[3] = 2000\n",
    "a_slice  # similarly, modifying the original array modifies the slice!"
   ],
   "outputs": [],
   "execution_count": null
  },
  {
   "cell_type": "markdown",
   "metadata": {},
   "source": [
    "If you want a copy of the data, you need to use the `copy` method:"
   ]
  },
  {
   "cell_type": "code",
   "metadata": {},
   "source": [
    "another_slice = a[2:6].copy()\n",
    "another_slice[1] = 3000\n",
    "a  # the original array is untouched"
   ],
   "outputs": [],
   "execution_count": null
  },
  {
   "cell_type": "code",
   "metadata": {},
   "source": [
    "a[3] = 4000\n",
    "another_slice  # similarly, modifying the original array does not affect the slice copy"
   ],
   "outputs": [],
   "execution_count": null
  },
  {
   "cell_type": "markdown",
   "metadata": {},
   "source": [
    "## Multidimensional arrays\n",
    "Multidimensional arrays can be accessed in a similar way by providing an index or slice for each axis, separated by commas:"
   ]
  },
  {
   "cell_type": "code",
   "metadata": {},
   "source": [
    "a = np.arange(8).reshape(2,2,2)\n",
    "a"
   ],
   "outputs": [],
   "execution_count": null
  },
  {
   "cell_type": "code",
   "metadata": {},
   "source": [
    "print(a[1,0,1]) # here first 1 depicts the second 2-d array in our 3-d array , second 0 depicts the first row in that 2-d array and last 1 depicts the second column in that row .\n",
    "print(a[1,1,0])"
   ],
   "outputs": [],
   "execution_count": null
  },
  {
   "cell_type": "code",
   "metadata": {},
   "source": [
    "b = np.arange(48).reshape(4, 12)\n",
    "b"
   ],
   "outputs": [],
   "execution_count": null
  },
  {
   "cell_type": "code",
   "metadata": {},
   "source": [
    "b[1, 2]  # row 1, col 2"
   ],
   "outputs": [],
   "execution_count": null
  },
  {
   "cell_type": "code",
   "metadata": {},
   "source": [
    "print(b[1])  # row 1 and all columns of b .\n",
    "# or\n",
    "print(b[1, :])"
   ],
   "outputs": [],
   "execution_count": null
  },
  {
   "cell_type": "code",
   "metadata": {},
   "source": [
    "b[: , 1]  # all rows of b and  column 1"
   ],
   "outputs": [],
   "execution_count": null
  },
  {
   "cell_type": "markdown",
   "metadata": {},
   "source": [
    "**Caution**: note the subtle difference between these two expressions:"
   ]
  },
  {
   "cell_type": "code",
   "metadata": {
    "scrolled": true
   },
   "source": [
    "b[1, :]"
   ],
   "outputs": [],
   "execution_count": null
  },
  {
   "cell_type": "code",
   "metadata": {},
   "source": [
    "b[1:2, :]"
   ],
   "outputs": [],
   "execution_count": null
  },
  {
   "cell_type": "markdown",
   "metadata": {},
   "source": [
    "The first expression returns row 1 as a 1D array of shape `(12,)`, while the second returns that same row as a 2D array of shape `(1, 12)`."
   ]
  },
  {
   "cell_type": "code",
   "metadata": {},
   "source": [
    "# now we want to extract 13 , 14 from row 1 and column 1 and 2 and also 25 , 26 from row 2 and column 1 and 2 .\n",
    "print(b[1:3, 1:3] , \"\\n\")  # rows 1 and 2"
   ],
   "outputs": [],
   "execution_count": null
  },
  {
   "cell_type": "code",
   "metadata": {},
   "source": [
    "# now I want all the edge elements of the array b .\n",
    "print(b[::3, ::11] , \"\\n\") # here we are taking every 3rd row and every 11th column , so we will get only the edge elements of the array b ."
   ],
   "outputs": [],
   "execution_count": null
  },
  {
   "cell_type": "code",
   "metadata": {},
   "source": [
    "b"
   ],
   "outputs": [],
   "execution_count": null
  },
  {
   "cell_type": "code",
   "metadata": {},
   "source": [
    "# now find 13 , 23 , 25 , 35 from the array b .\n",
    "print(b[1:3:1, 1::10])"
   ],
   "outputs": [],
   "execution_count": null
  },
  {
   "cell_type": "code",
   "metadata": {},
   "source": [
    "# now find 12 and 22\n",
    "print(b[1:2:9, 0::10])"
   ],
   "outputs": [],
   "execution_count": null
  },
  {
   "cell_type": "code",
   "metadata": {},
   "source": [
    "c = np.arange(27).reshape(3, 3, 3)\n",
    "c"
   ],
   "outputs": [],
   "execution_count": null
  },
  {
   "cell_type": "code",
   "metadata": {},
   "source": [
    "# middle matrix\n",
    "c[1]"
   ],
   "outputs": [],
   "execution_count": null
  },
  {
   "cell_type": "code",
   "metadata": {},
   "source": [
    "# first and last matrix\n",
    "#c[[0, -1]]\n",
    "# or\n",
    "c[::2]"
   ],
   "outputs": [],
   "execution_count": null
  },
  {
   "cell_type": "code",
   "metadata": {},
   "source": [
    "# second row of the first matrix .\n",
    "c[0, 1]  # first matrix, second row, all columns"
   ],
   "outputs": [],
   "execution_count": null
  },
  {
   "cell_type": "code",
   "metadata": {},
   "source": [
    "# middle column of middle matrix .\n",
    "c[1, :, 1]  # second matrix, all rows, second column"
   ],
   "outputs": [],
   "execution_count": null
  },
  {
   "cell_type": "code",
   "metadata": {},
   "source": [
    "# find 22,23,25 and 26 from the array c .\n",
    "c[2,1:,1:]  # second matrix,"
   ],
   "outputs": [],
   "execution_count": null
  },
  {
   "cell_type": "code",
   "metadata": {},
   "source": [
    "# find 0 , 2 , 18 , 20\n",
    "c[ ::2 , 0 , ::2]  # first matrix, rows 0 and 2, columns 0 and 2"
   ],
   "outputs": [],
   "execution_count": null
  },
  {
   "cell_type": "markdown",
   "metadata": {},
   "source": [
    "## Fancy indexing\n",
    "You may also specify a list (or tuple) of indices that you are interested in. This is referred to as *fancy indexing*, it is useful when we can't find a You can also specify a list or tuple of indices to access specific elements in an array. This is called fancy indexing. It is especially useful when there is no clear pattern in the indices, making other indexing methods less effective."
   ]
  },
  {
   "metadata": {},
   "cell_type": "code",
   "source": [
    "b = np.arange(36).reshape(6, 6)\n",
    "b"
   ],
   "outputs": [],
   "execution_count": null
  },
  {
   "cell_type": "code",
   "metadata": {
    "scrolled": true
   },
   "source": "b[(0,2,3,5), 2:5]  # rows 0 and 2, columns 2 to 4 (5-1)",
   "outputs": [],
   "execution_count": null
  },
  {
   "cell_type": "code",
   "metadata": {},
   "source": [
    "b[:, (-1, 2, -1)]  # all rows, columns -1 (last), 2 and -1 (again, and in this order)"
   ],
   "outputs": [],
   "execution_count": null
  },
  {
   "cell_type": "markdown",
   "metadata": {},
   "source": [
    "If you provide multiple index arrays, you get a 1D `ndarray` containing the values of the elements at the specified coordinates."
   ]
  },
  {
   "cell_type": "code",
   "metadata": {},
   "source": "b[(-1, 2, -1, 2), (3, 5, 1, 5)]  # returns a 1D array with b[-1, 3], b[2, 5], b[-1, 1] and b[2, 5] (again)",
   "outputs": [],
   "execution_count": null
  },
  {
   "metadata": {},
   "cell_type": "code",
   "source": [
    "# so we can also specify these indexies in list as well .\n",
    "b[[1,2,4] , [1,3,4]]"
   ],
   "outputs": [],
   "execution_count": null
  },
  {
   "cell_type": "markdown",
   "metadata": {},
   "source": [
    "## Higher dimensions\n",
    "Everything works just as well with higher dimensional arrays, but it's useful to look at a few examples:"
   ]
  },
  {
   "cell_type": "code",
   "metadata": {},
   "source": [
    "c = b.reshape(4,2,6)\n",
    "c"
   ],
   "outputs": [],
   "execution_count": null
  },
  {
   "cell_type": "code",
   "metadata": {},
   "source": [
    "c[2, 1, 4]  # matrix 2, row 1, col 4"
   ],
   "outputs": [],
   "execution_count": null
  },
  {
   "cell_type": "code",
   "metadata": {},
   "source": [
    "c[2, :, 3]  # matrix 2, all rows, col 3"
   ],
   "outputs": [],
   "execution_count": null
  },
  {
   "cell_type": "markdown",
   "metadata": {},
   "source": [
    "If you omit coordinates for some axes, then all elements in these axes are returned:"
   ]
  },
  {
   "cell_type": "code",
   "metadata": {},
   "source": [
    "c[2, 1]  # Return matrix 2, row 1, all columns.  This is equivalent to c[2, 1, :]"
   ],
   "outputs": [],
   "execution_count": null
  },
  {
   "cell_type": "markdown",
   "metadata": {},
   "source": [
    "## Ellipsis (`...`)\n",
    "You may also write an ellipsis (`...`) to ask that all non-specified axes be entirely included."
   ]
  },
  {
   "cell_type": "code",
   "metadata": {},
   "source": [
    "c[2, ...]  #  matrix 2, all rows, all columns.  This is equivalent to c[2, :, :]"
   ],
   "outputs": [],
   "execution_count": null
  },
  {
   "cell_type": "code",
   "metadata": {},
   "source": [
    "c[2, 1, ...]  # matrix 2, row 1, all columns.  This is equivalent to c[2, 1, :]"
   ],
   "outputs": [],
   "execution_count": null
  },
  {
   "cell_type": "code",
   "metadata": {},
   "source": [
    "c[2, ..., 3]  # matrix 2, all rows, column 3.  This is equivalent to c[2, :, 3]"
   ],
   "outputs": [],
   "execution_count": null
  },
  {
   "cell_type": "code",
   "metadata": {},
   "source": [
    "c[..., 3]  # all matrices, all rows, column 3.  This is equivalent to c[:, :, 3]"
   ],
   "outputs": [],
   "execution_count": null
  },
  {
   "cell_type": "markdown",
   "metadata": {},
   "source": [
    "## Boolean indexing\n",
    "- We can also provide an `ndarray` of boolean values on one axis to specify the indices that you want to access.\n",
    "- We can also use a Boolean array of the same shape as the original array to select specific elements. This is called Boolean indexing. It is especially useful when you want to filter elements based on conditions."
   ]
  },
  {
   "cell_type": "code",
   "metadata": {},
   "source": [
    "b = np.random.randint(1, 100, 24 ).reshape(6, 4)  # randint(start, stop, count): generates 24 random integers from 1 to 99 and reshapes them into a 6x4 array\n",
    "b"
   ],
   "outputs": [],
   "execution_count": null
  },
  {
   "metadata": {},
   "cell_type": "markdown",
   "source": "- find all numbers greater than 50"
  },
  {
   "metadata": {},
   "cell_type": "code",
   "source": "b > 50      # this will create a boolean array (where all the elements are either true or false ) that works as a mask .",
   "outputs": [],
   "execution_count": null
  },
  {
   "metadata": {},
   "cell_type": "code",
   "source": [
    "# Use the boolean array as a mask: only elements > 50 are kept, others are discarded\n",
    "b[b > 50]"
   ],
   "outputs": [],
   "execution_count": null
  },
  {
   "metadata": {},
   "cell_type": "markdown",
   "source": "- find all numbers greater than 50 and are even"
  },
  {
   "metadata": {},
   "cell_type": "code",
   "source": [
    "b[(b > 50) & (b % 2 == 0)]  # Use '&' for element-wise AND with boolean arrays (not 'and' or '&&')\n",
    "# boolean operators in NumPy (&, |, ~)"
   ],
   "outputs": [],
   "execution_count": null
  },
  {
   "metadata": {},
   "cell_type": "markdown",
   "source": "- find all numbers not divisible by 7"
  },
  {
   "metadata": {},
   "cell_type": "code",
   "source": "b[~(b % 7 == 0)]",
   "outputs": [],
   "execution_count": null
  },
  {
   "cell_type": "code",
   "metadata": {},
   "source": [
    "rows_on = np.array([True, False, True, False])\n",
    "b[rows_on, :]  # Rows 0 and 2, all columns. Equivalent to b[(0, 2), :]"
   ],
   "outputs": [],
   "execution_count": null
  },
  {
   "cell_type": "code",
   "metadata": {},
   "source": [
    "cols_on = np.array([False, True, False] * 4)\n",
    "b[:, cols_on]  # All rows, columns 1, 4, 7 and 10"
   ],
   "outputs": [],
   "execution_count": null
  },
  {
   "cell_type": "markdown",
   "metadata": {},
   "source": [
    "## `np.ix_`\n",
    "You cannot use boolean indexing this way on multiple axes, but you can work around this by using the `ix_` function:"
   ]
  },
  {
   "cell_type": "code",
   "metadata": {},
   "source": [
    "b[np.ix_(rows_on, cols_on)]"
   ],
   "outputs": [],
   "execution_count": null
  },
  {
   "cell_type": "code",
   "metadata": {},
   "source": [
    "np.ix_(rows_on, cols_on)"
   ],
   "outputs": [],
   "execution_count": null
  },
  {
   "cell_type": "markdown",
   "metadata": {},
   "source": [
    "If you use a boolean array that has the same shape as the `ndarray`, then you get in return a 1D array containing all the values that have `True` at their coordinate. This is generally used along with conditional operators:"
   ]
  },
  {
   "cell_type": "code",
   "metadata": {},
   "source": [
    "b[b % 3 == 1]"
   ],
   "outputs": [],
   "execution_count": null
  },
  {
   "cell_type": "markdown",
   "metadata": {},
   "source": [
    "# Iterating\n",
    "Iterating over `ndarray`s is very similar to iterating over regular python arrays. Note that iterating over multidimensional arrays is done with respect to the first axis."
   ]
  },
  {
   "cell_type": "code",
   "metadata": {},
   "source": [
    "a = np.arange(10)\n",
    "b = np.arange(12).reshape(3,4)\n",
    "c = np.arange(8).reshape(2,2,2)"
   ],
   "outputs": [],
   "execution_count": null
  },
  {
   "metadata": {},
   "cell_type": "code",
   "source": "a",
   "outputs": [],
   "execution_count": null
  },
  {
   "metadata": {},
   "cell_type": "code",
   "source": [
    "# for a 1-D array iteration will print element-wise .\n",
    "for i in a :\n",
    "    print(i)"
   ],
   "outputs": [],
   "execution_count": null
  },
  {
   "metadata": {},
   "cell_type": "code",
   "source": "b",
   "outputs": [],
   "execution_count": null
  },
  {
   "cell_type": "code",
   "metadata": {},
   "source": [
    "# In a 2-D matrix iteration will print row wise .\n",
    "for i in b:\n",
    "    print(i , \"\\n\")"
   ],
   "outputs": [],
   "execution_count": null
  },
  {
   "metadata": {},
   "cell_type": "code",
   "source": "c",
   "outputs": [],
   "execution_count": null
  },
  {
   "metadata": {},
   "cell_type": "code",
   "source": [
    "# In 3-D matrix iteration will print elements matrix wise .\n",
    "for i in c :\n",
    "    print(i , \"\\n\")"
   ],
   "outputs": [],
   "execution_count": null
  },
  {
   "metadata": {},
   "cell_type": "code",
   "source": [
    "# To print individual elements\n",
    "for i in np.nditer(c) :\n",
    "    print(i)"
   ],
   "outputs": [],
   "execution_count": null
  },
  {
   "cell_type": "markdown",
   "metadata": {},
   "source": "Other method to iterate on *all* elements in the `ndarray`, simply iterate over the `flat` attribute:"
  },
  {
   "cell_type": "code",
   "metadata": {},
   "source": [
    "for i in c.flat:\n",
    "    print(\"Item:\", i)"
   ],
   "outputs": [],
   "execution_count": null
  },
  {
   "metadata": {},
   "cell_type": "code",
   "source": [
    "for i in range(len(c)):  # Note that len(c) == c.shape[0]\n",
    "    print(\"Item:\")\n",
    "    print(c[i])"
   ],
   "outputs": [],
   "execution_count": null
  },
  {
   "metadata": {},
   "cell_type": "markdown",
   "source": [
    "## **Key point**\n",
    "- If output is visible after an operation then it is temporary and our original array is not chaged .\n",
    "- else , our original array is changed ."
   ]
  },
  {
   "cell_type": "markdown",
   "metadata": {},
   "source": [
    "# Stacking arrays\n",
    "It is often useful to stack together different arrays. NumPy offers several functions to do just that. Let's start by creating a few arrays."
   ]
  },
  {
   "cell_type": "code",
   "metadata": {},
   "source": [
    "q1 = np.full((3,4), 1.0)\n",
    "q1"
   ],
   "outputs": [],
   "execution_count": null
  },
  {
   "cell_type": "code",
   "metadata": {},
   "source": [
    "q2 = np.full((4,4), 2.0)\n",
    "q2"
   ],
   "outputs": [],
   "execution_count": null
  },
  {
   "cell_type": "code",
   "metadata": {},
   "source": [
    "q3 = np.full((3,4), 3.0)\n",
    "q3"
   ],
   "outputs": [],
   "execution_count": null
  },
  {
   "cell_type": "markdown",
   "metadata": {},
   "source": [
    "## `vstack`\n",
    "Now let's stack them vertically using `vstack`:"
   ]
  },
  {
   "metadata": {},
   "cell_type": "code",
   "source": "np.vstack((q1, q2, q1 ))",
   "outputs": [],
   "execution_count": null
  },
  {
   "metadata": {},
   "cell_type": "code",
   "source": [
    "q4 = np.vstack((q1, q2, q3))\n",
    "q4"
   ],
   "outputs": [],
   "execution_count": null
  },
  {
   "metadata": {},
   "cell_type": "code",
   "source": "q4.shape",
   "outputs": [],
   "execution_count": null
  },
  {
   "cell_type": "markdown",
   "metadata": {},
   "source": [
    "It was possible because q1, q2 and q3 all have the same shape (except for the vertical axis, but that's ok since we are stacking on that axis).\n",
    "\n",
    "## `hstack`\n",
    "We can also stack arrays horizontally using `hstack`:"
   ]
  },
  {
   "cell_type": "code",
   "metadata": {},
   "source": [
    "q5 = np.hstack((q1, q3))\n",
    "q5"
   ],
   "outputs": [],
   "execution_count": null
  },
  {
   "cell_type": "code",
   "metadata": {},
   "source": [
    "q5.shape"
   ],
   "outputs": [],
   "execution_count": null
  },
  {
   "cell_type": "markdown",
   "metadata": {},
   "source": [
    "It is possible because q1 and q3 both have 3 rows. But since q2 has 4 rows, it cannot be stacked horizontally with q1 and q3:"
   ]
  },
  {
   "cell_type": "code",
   "metadata": {},
   "source": [
    "try:\n",
    "    q5 = np.hstack((q1, q2, q3))\n",
    "except ValueError as e:\n",
    "    print(e)"
   ],
   "outputs": [],
   "execution_count": null
  },
  {
   "cell_type": "markdown",
   "metadata": {},
   "source": [
    "## `concatenate`\n",
    "The `concatenate` function stacks arrays along any given existing axis."
   ]
  },
  {
   "cell_type": "code",
   "metadata": {},
   "source": [
    "q7 = np.concatenate((q1, q2, q3), axis=0)  # Equivalent to vstack\n",
    "q7"
   ],
   "outputs": [],
   "execution_count": null
  },
  {
   "cell_type": "code",
   "metadata": {},
   "source": [
    "q7.shape"
   ],
   "outputs": [],
   "execution_count": null
  },
  {
   "cell_type": "markdown",
   "metadata": {},
   "source": [
    "As you might guess, `hstack` is equivalent to calling `concatenate` with `axis=1`."
   ]
  },
  {
   "cell_type": "markdown",
   "metadata": {},
   "source": [
    "## `stack`\n",
    "The `stack` function stacks arrays along a new axis. All arrays have to have the same shape."
   ]
  },
  {
   "cell_type": "code",
   "metadata": {},
   "source": [
    "q8 = np.stack((q1, q3))\n",
    "q8"
   ],
   "outputs": [],
   "execution_count": null
  },
  {
   "cell_type": "code",
   "metadata": {},
   "source": [
    "q8.shape"
   ],
   "outputs": [],
   "execution_count": null
  },
  {
   "cell_type": "markdown",
   "metadata": {},
   "source": [
    "# Splitting arrays\n",
    "Splitting is the opposite of stacking. For example, let's use the `vsplit` function to split a matrix vertically.\n",
    "\n",
    "First let's create a 6x4 matrix:"
   ]
  },
  {
   "cell_type": "code",
   "metadata": {},
   "source": [
    "r = np.arange(24).reshape(6,4)\n",
    "r"
   ],
   "outputs": [],
   "execution_count": null
  },
  {
   "cell_type": "markdown",
   "metadata": {},
   "source": [
    "Now let's split it in three equal parts, vertically:"
   ]
  },
  {
   "cell_type": "code",
   "metadata": {},
   "source": [
    "r1, r2, r3 = np.vsplit(r, 3)\n",
    "r1"
   ],
   "outputs": [],
   "execution_count": null
  },
  {
   "cell_type": "code",
   "metadata": {},
   "source": [
    "r2"
   ],
   "outputs": [],
   "execution_count": null
  },
  {
   "cell_type": "code",
   "metadata": {},
   "source": [
    "r3"
   ],
   "outputs": [],
   "execution_count": null
  },
  {
   "cell_type": "markdown",
   "metadata": {},
   "source": [
    "There is also a `split` function which splits an array along any given axis. Calling `vsplit` is equivalent to calling `split` with `axis=0`. There is also an `hsplit` function, equivalent to calling `split` with `axis=1`:"
   ]
  },
  {
   "cell_type": "code",
   "metadata": {},
   "source": [
    "r4, r5 = np.hsplit(r, 2)\n",
    "r4"
   ],
   "outputs": [],
   "execution_count": null
  },
  {
   "cell_type": "code",
   "metadata": {},
   "source": [
    "r5"
   ],
   "outputs": [],
   "execution_count": null
  },
  {
   "metadata": {},
   "cell_type": "markdown",
   "source": [
    "## **Key points**\n",
    "- In hsplit a vertical line splits the array .\n",
    "-  In vsplit a horizontal line spilts the array .\n",
    "- or simply just opposite of stacking ."
   ]
  },
  {
   "cell_type": "markdown",
   "metadata": {},
   "source": [
    "# Transposing arrays\n",
    "The `transpose` method creates a new view on an `ndarray`'s data, with axes permuted in the given order."
   ]
  },
  {
   "metadata": {},
   "cell_type": "code",
   "source": [
    "a = np.arange(12).reshape(3,4)\n",
    "a"
   ],
   "outputs": [],
   "execution_count": null
  },
  {
   "metadata": {},
   "cell_type": "code",
   "source": "np.transpose(a)",
   "outputs": [],
   "execution_count": null
  },
  {
   "metadata": {},
   "cell_type": "code",
   "source": [
    "# or we can just do it like this\n",
    "a.T"
   ],
   "outputs": [],
   "execution_count": null
  },
  {
   "cell_type": "code",
   "metadata": {},
   "source": [
    "t = np.arange(24).reshape(4,2,3)\n",
    "t"
   ],
   "outputs": [],
   "execution_count": null
  },
  {
   "cell_type": "markdown",
   "metadata": {},
   "source": [
    "Now let's create an `ndarray` such that the axes `0, 1, 2` (depth, height, width) are re-ordered to `1, 2, 0` (depth→width, height→depth, width→height):"
   ]
  },
  {
   "cell_type": "code",
   "metadata": {},
   "source": [
    "t1 = t.transpose((1,2,0))\n",
    "t1"
   ],
   "outputs": [],
   "execution_count": null
  },
  {
   "cell_type": "code",
   "metadata": {},
   "source": [
    "t1.shape"
   ],
   "outputs": [],
   "execution_count": null
  },
  {
   "cell_type": "markdown",
   "metadata": {},
   "source": [
    "By default, `transpose` reverses the order of the dimensions:"
   ]
  },
  {
   "cell_type": "code",
   "metadata": {},
   "source": [
    "t2 = t.transpose()  # equivalent to t.transpose((2, 1, 0))\n",
    "t2"
   ],
   "outputs": [],
   "execution_count": null
  },
  {
   "cell_type": "code",
   "metadata": {},
   "source": [
    "t2.shape"
   ],
   "outputs": [],
   "execution_count": null
  },
  {
   "cell_type": "markdown",
   "metadata": {},
   "source": [
    "NumPy provides a convenience function `swapaxes` to swap two axes. For example, let's create a new view of `t` with depth and height swapped:"
   ]
  },
  {
   "cell_type": "code",
   "metadata": {},
   "source": [
    "t3 = t.swapaxes(0,1)  # equivalent to t.transpose((1, 0, 2))\n",
    "t3"
   ],
   "outputs": [],
   "execution_count": null
  },
  {
   "cell_type": "code",
   "metadata": {},
   "source": [
    "t3.shape"
   ],
   "outputs": [],
   "execution_count": null
  },
  {
   "metadata": {},
   "cell_type": "markdown",
   "source": [
    "## Numpy array vs Python lists\n",
    "**Speed comparison** :"
   ]
  },
  {
   "metadata": {},
   "cell_type": "code",
   "source": "import numpy as np",
   "outputs": [],
   "execution_count": null
  },
  {
   "metadata": {},
   "cell_type": "code",
   "source": [
    "# python list\n",
    "a = [i for i in range(10000000)]\n",
    "b = [i for i in range(10000000,20000000)]\n",
    "\n",
    "c = []\n",
    "import time\n",
    "\n",
    "start = time.time()     # time.time() function returns the current time .\n",
    "for i in range(len(a)):\n",
    "  c.append(a[i] + b[i])\n",
    "print(time.time()-start)"
   ],
   "outputs": [],
   "execution_count": null
  },
  {
   "metadata": {},
   "cell_type": "code",
   "source": [
    "# numpy\n",
    "a = np.arange(10000000)\n",
    "b = np.arange(10000000,20000000)\n",
    "\n",
    "start = time.time()\n",
    "c = a + b\n",
    "print(time.time()-start)"
   ],
   "outputs": [],
   "execution_count": null
  },
  {
   "metadata": {},
   "cell_type": "code",
   "source": [
    "a = 2.3872995376586914/0.2439589500427246\n",
    "a"
   ],
   "outputs": [],
   "execution_count": null
  },
  {
   "metadata": {},
   "cell_type": "markdown",
   "source": "**`NumPy` is faster because it uses C-style static arrays with fixed sizes and contiguous memory allocation, which improves access speed. In contrast, Python lists are dynamic and store references to objects rather than the actual values, which adds overhead during access. Moreover, when a Python list nears its capacity, it resizes by allocating a new, larger block of memory—usually doubling its size—which involves copying all existing elements and takes additional time.**"
  },
  {
   "metadata": {},
   "cell_type": "markdown",
   "source": "**Memory Comparison**"
  },
  {
   "metadata": {},
   "cell_type": "code",
   "source": [
    "# python list\n",
    "a = [i for i in range(10000000)]\n",
    "import sys\n",
    "\n",
    "sys.getsizeof(a)    # getsizeof() function is used to find out the size occupied by any variable in memory , in bytes ."
   ],
   "outputs": [],
   "execution_count": null
  },
  {
   "metadata": {},
   "cell_type": "code",
   "source": [
    "# numpy array\n",
    "a = np.arange(10000000)\n",
    "sys.getsizeof(a)"
   ],
   "outputs": [],
   "execution_count": null
  },
  {
   "metadata": {},
   "cell_type": "markdown",
   "source": "- we can further reduce the size by specifying a lower dtype like int32 , int16 , int8 so choose depending upon the length of the numbers to be stored ."
  },
  {
   "metadata": {},
   "cell_type": "code",
   "source": [
    "a = np.arange(10000000,dtype=np.int16)\n",
    "sys.getsizeof(a)"
   ],
   "outputs": [],
   "execution_count": null
  },
  {
   "metadata": {},
   "cell_type": "markdown",
   "source": [
    "**Convenience**\n",
    "- As we can see in our examples that it is easier to code in numpy then the python lists ."
   ]
  },
  {
   "metadata": {},
   "cell_type": "markdown",
   "source": "### Working with mathematical formulas"
  },
  {
   "metadata": {},
   "cell_type": "markdown",
   "source": "- **sigmoid**"
  },
  {
   "metadata": {},
   "cell_type": "code",
   "source": [
    "def sigmoid(array):\n",
    "  return 1/(1 + np.exp(-(array)))\n",
    "\n",
    "\n",
    "a = np.arange(10)\n",
    "\n",
    "sigmoid(a)"
   ],
   "outputs": [],
   "execution_count": null
  },
  {
   "metadata": {},
   "cell_type": "markdown",
   "source": "- **Mean squared error**"
  },
  {
   "metadata": {},
   "cell_type": "code",
   "source": [
    "actual = np.random.randint(1,50,25)\n",
    "predicted = np.random.randint(1,50,25)"
   ],
   "outputs": [],
   "execution_count": null
  },
  {
   "metadata": {},
   "cell_type": "code",
   "source": [
    "def mse(actual,predicted):\n",
    "  return np.mean((actual - predicted)**2)\n",
    "\n",
    "mse(actual,predicted)"
   ],
   "outputs": [],
   "execution_count": null
  },
  {
   "metadata": {},
   "cell_type": "markdown",
   "source": "- **binary cross entropy**"
  },
  {
   "metadata": {},
   "cell_type": "markdown",
   "source": "### Working with missing values"
  },
  {
   "metadata": {},
   "cell_type": "code",
   "source": [
    "# Working with missing values -> np.nan\n",
    "a = np.array([1, 2, 3, 4, np.nan, 6])  # np.nan represents a missing value; unlike Python's None, NumPy uses NaN for numeric arrays\n",
    "a\n"
   ],
   "outputs": [],
   "execution_count": null
  },
  {
   "metadata": {},
   "cell_type": "code",
   "source": [
    "# Removing the missing values (nan) from the array .\n",
    "a[~np.isnan(a)]"
   ],
   "outputs": [],
   "execution_count": null
  },
  {
   "metadata": {},
   "cell_type": "markdown",
   "source": "## Plotting Graphs"
  },
  {
   "metadata": {},
   "cell_type": "code",
   "source": [
    "# plotting a 2D plot\n",
    "# x = y\n",
    "import matplotlib.pyplot as plt\n",
    "\n",
    "x = np.linspace(-10,10,100)\n",
    "y = x\n",
    "\n",
    "plt.plot(x,y)"
   ],
   "outputs": [],
   "execution_count": null
  },
  {
   "metadata": {},
   "cell_type": "code",
   "source": [
    "# y = x^2\n",
    "x = np.linspace(-10,10,100)\n",
    "y = x**2\n",
    "\n",
    "plt.plot(x,y)"
   ],
   "outputs": [],
   "execution_count": null
  },
  {
   "metadata": {},
   "cell_type": "code",
   "source": [
    "# y = sin(x)\n",
    "x = np.linspace(-10,10,100)\n",
    "y = np.sin(x)\n",
    "\n",
    "plt.plot(x,y)"
   ],
   "outputs": [],
   "execution_count": null
  },
  {
   "metadata": {},
   "cell_type": "code",
   "source": [
    "# y = xlog(x)\n",
    "x = np.linspace(0.1, 10, 100)   # start from 0.1 instead of -10 because log is not defined for negative numbers and at 0 log is infinite .\n",
    "y = x * np.log(x)\n",
    "\n",
    "plt.plot(x, y)"
   ],
   "outputs": [],
   "execution_count": null
  },
  {
   "metadata": {},
   "cell_type": "code",
   "source": [
    "# sigmoid\n",
    "x = np.linspace(-10,10,100)\n",
    "y = 1/(1+np.exp(-x))\n",
    "\n",
    "plt.plot(x,y)"
   ],
   "outputs": [],
   "execution_count": null
  },
  {
   "cell_type": "markdown",
   "metadata": {},
   "source": [
    "# Linear algebra\n",
    "NumPy 2D arrays can be used to represent matrices efficiently in python. We will just quickly go through some of the main matrix operations available. For more details about Linear Algebra, vectors and matrices, go through the [Linear Algebra tutorial](math_linear_algebra.ipynb).\n",
    "\n",
    "## Matrix transpose\n",
    "The `T` attribute is equivalent to calling `transpose()` when the rank is ≥2:"
   ]
  },
  {
   "cell_type": "code",
   "metadata": {},
   "source": [
    "m1 = np.arange(10).reshape(2,5)\n",
    "m1"
   ],
   "outputs": [],
   "execution_count": null
  },
  {
   "cell_type": "code",
   "metadata": {},
   "source": [
    "m1.T"
   ],
   "outputs": [],
   "execution_count": null
  },
  {
   "cell_type": "markdown",
   "metadata": {},
   "source": [
    "The `T` attribute has no effect on rank 0 (empty) or rank 1 arrays:"
   ]
  },
  {
   "cell_type": "code",
   "metadata": {
    "scrolled": true
   },
   "source": [
    "m2 = np.arange(5)\n",
    "m2"
   ],
   "outputs": [],
   "execution_count": null
  },
  {
   "cell_type": "code",
   "metadata": {
    "scrolled": true
   },
   "source": [
    "m2.T"
   ],
   "outputs": [],
   "execution_count": null
  },
  {
   "cell_type": "markdown",
   "metadata": {},
   "source": [
    "We can get the desired transposition by first reshaping the 1D array to a single-row matrix (2D):"
   ]
  },
  {
   "cell_type": "code",
   "metadata": {},
   "source": [
    "m2r = m2.reshape(1,5)\n",
    "m2r"
   ],
   "outputs": [],
   "execution_count": null
  },
  {
   "cell_type": "code",
   "metadata": {},
   "source": [
    "m2r.T"
   ],
   "outputs": [],
   "execution_count": null
  },
  {
   "cell_type": "markdown",
   "metadata": {},
   "source": [
    "## Matrix multiplication\n",
    "Let's create two matrices and execute a [matrix multiplication](https://en.wikipedia.org/wiki/Matrix_multiplication) using the `dot()` method."
   ]
  },
  {
   "cell_type": "code",
   "metadata": {},
   "source": [
    "n1 = np.arange(10).reshape(2, 5)\n",
    "n1"
   ],
   "outputs": [],
   "execution_count": null
  },
  {
   "cell_type": "code",
   "metadata": {},
   "source": [
    "n2 = np.arange(15).reshape(5,3)\n",
    "n2"
   ],
   "outputs": [],
   "execution_count": null
  },
  {
   "cell_type": "code",
   "metadata": {},
   "source": [
    "n1.dot(n2)"
   ],
   "outputs": [],
   "execution_count": null
  },
  {
   "cell_type": "markdown",
   "metadata": {},
   "source": [
    "**Caution**: as mentioned previously, `n1*n2` is *not* a matrix multiplication, it is an elementwise product (also called a [Hadamard product](https://en.wikipedia.org/wiki/Hadamard_product_(matrices)))."
   ]
  },
  {
   "cell_type": "markdown",
   "metadata": {},
   "source": [
    "## Matrix inverse and pseudo-inverse\n",
    "Many of the linear algebra functions are available in the `numpy.linalg` module, in particular the `inv` function to compute a square matrix's inverse:"
   ]
  },
  {
   "cell_type": "code",
   "metadata": {},
   "source": [
    "import numpy.linalg as linalg\n",
    "\n",
    "m3 = np.array([[1,2,3],[5,7,11],[21,29,31]])\n",
    "m3"
   ],
   "outputs": [],
   "execution_count": null
  },
  {
   "cell_type": "code",
   "metadata": {},
   "source": [
    "linalg.inv(m3)"
   ],
   "outputs": [],
   "execution_count": null
  },
  {
   "cell_type": "markdown",
   "metadata": {},
   "source": [
    "You can also compute the [pseudoinverse](https://en.wikipedia.org/wiki/Moore%E2%80%93Penrose_pseudoinverse) using `pinv`:"
   ]
  },
  {
   "cell_type": "code",
   "metadata": {},
   "source": [
    "linalg.pinv(m3)"
   ],
   "outputs": [],
   "execution_count": null
  },
  {
   "cell_type": "markdown",
   "metadata": {},
   "source": [
    "## Identity matrix\n",
    "The product of a matrix by its inverse returns the identity matrix (with small floating point errors):"
   ]
  },
  {
   "cell_type": "code",
   "metadata": {},
   "source": [
    "m3.dot(linalg.inv(m3))"
   ],
   "outputs": [],
   "execution_count": null
  },
  {
   "cell_type": "markdown",
   "metadata": {},
   "source": [
    "You can create an identity matrix of size NxN by calling `eye(N)` function:"
   ]
  },
  {
   "cell_type": "code",
   "metadata": {},
   "source": [
    "np.eye(3)"
   ],
   "outputs": [],
   "execution_count": null
  },
  {
   "cell_type": "markdown",
   "metadata": {},
   "source": [
    "## QR decomposition\n",
    "The `qr` function computes the [QR decomposition](https://en.wikipedia.org/wiki/QR_decomposition) of a matrix:"
   ]
  },
  {
   "cell_type": "code",
   "metadata": {},
   "source": [
    "q, r = linalg.qr(m3)\n",
    "q"
   ],
   "outputs": [],
   "execution_count": null
  },
  {
   "cell_type": "code",
   "metadata": {},
   "source": [
    "r"
   ],
   "outputs": [],
   "execution_count": null
  },
  {
   "cell_type": "code",
   "metadata": {},
   "source": [
    "q.dot(r)  # q.r equals m3"
   ],
   "outputs": [],
   "execution_count": null
  },
  {
   "cell_type": "markdown",
   "metadata": {},
   "source": [
    "## Determinant\n",
    "The `det` function computes the [matrix determinant](https://en.wikipedia.org/wiki/Determinant):"
   ]
  },
  {
   "cell_type": "code",
   "metadata": {},
   "source": [
    "linalg.det(m3)  # Computes the matrix determinant"
   ],
   "outputs": [],
   "execution_count": null
  },
  {
   "cell_type": "markdown",
   "metadata": {},
   "source": [
    "## Eigenvalues and eigenvectors\n",
    "The `eig` function computes the [eigenvalues and eigenvectors](https://en.wikipedia.org/wiki/Eigenvalues_and_eigenvectors) of a square matrix:"
   ]
  },
  {
   "cell_type": "code",
   "metadata": {},
   "source": [
    "eigenvalues, eigenvectors = linalg.eig(m3)\n",
    "eigenvalues # λ"
   ],
   "outputs": [],
   "execution_count": null
  },
  {
   "cell_type": "code",
   "metadata": {},
   "source": [
    "eigenvectors # v"
   ],
   "outputs": [],
   "execution_count": null
  },
  {
   "cell_type": "code",
   "metadata": {},
   "source": [
    "m3.dot(eigenvectors) - eigenvalues * eigenvectors  # m3.v - λ*v = 0"
   ],
   "outputs": [],
   "execution_count": null
  },
  {
   "cell_type": "markdown",
   "metadata": {},
   "source": [
    "## Singular Value Decomposition\n",
    "The `svd` function takes a matrix and returns its [singular value decomposition](https://en.wikipedia.org/wiki/Singular_value_decomposition):"
   ]
  },
  {
   "cell_type": "code",
   "metadata": {},
   "source": [
    "m4 = np.array([[1,0,0,0,2], [0,0,3,0,0], [0,0,0,0,0], [0,2,0,0,0]])\n",
    "m4"
   ],
   "outputs": [],
   "execution_count": null
  },
  {
   "cell_type": "code",
   "metadata": {},
   "source": [
    "U, S_diag, V = linalg.svd(m4)\n",
    "U"
   ],
   "outputs": [],
   "execution_count": null
  },
  {
   "cell_type": "code",
   "metadata": {},
   "source": [
    "S_diag"
   ],
   "outputs": [],
   "execution_count": null
  },
  {
   "cell_type": "markdown",
   "metadata": {},
   "source": [
    "The `svd` function just returns the values in the diagonal of Σ, but we want the full Σ matrix, so let's create it:"
   ]
  },
  {
   "cell_type": "code",
   "metadata": {},
   "source": [
    "S = np.zeros((4, 5))\n",
    "S[np.diag_indices(4)] = S_diag\n",
    "S  # Σ"
   ],
   "outputs": [],
   "execution_count": null
  },
  {
   "cell_type": "code",
   "metadata": {},
   "source": [
    "V"
   ],
   "outputs": [],
   "execution_count": null
  },
  {
   "cell_type": "code",
   "metadata": {},
   "source": [
    "U.dot(S).dot(V) # U.Σ.V == m4"
   ],
   "outputs": [],
   "execution_count": null
  },
  {
   "cell_type": "markdown",
   "metadata": {},
   "source": [
    "## Diagonal and trace"
   ]
  },
  {
   "cell_type": "code",
   "metadata": {},
   "source": [
    "np.diag(m3)  # the values in the diagonal of m3 (top left to bottom right)"
   ],
   "outputs": [],
   "execution_count": null
  },
  {
   "cell_type": "code",
   "metadata": {},
   "source": [
    "m3.trace()  # equivalent to np.diag(m3).sum()"
   ],
   "outputs": [],
   "execution_count": null
  },
  {
   "cell_type": "markdown",
   "metadata": {},
   "source": [
    "## Solving a system of linear scalar equations"
   ]
  },
  {
   "cell_type": "markdown",
   "metadata": {},
   "source": [
    "The `solve` function solves a system of linear scalar equations, such as:\n",
    "\n",
    "* $2x + 6y = 6$\n",
    "* $5x + 3y = -9$"
   ]
  },
  {
   "cell_type": "code",
   "metadata": {},
   "source": [
    "coeffs  = np.array([[2, 6], [5, 3]])\n",
    "depvars = np.array([6, -9])\n",
    "solution = linalg.solve(coeffs, depvars)\n",
    "solution"
   ],
   "outputs": [],
   "execution_count": null
  },
  {
   "cell_type": "markdown",
   "metadata": {},
   "source": [
    "Let's check the solution:"
   ]
  },
  {
   "cell_type": "code",
   "metadata": {},
   "source": [
    "coeffs.dot(solution), depvars  # yep, it's the same"
   ],
   "outputs": [],
   "execution_count": null
  },
  {
   "cell_type": "markdown",
   "metadata": {},
   "source": [
    "Looks good! Another way to check the solution:"
   ]
  },
  {
   "cell_type": "code",
   "metadata": {
    "scrolled": true
   },
   "source": [
    "np.allclose(coeffs.dot(solution), depvars)"
   ],
   "outputs": [],
   "execution_count": null
  },
  {
   "cell_type": "markdown",
   "metadata": {},
   "source": [
    "# Vectorization\n",
    "Instead of executing operations on individual array items, one at a time, your code is much more efficient if you try to stick to array operations. This is called *vectorization*. This way, you can benefit from NumPy's many optimizations.\n",
    "\n",
    "For example, let's say we want to generate a 768x1024 array based on the formula $sin(xy/40.5)$. A **bad** option would be to do the math in python using nested loops:"
   ]
  },
  {
   "cell_type": "code",
   "metadata": {},
   "source": [
    "import math\n",
    "\n",
    "data = np.empty((768, 1024))\n",
    "for y in range(768):\n",
    "    for x in range(1024):\n",
    "        data[y, x] = math.sin(x * y / 40.5)  # BAD! Very inefficient."
   ],
   "outputs": [],
   "execution_count": null
  },
  {
   "cell_type": "markdown",
   "metadata": {},
   "source": [
    "Sure, this works, but it's terribly inefficient since the loops are taking place in pure python. Let's vectorize this algorithm. First, we will use NumPy's `meshgrid` function which generates coordinate matrices from coordinate vectors."
   ]
  },
  {
   "cell_type": "code",
   "metadata": {},
   "source": [
    "x_coords = np.arange(0, 1024)  # [0, 1, 2, ..., 1023]\n",
    "y_coords = np.arange(0, 768)   # [0, 1, 2, ..., 767]\n",
    "X, Y = np.meshgrid(x_coords, y_coords)\n",
    "X"
   ],
   "outputs": [],
   "execution_count": null
  },
  {
   "cell_type": "code",
   "metadata": {},
   "source": [
    "Y"
   ],
   "outputs": [],
   "execution_count": null
  },
  {
   "cell_type": "markdown",
   "metadata": {},
   "source": [
    "As you can see, both `X` and `Y` are 768x1024 arrays, and all values in `X` correspond to the horizontal coordinate, while all values in `Y` correspond to the vertical coordinate.\n",
    "\n",
    "Now we can simply compute the result using array operations:"
   ]
  },
  {
   "cell_type": "code",
   "metadata": {},
   "source": [
    "data = np.sin(X * Y / 40.5)"
   ],
   "outputs": [],
   "execution_count": null
  },
  {
   "cell_type": "markdown",
   "metadata": {},
   "source": [
    "Now we can plot this data using matplotlib's `imshow` function (see the [matplotlib tutorial](tools_matplotlib.ipynb))."
   ]
  },
  {
   "cell_type": "code",
   "metadata": {},
   "source": [
    "import matplotlib.pyplot as plt\n",
    "\n",
    "fig = plt.figure(1, figsize=(7, 6))\n",
    "plt.imshow(data, cmap=\"hot\")\n",
    "plt.show()"
   ],
   "outputs": [],
   "execution_count": null
  },
  {
   "cell_type": "markdown",
   "metadata": {},
   "source": [
    "# Saving and loading\n",
    "NumPy makes it easy to save and load `ndarray`s in binary or text format.\n",
    "\n",
    "## Binary `.npy` format\n",
    "Let's create a random array and save it."
   ]
  },
  {
   "cell_type": "code",
   "metadata": {
    "scrolled": true
   },
   "source": [
    "a = np.random.rand(2,3)\n",
    "a"
   ],
   "outputs": [],
   "execution_count": null
  },
  {
   "cell_type": "code",
   "metadata": {},
   "source": [
    "np.save(\"my_array\", a)"
   ],
   "outputs": [],
   "execution_count": null
  },
  {
   "cell_type": "markdown",
   "metadata": {},
   "source": [
    "Done! Since the file name contains no file extension, NumPy automatically added `.npy`. Let's take a peek at the file content:"
   ]
  },
  {
   "cell_type": "code",
   "metadata": {},
   "source": [
    "with open(\"my_array.npy\", \"rb\") as f:\n",
    "    content = f.read()\n",
    "\n",
    "content"
   ],
   "outputs": [],
   "execution_count": null
  },
  {
   "cell_type": "markdown",
   "metadata": {},
   "source": [
    "To load this file into a NumPy array, simply call `load`:"
   ]
  },
  {
   "cell_type": "code",
   "metadata": {},
   "source": [
    "a_loaded = np.load(\"my_array.npy\")\n",
    "a_loaded"
   ],
   "outputs": [],
   "execution_count": null
  },
  {
   "cell_type": "markdown",
   "metadata": {},
   "source": [
    "## Text format\n",
    "Let's try saving the array in text format:"
   ]
  },
  {
   "cell_type": "code",
   "metadata": {},
   "source": [
    "np.savetxt(\"my_array.csv\", a)"
   ],
   "outputs": [],
   "execution_count": null
  },
  {
   "cell_type": "markdown",
   "metadata": {},
   "source": [
    "Now let's look at the file content:"
   ]
  },
  {
   "cell_type": "code",
   "metadata": {},
   "source": [
    "with open(\"my_array.csv\", \"rt\") as f:\n",
    "    print(f.read())"
   ],
   "outputs": [],
   "execution_count": null
  },
  {
   "cell_type": "markdown",
   "metadata": {},
   "source": [
    "This is a CSV file with tabs as delimiters. You can set a different delimiter:"
   ]
  },
  {
   "cell_type": "code",
   "metadata": {},
   "source": [
    "np.savetxt(\"my_array.csv\", a, delimiter=\",\")"
   ],
   "outputs": [],
   "execution_count": null
  },
  {
   "cell_type": "markdown",
   "metadata": {},
   "source": [
    "To load this file, just use `loadtxt`:"
   ]
  },
  {
   "cell_type": "code",
   "metadata": {},
   "source": [
    "a_loaded = np.loadtxt(\"my_array.csv\", delimiter=\",\")\n",
    "a_loaded"
   ],
   "outputs": [],
   "execution_count": null
  },
  {
   "cell_type": "markdown",
   "metadata": {},
   "source": [
    "## Zipped `.npz` format\n",
    "It is also possible to save multiple arrays in one zipped file:"
   ]
  },
  {
   "cell_type": "code",
   "metadata": {},
   "source": [
    "b = np.arange(24, dtype=np.uint8).reshape(2, 3, 4)\n",
    "b"
   ],
   "outputs": [],
   "execution_count": null
  },
  {
   "cell_type": "code",
   "metadata": {},
   "source": [
    "np.savez(\"my_arrays\", my_a=a, my_b=b)"
   ],
   "outputs": [],
   "execution_count": null
  },
  {
   "cell_type": "markdown",
   "metadata": {},
   "source": [
    "Again, let's take a peek at the file content. Note that the `.npz` file extension was automatically added."
   ]
  },
  {
   "cell_type": "code",
   "metadata": {},
   "source": [
    "with open(\"my_arrays.npz\", \"rb\") as f:\n",
    "    content = f.read()\n",
    "\n",
    "repr(content)[:180] + \"[...]\""
   ],
   "outputs": [],
   "execution_count": null
  },
  {
   "cell_type": "markdown",
   "metadata": {},
   "source": [
    "You then load this file like so:"
   ]
  },
  {
   "cell_type": "code",
   "metadata": {},
   "source": [
    "my_arrays = np.load(\"my_arrays.npz\")\n",
    "my_arrays"
   ],
   "outputs": [],
   "execution_count": null
  },
  {
   "cell_type": "markdown",
   "metadata": {},
   "source": [
    "This is a dict-like object which loads the arrays lazily:"
   ]
  },
  {
   "cell_type": "code",
   "metadata": {},
   "source": [
    "my_arrays.keys()"
   ],
   "outputs": [],
   "execution_count": null
  },
  {
   "cell_type": "code",
   "metadata": {},
   "source": [
    "my_arrays[\"my_a\"]"
   ],
   "outputs": [],
   "execution_count": null
  },
  {
   "cell_type": "markdown",
   "metadata": {},
   "source": [
    "# What's next?\n",
    "Now you know all the fundamentals of NumPy, but there are many more options available. The best way to learn more is to experiment with NumPy, and go through the excellent [reference documentation](https://numpy.org/doc/stable/reference/index.html) to find more functions and features you may be interested in."
   ]
  }
 ],
 "metadata": {
  "kernelspec": {
   "display_name": "Python 3.13 (py313)",
   "language": "python",
   "name": "py313"
  },
  "language_info": {
   "codemirror_mode": {
    "name": "ipython",
    "version": 3
   },
   "file_extension": ".py",
   "mimetype": "text/x-python",
   "name": "python",
   "nbconvert_exporter": "python",
   "pygments_lexer": "ipython3",
   "version": "3.13.7"
  },
  "toc": {
   "toc_cell": false,
   "toc_number_sections": true,
   "toc_section_display": "block",
   "toc_threshold": 6,
   "toc_window_display": false
  },
  "toc_position": {
   "height": "677px",
   "left": "1195.02px",
   "right": "20px",
   "top": "78px",
   "width": "238px"
  }
 },
 "nbformat": 4,
 "nbformat_minor": 4
}
