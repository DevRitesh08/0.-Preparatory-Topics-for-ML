{
 "nbformat": 4,
 "nbformat_minor": 0,
 "metadata": {
  "colab": {
   "provenance": []
  },
  "kernelspec": {
   "name": "python3",
   "display_name": "Python 3 (ipykernel)",
   "language": "python"
  },
  "language_info": {
   "name": "python"
  }
 },
 "cells": [
  {
   "cell_type": "code",
   "source": [
    "# code\n",
    "import numpy as np\n",
    "a = np.random.randint(1,100,15)\n",
    "a"
   ],
   "metadata": {
    "colab": {
     "base_uri": "https://localhost:8080/"
    },
    "id": "vJUzuaz7gqTr",
    "outputId": "d1039d20-cd2b-41be-ce98-ff9cbc111e50",
    "ExecuteTime": {
     "end_time": "2025-08-21T10:13:44.439566Z",
     "start_time": "2025-08-21T10:13:44.175347Z"
    }
   },
   "outputs": [
    {
     "data": {
      "text/plain": [
       "array([73, 26, 97, 80, 53,  6, 33, 66, 50, 21, 29, 14, 82, 86, 60],\n",
       "      dtype=int32)"
      ]
     },
     "execution_count": 2,
     "metadata": {},
     "output_type": "execute_result"
    }
   ],
   "execution_count": 2
  },
  {
   "cell_type": "code",
   "source": [
    "b = np.random.randint(1,100,28).reshape(7,4)\n",
    "b"
   ],
   "metadata": {
    "colab": {
     "base_uri": "https://localhost:8080/"
    },
    "id": "Dfer5zY9-HaK",
    "outputId": "1f5c0130-f8de-4b33-e5a8-63631b23fd7b",
    "ExecuteTime": {
     "end_time": "2025-08-21T10:13:45.013282Z",
     "start_time": "2025-08-21T10:13:45.006169Z"
    }
   },
   "outputs": [
    {
     "data": {
      "text/plain": [
       "array([[22, 47, 25, 46],\n",
       "       [69,  9, 90, 96],\n",
       "       [99, 41, 19, 38],\n",
       "       [ 1, 30, 73, 39],\n",
       "       [29, 83, 51, 80],\n",
       "       [99, 96, 56, 80],\n",
       "       [77, 58,  2, 40]], dtype=int32)"
      ]
     },
     "execution_count": 3,
     "metadata": {},
     "output_type": "execute_result"
    }
   ],
   "execution_count": 3
  },
  {
   "metadata": {
    "id": "39-UcmoPggtI"
   },
   "cell_type": "markdown",
   "source": [
    "### np.sort\n",
    "\n",
    "Return a sorted copy of an array.\n",
    "\n",
    "https://numpy.org/doc/stable/reference/generated/numpy.sort.html"
   ]
  },
  {
   "metadata": {
    "ExecuteTime": {
     "end_time": "2025-08-21T10:14:15.464840Z",
     "start_time": "2025-08-21T10:14:15.456526Z"
    }
   },
   "cell_type": "code",
   "source": "np.sort(a)",
   "outputs": [
    {
     "data": {
      "text/plain": [
       "array([ 6, 14, 21, 26, 29, 33, 50, 53, 60, 66, 73, 80, 82, 86, 97],\n",
       "      dtype=int32)"
      ]
     },
     "execution_count": 4,
     "metadata": {},
     "output_type": "execute_result"
    }
   ],
   "execution_count": 4
  },
  {
   "cell_type": "code",
   "source": [
    "np.sort(a)[::-1]"
   ],
   "metadata": {
    "colab": {
     "base_uri": "https://localhost:8080/"
    },
    "id": "dyjeU-C6KznM",
    "outputId": "da3b404c-b198-4e62-b744-69f63cdea54a",
    "ExecuteTime": {
     "end_time": "2025-08-21T10:14:30.949603Z",
     "start_time": "2025-08-21T10:14:30.942836Z"
    }
   },
   "outputs": [
    {
     "data": {
      "text/plain": [
       "array([97, 86, 82, 80, 73, 66, 60, 53, 50, 33, 29, 26, 21, 14,  6],\n",
       "      dtype=int32)"
      ]
     },
     "execution_count": 5,
     "metadata": {},
     "output_type": "execute_result"
    }
   ],
   "execution_count": 5
  },
  {
   "metadata": {
    "ExecuteTime": {
     "end_time": "2025-08-21T10:15:26.449812Z",
     "start_time": "2025-08-21T10:15:26.441563Z"
    }
   },
   "cell_type": "code",
   "source": "np.sort(b)  # row wise sorting .",
   "outputs": [
    {
     "data": {
      "text/plain": [
       "array([[22, 25, 46, 47],\n",
       "       [ 9, 69, 90, 96],\n",
       "       [19, 38, 41, 99],\n",
       "       [ 1, 30, 39, 73],\n",
       "       [29, 51, 80, 83],\n",
       "       [56, 80, 96, 99],\n",
       "       [ 2, 40, 58, 77]], dtype=int32)"
      ]
     },
     "execution_count": 6,
     "metadata": {},
     "output_type": "execute_result"
    }
   ],
   "execution_count": 6
  },
  {
   "cell_type": "code",
   "source": "np.sort(b,axis=0)   # column wise sorting .",
   "metadata": {
    "colab": {
     "base_uri": "https://localhost:8080/"
    },
    "id": "9fAdd5BWLHsq",
    "outputId": "a37305ea-18d5-4659-9a7a-a252ccc825c3",
    "ExecuteTime": {
     "end_time": "2025-08-21T10:16:06.152154Z",
     "start_time": "2025-08-21T10:16:06.146432Z"
    }
   },
   "outputs": [
    {
     "data": {
      "text/plain": [
       "array([[ 1,  9,  2, 38],\n",
       "       [22, 30, 19, 39],\n",
       "       [29, 41, 25, 40],\n",
       "       [69, 47, 51, 46],\n",
       "       [77, 58, 56, 80],\n",
       "       [99, 83, 73, 80],\n",
       "       [99, 96, 90, 96]], dtype=int32)"
      ]
     },
     "execution_count": 8,
     "metadata": {},
     "output_type": "execute_result"
    }
   ],
   "execution_count": 8
  },
  {
   "cell_type": "markdown",
   "source": [
    "### np.append\n",
    "\n",
    "The numpy.append() appends values along the mentioned axis at the end of the array\n",
    "\n",
    "https://numpy.org/doc/stable/reference/generated/numpy.append.html"
   ],
   "metadata": {
    "id": "W8tttorjgrVf"
   }
  },
  {
   "cell_type": "code",
   "source": [
    "# code\n",
    "np.append(a,200)"
   ],
   "metadata": {
    "id": "Y3fHkR1gfd1X",
    "colab": {
     "base_uri": "https://localhost:8080/"
    },
    "outputId": "621892ba-8b7e-4150-b56d-623aac9574cd"
   },
   "execution_count": null,
   "outputs": [
    {
     "output_type": "execute_result",
     "data": {
      "text/plain": [
       "array([ 11,  53,  28,  50,  38,  37,  94,  92,   5,  30,  68,   9,  78,\n",
       "         2,  21, 200])"
      ]
     },
     "metadata": {},
     "execution_count": 122
    }
   ]
  },
  {
   "cell_type": "code",
   "source": [
    "b"
   ],
   "metadata": {
    "colab": {
     "base_uri": "https://localhost:8080/"
    },
    "id": "vmPc3zS3L2LL",
    "outputId": "7e90ac52-ae30-4325-b3b7-d526a9cdb4d3"
   },
   "execution_count": null,
   "outputs": [
    {
     "output_type": "execute_result",
     "data": {
      "text/plain": [
       "array([[12, 52, 42,  6],\n",
       "       [29, 18, 47, 55],\n",
       "       [61, 93, 83,  9],\n",
       "       [38, 63, 44, 85],\n",
       "       [ 8, 87, 31, 72],\n",
       "       [40, 71,  2,  7]])"
      ]
     },
     "metadata": {},
     "execution_count": 123
    }
   ]
  },
  {
   "cell_type": "code",
   "source": [
    "np.append(b,np.random.random((b.shape[0],1)),axis=1)"
   ],
   "metadata": {
    "colab": {
     "base_uri": "https://localhost:8080/"
    },
    "id": "LsIvCKQ5L-DB",
    "outputId": "79a6a4f6-b7e1-44ae-8add-d94305396e0f"
   },
   "execution_count": null,
   "outputs": [
    {
     "output_type": "execute_result",
     "data": {
      "text/plain": [
       "array([[12.        , 52.        , 42.        ,  6.        ,  0.22006275],\n",
       "       [29.        , 18.        , 47.        , 55.        ,  0.81740634],\n",
       "       [61.        , 93.        , 83.        ,  9.        ,  0.89146072],\n",
       "       [38.        , 63.        , 44.        , 85.        ,  0.84519124],\n",
       "       [ 8.        , 87.        , 31.        , 72.        ,  0.24007274],\n",
       "       [40.        , 71.        ,  2.        ,  7.        ,  0.48056374]])"
      ]
     },
     "metadata": {},
     "execution_count": 126
    }
   ]
  },
  {
   "cell_type": "markdown",
   "source": [
    "### np.concatenate\n",
    "\n",
    "numpy.concatenate() function concatenate a sequence of arrays along an existing axis.\n",
    "\n",
    "https://numpy.org/doc/stable/reference/generated/numpy.concatenate.html"
   ],
   "metadata": {
    "id": "meIMn8T9g5-m"
   }
  },
  {
   "cell_type": "code",
   "source": [
    "# code\n",
    "c = np.arange(6).reshape(2,3)\n",
    "d = np.arange(6,12).reshape(2,3)\n",
    "\n",
    "print(c)\n",
    "print(d)"
   ],
   "metadata": {
    "colab": {
     "base_uri": "https://localhost:8080/"
    },
    "id": "Nrj1_QXfWZlV",
    "outputId": "5c60e20d-f4a2-40b8-e7ce-f0a5019225c8"
   },
   "execution_count": null,
   "outputs": [
    {
     "output_type": "stream",
     "name": "stdout",
     "text": [
      "[[0 1 2]\n",
      " [3 4 5]]\n",
      "[[ 6  7  8]\n",
      " [ 9 10 11]]\n"
     ]
    }
   ]
  },
  {
   "cell_type": "code",
   "source": [
    "np.concatenate((c,d),axis=0)"
   ],
   "metadata": {
    "id": "fDHBrV7VA4yz",
    "colab": {
     "base_uri": "https://localhost:8080/"
    },
    "outputId": "832c4406-2b60-4e17-faa0-5008e109eb95"
   },
   "execution_count": null,
   "outputs": [
    {
     "output_type": "execute_result",
     "data": {
      "text/plain": [
       "array([[ 0,  1,  2],\n",
       "       [ 3,  4,  5],\n",
       "       [ 6,  7,  8],\n",
       "       [ 9, 10, 11]])"
      ]
     },
     "metadata": {},
     "execution_count": 128
    }
   ]
  },
  {
   "cell_type": "code",
   "source": [
    "np.concatenate((c,d),axis=1)"
   ],
   "metadata": {
    "colab": {
     "base_uri": "https://localhost:8080/"
    },
    "id": "GN9DnJ65Mr_b",
    "outputId": "6710e353-cd19-4376-8bd8-a38b7dbadc5a"
   },
   "execution_count": null,
   "outputs": [
    {
     "output_type": "execute_result",
     "data": {
      "text/plain": [
       "array([[ 0,  1,  2,  6,  7,  8],\n",
       "       [ 3,  4,  5,  9, 10, 11]])"
      ]
     },
     "metadata": {},
     "execution_count": 129
    }
   ]
  },
  {
   "cell_type": "markdown",
   "source": [
    "### np.unique\n",
    "\n",
    "With the help of np.unique() method, we can get the unique values from an array given as parameter in np.unique() method.\n",
    "\n",
    "https://numpy.org/doc/stable/reference/generated/numpy.unique.html/"
   ],
   "metadata": {
    "id": "oHGFqHcohFtB"
   }
  },
  {
   "cell_type": "code",
   "source": "e = np.array([1,1,2,2,3,3,4,4,5,5,6,6])",
   "metadata": {
    "id": "NvG0KHpNWdN_"
   },
   "execution_count": null,
   "outputs": []
  },
  {
   "cell_type": "code",
   "source": [
    "np.unique(e)"
   ],
   "metadata": {
    "id": "XWr932XeCFz1",
    "colab": {
     "base_uri": "https://localhost:8080/"
    },
    "outputId": "022a4f28-38ae-4041-caea-d1f8f394b58c"
   },
   "execution_count": null,
   "outputs": [
    {
     "output_type": "execute_result",
     "data": {
      "text/plain": [
       "array([1, 2, 3, 4, 5, 6])"
      ]
     },
     "metadata": {},
     "execution_count": 131
    }
   ]
  },
  {
   "cell_type": "markdown",
   "source": [
    "### np.expand_dims\n",
    "\n",
    "- With the help of Numpy.expand_dims() method, we can get the expanded dimensions of an array .\n",
    "- Useful for creating row and column vectors from 1D arrays .\n",
    "\n",
    "https://numpy.org/doc/stable/reference/generated/numpy.expand_dims.html"
   ],
   "metadata": {
    "id": "Wki2yOXaEZV3"
   }
  },
  {
   "cell_type": "code",
   "source": "a.shape",
   "metadata": {
    "id": "Pyvf-oZ0XTvr",
    "colab": {
     "base_uri": "https://localhost:8080/"
    },
    "outputId": "3d75c6c4-8019-4d36-d29a-ebf0a213f3ef"
   },
   "execution_count": null,
   "outputs": [
    {
     "output_type": "execute_result",
     "data": {
      "text/plain": [
       "(15,)"
      ]
     },
     "metadata": {},
     "execution_count": 134
    }
   ]
  },
  {
   "metadata": {
    "ExecuteTime": {
     "end_time": "2025-08-21T10:26:19.028818Z",
     "start_time": "2025-08-21T10:26:19.023371Z"
    }
   },
   "cell_type": "code",
   "source": "np.expand_dims(a,axis=0)",
   "outputs": [
    {
     "data": {
      "text/plain": [
       "array([[73, 26, 97, 80, 53,  6, 33, 66, 50, 21, 29, 14, 82, 86, 60]],\n",
       "      dtype=int32)"
      ]
     },
     "execution_count": 9,
     "metadata": {},
     "output_type": "execute_result"
    }
   ],
   "execution_count": 9
  },
  {
   "cell_type": "code",
   "source": "np.expand_dims(a,axis=0).shape  # row vector",
   "metadata": {
    "colab": {
     "base_uri": "https://localhost:8080/"
    },
    "id": "B-Pk9HNzNdrb",
    "outputId": "b7cd6597-410a-4016-ba3b-f5103d608db8"
   },
   "execution_count": null,
   "outputs": [
    {
     "output_type": "execute_result",
     "data": {
      "text/plain": [
       "(1, 15)"
      ]
     },
     "metadata": {},
     "execution_count": 135
    }
   ]
  },
  {
   "cell_type": "code",
   "source": [
    "np.expand_dims(a,axis=1)"
   ],
   "metadata": {
    "colab": {
     "base_uri": "https://localhost:8080/"
    },
    "id": "5d0Ahp8QNsKO",
    "outputId": "14587e87-7f0f-4b9c-8df8-dd5500f21878",
    "ExecuteTime": {
     "end_time": "2025-08-21T10:26:21.968484Z",
     "start_time": "2025-08-21T10:26:21.963252Z"
    }
   },
   "outputs": [
    {
     "data": {
      "text/plain": [
       "array([[73],\n",
       "       [26],\n",
       "       [97],\n",
       "       [80],\n",
       "       [53],\n",
       "       [ 6],\n",
       "       [33],\n",
       "       [66],\n",
       "       [50],\n",
       "       [21],\n",
       "       [29],\n",
       "       [14],\n",
       "       [82],\n",
       "       [86],\n",
       "       [60]], dtype=int32)"
      ]
     },
     "execution_count": 10,
     "metadata": {},
     "output_type": "execute_result"
    }
   ],
   "execution_count": 10
  },
  {
   "metadata": {
    "ExecuteTime": {
     "end_time": "2025-08-21T10:26:39.867591Z",
     "start_time": "2025-08-21T10:26:39.860719Z"
    }
   },
   "cell_type": "code",
   "source": "np.expand_dims(a,axis=1).shape  # column vector",
   "outputs": [
    {
     "data": {
      "text/plain": [
       "(15, 1)"
      ]
     },
     "execution_count": 11,
     "metadata": {},
     "output_type": "execute_result"
    }
   ],
   "execution_count": 11
  },
  {
   "cell_type": "markdown",
   "source": [
    "### np.where\n",
    "\n",
    "The numpy.where() function returns the indices of elements in an input array where the given condition is satisfied.\n",
    "\n",
    "https://numpy.org/doc/stable/reference/generated/numpy.where.html"
   ],
   "metadata": {
    "id": "_HmpYNTFERjS"
   }
  },
  {
   "cell_type": "code",
   "source": [
    "a"
   ],
   "metadata": {
    "id": "H8k_ZDXjEo5W",
    "colab": {
     "base_uri": "https://localhost:8080/"
    },
    "outputId": "688a96ee-b66c-48b7-8778-b502d489c82b",
    "ExecuteTime": {
     "end_time": "2025-08-21T10:32:51.143581Z",
     "start_time": "2025-08-21T10:32:51.137680Z"
    }
   },
   "outputs": [
    {
     "data": {
      "text/plain": [
       "array([73, 26, 97, 80, 53,  6, 33, 66, 50, 21, 29, 14, 82, 86, 60],\n",
       "      dtype=int32)"
      ]
     },
     "execution_count": 12,
     "metadata": {},
     "output_type": "execute_result"
    }
   ],
   "execution_count": 12
  },
  {
   "cell_type": "code",
   "source": [
    "# find all indices with value greater than 50\n",
    "np.where(a>50)"
   ],
   "metadata": {
    "colab": {
     "base_uri": "https://localhost:8080/"
    },
    "id": "n9mkvdFdHGLY",
    "outputId": "f39b8dd3-bbe4-4dc6-941d-03add9d30b08",
    "ExecuteTime": {
     "end_time": "2025-08-21T10:32:51.785317Z",
     "start_time": "2025-08-21T10:32:51.780308Z"
    }
   },
   "outputs": [
    {
     "data": {
      "text/plain": [
       "(array([ 0,  2,  3,  4,  7, 12, 13, 14]),)"
      ]
     },
     "execution_count": 13,
     "metadata": {},
     "output_type": "execute_result"
    }
   ],
   "execution_count": 13
  },
  {
   "cell_type": "code",
   "source": [
    "# replace all values > 50 with 0\n",
    "# syntax: np.where(condition, value_if_true, value_if_false)\n",
    "np.where(a>50,0,a)"
   ],
   "metadata": {
    "id": "zJAUufBOHcu1",
    "colab": {
     "base_uri": "https://localhost:8080/"
    },
    "outputId": "dcd75885-d287-41f3-f5cd-5025518d0024",
    "ExecuteTime": {
     "end_time": "2025-08-21T10:32:52.438690Z",
     "start_time": "2025-08-21T10:32:52.433020Z"
    }
   },
   "outputs": [
    {
     "data": {
      "text/plain": [
       "array([ 0, 26,  0,  0,  0,  6, 33,  0, 50, 21, 29, 14,  0,  0,  0],\n",
       "      dtype=int32)"
      ]
     },
     "execution_count": 14,
     "metadata": {},
     "output_type": "execute_result"
    }
   ],
   "execution_count": 14
  },
  {
   "cell_type": "code",
   "source": [
    "# replace even numbers with 0 .\n",
    "np.where(a%2 == 0,0,a)"
   ],
   "metadata": {
    "colab": {
     "base_uri": "https://localhost:8080/"
    },
    "id": "Ygx7fC0BPP9e",
    "outputId": "45b4df8d-de53-4f5d-8917-969ba8895b88",
    "ExecuteTime": {
     "end_time": "2025-08-21T10:33:23.025184Z",
     "start_time": "2025-08-21T10:33:23.017832Z"
    }
   },
   "outputs": [
    {
     "data": {
      "text/plain": [
       "array([73,  0, 97,  0, 53,  0, 33,  0,  0, 21, 29,  0,  0,  0,  0],\n",
       "      dtype=int32)"
      ]
     },
     "execution_count": 15,
     "metadata": {},
     "output_type": "execute_result"
    }
   ],
   "execution_count": 15
  },
  {
   "cell_type": "markdown",
   "source": [
    "### np.argmax\n",
    "\n",
    "The numpy.argmax() function returns indices of the max element of the array in a particular axis.\n",
    "\n",
    "https://numpy.org/doc/stable/reference/generated/numpy.argmax.html"
   ],
   "metadata": {
    "id": "jsGIGNtCIS5-"
   }
  },
  {
   "cell_type": "code",
   "source": [
    "# code\n",
    "a"
   ],
   "metadata": {
    "colab": {
     "base_uri": "https://localhost:8080/"
    },
    "id": "8YlXmMuaIRpj",
    "outputId": "448f7ecd-0282-41c4-d319-690f6219562b"
   },
   "execution_count": null,
   "outputs": [
    {
     "output_type": "execute_result",
     "data": {
      "text/plain": [
       "array([11, 53, 28, 50, 38, 37, 94, 92,  5, 30, 68,  9, 78,  2, 21])"
      ]
     },
     "metadata": {},
     "execution_count": 142
    }
   ]
  },
  {
   "cell_type": "code",
   "source": [
    "np.argmax(a)"
   ],
   "metadata": {
    "colab": {
     "base_uri": "https://localhost:8080/"
    },
    "id": "gdrU6cQ9Pn_A",
    "outputId": "f1f091e9-aabb-4ce5-e0e7-3b2fe3062426"
   },
   "execution_count": null,
   "outputs": [
    {
     "output_type": "execute_result",
     "data": {
      "text/plain": [
       "6"
      ]
     },
     "metadata": {},
     "execution_count": 143
    }
   ]
  },
  {
   "cell_type": "code",
   "source": [
    "b"
   ],
   "metadata": {
    "colab": {
     "base_uri": "https://localhost:8080/"
    },
    "id": "CohggNGrP5am",
    "outputId": "596701c9-6de8-4c0c-c749-b43b4f34babe"
   },
   "execution_count": null,
   "outputs": [
    {
     "output_type": "execute_result",
     "data": {
      "text/plain": [
       "array([[12, 52, 42,  6],\n",
       "       [29, 18, 47, 55],\n",
       "       [61, 93, 83,  9],\n",
       "       [38, 63, 44, 85],\n",
       "       [ 8, 87, 31, 72],\n",
       "       [40, 71,  2,  7]])"
      ]
     },
     "metadata": {},
     "execution_count": 145
    }
   ]
  },
  {
   "cell_type": "code",
   "source": "np.argmax(b,axis=0)     # column wise max",
   "metadata": {
    "colab": {
     "base_uri": "https://localhost:8080/"
    },
    "id": "435CD24aIpNA",
    "outputId": "d084240d-6966-4a42-9d98-2d285e69dc3a"
   },
   "execution_count": null,
   "outputs": [
    {
     "output_type": "execute_result",
     "data": {
      "text/plain": [
       "array([2, 2, 2, 3])"
      ]
     },
     "metadata": {},
     "execution_count": 144
    }
   ]
  },
  {
   "cell_type": "code",
   "source": "np.argmax(b,axis=1)     # row wise max",
   "metadata": {
    "colab": {
     "base_uri": "https://localhost:8080/"
    },
    "id": "PBuZH3mbQE1U",
    "outputId": "1f76fb63-e7d8-4593-de4c-1282c2ca8c9c"
   },
   "execution_count": null,
   "outputs": [
    {
     "output_type": "execute_result",
     "data": {
      "text/plain": [
       "array([1, 3, 1, 3, 1, 1])"
      ]
     },
     "metadata": {},
     "execution_count": 146
    }
   ]
  },
  {
   "cell_type": "code",
   "source": [
    "# np.argmin\n",
    "np.argmin(a)"
   ],
   "metadata": {
    "id": "T9TrLGNBWjV1",
    "colab": {
     "base_uri": "https://localhost:8080/"
    },
    "outputId": "fa3cbdae-82e3-4c10-fa10-4dfb654b3263",
    "ExecuteTime": {
     "end_time": "2025-08-21T10:36:31.116725Z",
     "start_time": "2025-08-21T10:36:31.110613Z"
    }
   },
   "outputs": [
    {
     "data": {
      "text/plain": [
       "np.int64(5)"
      ]
     },
     "execution_count": 16,
     "metadata": {},
     "output_type": "execute_result"
    }
   ],
   "execution_count": 16
  },
  {
   "cell_type": "markdown",
   "source": [
    "### np.cumsum\n",
    "\n",
    "numpy.cumsum() function is used when we want to compute the cumulative sum of array elements over a given axis.\n",
    "\n",
    "https://numpy.org/doc/stable/reference/generated/numpy.cumsum.html"
   ],
   "metadata": {
    "id": "1OdKi27pa091"
   }
  },
  {
   "cell_type": "code",
   "source": [
    "a"
   ],
   "metadata": {
    "id": "VZmQUWH9bDk_",
    "colab": {
     "base_uri": "https://localhost:8080/"
    },
    "outputId": "5555c8b5-2b7a-494b-c118-ad97bc253e3c"
   },
   "execution_count": null,
   "outputs": [
    {
     "output_type": "execute_result",
     "data": {
      "text/plain": [
       "array([11, 53, 28, 50, 38, 37, 94, 92,  5, 30, 68,  9, 78,  2, 21])"
      ]
     },
     "metadata": {},
     "execution_count": 149
    }
   ]
  },
  {
   "cell_type": "code",
   "source": "np.cumsum(a)    # In cumulative sum, the sum of the elements is calculated in such a way that each element of the output array is the sum of all previous elements and the current element.",
   "metadata": {
    "colab": {
     "base_uri": "https://localhost:8080/"
    },
    "id": "O0npD0R_RF-A",
    "outputId": "6bdbba06-e6f5-4ff0-8a7c-12c6ccd82f8b"
   },
   "execution_count": null,
   "outputs": [
    {
     "output_type": "execute_result",
     "data": {
      "text/plain": [
       "array([ 11,  64,  92, 142, 180, 217, 311, 403, 408, 438, 506, 515, 593,\n",
       "       595, 616])"
      ]
     },
     "metadata": {},
     "execution_count": 150
    }
   ]
  },
  {
   "cell_type": "code",
   "source": [
    "b"
   ],
   "metadata": {
    "colab": {
     "base_uri": "https://localhost:8080/"
    },
    "id": "Ypr5nUGxRJuO",
    "outputId": "c5daf9f8-4115-442b-d7e5-3c2c7fbe6ff9"
   },
   "execution_count": null,
   "outputs": [
    {
     "output_type": "execute_result",
     "data": {
      "text/plain": [
       "array([[12, 52, 42,  6],\n",
       "       [29, 18, 47, 55],\n",
       "       [61, 93, 83,  9],\n",
       "       [38, 63, 44, 85],\n",
       "       [ 8, 87, 31, 72],\n",
       "       [40, 71,  2,  7]])"
      ]
     },
     "metadata": {},
     "execution_count": 151
    }
   ]
  },
  {
   "cell_type": "code",
   "source": [
    "np.cumsum(b,axis=1)"
   ],
   "metadata": {
    "colab": {
     "base_uri": "https://localhost:8080/"
    },
    "id": "WXRZyWT9RTMw",
    "outputId": "325ecfe7-d7e7-4c0c-8f12-1f4fb464ccaa"
   },
   "execution_count": null,
   "outputs": [
    {
     "output_type": "execute_result",
     "data": {
      "text/plain": [
       "array([[ 12,  64, 106, 112],\n",
       "       [ 29,  47,  94, 149],\n",
       "       [ 61, 154, 237, 246],\n",
       "       [ 38, 101, 145, 230],\n",
       "       [  8,  95, 126, 198],\n",
       "       [ 40, 111, 113, 120]])"
      ]
     },
     "metadata": {},
     "execution_count": 154
    }
   ]
  },
  {
   "cell_type": "code",
   "source": "np.cumsum(b)",
   "metadata": {
    "colab": {
     "base_uri": "https://localhost:8080/"
    },
    "id": "5WGkAjfjRNOe",
    "outputId": "9fe4827c-86b1-4c15-d26f-8a2232e6cffd"
   },
   "execution_count": null,
   "outputs": [
    {
     "output_type": "execute_result",
     "data": {
      "text/plain": [
       "array([  12,   64,  106,  112,  141,  159,  206,  261,  322,  415,  498,\n",
       "        507,  545,  608,  652,  737,  745,  832,  863,  935,  975, 1046,\n",
       "       1048, 1055])"
      ]
     },
     "metadata": {},
     "execution_count": 152
    }
   ]
  },
  {
   "metadata": {
    "ExecuteTime": {
     "end_time": "2025-08-21T10:44:12.661742Z",
     "start_time": "2025-08-21T10:44:12.656676Z"
    }
   },
   "cell_type": "code",
   "outputs": [
    {
     "data": {
      "text/plain": [
       "dtype('int32')"
      ]
     },
     "execution_count": 19,
     "metadata": {},
     "output_type": "execute_result"
    }
   ],
   "execution_count": 19,
   "source": "b.dtype"
  },
  {
   "cell_type": "code",
   "source": [
    "# np.cumprod\n",
    "np.cumprod(a , dtype=np.int64)  # In cumulative product, the product of the elements is calculated in such a way that each element of the output array is the product of all previous elements and the current element."
   ],
   "metadata": {
    "id": "RtGuPGr9WlVV",
    "colab": {
     "base_uri": "https://localhost:8080/"
    },
    "outputId": "6adf6a7d-815f-4b94-d5fc-f85366c5d227",
    "ExecuteTime": {
     "end_time": "2025-08-21T10:45:08.581809Z",
     "start_time": "2025-08-21T10:45:08.577015Z"
    }
   },
   "outputs": [
    {
     "data": {
      "text/plain": [
       "array([                  73,                 1898,               184106,\n",
       "                   14728480,            780609440,           4683656640,\n",
       "               154560669120,       10201004161920,      510050208096000,\n",
       "          10711054370016000,   310620576730464000,  4348688074226496000,\n",
       "        6104284686091191296,  8459648939975006208, -8929897665367072768])"
      ]
     },
     "execution_count": 21,
     "metadata": {},
     "output_type": "execute_result"
    }
   ],
   "execution_count": 21
  },
  {
   "cell_type": "code",
   "source": [
    "a"
   ],
   "metadata": {
    "colab": {
     "base_uri": "https://localhost:8080/"
    },
    "id": "8kdxzQXiRMOS",
    "outputId": "c052981c-77a4-48f2-f3a3-fdf8a2c214a2"
   },
   "execution_count": null,
   "outputs": [
    {
     "output_type": "execute_result",
     "data": {
      "text/plain": [
       "array([11, 53, 28, 50, 38, 37, 94, 92,  5, 30, 68,  9, 78,  2, 21])"
      ]
     },
     "metadata": {},
     "execution_count": 155
    }
   ]
  },
  {
   "cell_type": "markdown",
   "source": [
    "### np.percentile\n",
    "\n",
    "numpy.percentile()function used to compute the nth percentile of the given data (array elements) along the specified axis.\n",
    "\n",
    "https://numpy.org/doc/stable/reference/generated/numpy.percentile.html"
   ],
   "metadata": {
    "id": "SIuRwLMjcnOl"
   }
  },
  {
   "metadata": {},
   "cell_type": "markdown",
   "source": ""
  },
  {
   "cell_type": "code",
   "source": [
    "a"
   ],
   "metadata": {
    "colab": {
     "base_uri": "https://localhost:8080/"
    },
    "id": "_o8iH4Evcl8C",
    "outputId": "cefa31c8-c4b3-4fb0-aa47-c786c65fcd8a",
    "ExecuteTime": {
     "end_time": "2025-08-21T10:48:36.191845Z",
     "start_time": "2025-08-21T10:48:36.185389Z"
    }
   },
   "outputs": [
    {
     "data": {
      "text/plain": [
       "array([73, 26, 97, 80, 53,  6, 33, 66, 50, 21, 29, 14, 82, 86, 60],\n",
       "      dtype=int32)"
      ]
     },
     "execution_count": 26,
     "metadata": {},
     "output_type": "execute_result"
    }
   ],
   "execution_count": 26
  },
  {
   "metadata": {
    "ExecuteTime": {
     "end_time": "2025-08-21T10:48:48.644301Z",
     "start_time": "2025-08-21T10:48:48.638547Z"
    }
   },
   "cell_type": "code",
   "source": "np.percentile(a,100)    # 100th percentile is the maximum value in the array , it means 100% of the data is below this value.",
   "outputs": [
    {
     "data": {
      "text/plain": [
       "np.float64(97.0)"
      ]
     },
     "execution_count": 27,
     "metadata": {},
     "output_type": "execute_result"
    }
   ],
   "execution_count": 27
  },
  {
   "metadata": {
    "ExecuteTime": {
     "end_time": "2025-08-21T10:48:51.475521Z",
     "start_time": "2025-08-21T10:48:51.469609Z"
    }
   },
   "cell_type": "code",
   "source": "np.percentile(a,99)",
   "outputs": [
    {
     "data": {
      "text/plain": [
       "np.float64(95.46)"
      ]
     },
     "execution_count": 28,
     "metadata": {},
     "output_type": "execute_result"
    }
   ],
   "execution_count": 28
  },
  {
   "metadata": {
    "ExecuteTime": {
     "end_time": "2025-08-21T10:49:31.063768Z",
     "start_time": "2025-08-21T10:49:31.057225Z"
    }
   },
   "cell_type": "code",
   "source": "np.percentile(a,0)      # 0th percentile is the minimum value in the array , it means 0% of the data is below this value.",
   "outputs": [
    {
     "data": {
      "text/plain": [
       "np.float64(6.0)"
      ]
     },
     "execution_count": 31,
     "metadata": {},
     "output_type": "execute_result"
    }
   ],
   "execution_count": 31
  },
  {
   "metadata": {
    "colab": {
     "base_uri": "https://localhost:8080/"
    },
    "id": "gBH8ZvtrSND9",
    "outputId": "baee8f9f-e1bd-40dd-ffd6-c50b5660c975",
    "ExecuteTime": {
     "end_time": "2025-08-21T10:48:53.204630Z",
     "start_time": "2025-08-21T10:48:53.199310Z"
    }
   },
   "cell_type": "code",
   "outputs": [
    {
     "data": {
      "text/plain": [
       "np.float64(53.0)"
      ]
     },
     "execution_count": 29,
     "metadata": {},
     "output_type": "execute_result"
    }
   ],
   "execution_count": 29,
   "source": "np.percentile(a,50)     # 50th percentile is the median value in the array."
  },
  {
   "cell_type": "code",
   "source": [
    "np.median(a)"
   ],
   "metadata": {
    "colab": {
     "base_uri": "https://localhost:8080/"
    },
    "id": "KLIhMJSTScTy",
    "outputId": "62d539c9-0d48-4791-d269-752469424313",
    "ExecuteTime": {
     "end_time": "2025-08-21T10:48:54.951303Z",
     "start_time": "2025-08-21T10:48:54.944875Z"
    }
   },
   "outputs": [
    {
     "data": {
      "text/plain": [
       "np.float64(53.0)"
      ]
     },
     "execution_count": 30,
     "metadata": {},
     "output_type": "execute_result"
    }
   ],
   "execution_count": 30
  },
  {
   "cell_type": "markdown",
   "source": [
    "### np.histogram\n",
    "\n",
    "Numpy has a built-in numpy.histogram() function which represents the frequency of data distribution in the graphical form.\n",
    "\n",
    "https://numpy.org/doc/stable/reference/generated/numpy.histogram.html"
   ],
   "metadata": {
    "id": "2C6nGaJHev5N"
   }
  },
  {
   "cell_type": "code",
   "source": [
    "# code\n",
    "a"
   ],
   "metadata": {
    "colab": {
     "base_uri": "https://localhost:8080/"
    },
    "id": "S2pFLU5ZWuTx",
    "outputId": "f461cfbe-2556-49c4-a2f2-d9cc8dcccd29",
    "ExecuteTime": {
     "end_time": "2025-08-21T10:56:08.003062Z",
     "start_time": "2025-08-21T10:56:07.998159Z"
    }
   },
   "outputs": [
    {
     "data": {
      "text/plain": [
       "array([73, 26, 97, 80, 53,  6, 33, 66, 50, 21, 29, 14, 82, 86, 60],\n",
       "      dtype=int32)"
      ]
     },
     "execution_count": 34,
     "metadata": {},
     "output_type": "execute_result"
    }
   ],
   "execution_count": 34
  },
  {
   "metadata": {
    "ExecuteTime": {
     "end_time": "2025-08-21T10:56:02.453296Z",
     "start_time": "2025-08-21T10:56:02.445295Z"
    }
   },
   "cell_type": "code",
   "source": "np.histogram(a,bins=[0,10,20,30,40,50,60,70,80,90,100])",
   "outputs": [
    {
     "data": {
      "text/plain": [
       "(array([1, 1, 3, 1, 0, 2, 2, 1, 3, 1]),\n",
       " array([  0,  10,  20,  30,  40,  50,  60,  70,  80,  90, 100]))"
      ]
     },
     "execution_count": 32,
     "metadata": {},
     "output_type": "execute_result"
    }
   ],
   "execution_count": 32
  },
  {
   "cell_type": "code",
   "source": [
    "np.histogram(a,bins=[0,50,100])"
   ],
   "metadata": {
    "colab": {
     "base_uri": "https://localhost:8080/"
    },
    "id": "wZlQuOFpSbE3",
    "outputId": "03276c6f-0c91-4872-c74c-902092e7925d",
    "ExecuteTime": {
     "end_time": "2025-08-21T10:56:04.012047Z",
     "start_time": "2025-08-21T10:56:04.004878Z"
    }
   },
   "outputs": [
    {
     "data": {
      "text/plain": [
       "(array([6, 9]), array([  0,  50, 100]))"
      ]
     },
     "execution_count": 33,
     "metadata": {},
     "output_type": "execute_result"
    }
   ],
   "execution_count": 33
  },
  {
   "cell_type": "markdown",
   "source": [
    "### np.corrcoef\n",
    "\n",
    "- Return Pearson product-moment correlation coefficients.\n",
    "- The correlation coefficient is a measure of the linear relationship between two datasets.\n",
    "- The value of the correlation coefficient ranges from -1 to 1.\n",
    "    - A value of 1 means that there is a perfect positive linear relationship between the two datasets , so as one dataset increases, the other dataset also increases.\n",
    "    - A value of -1 means that there is a perfect negative linear relationship between the two datasets , so as one dataset increases, the other dataset decreases.\n",
    "    - A value of 0 means that there is no linear relationship between the two datasets.\n",
    "\n",
    "https://numpy.org/doc/stable/reference/generated/numpy.corrcoef.html"
   ],
   "metadata": {
    "id": "JxgMS0Zef8oQ"
   }
  },
  {
   "cell_type": "code",
   "source": [
    "salary = np.array([20000,40000,25000,35000,60000])\n",
    "experience = np.array([1,3,2,4,2])\n",
    "\n",
    "np.corrcoef(salary,experience)"
   ],
   "metadata": {
    "id": "ZAMnvEm5WyUp",
    "colab": {
     "base_uri": "https://localhost:8080/"
    },
    "outputId": "0445bb77-29e1-49e2-f07e-656e33f9b70d",
    "ExecuteTime": {
     "end_time": "2025-08-21T10:58:36.000569Z",
     "start_time": "2025-08-21T10:58:35.988300Z"
    }
   },
   "outputs": [
    {
     "data": {
      "text/plain": [
       "array([[1.        , 0.25344572],\n",
       "       [0.25344572, 1.        ]])"
      ]
     },
     "execution_count": 35,
     "metadata": {},
     "output_type": "execute_result"
    }
   ],
   "execution_count": 35
  },
  {
   "metadata": {},
   "cell_type": "markdown",
   "source": "![image.png](attachment:9ddbb215-7a63-4967-a428-099c981a0979.png)",
   "attachments": {
    "9ddbb215-7a63-4967-a428-099c981a0979.png": {
     "image/png": "[encoded data removed]"
    }
   }
  },
  {
   "cell_type": "markdown",
   "source": [
    "### np.isin\n",
    "\n",
    "- With the help of numpy.isin() method, we can see that one array having values are checked in a different numpy array having different elements with different sizes.\n",
    "- It returns a boolean array of the same shape as the first array, indicating whether each element is present in the second array.\n",
    "-  used to search multiple elements in an array.\n",
    "\n",
    "https://numpy.org/doc/stable/reference/generated/numpy.isin.html"
   ],
   "metadata": {
    "id": "Ot4h1PdGh-vI"
   }
  },
  {
   "cell_type": "code",
   "source": "a",
   "metadata": {
    "colab": {
     "base_uri": "https://localhost:8080/"
    },
    "id": "oyyVo0qnW2Cz",
    "outputId": "37417575-e23f-425e-d617-76cfb848da40",
    "ExecuteTime": {
     "end_time": "2025-08-21T11:26:56.750266Z",
     "start_time": "2025-08-21T11:26:56.744570Z"
    }
   },
   "outputs": [
    {
     "data": {
      "text/plain": [
       "array([73, 26, 97, 80, 53,  6, 33, 66, 50, 21, 29, 14, 82, 86, 60],\n",
       "      dtype=int32)"
      ]
     },
     "execution_count": 36,
     "metadata": {},
     "output_type": "execute_result"
    }
   ],
   "execution_count": 36
  },
  {
   "metadata": {
    "ExecuteTime": {
     "end_time": "2025-08-21T11:29:51.573532Z",
     "start_time": "2025-08-21T11:29:51.566715Z"
    }
   },
   "cell_type": "code",
   "source": [
    "items = [10,20,30,40,50,60,70,80,90,100]\n",
    "np.isin(a,items)"
   ],
   "outputs": [
    {
     "data": {
      "text/plain": [
       "array([False, False, False,  True, False, False, False, False,  True,\n",
       "       False, False, False, False, False,  True])"
      ]
     },
     "execution_count": 38,
     "metadata": {},
     "output_type": "execute_result"
    }
   ],
   "execution_count": 38
  },
  {
   "cell_type": "code",
   "source": "a[np.isin(a,items)]",
   "metadata": {
    "colab": {
     "base_uri": "https://localhost:8080/"
    },
    "id": "lLA0c9z2VE3O",
    "outputId": "9e53c0d3-a425-4197-dbbd-53831e391a12",
    "ExecuteTime": {
     "end_time": "2025-08-21T11:29:52.452708Z",
     "start_time": "2025-08-21T11:29:52.446179Z"
    }
   },
   "outputs": [
    {
     "data": {
      "text/plain": [
       "array([80, 50, 60], dtype=int32)"
      ]
     },
     "execution_count": 39,
     "metadata": {},
     "output_type": "execute_result"
    }
   ],
   "execution_count": 39
  },
  {
   "cell_type": "markdown",
   "source": [
    "### np.flip\n",
    "\n",
    "The numpy.flip() function reverses the order of array elements along the specified axis, preserving the shape of the array.\n",
    "\n",
    "https://numpy.org/doc/stable/reference/generated/numpy.flip.html"
   ],
   "metadata": {
    "id": "8VKXXRjmicT-"
   }
  },
  {
   "cell_type": "code",
   "source": [
    "# code\n",
    "a"
   ],
   "metadata": {
    "id": "lMreAl7yEvBa",
    "colab": {
     "base_uri": "https://localhost:8080/"
    },
    "outputId": "64044da1-ce34-403c-f97d-7b77a7e9ecea"
   },
   "execution_count": null,
   "outputs": [
    {
     "output_type": "execute_result",
     "data": {
      "text/plain": [
       "array([11, 53, 28, 50, 38, 37, 94, 92,  5, 30, 68,  9, 78,  2, 21])"
      ]
     },
     "metadata": {},
     "execution_count": 169
    }
   ]
  },
  {
   "cell_type": "code",
   "source": [
    "np.flip(a)"
   ],
   "metadata": {
    "colab": {
     "base_uri": "https://localhost:8080/"
    },
    "id": "82l_pzDbVfNp",
    "outputId": "ab7282bc-5857-4c51-9f78-feda9252233e"
   },
   "execution_count": null,
   "outputs": [
    {
     "output_type": "execute_result",
     "data": {
      "text/plain": [
       "array([21,  2, 78,  9, 68, 30,  5, 92, 94, 37, 38, 50, 28, 53, 11])"
      ]
     },
     "metadata": {},
     "execution_count": 170
    }
   ]
  },
  {
   "cell_type": "code",
   "source": [
    "b"
   ],
   "metadata": {
    "colab": {
     "base_uri": "https://localhost:8080/"
    },
    "id": "nWp3PQ87Vkin",
    "outputId": "1f8ef30d-846d-47f2-bdd8-0dcefc7312e2"
   },
   "execution_count": null,
   "outputs": [
    {
     "output_type": "execute_result",
     "data": {
      "text/plain": [
       "array([[12, 52, 42,  6],\n",
       "       [29, 18, 47, 55],\n",
       "       [61, 93, 83,  9],\n",
       "       [38, 63, 44, 85],\n",
       "       [ 8, 87, 31, 72],\n",
       "       [40, 71,  2,  7]])"
      ]
     },
     "metadata": {},
     "execution_count": 171
    }
   ]
  },
  {
   "metadata": {
    "ExecuteTime": {
     "end_time": "2025-08-21T11:32:28.367392Z",
     "start_time": "2025-08-21T11:32:28.362341Z"
    }
   },
   "cell_type": "code",
   "source": "np.flip(b)      # flip entire array both row and column wise",
   "outputs": [
    {
     "data": {
      "text/plain": [
       "array([[40,  2, 58, 77],\n",
       "       [80, 56, 96, 99],\n",
       "       [80, 51, 83, 29],\n",
       "       [39, 73, 30,  1],\n",
       "       [38, 19, 41, 99],\n",
       "       [96, 90,  9, 69],\n",
       "       [46, 25, 47, 22]], dtype=int32)"
      ]
     },
     "execution_count": 40,
     "metadata": {},
     "output_type": "execute_result"
    }
   ],
   "execution_count": 40
  },
  {
   "cell_type": "code",
   "source": [
    "np.flip(b,axis=1)"
   ],
   "metadata": {
    "colab": {
     "base_uri": "https://localhost:8080/"
    },
    "id": "UOU3WOBwVm59",
    "outputId": "a67d4005-b585-4977-9916-3b3a177a5410"
   },
   "execution_count": null,
   "outputs": [
    {
     "output_type": "execute_result",
     "data": {
      "text/plain": [
       "array([[ 6, 42, 52, 12],\n",
       "       [55, 47, 18, 29],\n",
       "       [ 9, 83, 93, 61],\n",
       "       [85, 44, 63, 38],\n",
       "       [72, 31, 87,  8],\n",
       "       [ 7,  2, 71, 40]])"
      ]
     },
     "metadata": {},
     "execution_count": 174
    }
   ]
  },
  {
   "cell_type": "markdown",
   "source": [
    "### np.put\n",
    "\n",
    "The numpy.put() function replaces specific elements of an array with given values of p_array. Array indexed works on flattened array.\n",
    "\n",
    "https://numpy.org/doc/stable/reference/generated/numpy.put.html"
   ],
   "metadata": {
    "id": "n7jTKF2QjIz4"
   }
  },
  {
   "cell_type": "code",
   "source": [
    "# code\n",
    "a"
   ],
   "metadata": {
    "id": "xZrJHzr0E0zN",
    "colab": {
     "base_uri": "https://localhost:8080/"
    },
    "outputId": "d9ed43a6-623f-4b5b-cfcd-03dc841375b2",
    "ExecuteTime": {
     "end_time": "2025-08-21T11:33:29.939406Z",
     "start_time": "2025-08-21T11:33:29.929329Z"
    }
   },
   "outputs": [
    {
     "data": {
      "text/plain": [
       "array([73, 26, 97, 80, 53,  6, 33, 66, 50, 21, 29, 14, 82, 86, 60],\n",
       "      dtype=int32)"
      ]
     },
     "execution_count": 41,
     "metadata": {},
     "output_type": "execute_result"
    }
   ],
   "execution_count": 41
  },
  {
   "cell_type": "code",
   "source": "np.put(a,[0,1],[110,530])   # output is not visible so it will permanently change the original array.",
   "metadata": {
    "id": "dtl97d4SWHUG",
    "ExecuteTime": {
     "end_time": "2025-08-21T11:34:16.866124Z",
     "start_time": "2025-08-21T11:34:16.862019Z"
    }
   },
   "outputs": [],
   "execution_count": 43
  },
  {
   "metadata": {
    "ExecuteTime": {
     "end_time": "2025-08-21T11:34:25.331961Z",
     "start_time": "2025-08-21T11:34:25.325345Z"
    }
   },
   "cell_type": "code",
   "source": "a",
   "outputs": [
    {
     "data": {
      "text/plain": [
       "array([110, 530,  97,  80,  53,   6,  33,  66,  50,  21,  29,  14,  82,\n",
       "        86,  60], dtype=int32)"
      ]
     },
     "execution_count": 44,
     "metadata": {},
     "output_type": "execute_result"
    }
   ],
   "execution_count": 44
  },
  {
   "cell_type": "markdown",
   "source": [
    "### np.delete\n",
    "\n",
    "The numpy.delete() function returns a new array with the deletion of sub-arrays along with the mentioned axis.\n",
    "\n",
    "https://numpy.org/doc/stable/reference/generated/numpy.delete.html"
   ],
   "metadata": {
    "id": "lYkpJg3kpSWB"
   }
  },
  {
   "cell_type": "code",
   "source": [
    "# code\n",
    "a"
   ],
   "metadata": {
    "id": "VmGLdiy5pQXc",
    "colab": {
     "base_uri": "https://localhost:8080/"
    },
    "outputId": "728b29c4-517a-440f-da4a-8d1aaecbf6e7",
    "ExecuteTime": {
     "end_time": "2025-08-21T11:37:00.233749Z",
     "start_time": "2025-08-21T11:37:00.228654Z"
    }
   },
   "outputs": [
    {
     "data": {
      "text/plain": [
       "array([110, 530,  97,  80,  53,   6,  33,  66,  50,  21,  29,  14,  82,\n",
       "        86,  60], dtype=int32)"
      ]
     },
     "execution_count": 47,
     "metadata": {},
     "output_type": "execute_result"
    }
   ],
   "execution_count": 47
  },
  {
   "cell_type": "code",
   "source": "np.delete(a,[0,2,4])    # since output is visible, it will not change the original array.",
   "metadata": {
    "colab": {
     "base_uri": "https://localhost:8080/"
    },
    "id": "A5Dp974mWeWd",
    "outputId": "b3ef3851-7b46-4a55-8e1b-3a1b77a70cd1",
    "ExecuteTime": {
     "end_time": "2025-08-21T11:36:56.621178Z",
     "start_time": "2025-08-21T11:36:56.615734Z"
    }
   },
   "outputs": [
    {
     "data": {
      "text/plain": [
       "array([530,  80,   6,  33,  66,  50,  21,  29,  14,  82,  86,  60],\n",
       "      dtype=int32)"
      ]
     },
     "execution_count": 46,
     "metadata": {},
     "output_type": "execute_result"
    }
   ],
   "execution_count": 46
  },
  {
   "cell_type": "markdown",
   "source": [
    "### Set functions\n",
    "\n",
    "- np.union1d    : Find the union of two arrays.\n",
    "- np.intersect1d    : Find the intersection of two arrays.\n",
    "- np.setdiff1d  : Find the set difference of two arrays.\n",
    "- np.setxor1d   : Find the set exclusive-or of two arrays.\n",
    "- np.isin   : Test whether elements of a are in b."
   ],
   "metadata": {
    "id": "Ei94MbFbrjvx"
   }
  },
  {
   "cell_type": "code",
   "source": [
    "m = np.array([1,2,3,4,5])\n",
    "n = np.array([3,4,5,6,7])\n",
    "\n",
    "np.union1d(m,n)"
   ],
   "metadata": {
    "id": "hHSwzU1irY0f",
    "colab": {
     "base_uri": "https://localhost:8080/"
    },
    "outputId": "b342e657-f1e1-4421-9447-e261ec0efc36",
    "ExecuteTime": {
     "end_time": "2025-08-21T11:37:53.976195Z",
     "start_time": "2025-08-21T11:37:53.962433Z"
    }
   },
   "outputs": [
    {
     "data": {
      "text/plain": [
       "array([1, 2, 3, 4, 5, 6, 7])"
      ]
     },
     "execution_count": 48,
     "metadata": {},
     "output_type": "execute_result"
    }
   ],
   "execution_count": 48
  },
  {
   "cell_type": "code",
   "source": [
    "np.intersect1d(m,n)"
   ],
   "metadata": {
    "colab": {
     "base_uri": "https://localhost:8080/"
    },
    "id": "XSIuF3zWXZXP",
    "outputId": "3cb32023-afe2-4b1a-ba36-a7336083e7f6",
    "ExecuteTime": {
     "end_time": "2025-08-21T11:37:54.712680Z",
     "start_time": "2025-08-21T11:37:54.705605Z"
    }
   },
   "outputs": [
    {
     "data": {
      "text/plain": [
       "array([3, 4, 5])"
      ]
     },
     "execution_count": 49,
     "metadata": {},
     "output_type": "execute_result"
    }
   ],
   "execution_count": 49
  },
  {
   "cell_type": "code",
   "source": [
    "np.setdiff1d(n,m)"
   ],
   "metadata": {
    "colab": {
     "base_uri": "https://localhost:8080/"
    },
    "id": "HhGH8cskXgR5",
    "outputId": "9fe9818f-5d74-4590-e009-707b73f58a41",
    "ExecuteTime": {
     "end_time": "2025-08-21T11:37:55.771757Z",
     "start_time": "2025-08-21T11:37:55.764852Z"
    }
   },
   "outputs": [
    {
     "data": {
      "text/plain": [
       "array([6, 7])"
      ]
     },
     "execution_count": 50,
     "metadata": {},
     "output_type": "execute_result"
    }
   ],
   "execution_count": 50
  },
  {
   "cell_type": "code",
   "source": [
    "np.setxor1d(m,n)"
   ],
   "metadata": {
    "colab": {
     "base_uri": "https://localhost:8080/"
    },
    "id": "KaZbcTk0XubR",
    "outputId": "7d086410-d76c-4818-e35f-edf0792d54eb",
    "ExecuteTime": {
     "end_time": "2025-08-21T11:37:56.710514Z",
     "start_time": "2025-08-21T11:37:56.703459Z"
    }
   },
   "outputs": [
    {
     "data": {
      "text/plain": [
       "array([1, 2, 6, 7])"
      ]
     },
     "execution_count": 51,
     "metadata": {},
     "output_type": "execute_result"
    }
   ],
   "execution_count": 51
  },
  {
   "metadata": {
    "ExecuteTime": {
     "end_time": "2025-08-21T11:44:01.011551Z",
     "start_time": "2025-08-21T11:44:01.006339Z"
    }
   },
   "cell_type": "code",
   "source": "np.isin(m,2)",
   "outputs": [
    {
     "data": {
      "text/plain": [
       "array([False,  True, False, False, False])"
      ]
     },
     "execution_count": 57,
     "metadata": {},
     "output_type": "execute_result"
    }
   ],
   "execution_count": 57
  },
  {
   "cell_type": "code",
   "source": "m[np.isin(m,2)]",
   "metadata": {
    "colab": {
     "base_uri": "https://localhost:8080/"
    },
    "id": "SqV9rpQ_XzVg",
    "outputId": "ad95c2eb-ed10-46ec-9c99-2a5fa4b3082a",
    "ExecuteTime": {
     "end_time": "2025-08-21T11:43:33.272Z",
     "start_time": "2025-08-21T11:43:33.265401Z"
    }
   },
   "outputs": [
    {
     "data": {
      "text/plain": [
       "array([2])"
      ]
     },
     "execution_count": 56,
     "metadata": {},
     "output_type": "execute_result"
    }
   ],
   "execution_count": 56
  },
  {
   "cell_type": "markdown",
   "source": [
    "### np.clip\n",
    "\n",
    "- numpy.clip() function is used to Clip (limit) the values in an array.\n",
    "- It returns an array with values limited to the specified minimum and maximum values.\n",
    "- If an element is less than the minimum value, it is replaced with the minimum value. If an element is greater than the maximum value, it is replaced with the maximum value.\n",
    "\n",
    "https://numpy.org/doc/stable/reference/generated/numpy.clip.html"
   ],
   "metadata": {
    "id": "uLxS7H2pr-rh"
   }
  },
  {
   "cell_type": "code",
   "source": "a",
   "metadata": {
    "id": "Q3S9gjNzsL73",
    "colab": {
     "base_uri": "https://localhost:8080/"
    },
    "outputId": "536e7835-500c-4493-9f69-0273a967f8b4",
    "ExecuteTime": {
     "end_time": "2025-08-21T11:45:42.848316Z",
     "start_time": "2025-08-21T11:45:42.841915Z"
    }
   },
   "outputs": [
    {
     "data": {
      "text/plain": [
       "array([110, 530,  97,  80,  53,   6,  33,  66,  50,  21,  29,  14,  82,\n",
       "        86,  60], dtype=int32)"
      ]
     },
     "execution_count": 58,
     "metadata": {},
     "output_type": "execute_result"
    }
   ],
   "execution_count": 58
  },
  {
   "cell_type": "code",
   "source": [
    "np.clip(a,a_min=25,a_max=75)"
   ],
   "metadata": {
    "colab": {
     "base_uri": "https://localhost:8080/"
    },
    "id": "x08JKAVHYOxF",
    "outputId": "a8ba892e-f2ea-44a3-b48e-9a3996ff81f9",
    "ExecuteTime": {
     "end_time": "2025-08-21T11:45:43.900598Z",
     "start_time": "2025-08-21T11:45:43.894460Z"
    }
   },
   "outputs": [
    {
     "data": {
      "text/plain": [
       "array([75, 75, 75, 75, 53, 25, 33, 66, 50, 25, 29, 25, 75, 75, 60],\n",
       "      dtype=int32)"
      ]
     },
     "execution_count": 59,
     "metadata": {},
     "output_type": "execute_result"
    }
   ],
   "execution_count": 59
  }
 ]
}
