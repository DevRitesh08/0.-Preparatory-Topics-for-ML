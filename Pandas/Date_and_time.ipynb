{
 "nbformat": 4,
 "nbformat_minor": 0,
 "metadata": {
  "colab": {
   "provenance": []
  },
  "kernelspec": {
   "name": "python3",
   "display_name": "Python 3 (ipykernel)",
   "language": "python"
  },
  "language_info": {
   "name": "python"
  }
 },
 "cells": [
  {
   "cell_type": "code",
   "metadata": {
    "id": "FuP2atHNtHbr",
    "ExecuteTime": {
     "end_time": "2025-09-05T06:09:38.003688Z",
     "start_time": "2025-09-05T06:09:37.999765Z"
    }
   },
   "source": [
    "import numpy as np\n",
    "import pandas as pd"
   ],
   "outputs": [],
   "execution_count": 2
  },
  {
   "cell_type": "markdown",
   "source": [
    "### Timestamp Object\n",
    "\n",
    "Time stamps reference particular moments in time (e.g., Oct 24th, 2025 at 7:00pm)"
   ],
   "metadata": {
    "id": "GEXZCSwWthTK"
   }
  },
  {
   "cell_type": "markdown",
   "source": [
    "### Creating Timestamp objects"
   ],
   "metadata": {
    "id": "XH2gU7GZvKB6"
   }
  },
  {
   "cell_type": "code",
   "source": [
    "# creating a timestamp\n",
    "type(pd.Timestamp('2025/9/4'))"
   ],
   "metadata": {
    "colab": {
     "base_uri": "https://localhost:8080/"
    },
    "id": "Y52x2MS-0ct7",
    "outputId": "8e118ff3-ec81-4ee7-9a40-08d1a6e453ad",
    "ExecuteTime": {
     "end_time": "2025-09-04T17:29:38.504851Z",
     "start_time": "2025-09-04T17:29:38.500122Z"
    }
   },
   "outputs": [
    {
     "data": {
      "text/plain": [
       "pandas._libs.tslibs.timestamps.Timestamp"
      ]
     },
     "execution_count": 11,
     "metadata": {},
     "output_type": "execute_result"
    }
   ],
   "execution_count": 11
  },
  {
   "cell_type": "code",
   "source": [
    "# variations\n",
    "print(pd.Timestamp('2025-9-4'))\n",
    "print(pd.Timestamp('2025, 9, 4'))"
   ],
   "metadata": {
    "colab": {
     "base_uri": "https://localhost:8080/"
    },
    "id": "bj-V1BMotPLC",
    "outputId": "ac31013f-a5d2-47e2-eb32-feffa4620793",
    "ExecuteTime": {
     "end_time": "2025-09-04T17:29:39.048594Z",
     "start_time": "2025-09-04T17:29:39.043680Z"
    }
   },
   "outputs": [
    {
     "name": "stdout",
     "output_type": "stream",
     "text": [
      "2025-09-04 00:00:00\n",
      "2025-09-04 00:00:00\n"
     ]
    }
   ],
   "execution_count": 12
  },
  {
   "metadata": {
    "ExecuteTime": {
     "end_time": "2025-09-04T17:51:23.902965Z",
     "start_time": "2025-09-04T17:51:23.889444Z"
    }
   },
   "cell_type": "code",
   "source": [
    "pd.Timestamp('4/9/2025')\n",
    "# but be careful with this format as it can be confused with month/day/year format in some countries like USA ."
   ],
   "outputs": [
    {
     "data": {
      "text/plain": [
       "Timestamp('2025-04-09 00:00:00')"
      ]
     },
     "execution_count": 13,
     "metadata": {},
     "output_type": "execute_result"
    }
   ],
   "execution_count": 13
  },
  {
   "cell_type": "code",
   "source": [
    "# only year\n",
    "pd.Timestamp('2025')"
   ],
   "metadata": {
    "colab": {
     "base_uri": "https://localhost:8080/"
    },
    "id": "mB-UXNVD0jyl",
    "outputId": "b087253e-70f2-4ce7-817f-17124fab9512",
    "ExecuteTime": {
     "end_time": "2025-09-04T17:54:09.554138Z",
     "start_time": "2025-09-04T17:54:09.549165Z"
    }
   },
   "outputs": [
    {
     "data": {
      "text/plain": [
       "Timestamp('2025-01-01 00:00:00')"
      ]
     },
     "execution_count": 20,
     "metadata": {},
     "output_type": "execute_result"
    }
   ],
   "execution_count": 20
  },
  {
   "cell_type": "code",
   "source": [
    "# using text\n",
    "pd.Timestamp('5th september 2025')"
   ],
   "metadata": {
    "colab": {
     "base_uri": "https://localhost:8080/"
    },
    "id": "iY1GA2Eb0osz",
    "outputId": "96cdbd12-a5f9-4494-fa2c-5b0440fb53ff",
    "ExecuteTime": {
     "end_time": "2025-09-04T17:54:37.859466Z",
     "start_time": "2025-09-04T17:54:37.853976Z"
    }
   },
   "outputs": [
    {
     "data": {
      "text/plain": [
       "Timestamp('2025-09-05 00:00:00')"
      ]
     },
     "execution_count": 22,
     "metadata": {},
     "output_type": "execute_result"
    }
   ],
   "execution_count": 22
  },
  {
   "cell_type": "code",
   "source": [
    "# providing time also\n",
    "pd.Timestamp('2023-01-05 09:21')"
   ],
   "metadata": {
    "colab": {
     "base_uri": "https://localhost:8080/",
     "height": 295
    },
    "id": "X9kcHRAq0uGf",
    "outputId": "b071370b-da0f-49d2-a5c2-dd9ee66d621f",
    "ExecuteTime": {
     "end_time": "2025-09-04T17:55:24.949342Z",
     "start_time": "2025-09-04T17:55:24.944695Z"
    }
   },
   "outputs": [
    {
     "data": {
      "text/plain": [
       "Timestamp('2023-01-05 09:21:00')"
      ]
     },
     "execution_count": 26,
     "metadata": {},
     "output_type": "execute_result"
    }
   ],
   "execution_count": 26
  },
  {
   "metadata": {
    "ExecuteTime": {
     "end_time": "2025-09-04T18:12:21.980288Z",
     "start_time": "2025-09-04T18:12:21.974934Z"
    }
   },
   "cell_type": "code",
   "source": "pd.Timestamp('5th september 2025 9:25 PM')",
   "outputs": [
    {
     "data": {
      "text/plain": [
       "Timestamp('2025-09-05 21:25:00')"
      ]
     },
     "execution_count": 29,
     "metadata": {},
     "output_type": "execute_result"
    }
   ],
   "execution_count": 29
  },
  {
   "cell_type": "code",
   "source": [
    "# AM and PM"
   ],
   "metadata": {
    "id": "AhlvkJz80w2v",
    "ExecuteTime": {
     "end_time": "2025-09-04T18:12:22.390881Z",
     "start_time": "2025-09-04T18:12:22.387460Z"
    }
   },
   "outputs": [],
   "execution_count": 30
  },
  {
   "cell_type": "code",
   "source": [
    "# using datetime.datetime object from python standard library\n",
    "import datetime as dt\n",
    "\n",
    "x = pd.Timestamp(dt.datetime(2025,9,5,9,21,56))\n",
    "x"
   ],
   "metadata": {
    "colab": {
     "base_uri": "https://localhost:8080/"
    },
    "id": "Y18HScxQ0yRT",
    "outputId": "800cb9f7-8774-4213-8f5f-6c203dbec3f3",
    "ExecuteTime": {
     "end_time": "2025-09-04T18:14:56.550123Z",
     "start_time": "2025-09-04T18:14:56.544140Z"
    }
   },
   "outputs": [
    {
     "data": {
      "text/plain": [
       "Timestamp('2025-09-05 09:21:56')"
      ]
     },
     "execution_count": 34,
     "metadata": {},
     "output_type": "execute_result"
    }
   ],
   "execution_count": 34
  },
  {
   "cell_type": "code",
   "source": [
    "# fetching attributes\n",
    "x.year\n",
    "x.month\n",
    "x.day\n",
    "x.hour\n",
    "x.minute\n",
    "x.second"
   ],
   "metadata": {
    "colab": {
     "base_uri": "https://localhost:8080/"
    },
    "id": "oY00r9U71OK4",
    "outputId": "d95471a1-1004-4ef3-db80-954f91cdc641",
    "ExecuteTime": {
     "end_time": "2025-09-04T18:12:29.866183Z",
     "start_time": "2025-09-04T18:12:29.861057Z"
    }
   },
   "outputs": [
    {
     "data": {
      "text/plain": [
       "56"
      ]
     },
     "execution_count": 32,
     "metadata": {},
     "output_type": "execute_result"
    }
   ],
   "execution_count": 32
  },
  {
   "cell_type": "markdown",
   "source": [
    "### why separate objects to handle data and time when python already has datetime functionality?\n",
    "\n",
    "- Python's built-in datetime module provides a variety of tools for manipulating dates and times.\n",
    "- But it is not optimized for vectorized operations on large arrays of dates and times.\n",
    "- syntax wise datetime is very convenient\n",
    "- But the performance takes a hit while working with huge data. List vs Numpy Array\n",
    "- The weaknesses of Python's datetime format inspired the NumPy team to add a set of native time series data type to NumPy.\n",
    "- The datetime64 dtype encodes dates as 64-bit integers, and thus allows arrays of dates to be represented very compactly."
   ],
   "metadata": {
    "id": "97HDE2UJXyoT"
   }
  },
  {
   "cell_type": "code",
   "source": [
    "import numpy as np\n",
    "date = np.array('2015-07-04', dtype=np.datetime64)\n",
    "date"
   ],
   "metadata": {
    "colab": {
     "base_uri": "https://localhost:8080/"
    },
    "id": "MkuVP85DZyp0",
    "outputId": "2356e543-75d3-45c7-d8fe-cdb877400a6c",
    "ExecuteTime": {
     "end_time": "2025-09-04T18:27:27.292400Z",
     "start_time": "2025-09-04T18:27:27.279522Z"
    }
   },
   "outputs": [
    {
     "data": {
      "text/plain": [
       "array('2015-07-04', dtype='datetime64[D]')"
      ]
     },
     "execution_count": 35,
     "metadata": {},
     "output_type": "execute_result"
    }
   ],
   "execution_count": 35
  },
  {
   "cell_type": "code",
   "source": [
    "date + np.arange(12)"
   ],
   "metadata": {
    "colab": {
     "base_uri": "https://localhost:8080/"
    },
    "id": "Ak5u64W6aBCS",
    "outputId": "4e2d8f11-b0c9-415e-966b-82a3770e1f5e",
    "ExecuteTime": {
     "end_time": "2025-09-04T18:28:44.584879Z",
     "start_time": "2025-09-04T18:28:44.578964Z"
    }
   },
   "outputs": [
    {
     "data": {
      "text/plain": [
       "array(['2015-07-04', '2015-07-05', '2015-07-06', '2015-07-07',\n",
       "       '2015-07-08', '2015-07-09', '2015-07-10', '2015-07-11',\n",
       "       '2015-07-12', '2015-07-13', '2015-07-14', '2015-07-15'],\n",
       "      dtype='datetime64[D]')"
      ]
     },
     "execution_count": 36,
     "metadata": {},
     "output_type": "execute_result"
    }
   ],
   "execution_count": 36
  },
  {
   "cell_type": "markdown",
   "source": [
    "- Because of the uniform type in NumPy datetime64 arrays, this type of operation can be accomplished much more quickly than if we were working directly with Python's datetime objects, especially as arrays get large\n",
    "\n",
    "- Pandas Timestamp object combines the ease-of-use of python datetime with the efficient storage and vectorized interface of numpy.datetime64\n",
    "\n",
    "- From a group of these Timestamp objects, Pandas can construct a DatetimeIndex that can be used to index data in a Series or DataFrame"
   ],
   "metadata": {
    "id": "qyORT7KHZ29h"
   }
  },
  {
   "cell_type": "markdown",
   "source": [
    "### DatetimeIndex Object\n",
    "\n",
    "A collection of pandas timestamp"
   ],
   "metadata": {
    "id": "eQQXAaHDxP8n"
   }
  },
  {
   "cell_type": "code",
   "source": [
    "# from strings\n",
    "a = pd.DatetimeIndex(['2025/9/1','2025/9/2','2025/9/3'])\n",
    "type(a)"
   ],
   "metadata": {
    "colab": {
     "base_uri": "https://localhost:8080/"
    },
    "id": "3nI4CFQaxx84",
    "outputId": "a71b1a99-d611-4a2b-b86d-52bc649b411c",
    "ExecuteTime": {
     "end_time": "2025-09-05T06:10:40.512681Z",
     "start_time": "2025-09-05T06:10:40.501356Z"
    }
   },
   "outputs": [
    {
     "data": {
      "text/plain": [
       "pandas.core.indexes.datetimes.DatetimeIndex"
      ]
     },
     "execution_count": 4,
     "metadata": {},
     "output_type": "execute_result"
    }
   ],
   "execution_count": 4
  },
  {
   "metadata": {
    "ExecuteTime": {
     "end_time": "2025-09-05T06:11:01.102414Z",
     "start_time": "2025-09-05T06:11:01.094414Z"
    }
   },
   "cell_type": "code",
   "source": "type(a[0])",
   "outputs": [
    {
     "data": {
      "text/plain": [
       "pandas._libs.tslibs.timestamps.Timestamp"
      ]
     },
     "execution_count": 6,
     "metadata": {},
     "output_type": "execute_result"
    }
   ],
   "execution_count": 6
  },
  {
   "metadata": {
    "ExecuteTime": {
     "end_time": "2025-09-05T06:19:37.805191Z",
     "start_time": "2025-09-05T06:19:37.801414Z"
    }
   },
   "cell_type": "code",
   "source": "import datetime as dt",
   "outputs": [],
   "execution_count": 8
  },
  {
   "cell_type": "code",
   "source": [
    "# using python datetime object\n",
    "pd.DatetimeIndex([dt.datetime(2023,1,1),dt.datetime(2022,1,1),dt.datetime(2021,1,1)])"
   ],
   "metadata": {
    "colab": {
     "base_uri": "https://localhost:8080/"
    },
    "id": "prE2fraR1l3F",
    "outputId": "eb310ee6-6bc9-4f6a-d9b4-d080cbd8e235",
    "ExecuteTime": {
     "end_time": "2025-09-05T06:19:38.494613Z",
     "start_time": "2025-09-05T06:19:38.456758Z"
    }
   },
   "outputs": [
    {
     "data": {
      "text/plain": [
       "DatetimeIndex(['2023-01-01', '2022-01-01', '2021-01-01'], dtype='datetime64[ns]', freq=None)"
      ]
     },
     "execution_count": 9,
     "metadata": {},
     "output_type": "execute_result"
    }
   ],
   "execution_count": 9
  },
  {
   "cell_type": "code",
   "source": [
    "# using pd.timestamps\n",
    "dt_index = pd.DatetimeIndex([pd.Timestamp(2023,1,1),pd.Timestamp(2022,1,1),pd.Timestamp(2021,1,1)])"
   ],
   "metadata": {
    "id": "KwFtOizE1qAT",
    "ExecuteTime": {
     "end_time": "2025-09-05T06:19:40.489488Z",
     "start_time": "2025-09-05T06:19:40.452373Z"
    }
   },
   "outputs": [],
   "execution_count": 10
  },
  {
   "cell_type": "code",
   "source": [
    "# using datatimeindex as series index\n",
    "\n",
    "pd.Series([1,2,3],index=dt_index)"
   ],
   "metadata": {
    "colab": {
     "base_uri": "https://localhost:8080/"
    },
    "id": "f8FOZZ1z1tCL",
    "outputId": "a881eebb-1a0c-4f49-87c5-c87a0613f6b0",
    "ExecuteTime": {
     "end_time": "2025-09-05T06:19:41.509932Z",
     "start_time": "2025-09-05T06:19:41.468482Z"
    }
   },
   "outputs": [
    {
     "data": {
      "text/plain": [
       "2023-01-01    1\n",
       "2022-01-01    2\n",
       "2021-01-01    3\n",
       "dtype: int64"
      ]
     },
     "execution_count": 11,
     "metadata": {},
     "output_type": "execute_result"
    }
   ],
   "execution_count": 11
  },
  {
   "cell_type": "markdown",
   "source": [
    "### date_range function\n",
    "\n"
   ],
   "metadata": {
    "id": "qxnmC74IxyjI"
   }
  },
  {
   "cell_type": "code",
   "source": [
    "# generate daily dates in a given range\n",
    "pd.date_range(start='2025/9/5',end='2025/9/28',freq='D')    # D -> daily frequency , by default freq is D"
   ],
   "metadata": {
    "colab": {
     "base_uri": "https://localhost:8080/"
    },
    "id": "tzDg9BOjx1is",
    "outputId": "953e6978-5779-43fe-a446-f849da41ad46",
    "ExecuteTime": {
     "end_time": "2025-09-05T06:20:56.921748Z",
     "start_time": "2025-09-05T06:20:56.914374Z"
    }
   },
   "outputs": [
    {
     "data": {
      "text/plain": [
       "DatetimeIndex(['2025-09-05', '2025-09-06', '2025-09-07', '2025-09-08',\n",
       "               '2025-09-09', '2025-09-10', '2025-09-11', '2025-09-12',\n",
       "               '2025-09-13', '2025-09-14', '2025-09-15', '2025-09-16',\n",
       "               '2025-09-17', '2025-09-18', '2025-09-19', '2025-09-20',\n",
       "               '2025-09-21', '2025-09-22', '2025-09-23', '2025-09-24',\n",
       "               '2025-09-25', '2025-09-26', '2025-09-27', '2025-09-28'],\n",
       "              dtype='datetime64[ns]', freq='D')"
      ]
     },
     "execution_count": 13,
     "metadata": {},
     "output_type": "execute_result"
    }
   ],
   "execution_count": 13
  },
  {
   "cell_type": "code",
   "source": [
    "# alternate days in a given range\n",
    "pd.date_range(start='2025/9/5',end='2025/9/28',freq='2D')"
   ],
   "metadata": {
    "id": "-5VkFuUr36bU",
    "ExecuteTime": {
     "end_time": "2025-09-05T06:22:28.072562Z",
     "start_time": "2025-09-05T06:22:28.062686Z"
    }
   },
   "outputs": [
    {
     "data": {
      "text/plain": [
       "DatetimeIndex(['2025-09-05', '2025-09-07', '2025-09-09', '2025-09-11',\n",
       "               '2025-09-13', '2025-09-15', '2025-09-17', '2025-09-19',\n",
       "               '2025-09-21', '2025-09-23', '2025-09-25', '2025-09-27'],\n",
       "              dtype='datetime64[ns]', freq='2D')"
      ]
     },
     "execution_count": 15,
     "metadata": {},
     "output_type": "execute_result"
    }
   ],
   "execution_count": 15
  },
  {
   "cell_type": "code",
   "source": [
    "# B -> business days\n",
    "pd.date_range(start='2025/9/5',end='2025/9/28',freq='B')"
   ],
   "metadata": {
    "colab": {
     "base_uri": "https://localhost:8080/"
    },
    "id": "4m_PcUOe39xy",
    "outputId": "3c005aea-baca-4ee6-fe9b-90e59151d151",
    "ExecuteTime": {
     "end_time": "2025-09-05T06:23:40.597949Z",
     "start_time": "2025-09-05T06:23:40.559095Z"
    }
   },
   "outputs": [
    {
     "data": {
      "text/plain": [
       "DatetimeIndex(['2025-09-05', '2025-09-08', '2025-09-09', '2025-09-10',\n",
       "               '2025-09-11', '2025-09-12', '2025-09-15', '2025-09-16',\n",
       "               '2025-09-17', '2025-09-18', '2025-09-19', '2025-09-22',\n",
       "               '2025-09-23', '2025-09-24', '2025-09-25', '2025-09-26'],\n",
       "              dtype='datetime64[ns]', freq='B')"
      ]
     },
     "execution_count": 17,
     "metadata": {},
     "output_type": "execute_result"
    }
   ],
   "execution_count": 17
  },
  {
   "cell_type": "code",
   "source": [
    "# W -> one week per day\n",
    "pd.date_range(start='2025/9/5',end='2025/9/30',freq='W-THU')"
   ],
   "metadata": {
    "colab": {
     "base_uri": "https://localhost:8080/"
    },
    "id": "QqrrfRvC4QmV",
    "outputId": "aa7fd7dd-3610-45dc-c1e6-76dc06d37004",
    "ExecuteTime": {
     "end_time": "2025-09-05T06:24:28.916276Z",
     "start_time": "2025-09-05T06:24:28.909790Z"
    }
   },
   "outputs": [
    {
     "data": {
      "text/plain": [
       "DatetimeIndex(['2025-09-11', '2025-09-18', '2025-09-25'], dtype='datetime64[ns]', freq='W-THU')"
      ]
     },
     "execution_count": 20,
     "metadata": {},
     "output_type": "execute_result"
    }
   ],
   "execution_count": 20
  },
  {
   "cell_type": "code",
   "source": [
    "# H -> Hourly data(factor)\n",
    "pd.date_range(start='2025/9/5',end='2025/9/28',freq='6h')"
   ],
   "metadata": {
    "colab": {
     "base_uri": "https://localhost:8080/"
    },
    "id": "95b_S-rY4Zt-",
    "outputId": "b6d23cfb-e065-4736-e246-569789b1f8bd",
    "ExecuteTime": {
     "end_time": "2025-09-05T06:25:32.467529Z",
     "start_time": "2025-09-05T06:25:32.460155Z"
    }
   },
   "outputs": [
    {
     "data": {
      "text/plain": [
       "DatetimeIndex(['2025-09-05 00:00:00', '2025-09-05 06:00:00',\n",
       "               '2025-09-05 12:00:00', '2025-09-05 18:00:00',\n",
       "               '2025-09-06 00:00:00', '2025-09-06 06:00:00',\n",
       "               '2025-09-06 12:00:00', '2025-09-06 18:00:00',\n",
       "               '2025-09-07 00:00:00', '2025-09-07 06:00:00',\n",
       "               '2025-09-07 12:00:00', '2025-09-07 18:00:00',\n",
       "               '2025-09-08 00:00:00', '2025-09-08 06:00:00',\n",
       "               '2025-09-08 12:00:00', '2025-09-08 18:00:00',\n",
       "               '2025-09-09 00:00:00', '2025-09-09 06:00:00',\n",
       "               '2025-09-09 12:00:00', '2025-09-09 18:00:00',\n",
       "               '2025-09-10 00:00:00', '2025-09-10 06:00:00',\n",
       "               '2025-09-10 12:00:00', '2025-09-10 18:00:00',\n",
       "               '2025-09-11 00:00:00', '2025-09-11 06:00:00',\n",
       "               '2025-09-11 12:00:00', '2025-09-11 18:00:00',\n",
       "               '2025-09-12 00:00:00', '2025-09-12 06:00:00',\n",
       "               '2025-09-12 12:00:00', '2025-09-12 18:00:00',\n",
       "               '2025-09-13 00:00:00', '2025-09-13 06:00:00',\n",
       "               '2025-09-13 12:00:00', '2025-09-13 18:00:00',\n",
       "               '2025-09-14 00:00:00', '2025-09-14 06:00:00',\n",
       "               '2025-09-14 12:00:00', '2025-09-14 18:00:00',\n",
       "               '2025-09-15 00:00:00', '2025-09-15 06:00:00',\n",
       "               '2025-09-15 12:00:00', '2025-09-15 18:00:00',\n",
       "               '2025-09-16 00:00:00', '2025-09-16 06:00:00',\n",
       "               '2025-09-16 12:00:00', '2025-09-16 18:00:00',\n",
       "               '2025-09-17 00:00:00', '2025-09-17 06:00:00',\n",
       "               '2025-09-17 12:00:00', '2025-09-17 18:00:00',\n",
       "               '2025-09-18 00:00:00', '2025-09-18 06:00:00',\n",
       "               '2025-09-18 12:00:00', '2025-09-18 18:00:00',\n",
       "               '2025-09-19 00:00:00', '2025-09-19 06:00:00',\n",
       "               '2025-09-19 12:00:00', '2025-09-19 18:00:00',\n",
       "               '2025-09-20 00:00:00', '2025-09-20 06:00:00',\n",
       "               '2025-09-20 12:00:00', '2025-09-20 18:00:00',\n",
       "               '2025-09-21 00:00:00', '2025-09-21 06:00:00',\n",
       "               '2025-09-21 12:00:00', '2025-09-21 18:00:00',\n",
       "               '2025-09-22 00:00:00', '2025-09-22 06:00:00',\n",
       "               '2025-09-22 12:00:00', '2025-09-22 18:00:00',\n",
       "               '2025-09-23 00:00:00', '2025-09-23 06:00:00',\n",
       "               '2025-09-23 12:00:00', '2025-09-23 18:00:00',\n",
       "               '2025-09-24 00:00:00', '2025-09-24 06:00:00',\n",
       "               '2025-09-24 12:00:00', '2025-09-24 18:00:00',\n",
       "               '2025-09-25 00:00:00', '2025-09-25 06:00:00',\n",
       "               '2025-09-25 12:00:00', '2025-09-25 18:00:00',\n",
       "               '2025-09-26 00:00:00', '2025-09-26 06:00:00',\n",
       "               '2025-09-26 12:00:00', '2025-09-26 18:00:00',\n",
       "               '2025-09-27 00:00:00', '2025-09-27 06:00:00',\n",
       "               '2025-09-27 12:00:00', '2025-09-27 18:00:00',\n",
       "               '2025-09-28 00:00:00'],\n",
       "              dtype='datetime64[ns]', freq='6h')"
      ]
     },
     "execution_count": 22,
     "metadata": {},
     "output_type": "execute_result"
    }
   ],
   "execution_count": 22
  },
  {
   "cell_type": "code",
   "source": [
    "# M -> Month end\n",
    "pd.date_range(start='2025/1/5',end='2025/9/28',freq='ME')"
   ],
   "metadata": {
    "colab": {
     "base_uri": "https://localhost:8080/"
    },
    "id": "T4TgV2Mn4oNg",
    "outputId": "2df63168-dfff-4ee1-87ba-6e6bf2365292",
    "ExecuteTime": {
     "end_time": "2025-09-05T06:26:51.532542Z",
     "start_time": "2025-09-05T06:26:51.525282Z"
    }
   },
   "outputs": [
    {
     "data": {
      "text/plain": [
       "DatetimeIndex(['2025-01-31', '2025-02-28', '2025-03-31', '2025-04-30',\n",
       "               '2025-05-31', '2025-06-30', '2025-07-31', '2025-08-31'],\n",
       "              dtype='datetime64[ns]', freq='ME')"
      ]
     },
     "execution_count": 24,
     "metadata": {},
     "output_type": "execute_result"
    }
   ],
   "execution_count": 24
  },
  {
   "cell_type": "code",
   "source": [
    "# MS -> Month start\n",
    "pd.date_range(start='2025/1/5',end='2025/9/28',freq='MS')"
   ],
   "metadata": {
    "colab": {
     "base_uri": "https://localhost:8080/"
    },
    "id": "biLXdwmM4xFI",
    "outputId": "6158d2a8-488d-4c29-9b14-70220ce1d720",
    "ExecuteTime": {
     "end_time": "2025-09-05T06:27:03.771699Z",
     "start_time": "2025-09-05T06:27:03.765196Z"
    }
   },
   "outputs": [
    {
     "data": {
      "text/plain": [
       "DatetimeIndex(['2025-02-01', '2025-03-01', '2025-04-01', '2025-05-01',\n",
       "               '2025-06-01', '2025-07-01', '2025-08-01', '2025-09-01'],\n",
       "              dtype='datetime64[ns]', freq='MS')"
      ]
     },
     "execution_count": 25,
     "metadata": {},
     "output_type": "execute_result"
    }
   ],
   "execution_count": 25
  },
  {
   "cell_type": "code",
   "source": [
    "# A -> Year end\n",
    "pd.date_range(start='2025/1/5',end='2030/2/28',freq='YE')"
   ],
   "metadata": {
    "colab": {
     "base_uri": "https://localhost:8080/"
    },
    "id": "-OpW9ydF4-_f",
    "outputId": "d17fd89e-bee8-4733-b285-98d801a6bd33",
    "ExecuteTime": {
     "end_time": "2025-09-05T06:27:50.823145Z",
     "start_time": "2025-09-05T06:27:50.816385Z"
    }
   },
   "outputs": [
    {
     "data": {
      "text/plain": [
       "DatetimeIndex(['2025-12-31', '2026-12-31', '2027-12-31', '2028-12-31',\n",
       "               '2029-12-31'],\n",
       "              dtype='datetime64[ns]', freq='YE-DEC')"
      ]
     },
     "execution_count": 28,
     "metadata": {},
     "output_type": "execute_result"
    }
   ],
   "execution_count": 28
  },
  {
   "cell_type": "code",
   "source": [
    "# using periods(number of results) : generates specified number of results from the start date\n",
    "pd.date_range(start='2025/1/5',periods=25,freq='D')"
   ],
   "metadata": {
    "colab": {
     "base_uri": "https://localhost:8080/"
    },
    "id": "zUz1UWoQ5CQD",
    "outputId": "86860c7f-db85-4c2a-db68-28204a23d8d9",
    "ExecuteTime": {
     "end_time": "2025-09-05T06:30:32.007815Z",
     "start_time": "2025-09-05T06:30:32.000795Z"
    }
   },
   "outputs": [
    {
     "data": {
      "text/plain": [
       "DatetimeIndex(['2025-01-05', '2025-01-06', '2025-01-07', '2025-01-08',\n",
       "               '2025-01-09', '2025-01-10', '2025-01-11', '2025-01-12',\n",
       "               '2025-01-13', '2025-01-14', '2025-01-15', '2025-01-16',\n",
       "               '2025-01-17', '2025-01-18', '2025-01-19', '2025-01-20',\n",
       "               '2025-01-21', '2025-01-22', '2025-01-23', '2025-01-24',\n",
       "               '2025-01-25', '2025-01-26', '2025-01-27', '2025-01-28',\n",
       "               '2025-01-29'],\n",
       "              dtype='datetime64[ns]', freq='D')"
      ]
     },
     "execution_count": 33,
     "metadata": {},
     "output_type": "execute_result"
    }
   ],
   "execution_count": 33
  },
  {
   "metadata": {
    "ExecuteTime": {
     "end_time": "2025-09-05T06:31:03.653520Z",
     "start_time": "2025-09-05T06:31:03.644275Z"
    }
   },
   "cell_type": "code",
   "source": "pd.date_range(start='2025/1/5',periods=25,freq='YS')",
   "outputs": [
    {
     "data": {
      "text/plain": [
       "DatetimeIndex(['2026-01-01', '2027-01-01', '2028-01-01', '2029-01-01',\n",
       "               '2030-01-01', '2031-01-01', '2032-01-01', '2033-01-01',\n",
       "               '2034-01-01', '2035-01-01', '2036-01-01', '2037-01-01',\n",
       "               '2038-01-01', '2039-01-01', '2040-01-01', '2041-01-01',\n",
       "               '2042-01-01', '2043-01-01', '2044-01-01', '2045-01-01',\n",
       "               '2046-01-01', '2047-01-01', '2048-01-01', '2049-01-01',\n",
       "               '2050-01-01'],\n",
       "              dtype='datetime64[ns]', freq='YS-JAN')"
      ]
     },
     "execution_count": 35,
     "metadata": {},
     "output_type": "execute_result"
    }
   ],
   "execution_count": 35
  },
  {
   "cell_type": "markdown",
   "source": [
    "### to_datetime function\n",
    "\n",
    "converts an existing objects to pandas timestamp/datetimeindex object"
   ],
   "metadata": {
    "id": "gzxkbZjUx3Hd"
   }
  },
  {
   "cell_type": "code",
   "source": [
    "# simple series example\n",
    "\n",
    "s = pd.Series(['2023/1/1','2022/1/1','2021/1/1'])\n",
    "pd.to_datetime(s).dt.day_name()"
   ],
   "metadata": {
    "colab": {
     "base_uri": "https://localhost:8080/"
    },
    "id": "d4smd0-fD1Hw",
    "outputId": "af657c92-004c-4ca2-d800-da112122db93",
    "ExecuteTime": {
     "end_time": "2025-09-05T06:39:42.801100Z",
     "start_time": "2025-09-05T06:39:42.748955Z"
    }
   },
   "outputs": [
    {
     "data": {
      "text/plain": [
       "0      Sunday\n",
       "1    Saturday\n",
       "2      Friday\n",
       "dtype: object"
      ]
     },
     "execution_count": 36,
     "metadata": {},
     "output_type": "execute_result"
    }
   ],
   "execution_count": 36
  },
  {
   "cell_type": "code",
   "source": [
    "# with errors\n",
    "s = pd.Series(['2023/1/1','2022/1/1','2021/130/1'])\n",
    "pd.to_datetime(s,errors='coerce').dt.month_name()   # invalid date will be converted to NaT (Not a Time) , because of errors='coerce' ."
   ],
   "metadata": {
    "colab": {
     "base_uri": "https://localhost:8080/"
    },
    "id": "eMQPrIPHD3aO",
    "outputId": "7744ab7e-16aa-4d42-f18a-2863c7a33448",
    "ExecuteTime": {
     "end_time": "2025-09-05T06:41:03.561283Z",
     "start_time": "2025-09-05T06:41:03.516172Z"
    }
   },
   "outputs": [
    {
     "data": {
      "text/plain": [
       "0    January\n",
       "1    January\n",
       "2        NaN\n",
       "dtype: object"
      ]
     },
     "execution_count": 37,
     "metadata": {},
     "output_type": "execute_result"
    }
   ],
   "execution_count": 37
  },
  {
   "cell_type": "code",
   "source": [
    "df = pd.read_csv('../DataSets/expense_data.csv')\n",
    "df.shape"
   ],
   "metadata": {
    "colab": {
     "base_uri": "https://localhost:8080/"
    },
    "id": "yCCP7dyEx2WO",
    "outputId": "5f85bb01-1c1b-4df9-8353-240c2cda6e00",
    "ExecuteTime": {
     "end_time": "2025-09-05T06:43:07.687607Z",
     "start_time": "2025-09-05T06:43:07.678879Z"
    }
   },
   "outputs": [
    {
     "data": {
      "text/plain": [
       "(277, 11)"
      ]
     },
     "execution_count": 41,
     "metadata": {},
     "output_type": "execute_result"
    }
   ],
   "execution_count": 41
  },
  {
   "cell_type": "code",
   "source": [
    "df.head()"
   ],
   "metadata": {
    "colab": {
     "base_uri": "https://localhost:8080/",
     "height": 206
    },
    "id": "4wkwLHyn-F5T",
    "outputId": "b02ba229-3078-4516-fa14-05ed612addfb",
    "ExecuteTime": {
     "end_time": "2025-09-05T06:43:10.652226Z",
     "start_time": "2025-09-05T06:43:10.638836Z"
    }
   },
   "outputs": [
    {
     "data": {
      "text/plain": [
       "             Date               Account        Category  Subcategory  \\\n",
       "0  3/2/2022 10:11  CUB - online payment            Food          NaN   \n",
       "1  3/2/2022 10:11  CUB - online payment           Other          NaN   \n",
       "2  3/1/2022 19:50  CUB - online payment            Food          NaN   \n",
       "3  3/1/2022 18:56  CUB - online payment  Transportation          NaN   \n",
       "4  3/1/2022 18:22  CUB - online payment            Food          NaN   \n",
       "\n",
       "               Note    INR Income/Expense  Note.1  Amount Currency  Account.1  \n",
       "0           Brownie   50.0        Expense     NaN    50.0      INR       50.0  \n",
       "1  To lended people  300.0        Expense     NaN   300.0      INR      300.0  \n",
       "2            Dinner   78.0        Expense     NaN    78.0      INR       78.0  \n",
       "3             Metro   30.0        Expense     NaN    30.0      INR       30.0  \n",
       "4            Snacks   67.0        Expense     NaN    67.0      INR       67.0  "
      ],
      "text/html": [
       "<div>\n",
       "<style scoped>\n",
       "    .dataframe tbody tr th:only-of-type {\n",
       "        vertical-align: middle;\n",
       "    }\n",
       "\n",
       "    .dataframe tbody tr th {\n",
       "        vertical-align: top;\n",
       "    }\n",
       "\n",
       "    .dataframe thead th {\n",
       "        text-align: right;\n",
       "    }\n",
       "</style>\n",
       "<table border=\"1\" class=\"dataframe\">\n",
       "  <thead>\n",
       "    <tr style=\"text-align: right;\">\n",
       "      <th></th>\n",
       "      <th>Date</th>\n",
       "      <th>Account</th>\n",
       "      <th>Category</th>\n",
       "      <th>Subcategory</th>\n",
       "      <th>Note</th>\n",
       "      <th>INR</th>\n",
       "      <th>Income/Expense</th>\n",
       "      <th>Note.1</th>\n",
       "      <th>Amount</th>\n",
       "      <th>Currency</th>\n",
       "      <th>Account.1</th>\n",
       "    </tr>\n",
       "  </thead>\n",
       "  <tbody>\n",
       "    <tr>\n",
       "      <th>0</th>\n",
       "      <td>3/2/2022 10:11</td>\n",
       "      <td>CUB - online payment</td>\n",
       "      <td>Food</td>\n",
       "      <td>NaN</td>\n",
       "      <td>Brownie</td>\n",
       "      <td>50.0</td>\n",
       "      <td>Expense</td>\n",
       "      <td>NaN</td>\n",
       "      <td>50.0</td>\n",
       "      <td>INR</td>\n",
       "      <td>50.0</td>\n",
       "    </tr>\n",
       "    <tr>\n",
       "      <th>1</th>\n",
       "      <td>3/2/2022 10:11</td>\n",
       "      <td>CUB - online payment</td>\n",
       "      <td>Other</td>\n",
       "      <td>NaN</td>\n",
       "      <td>To lended people</td>\n",
       "      <td>300.0</td>\n",
       "      <td>Expense</td>\n",
       "      <td>NaN</td>\n",
       "      <td>300.0</td>\n",
       "      <td>INR</td>\n",
       "      <td>300.0</td>\n",
       "    </tr>\n",
       "    <tr>\n",
       "      <th>2</th>\n",
       "      <td>3/1/2022 19:50</td>\n",
       "      <td>CUB - online payment</td>\n",
       "      <td>Food</td>\n",
       "      <td>NaN</td>\n",
       "      <td>Dinner</td>\n",
       "      <td>78.0</td>\n",
       "      <td>Expense</td>\n",
       "      <td>NaN</td>\n",
       "      <td>78.0</td>\n",
       "      <td>INR</td>\n",
       "      <td>78.0</td>\n",
       "    </tr>\n",
       "    <tr>\n",
       "      <th>3</th>\n",
       "      <td>3/1/2022 18:56</td>\n",
       "      <td>CUB - online payment</td>\n",
       "      <td>Transportation</td>\n",
       "      <td>NaN</td>\n",
       "      <td>Metro</td>\n",
       "      <td>30.0</td>\n",
       "      <td>Expense</td>\n",
       "      <td>NaN</td>\n",
       "      <td>30.0</td>\n",
       "      <td>INR</td>\n",
       "      <td>30.0</td>\n",
       "    </tr>\n",
       "    <tr>\n",
       "      <th>4</th>\n",
       "      <td>3/1/2022 18:22</td>\n",
       "      <td>CUB - online payment</td>\n",
       "      <td>Food</td>\n",
       "      <td>NaN</td>\n",
       "      <td>Snacks</td>\n",
       "      <td>67.0</td>\n",
       "      <td>Expense</td>\n",
       "      <td>NaN</td>\n",
       "      <td>67.0</td>\n",
       "      <td>INR</td>\n",
       "      <td>67.0</td>\n",
       "    </tr>\n",
       "  </tbody>\n",
       "</table>\n",
       "</div>"
      ]
     },
     "execution_count": 42,
     "metadata": {},
     "output_type": "execute_result"
    }
   ],
   "execution_count": 42
  },
  {
   "metadata": {
    "ExecuteTime": {
     "end_time": "2025-09-05T06:43:58.315251Z",
     "start_time": "2025-09-05T06:43:58.303404Z"
    }
   },
   "cell_type": "code",
   "source": [
    "df.info()\n",
    "# since our date column is object type , we need to convert it to datetime type to perform datetime operations ."
   ],
   "outputs": [
    {
     "name": "stdout",
     "output_type": "stream",
     "text": [
      "<class 'pandas.core.frame.DataFrame'>\n",
      "RangeIndex: 277 entries, 0 to 276\n",
      "Data columns (total 11 columns):\n",
      " #   Column          Non-Null Count  Dtype  \n",
      "---  ------          --------------  -----  \n",
      " 0   Date            277 non-null    object \n",
      " 1   Account         277 non-null    object \n",
      " 2   Category        277 non-null    object \n",
      " 3   Subcategory     0 non-null      float64\n",
      " 4   Note            273 non-null    object \n",
      " 5   INR             277 non-null    float64\n",
      " 6   Income/Expense  277 non-null    object \n",
      " 7   Note.1          0 non-null      float64\n",
      " 8   Amount          277 non-null    float64\n",
      " 9   Currency        277 non-null    object \n",
      " 10  Account.1       277 non-null    float64\n",
      "dtypes: float64(5), object(6)\n",
      "memory usage: 23.9+ KB\n"
     ]
    }
   ],
   "execution_count": 44
  },
  {
   "cell_type": "code",
   "source": [
    "df['Date'] = pd.to_datetime(df['Date'])"
   ],
   "metadata": {
    "id": "-RyeFdJful1r",
    "ExecuteTime": {
     "end_time": "2025-09-05T06:44:00.059908Z",
     "start_time": "2025-09-05T06:44:00.049201Z"
    }
   },
   "outputs": [],
   "execution_count": 45
  },
  {
   "cell_type": "code",
   "source": [
    "df.info()"
   ],
   "metadata": {
    "colab": {
     "base_uri": "https://localhost:8080/"
    },
    "id": "LUeZsnxmu2OL",
    "outputId": "f05b21f5-ad0b-4fc7-a88a-b057dbce73ea",
    "ExecuteTime": {
     "end_time": "2025-09-05T06:44:00.794474Z",
     "start_time": "2025-09-05T06:44:00.784906Z"
    }
   },
   "outputs": [
    {
     "name": "stdout",
     "output_type": "stream",
     "text": [
      "<class 'pandas.core.frame.DataFrame'>\n",
      "RangeIndex: 277 entries, 0 to 276\n",
      "Data columns (total 11 columns):\n",
      " #   Column          Non-Null Count  Dtype         \n",
      "---  ------          --------------  -----         \n",
      " 0   Date            277 non-null    datetime64[ns]\n",
      " 1   Account         277 non-null    object        \n",
      " 2   Category        277 non-null    object        \n",
      " 3   Subcategory     0 non-null      float64       \n",
      " 4   Note            273 non-null    object        \n",
      " 5   INR             277 non-null    float64       \n",
      " 6   Income/Expense  277 non-null    object        \n",
      " 7   Note.1          0 non-null      float64       \n",
      " 8   Amount          277 non-null    float64       \n",
      " 9   Currency        277 non-null    object        \n",
      " 10  Account.1       277 non-null    float64       \n",
      "dtypes: datetime64[ns](1), float64(5), object(5)\n",
      "memory usage: 23.9+ KB\n"
     ]
    }
   ],
   "execution_count": 46
  },
  {
   "cell_type": "markdown",
   "source": [
    "### dt accessor\n",
    "\n",
    "Accessor object for datetimelike properties of the Series values."
   ],
   "metadata": {
    "id": "Y3yo25n0x6dn"
   }
  },
  {
   "metadata": {},
   "cell_type": "markdown",
   "source": [
    "- Extracting attributes\n",
    "    - year\n",
    "    - month\n",
    "    - day\n",
    "    - hour\n",
    "    - minute\n",
    "    - second\n",
    "    - dayofweek (Monday=0, Sunday=6)\n",
    "    - dayofyear         : Day of the year (1 to 365/366)\n",
    "    - week              : Week ordinal of the year (1 to 52/53). Same as `weekofyear`.\n",
    "    - weekofyear\n",
    "    - quarter           : Quarter of the date. Ranges from 1 to 4.\n",
    "    - is_month_start\n",
    "    - is_month_end\n",
    "    - is_quarter_start\n",
    "    - is_quarter_end\n",
    "    - is_year_start\n",
    "    - is_year_end\n",
    "    - is_leap_year      :  Boolean indicator if the year is a leap year.\n",
    "    - days_in_month     : Number of days in the month\n",
    "    - isocalendar       : Returns a DataFrame with ISO year, week number, and weekday.\n",
    "    - tz                : Time zone of the timestamp"
   ]
  },
  {
   "cell_type": "code",
   "source": [
    "df['Date'].dt.is_quarter_start"
   ],
   "metadata": {
    "colab": {
     "base_uri": "https://localhost:8080/"
    },
    "id": "rIJ6Yvmjx7xw",
    "outputId": "8c25fcc2-7e4c-4799-eac6-122770dfd8c6",
    "ExecuteTime": {
     "end_time": "2025-09-05T06:49:42.216426Z",
     "start_time": "2025-09-05T06:49:42.197708Z"
    }
   },
   "outputs": [
    {
     "data": {
      "text/plain": [
       "0      False\n",
       "1      False\n",
       "2      False\n",
       "3      False\n",
       "4      False\n",
       "       ...  \n",
       "272    False\n",
       "273    False\n",
       "274    False\n",
       "275    False\n",
       "276    False\n",
       "Name: Date, Length: 277, dtype: bool"
      ]
     },
     "execution_count": 48,
     "metadata": {},
     "output_type": "execute_result"
    }
   ],
   "execution_count": 48
  },
  {
   "cell_type": "code",
   "source": [
    "# plot graph\n",
    "import matplotlib.pyplot as plt\n",
    "plt.plot(df['Date'],df['INR'])"
   ],
   "metadata": {
    "colab": {
     "base_uri": "https://localhost:8080/",
     "height": 282
    },
    "id": "b1X1vV3h-klR",
    "outputId": "df91822d-85db-4b92-9d6e-1dd854b93986",
    "ExecuteTime": {
     "end_time": "2025-09-05T06:50:25.613523Z",
     "start_time": "2025-09-05T06:50:25.399813Z"
    }
   },
   "outputs": [
    {
     "data": {
      "text/plain": [
       "[<matplotlib.lines.Line2D at 0x226c2227ed0>]"
      ]
     },
     "execution_count": 50,
     "metadata": {},
     "output_type": "execute_result"
    },
    {
     "data": {
      "text/plain": [
       "<Figure size 640x480 with 1 Axes>"
      ],
      "image/png": "[encoded data removed]"
     },
     "metadata": {},
     "output_type": "display_data"
    }
   ],
   "execution_count": 50
  },
  {
   "cell_type": "code",
   "source": [
    "# day name wise bar chart/month wise bar chart\n",
    "\n",
    "df['day_name'] = df['Date'].dt.day_name()"
   ],
   "metadata": {
    "id": "F5aCfRqJEQHP",
    "ExecuteTime": {
     "end_time": "2025-09-05T06:50:49.675299Z",
     "start_time": "2025-09-05T06:50:49.670227Z"
    }
   },
   "outputs": [],
   "execution_count": 52
  },
  {
   "cell_type": "code",
   "source": [
    "df.head()"
   ],
   "metadata": {
    "colab": {
     "base_uri": "https://localhost:8080/",
     "height": 337
    },
    "id": "7dhq_RFuvirp",
    "outputId": "8c701d91-9847-4bf9-9506-2a568a4b775d",
    "ExecuteTime": {
     "end_time": "2025-09-05T06:50:51.071134Z",
     "start_time": "2025-09-05T06:50:51.053082Z"
    }
   },
   "outputs": [
    {
     "data": {
      "text/plain": [
       "                 Date               Account        Category  Subcategory  \\\n",
       "0 2022-03-02 10:11:00  CUB - online payment            Food          NaN   \n",
       "1 2022-03-02 10:11:00  CUB - online payment           Other          NaN   \n",
       "2 2022-03-01 19:50:00  CUB - online payment            Food          NaN   \n",
       "3 2022-03-01 18:56:00  CUB - online payment  Transportation          NaN   \n",
       "4 2022-03-01 18:22:00  CUB - online payment            Food          NaN   \n",
       "\n",
       "               Note    INR Income/Expense  Note.1  Amount Currency  Account.1  \\\n",
       "0           Brownie   50.0        Expense     NaN    50.0      INR       50.0   \n",
       "1  To lended people  300.0        Expense     NaN   300.0      INR      300.0   \n",
       "2            Dinner   78.0        Expense     NaN    78.0      INR       78.0   \n",
       "3             Metro   30.0        Expense     NaN    30.0      INR       30.0   \n",
       "4            Snacks   67.0        Expense     NaN    67.0      INR       67.0   \n",
       "\n",
       "    day_name  \n",
       "0  Wednesday  \n",
       "1  Wednesday  \n",
       "2    Tuesday  \n",
       "3    Tuesday  \n",
       "4    Tuesday  "
      ],
      "text/html": [
       "<div>\n",
       "<style scoped>\n",
       "    .dataframe tbody tr th:only-of-type {\n",
       "        vertical-align: middle;\n",
       "    }\n",
       "\n",
       "    .dataframe tbody tr th {\n",
       "        vertical-align: top;\n",
       "    }\n",
       "\n",
       "    .dataframe thead th {\n",
       "        text-align: right;\n",
       "    }\n",
       "</style>\n",
       "<table border=\"1\" class=\"dataframe\">\n",
       "  <thead>\n",
       "    <tr style=\"text-align: right;\">\n",
       "      <th></th>\n",
       "      <th>Date</th>\n",
       "      <th>Account</th>\n",
       "      <th>Category</th>\n",
       "      <th>Subcategory</th>\n",
       "      <th>Note</th>\n",
       "      <th>INR</th>\n",
       "      <th>Income/Expense</th>\n",
       "      <th>Note.1</th>\n",
       "      <th>Amount</th>\n",
       "      <th>Currency</th>\n",
       "      <th>Account.1</th>\n",
       "      <th>day_name</th>\n",
       "    </tr>\n",
       "  </thead>\n",
       "  <tbody>\n",
       "    <tr>\n",
       "      <th>0</th>\n",
       "      <td>2022-03-02 10:11:00</td>\n",
       "      <td>CUB - online payment</td>\n",
       "      <td>Food</td>\n",
       "      <td>NaN</td>\n",
       "      <td>Brownie</td>\n",
       "      <td>50.0</td>\n",
       "      <td>Expense</td>\n",
       "      <td>NaN</td>\n",
       "      <td>50.0</td>\n",
       "      <td>INR</td>\n",
       "      <td>50.0</td>\n",
       "      <td>Wednesday</td>\n",
       "    </tr>\n",
       "    <tr>\n",
       "      <th>1</th>\n",
       "      <td>2022-03-02 10:11:00</td>\n",
       "      <td>CUB - online payment</td>\n",
       "      <td>Other</td>\n",
       "      <td>NaN</td>\n",
       "      <td>To lended people</td>\n",
       "      <td>300.0</td>\n",
       "      <td>Expense</td>\n",
       "      <td>NaN</td>\n",
       "      <td>300.0</td>\n",
       "      <td>INR</td>\n",
       "      <td>300.0</td>\n",
       "      <td>Wednesday</td>\n",
       "    </tr>\n",
       "    <tr>\n",
       "      <th>2</th>\n",
       "      <td>2022-03-01 19:50:00</td>\n",
       "      <td>CUB - online payment</td>\n",
       "      <td>Food</td>\n",
       "      <td>NaN</td>\n",
       "      <td>Dinner</td>\n",
       "      <td>78.0</td>\n",
       "      <td>Expense</td>\n",
       "      <td>NaN</td>\n",
       "      <td>78.0</td>\n",
       "      <td>INR</td>\n",
       "      <td>78.0</td>\n",
       "      <td>Tuesday</td>\n",
       "    </tr>\n",
       "    <tr>\n",
       "      <th>3</th>\n",
       "      <td>2022-03-01 18:56:00</td>\n",
       "      <td>CUB - online payment</td>\n",
       "      <td>Transportation</td>\n",
       "      <td>NaN</td>\n",
       "      <td>Metro</td>\n",
       "      <td>30.0</td>\n",
       "      <td>Expense</td>\n",
       "      <td>NaN</td>\n",
       "      <td>30.0</td>\n",
       "      <td>INR</td>\n",
       "      <td>30.0</td>\n",
       "      <td>Tuesday</td>\n",
       "    </tr>\n",
       "    <tr>\n",
       "      <th>4</th>\n",
       "      <td>2022-03-01 18:22:00</td>\n",
       "      <td>CUB - online payment</td>\n",
       "      <td>Food</td>\n",
       "      <td>NaN</td>\n",
       "      <td>Snacks</td>\n",
       "      <td>67.0</td>\n",
       "      <td>Expense</td>\n",
       "      <td>NaN</td>\n",
       "      <td>67.0</td>\n",
       "      <td>INR</td>\n",
       "      <td>67.0</td>\n",
       "      <td>Tuesday</td>\n",
       "    </tr>\n",
       "  </tbody>\n",
       "</table>\n",
       "</div>"
      ]
     },
     "execution_count": 53,
     "metadata": {},
     "output_type": "execute_result"
    }
   ],
   "execution_count": 53
  },
  {
   "cell_type": "code",
   "source": [
    "df.groupby('day_name')['INR'].mean().plot(kind='bar')"
   ],
   "metadata": {
    "colab": {
     "base_uri": "https://localhost:8080/",
     "height": 348
    },
    "id": "z2PcN0iovnDb",
    "outputId": "80cd6a9c-531e-4adf-b822-03b437cdf625",
    "ExecuteTime": {
     "end_time": "2025-09-05T06:50:57.341415Z",
     "start_time": "2025-09-05T06:50:57.079928Z"
    }
   },
   "outputs": [
    {
     "data": {
      "text/plain": [
       "<Axes: xlabel='day_name'>"
      ]
     },
     "execution_count": 54,
     "metadata": {},
     "output_type": "execute_result"
    },
    {
     "data": {
      "text/plain": [
       "<Figure size 640x480 with 1 Axes>"
      ],
      "image/png": "[encoded data removed]"
     },
     "metadata": {},
     "output_type": "display_data"
    }
   ],
   "execution_count": 54
  },
  {
   "cell_type": "code",
   "source": [
    "df['month_name'] = df['Date'].dt.month_name()"
   ],
   "metadata": {
    "id": "ArhXjWUlvtdi",
    "ExecuteTime": {
     "end_time": "2025-09-05T06:52:16.950679Z",
     "start_time": "2025-09-05T06:52:16.941626Z"
    }
   },
   "outputs": [],
   "execution_count": 55
  },
  {
   "cell_type": "code",
   "source": [
    "df.head()"
   ],
   "metadata": {
    "colab": {
     "base_uri": "https://localhost:8080/",
     "height": 424
    },
    "id": "SPesh2cHv8p3",
    "outputId": "d9b5957c-bf2f-4993-fc58-419877c8b702",
    "ExecuteTime": {
     "end_time": "2025-09-05T06:52:17.752192Z",
     "start_time": "2025-09-05T06:52:17.733447Z"
    }
   },
   "outputs": [
    {
     "data": {
      "text/plain": [
       "                 Date               Account        Category  Subcategory  \\\n",
       "0 2022-03-02 10:11:00  CUB - online payment            Food          NaN   \n",
       "1 2022-03-02 10:11:00  CUB - online payment           Other          NaN   \n",
       "2 2022-03-01 19:50:00  CUB - online payment            Food          NaN   \n",
       "3 2022-03-01 18:56:00  CUB - online payment  Transportation          NaN   \n",
       "4 2022-03-01 18:22:00  CUB - online payment            Food          NaN   \n",
       "\n",
       "               Note    INR Income/Expense  Note.1  Amount Currency  Account.1  \\\n",
       "0           Brownie   50.0        Expense     NaN    50.0      INR       50.0   \n",
       "1  To lended people  300.0        Expense     NaN   300.0      INR      300.0   \n",
       "2            Dinner   78.0        Expense     NaN    78.0      INR       78.0   \n",
       "3             Metro   30.0        Expense     NaN    30.0      INR       30.0   \n",
       "4            Snacks   67.0        Expense     NaN    67.0      INR       67.0   \n",
       "\n",
       "    day_name month_name  \n",
       "0  Wednesday      March  \n",
       "1  Wednesday      March  \n",
       "2    Tuesday      March  \n",
       "3    Tuesday      March  \n",
       "4    Tuesday      March  "
      ],
      "text/html": [
       "<div>\n",
       "<style scoped>\n",
       "    .dataframe tbody tr th:only-of-type {\n",
       "        vertical-align: middle;\n",
       "    }\n",
       "\n",
       "    .dataframe tbody tr th {\n",
       "        vertical-align: top;\n",
       "    }\n",
       "\n",
       "    .dataframe thead th {\n",
       "        text-align: right;\n",
       "    }\n",
       "</style>\n",
       "<table border=\"1\" class=\"dataframe\">\n",
       "  <thead>\n",
       "    <tr style=\"text-align: right;\">\n",
       "      <th></th>\n",
       "      <th>Date</th>\n",
       "      <th>Account</th>\n",
       "      <th>Category</th>\n",
       "      <th>Subcategory</th>\n",
       "      <th>Note</th>\n",
       "      <th>INR</th>\n",
       "      <th>Income/Expense</th>\n",
       "      <th>Note.1</th>\n",
       "      <th>Amount</th>\n",
       "      <th>Currency</th>\n",
       "      <th>Account.1</th>\n",
       "      <th>day_name</th>\n",
       "      <th>month_name</th>\n",
       "    </tr>\n",
       "  </thead>\n",
       "  <tbody>\n",
       "    <tr>\n",
       "      <th>0</th>\n",
       "      <td>2022-03-02 10:11:00</td>\n",
       "      <td>CUB - online payment</td>\n",
       "      <td>Food</td>\n",
       "      <td>NaN</td>\n",
       "      <td>Brownie</td>\n",
       "      <td>50.0</td>\n",
       "      <td>Expense</td>\n",
       "      <td>NaN</td>\n",
       "      <td>50.0</td>\n",
       "      <td>INR</td>\n",
       "      <td>50.0</td>\n",
       "      <td>Wednesday</td>\n",
       "      <td>March</td>\n",
       "    </tr>\n",
       "    <tr>\n",
       "      <th>1</th>\n",
       "      <td>2022-03-02 10:11:00</td>\n",
       "      <td>CUB - online payment</td>\n",
       "      <td>Other</td>\n",
       "      <td>NaN</td>\n",
       "      <td>To lended people</td>\n",
       "      <td>300.0</td>\n",
       "      <td>Expense</td>\n",
       "      <td>NaN</td>\n",
       "      <td>300.0</td>\n",
       "      <td>INR</td>\n",
       "      <td>300.0</td>\n",
       "      <td>Wednesday</td>\n",
       "      <td>March</td>\n",
       "    </tr>\n",
       "    <tr>\n",
       "      <th>2</th>\n",
       "      <td>2022-03-01 19:50:00</td>\n",
       "      <td>CUB - online payment</td>\n",
       "      <td>Food</td>\n",
       "      <td>NaN</td>\n",
       "      <td>Dinner</td>\n",
       "      <td>78.0</td>\n",
       "      <td>Expense</td>\n",
       "      <td>NaN</td>\n",
       "      <td>78.0</td>\n",
       "      <td>INR</td>\n",
       "      <td>78.0</td>\n",
       "      <td>Tuesday</td>\n",
       "      <td>March</td>\n",
       "    </tr>\n",
       "    <tr>\n",
       "      <th>3</th>\n",
       "      <td>2022-03-01 18:56:00</td>\n",
       "      <td>CUB - online payment</td>\n",
       "      <td>Transportation</td>\n",
       "      <td>NaN</td>\n",
       "      <td>Metro</td>\n",
       "      <td>30.0</td>\n",
       "      <td>Expense</td>\n",
       "      <td>NaN</td>\n",
       "      <td>30.0</td>\n",
       "      <td>INR</td>\n",
       "      <td>30.0</td>\n",
       "      <td>Tuesday</td>\n",
       "      <td>March</td>\n",
       "    </tr>\n",
       "    <tr>\n",
       "      <th>4</th>\n",
       "      <td>2022-03-01 18:22:00</td>\n",
       "      <td>CUB - online payment</td>\n",
       "      <td>Food</td>\n",
       "      <td>NaN</td>\n",
       "      <td>Snacks</td>\n",
       "      <td>67.0</td>\n",
       "      <td>Expense</td>\n",
       "      <td>NaN</td>\n",
       "      <td>67.0</td>\n",
       "      <td>INR</td>\n",
       "      <td>67.0</td>\n",
       "      <td>Tuesday</td>\n",
       "      <td>March</td>\n",
       "    </tr>\n",
       "  </tbody>\n",
       "</table>\n",
       "</div>"
      ]
     },
     "execution_count": 56,
     "metadata": {},
     "output_type": "execute_result"
    }
   ],
   "execution_count": 56
  },
  {
   "cell_type": "code",
   "source": [
    "df.groupby('month_name')['INR'].sum().plot(kind='bar')"
   ],
   "metadata": {
    "colab": {
     "base_uri": "https://localhost:8080/",
     "height": 339
    },
    "id": "sJWkzRWfv9nW",
    "outputId": "f95bd264-34d7-4882-9a21-3140b3c36732",
    "ExecuteTime": {
     "end_time": "2025-09-05T06:52:19.151340Z",
     "start_time": "2025-09-05T06:52:18.935142Z"
    }
   },
   "outputs": [
    {
     "data": {
      "text/plain": [
       "<Axes: xlabel='month_name'>"
      ]
     },
     "execution_count": 57,
     "metadata": {},
     "output_type": "execute_result"
    },
    {
     "data": {
      "text/plain": [
       "<Figure size 640x480 with 1 Axes>"
      ],
      "image/png": "[encoded data removed]"
     },
     "metadata": {},
     "output_type": "display_data"
    }
   ],
   "execution_count": 57
  }
 ]
}
