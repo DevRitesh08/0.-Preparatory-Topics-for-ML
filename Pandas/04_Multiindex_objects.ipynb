{
 "nbformat": 4,
 "nbformat_minor": 0,
 "metadata": {
  "colab": {
   "provenance": []
  },
  "kernelspec": {
   "name": "python3",
   "display_name": "Python 3 (ipykernel)",
   "language": "python"
  },
  "language_info": {
   "name": "python"
  }
 },
 "cells": [
  {
   "metadata": {},
   "cell_type": "markdown",
   "source": [
    "# Multiindex Objects\n",
    "- Single index -> one level of indexing\n",
    "- Multiple index -> multiple levels of indexing\n",
    "- Why multiple index?\n",
    "    - Real world data is often multi-dimensional\n",
    "    - More intuitive representation of data\n",
    "    - Easier to perform operations on subsets of data\n",
    "    - Better organization and hierarchy\n",
    "- Can be used in both Series and DataFrame"
   ]
  },
  {
   "cell_type": "code",
   "source": [
    "import numpy as np\n",
    "import pandas as pd"
   ],
   "metadata": {
    "id": "98QCiil7L814",
    "ExecuteTime": {
     "end_time": "2025-09-03T12:02:15.629081Z",
     "start_time": "2025-09-03T12:02:11.291744Z"
    }
   },
   "outputs": [],
   "execution_count": 1
  },
  {
   "cell_type": "code",
   "source": [
    "# can we have multiple index? Let's try\n",
    "index_val = [('cse',2019),('cse',2020),('cse',2021),('cse',2022),('ece',2019),('ece',2020),('ece',2021),('ece',2022)]\n",
    "a = pd.Series([124,232,323,345,654,634,723,842],index=index_val)\n",
    "a"
   ],
   "metadata": {
    "id": "SmrWrNlmbzDO",
    "colab": {
     "base_uri": "https://localhost:8080/"
    },
    "outputId": "071e027a-72ad-4c32-8856-6607138cdf64",
    "ExecuteTime": {
     "end_time": "2025-09-03T12:31:47.025629Z",
     "start_time": "2025-09-03T12:31:47.016481Z"
    }
   },
   "outputs": [
    {
     "data": {
      "text/plain": [
       "(cse, 2019)    124\n",
       "(cse, 2020)    232\n",
       "(cse, 2021)    323\n",
       "(cse, 2022)    345\n",
       "(ece, 2019)    654\n",
       "(ece, 2020)    634\n",
       "(ece, 2021)    723\n",
       "(ece, 2022)    842\n",
       "dtype: int64"
      ]
     },
     "execution_count": 5,
     "metadata": {},
     "output_type": "execute_result"
    }
   ],
   "execution_count": 5
  },
  {
   "metadata": {
    "ExecuteTime": {
     "end_time": "2025-09-03T12:32:19.120120Z",
     "start_time": "2025-09-03T12:32:19.114440Z"
    }
   },
   "cell_type": "code",
   "source": "a['ece',2021]",
   "outputs": [
    {
     "data": {
      "text/plain": [
       "np.int64(723)"
      ]
     },
     "execution_count": 6,
     "metadata": {},
     "output_type": "execute_result"
    }
   ],
   "execution_count": 6
  },
  {
   "metadata": {},
   "cell_type": "markdown",
   "source": [
    "### Problem with above approach ?\n",
    "- Less intuitive representation of data (we have to remember the order of indices) .\n",
    "- Hard to perform operations on subsets of data (we have to specify all the indices) ."
   ]
  },
  {
   "cell_type": "code",
   "source": [
    "# Here if we try to fetch all the cse values , it throws an error because in this case we can't extract all the cse values directly since the indices depend on each other\n",
    "a['cse']"
   ],
   "metadata": {
    "id": "hXBRrrsbT_l_",
    "colab": {
     "base_uri": "https://localhost:8080/",
     "height": 503
    },
    "outputId": "b0855fa0-907a-429f-8f68-8d03a860a8c3"
   },
   "outputs": [],
   "execution_count": null
  },
  {
   "metadata": {},
   "cell_type": "markdown",
   "source": [
    "### Solution\n",
    "- We can use a `Multiindex series to solve this problem , it is also known as `Hierarchical Indexing` .\n",
    "- A multiindex series allows us to have multiple levels of indexing in a single index object  , which makes it easier to perform operations on subsets of data and provides a more intuitive representation of the data.\n",
    "- We can create a multiindex series using the pd.MultiIndex.from_tuples() or pd.MultiIndex.from_product() methods."
   ]
  },
  {
   "metadata": {},
   "cell_type": "markdown",
   "source": [
    "`NOTE :` to identify the dimension of an object we will check like how many values we have to provide in order to extract one particular value from that object .\n",
    "- ex : in case of a 2D array we have to provide 2 values (row and column) to extract one particular value from that array .\n",
    " - also in multiindex series we have to provide 2 values (level 0 and level 1) to extract one particular value from that series , hence it is a 2D object ."
   ]
  },
  {
   "metadata": {},
   "cell_type": "markdown",
   "source": [
    "## 1. `pd.MultiIndex.from_tuples()`\n",
    "- Creates a multiindex object from a list of tuples, where first element of each tuple represents the first level of the index, second element represents the second level, and so on.\n",
    "- We can access the levels of the multiindex object using the `levels` attribute.\n",
    "- We can also access the individual levels of the multiindex object using indexing."
   ]
  },
  {
   "cell_type": "code",
   "source": [
    "index_val = [('cse',2019),('cse',2020),('cse',2021),('cse',2022),('ece',2019),('ece',2020),('ece',2021),('ece',2022)]\n",
    "multiindex = pd.MultiIndex.from_tuples(index_val)\n",
    "multiindex.levels"
   ],
   "metadata": {
    "id": "RJuoSzqWUV6k",
    "colab": {
     "base_uri": "https://localhost:8080/"
    },
    "outputId": "e713cd35-a368-4c9f-a3da-74da32adc6d4",
    "ExecuteTime": {
     "end_time": "2025-09-03T14:29:16.750901Z",
     "start_time": "2025-09-03T14:29:16.687191Z"
    }
   },
   "outputs": [
    {
     "data": {
      "text/plain": [
       "FrozenList([['cse', 'ece'], [2019, 2020, 2021, 2022]])"
      ]
     },
     "execution_count": 8,
     "metadata": {},
     "output_type": "execute_result"
    }
   ],
   "execution_count": 8
  },
  {
   "metadata": {
    "ExecuteTime": {
     "end_time": "2025-09-03T14:29:41.144814Z",
     "start_time": "2025-09-03T14:29:41.137272Z"
    }
   },
   "cell_type": "code",
   "source": "multiindex.levels[0]",
   "outputs": [
    {
     "data": {
      "text/plain": [
       "Index(['cse', 'ece'], dtype='object')"
      ]
     },
     "execution_count": 10,
     "metadata": {},
     "output_type": "execute_result"
    }
   ],
   "execution_count": 10
  },
  {
   "metadata": {},
   "cell_type": "markdown",
   "source": [
    "## 2. `pd.MultiIndex.from_product()`\n",
    "- Creates a multiindex object from the cartesian product of multiple iterables.\n",
    "- This method is useful when we want to create a multiindex object with all possible combinations of the levels.\n",
    "- We can access the levels of the multiindex object using the `levels` attribute.\n",
    "- We can also access the individual levels of the multiindex object using indexing."
   ]
  },
  {
   "metadata": {
    "ExecuteTime": {
     "end_time": "2025-09-03T14:33:02.215481Z",
     "start_time": "2025-09-03T14:33:02.194542Z"
    }
   },
   "cell_type": "code",
   "source": "pd.MultiIndex.from_product([['cse','ece'],[2019,2020,2021,2022]])",
   "outputs": [
    {
     "data": {
      "text/plain": [
       "MultiIndex([('cse', 2019),\n",
       "            ('cse', 2020),\n",
       "            ('cse', 2021),\n",
       "            ('cse', 2022),\n",
       "            ('ece', 2019),\n",
       "            ('ece', 2020),\n",
       "            ('ece', 2021),\n",
       "            ('ece', 2022)],\n",
       "           )"
      ]
     },
     "execution_count": 11,
     "metadata": {},
     "output_type": "execute_result"
    }
   ],
   "execution_count": 11
  },
  {
   "cell_type": "code",
   "source": [
    "# level inside multiindex object\n",
    "multiindex.levels[1]"
   ],
   "metadata": {
    "id": "YsqRzlCXZYOt",
    "ExecuteTime": {
     "end_time": "2025-09-03T14:33:38.448553Z",
     "start_time": "2025-09-03T14:33:38.443022Z"
    }
   },
   "outputs": [
    {
     "data": {
      "text/plain": [
       "Index([2019, 2020, 2021, 2022], dtype='int64')"
      ]
     },
     "execution_count": 12,
     "metadata": {},
     "output_type": "execute_result"
    }
   ],
   "execution_count": 12
  },
  {
   "metadata": {},
   "cell_type": "markdown",
   "source": [
    "### Creating a series with multiindex object\n",
    "- We can create a series with a multiindex object by passing the multiindex object as the index parameter while creating the series.\n",
    "- We can then access the values in the series using the multi-level index.\n",
    "- We can also use the `unstack()` and `stack()` methods to reshape the series."
   ]
  },
  {
   "cell_type": "code",
   "source": [
    "s = pd.Series([123,232,133,434,523,623,237,238],index=multiindex )\n",
    "s"
   ],
   "metadata": {
    "id": "kIPkU7PPeEtj",
    "colab": {
     "base_uri": "https://localhost:8080/"
    },
    "outputId": "eb46c145-1872-4554-ffec-c19f84d0216f",
    "ExecuteTime": {
     "end_time": "2025-09-03T16:09:47.625709Z",
     "start_time": "2025-09-03T16:09:47.617955Z"
    }
   },
   "outputs": [
    {
     "data": {
      "text/plain": [
       "cse  2019    123\n",
       "     2020    232\n",
       "     2021    133\n",
       "     2022    434\n",
       "ece  2019    523\n",
       "     2020    623\n",
       "     2021    237\n",
       "     2022    238\n",
       "dtype: int64"
      ]
     },
     "execution_count": 43,
     "metadata": {},
     "output_type": "execute_result"
    }
   ],
   "execution_count": 43
  },
  {
   "metadata": {
    "ExecuteTime": {
     "end_time": "2025-09-03T16:10:09.046486Z",
     "start_time": "2025-09-03T16:10:09.033559Z"
    }
   },
   "cell_type": "code",
   "source": [
    "# how to fetch items from such a series\n",
    "# multiple labels\n",
    "s.loc[[('cse', 2020), ('ece', 2021)]]"
   ],
   "outputs": [
    {
     "data": {
      "text/plain": [
       "cse  2020    232\n",
       "ece  2021    237\n",
       "dtype: int64"
      ]
     },
     "execution_count": 44,
     "metadata": {},
     "output_type": "execute_result"
    }
   ],
   "execution_count": 44
  },
  {
   "cell_type": "code",
   "source": "s['cse']",
   "metadata": {
    "id": "I0JYeiereIPO",
    "colab": {
     "base_uri": "https://localhost:8080/"
    },
    "outputId": "e631879c-5ca8-43e3-9a21-7ac2cc216b58",
    "ExecuteTime": {
     "end_time": "2025-09-03T16:10:13.203691Z",
     "start_time": "2025-09-03T16:10:13.196519Z"
    }
   },
   "outputs": [
    {
     "data": {
      "text/plain": [
       "2019    123\n",
       "2020    232\n",
       "2021    133\n",
       "2022    434\n",
       "dtype: int64"
      ]
     },
     "execution_count": 45,
     "metadata": {},
     "output_type": "execute_result"
    }
   ],
   "execution_count": 45
  },
  {
   "metadata": {},
   "cell_type": "markdown",
   "source": [
    "## A logical question to ask ??\n",
    "- since here we need 2 values to extract one particular value from this series so it is 2-D , then why not use a dataframe instead of multiindex series ?\n",
    "- Answer : because multiindex series provides a more intuitive representation of the data and makes it easier to perform operations on subsets of data.\n",
    "    - Also multiindex series can be easily reshaped using the unstack() and stack() methods.\n",
    "    - These methods allow us to convert the multiindex series into a dataframe and vice versa, which can be useful for data analysis and visualization."
   ]
  },
  {
   "cell_type": "code",
   "source": [
    "# unstack\n",
    "temp = s.unstack()\n",
    "temp"
   ],
   "metadata": {
    "id": "9hZjSiHaenU7",
    "colab": {
     "base_uri": "https://localhost:8080/",
     "height": 112
    },
    "outputId": "7193dcb0-afbc-4076-dd2b-6e304f21d675",
    "ExecuteTime": {
     "end_time": "2025-09-03T14:53:50.829433Z",
     "start_time": "2025-09-03T14:53:50.800973Z"
    }
   },
   "outputs": [
    {
     "data": {
      "text/plain": [
       "     2019  2020  2021  2022\n",
       "cse   123   232   133   434\n",
       "ece   523   623   237   238"
      ],
      "text/html": [
       "<div>\n",
       "<style scoped>\n",
       "    .dataframe tbody tr th:only-of-type {\n",
       "        vertical-align: middle;\n",
       "    }\n",
       "\n",
       "    .dataframe tbody tr th {\n",
       "        vertical-align: top;\n",
       "    }\n",
       "\n",
       "    .dataframe thead th {\n",
       "        text-align: right;\n",
       "    }\n",
       "</style>\n",
       "<table border=\"1\" class=\"dataframe\">\n",
       "  <thead>\n",
       "    <tr style=\"text-align: right;\">\n",
       "      <th></th>\n",
       "      <th>2019</th>\n",
       "      <th>2020</th>\n",
       "      <th>2021</th>\n",
       "      <th>2022</th>\n",
       "    </tr>\n",
       "  </thead>\n",
       "  <tbody>\n",
       "    <tr>\n",
       "      <th>cse</th>\n",
       "      <td>123</td>\n",
       "      <td>232</td>\n",
       "      <td>133</td>\n",
       "      <td>434</td>\n",
       "    </tr>\n",
       "    <tr>\n",
       "      <th>ece</th>\n",
       "      <td>523</td>\n",
       "      <td>623</td>\n",
       "      <td>237</td>\n",
       "      <td>238</td>\n",
       "    </tr>\n",
       "  </tbody>\n",
       "</table>\n",
       "</div>"
      ]
     },
     "execution_count": 27,
     "metadata": {},
     "output_type": "execute_result"
    }
   ],
   "execution_count": 27
  },
  {
   "metadata": {
    "ExecuteTime": {
     "end_time": "2025-09-03T14:54:10.462574Z",
     "start_time": "2025-09-03T14:54:10.458956Z"
    }
   },
   "cell_type": "code",
   "source": "type(temp)",
   "outputs": [
    {
     "data": {
      "text/plain": [
       "pandas.core.frame.DataFrame"
      ]
     },
     "execution_count": 28,
     "metadata": {},
     "output_type": "execute_result"
    }
   ],
   "execution_count": 28
  },
  {
   "cell_type": "code",
   "source": [
    "# stack\n",
    "x = temp.stack()\n",
    "x"
   ],
   "metadata": {
    "id": "QwtwuWM-epNV",
    "colab": {
     "base_uri": "https://localhost:8080/"
    },
    "outputId": "2331018c-48f2-41b0-ce15-610c61737366",
    "ExecuteTime": {
     "end_time": "2025-09-03T14:54:40.031536Z",
     "start_time": "2025-09-03T14:54:40.019934Z"
    }
   },
   "outputs": [
    {
     "data": {
      "text/plain": [
       "cse  2019    123\n",
       "     2020    232\n",
       "     2021    133\n",
       "     2022    434\n",
       "ece  2019    523\n",
       "     2020    623\n",
       "     2021    237\n",
       "     2022    238\n",
       "dtype: int64"
      ]
     },
     "execution_count": 31,
     "metadata": {},
     "output_type": "execute_result"
    }
   ],
   "execution_count": 31
  },
  {
   "metadata": {
    "ExecuteTime": {
     "end_time": "2025-09-03T14:54:46.669862Z",
     "start_time": "2025-09-03T14:54:46.664428Z"
    }
   },
   "cell_type": "code",
   "source": "type(x)",
   "outputs": [
    {
     "data": {
      "text/plain": [
       "pandas.core.series.Series"
      ]
     },
     "execution_count": 32,
     "metadata": {},
     "output_type": "execute_result"
    }
   ],
   "execution_count": 32
  },
  {
   "metadata": {},
   "cell_type": "markdown",
   "source": [
    "### Then what was the point of multiindex series?\n",
    "- its main usage is to represent a n dimensional data in a 2D or 1D format ."
   ]
  },
  {
   "metadata": {},
   "cell_type": "markdown",
   "source": "## multiindex dataframe"
  },
  {
   "cell_type": "code",
   "source": [
    "branch_df1 = pd.DataFrame(\n",
    "    [\n",
    "        [1,2],\n",
    "        [3,4],\n",
    "        [5,6],\n",
    "        [7,8],\n",
    "        [9,10],\n",
    "        [11,12],\n",
    "        [13,14],\n",
    "        [15,16],\n",
    "    ],\n",
    "    index = multiindex,\n",
    "    columns = ['avg_package','students']\n",
    ")\n",
    "\n",
    "branch_df1"
   ],
   "metadata": {
    "colab": {
     "base_uri": "https://localhost:8080/",
     "height": 300
    },
    "id": "STvelH5KkMpJ",
    "outputId": "ddbdec50-0150-40ba-db1b-db9ad118bb68",
    "ExecuteTime": {
     "end_time": "2025-09-03T16:10:23.942046Z",
     "start_time": "2025-09-03T16:10:23.932675Z"
    }
   },
   "outputs": [
    {
     "data": {
      "text/plain": [
       "          avg_package  students\n",
       "cse 2019            1         2\n",
       "    2020            3         4\n",
       "    2021            5         6\n",
       "    2022            7         8\n",
       "ece 2019            9        10\n",
       "    2020           11        12\n",
       "    2021           13        14\n",
       "    2022           15        16"
      ],
      "text/html": [
       "<div>\n",
       "<style scoped>\n",
       "    .dataframe tbody tr th:only-of-type {\n",
       "        vertical-align: middle;\n",
       "    }\n",
       "\n",
       "    .dataframe tbody tr th {\n",
       "        vertical-align: top;\n",
       "    }\n",
       "\n",
       "    .dataframe thead th {\n",
       "        text-align: right;\n",
       "    }\n",
       "</style>\n",
       "<table border=\"1\" class=\"dataframe\">\n",
       "  <thead>\n",
       "    <tr style=\"text-align: right;\">\n",
       "      <th></th>\n",
       "      <th></th>\n",
       "      <th>avg_package</th>\n",
       "      <th>students</th>\n",
       "    </tr>\n",
       "  </thead>\n",
       "  <tbody>\n",
       "    <tr>\n",
       "      <th rowspan=\"4\" valign=\"top\">cse</th>\n",
       "      <th>2019</th>\n",
       "      <td>1</td>\n",
       "      <td>2</td>\n",
       "    </tr>\n",
       "    <tr>\n",
       "      <th>2020</th>\n",
       "      <td>3</td>\n",
       "      <td>4</td>\n",
       "    </tr>\n",
       "    <tr>\n",
       "      <th>2021</th>\n",
       "      <td>5</td>\n",
       "      <td>6</td>\n",
       "    </tr>\n",
       "    <tr>\n",
       "      <th>2022</th>\n",
       "      <td>7</td>\n",
       "      <td>8</td>\n",
       "    </tr>\n",
       "    <tr>\n",
       "      <th rowspan=\"4\" valign=\"top\">ece</th>\n",
       "      <th>2019</th>\n",
       "      <td>9</td>\n",
       "      <td>10</td>\n",
       "    </tr>\n",
       "    <tr>\n",
       "      <th>2020</th>\n",
       "      <td>11</td>\n",
       "      <td>12</td>\n",
       "    </tr>\n",
       "    <tr>\n",
       "      <th>2021</th>\n",
       "      <td>13</td>\n",
       "      <td>14</td>\n",
       "    </tr>\n",
       "    <tr>\n",
       "      <th>2022</th>\n",
       "      <td>15</td>\n",
       "      <td>16</td>\n",
       "    </tr>\n",
       "  </tbody>\n",
       "</table>\n",
       "</div>"
      ]
     },
     "execution_count": 46,
     "metadata": {},
     "output_type": "execute_result"
    }
   ],
   "execution_count": 46
  },
  {
   "metadata": {},
   "cell_type": "markdown",
   "source": "- this is a 3d object since we need 3 values (level 0 , level 1 and column) to extract one particular value from this dataframe ."
  },
  {
   "metadata": {
    "ExecuteTime": {
     "end_time": "2025-09-03T16:11:51.334057Z",
     "start_time": "2025-09-03T16:11:51.325613Z"
    }
   },
   "cell_type": "code",
   "source": "branch_df1.loc['ece']",
   "outputs": [
    {
     "data": {
      "text/plain": [
       "      avg_package  students\n",
       "2019            9        10\n",
       "2020           11        12\n",
       "2021           13        14\n",
       "2022           15        16"
      ],
      "text/html": [
       "<div>\n",
       "<style scoped>\n",
       "    .dataframe tbody tr th:only-of-type {\n",
       "        vertical-align: middle;\n",
       "    }\n",
       "\n",
       "    .dataframe tbody tr th {\n",
       "        vertical-align: top;\n",
       "    }\n",
       "\n",
       "    .dataframe thead th {\n",
       "        text-align: right;\n",
       "    }\n",
       "</style>\n",
       "<table border=\"1\" class=\"dataframe\">\n",
       "  <thead>\n",
       "    <tr style=\"text-align: right;\">\n",
       "      <th></th>\n",
       "      <th>avg_package</th>\n",
       "      <th>students</th>\n",
       "    </tr>\n",
       "  </thead>\n",
       "  <tbody>\n",
       "    <tr>\n",
       "      <th>2019</th>\n",
       "      <td>9</td>\n",
       "      <td>10</td>\n",
       "    </tr>\n",
       "    <tr>\n",
       "      <th>2020</th>\n",
       "      <td>11</td>\n",
       "      <td>12</td>\n",
       "    </tr>\n",
       "    <tr>\n",
       "      <th>2021</th>\n",
       "      <td>13</td>\n",
       "      <td>14</td>\n",
       "    </tr>\n",
       "    <tr>\n",
       "      <th>2022</th>\n",
       "      <td>15</td>\n",
       "      <td>16</td>\n",
       "    </tr>\n",
       "  </tbody>\n",
       "</table>\n",
       "</div>"
      ]
     },
     "execution_count": 50,
     "metadata": {},
     "output_type": "execute_result"
    }
   ],
   "execution_count": 50
  },
  {
   "cell_type": "code",
   "source": [
    "branch_df1['students']"
   ],
   "metadata": {
    "colab": {
     "base_uri": "https://localhost:8080/"
    },
    "id": "MrqkpYazKz7l",
    "outputId": "d793f019-e911-4dd0-82b1-b8bf7e2dec18",
    "ExecuteTime": {
     "end_time": "2025-09-03T16:10:24.663695Z",
     "start_time": "2025-09-03T16:10:24.656058Z"
    }
   },
   "outputs": [
    {
     "data": {
      "text/plain": [
       "cse  2019     2\n",
       "     2020     4\n",
       "     2021     6\n",
       "     2022     8\n",
       "ece  2019    10\n",
       "     2020    12\n",
       "     2021    14\n",
       "     2022    16\n",
       "Name: students, dtype: int64"
      ]
     },
     "execution_count": 47,
     "metadata": {},
     "output_type": "execute_result"
    }
   ],
   "execution_count": 47
  },
  {
   "metadata": {},
   "cell_type": "markdown",
   "source": [
    "# Are columns really different from index?\n",
    "- pandas at implementation level treats both index and columns as similar entities .\n",
    "- since we just created a multiindex dataframe using multiindex object as index , then why not use multiindex object as columns ?\n",
    "- let's see how to do that ."
   ]
  },
  {
   "cell_type": "code",
   "source": [
    "# multiindex df from columns perspective\n",
    "branch_df2 = pd.DataFrame(\n",
    "    [\n",
    "        [1,2,0,0],\n",
    "        [3,4,0,0],\n",
    "        [5,6,0,0],\n",
    "        [7,8,0,0],\n",
    "    ],\n",
    "    index = [2019,2020,2021,2022],\n",
    "    columns = pd.MultiIndex.from_product([['delhi','mumbai'],['avg_package','students']])\n",
    ")\n",
    "\n",
    "branch_df2"
   ],
   "metadata": {
    "colab": {
     "base_uri": "https://localhost:8080/",
     "height": 206
    },
    "id": "iC1mCUnJCC4H",
    "outputId": "563fe540-d02f-47c5-cfcd-96861c772eca",
    "ExecuteTime": {
     "end_time": "2025-09-03T16:24:58.092956Z",
     "start_time": "2025-09-03T16:24:58.071201Z"
    }
   },
   "outputs": [
    {
     "data": {
      "text/plain": [
       "           delhi               mumbai         \n",
       "     avg_package students avg_package students\n",
       "2019           1        2           0        0\n",
       "2020           3        4           0        0\n",
       "2021           5        6           0        0\n",
       "2022           7        8           0        0"
      ],
      "text/html": [
       "<div>\n",
       "<style scoped>\n",
       "    .dataframe tbody tr th:only-of-type {\n",
       "        vertical-align: middle;\n",
       "    }\n",
       "\n",
       "    .dataframe tbody tr th {\n",
       "        vertical-align: top;\n",
       "    }\n",
       "\n",
       "    .dataframe thead tr th {\n",
       "        text-align: left;\n",
       "    }\n",
       "</style>\n",
       "<table border=\"1\" class=\"dataframe\">\n",
       "  <thead>\n",
       "    <tr>\n",
       "      <th></th>\n",
       "      <th colspan=\"2\" halign=\"left\">delhi</th>\n",
       "      <th colspan=\"2\" halign=\"left\">mumbai</th>\n",
       "    </tr>\n",
       "    <tr>\n",
       "      <th></th>\n",
       "      <th>avg_package</th>\n",
       "      <th>students</th>\n",
       "      <th>avg_package</th>\n",
       "      <th>students</th>\n",
       "    </tr>\n",
       "  </thead>\n",
       "  <tbody>\n",
       "    <tr>\n",
       "      <th>2019</th>\n",
       "      <td>1</td>\n",
       "      <td>2</td>\n",
       "      <td>0</td>\n",
       "      <td>0</td>\n",
       "    </tr>\n",
       "    <tr>\n",
       "      <th>2020</th>\n",
       "      <td>3</td>\n",
       "      <td>4</td>\n",
       "      <td>0</td>\n",
       "      <td>0</td>\n",
       "    </tr>\n",
       "    <tr>\n",
       "      <th>2021</th>\n",
       "      <td>5</td>\n",
       "      <td>6</td>\n",
       "      <td>0</td>\n",
       "      <td>0</td>\n",
       "    </tr>\n",
       "    <tr>\n",
       "      <th>2022</th>\n",
       "      <td>7</td>\n",
       "      <td>8</td>\n",
       "      <td>0</td>\n",
       "      <td>0</td>\n",
       "    </tr>\n",
       "  </tbody>\n",
       "</table>\n",
       "</div>"
      ]
     },
     "execution_count": 51,
     "metadata": {},
     "output_type": "execute_result"
    }
   ],
   "execution_count": 51
  },
  {
   "metadata": {
    "ExecuteTime": {
     "end_time": "2025-09-03T16:25:34.525819Z",
     "start_time": "2025-09-03T16:25:34.517212Z"
    }
   },
   "cell_type": "code",
   "source": "branch_df2['delhi']",
   "outputs": [
    {
     "data": {
      "text/plain": [
       "      avg_package  students\n",
       "2019            1         2\n",
       "2020            3         4\n",
       "2021            5         6\n",
       "2022            7         8"
      ],
      "text/html": [
       "<div>\n",
       "<style scoped>\n",
       "    .dataframe tbody tr th:only-of-type {\n",
       "        vertical-align: middle;\n",
       "    }\n",
       "\n",
       "    .dataframe tbody tr th {\n",
       "        vertical-align: top;\n",
       "    }\n",
       "\n",
       "    .dataframe thead th {\n",
       "        text-align: right;\n",
       "    }\n",
       "</style>\n",
       "<table border=\"1\" class=\"dataframe\">\n",
       "  <thead>\n",
       "    <tr style=\"text-align: right;\">\n",
       "      <th></th>\n",
       "      <th>avg_package</th>\n",
       "      <th>students</th>\n",
       "    </tr>\n",
       "  </thead>\n",
       "  <tbody>\n",
       "    <tr>\n",
       "      <th>2019</th>\n",
       "      <td>1</td>\n",
       "      <td>2</td>\n",
       "    </tr>\n",
       "    <tr>\n",
       "      <th>2020</th>\n",
       "      <td>3</td>\n",
       "      <td>4</td>\n",
       "    </tr>\n",
       "    <tr>\n",
       "      <th>2021</th>\n",
       "      <td>5</td>\n",
       "      <td>6</td>\n",
       "    </tr>\n",
       "    <tr>\n",
       "      <th>2022</th>\n",
       "      <td>7</td>\n",
       "      <td>8</td>\n",
       "    </tr>\n",
       "  </tbody>\n",
       "</table>\n",
       "</div>"
      ]
     },
     "execution_count": 52,
     "metadata": {},
     "output_type": "execute_result"
    }
   ],
   "execution_count": 52
  },
  {
   "metadata": {
    "ExecuteTime": {
     "end_time": "2025-09-03T16:25:53.997614Z",
     "start_time": "2025-09-03T16:25:53.988314Z"
    }
   },
   "cell_type": "code",
   "source": "branch_df2['delhi']['avg_package']",
   "outputs": [
    {
     "data": {
      "text/plain": [
       "2019    1\n",
       "2020    3\n",
       "2021    5\n",
       "2022    7\n",
       "Name: avg_package, dtype: int64"
      ]
     },
     "execution_count": 53,
     "metadata": {},
     "output_type": "execute_result"
    }
   ],
   "execution_count": 53
  },
  {
   "cell_type": "code",
   "source": [
    "branch_df2.loc[2019]"
   ],
   "metadata": {
    "colab": {
     "base_uri": "https://localhost:8080/"
    },
    "id": "F6aqW6vvL_8y",
    "outputId": "765808bb-b8c8-45d3-e2e2-c1138b5370ff",
    "ExecuteTime": {
     "end_time": "2025-09-03T16:25:54.238414Z",
     "start_time": "2025-09-03T16:25:54.229192Z"
    }
   },
   "outputs": [
    {
     "data": {
      "text/plain": [
       "delhi   avg_package    1\n",
       "        students       2\n",
       "mumbai  avg_package    0\n",
       "        students       0\n",
       "Name: 2019, dtype: int64"
      ]
     },
     "execution_count": 54,
     "metadata": {},
     "output_type": "execute_result"
    }
   ],
   "execution_count": 54
  },
  {
   "cell_type": "code",
   "source": [
    "# Multiindex df in terms of both cols and index\n",
    "\n",
    "branch_df3 = pd.DataFrame(\n",
    "    [\n",
    "        [1,2,0,0],\n",
    "        [3,4,0,0],\n",
    "        [5,6,0,0],\n",
    "        [7,8,0,0],\n",
    "        [9,10,0,0],\n",
    "        [11,12,0,0],\n",
    "        [13,14,0,0],\n",
    "        [15,16,0,0],\n",
    "    ],\n",
    "    index = multiindex,\n",
    "    columns = pd.MultiIndex.from_product([['delhi','mumbai'],['avg_package','students']])\n",
    ")\n",
    "\n",
    "branch_df3"
   ],
   "metadata": {
    "colab": {
     "base_uri": "https://localhost:8080/",
     "height": 332
    },
    "id": "erkFKDdhBJnf",
    "outputId": "24c27073-ca4f-4043-f185-680618f42838",
    "ExecuteTime": {
     "end_time": "2025-09-03T16:27:05.028666Z",
     "start_time": "2025-09-03T16:27:05.002832Z"
    }
   },
   "outputs": [
    {
     "data": {
      "text/plain": [
       "               delhi               mumbai         \n",
       "         avg_package students avg_package students\n",
       "cse 2019           1        2           0        0\n",
       "    2020           3        4           0        0\n",
       "    2021           5        6           0        0\n",
       "    2022           7        8           0        0\n",
       "ece 2019           9       10           0        0\n",
       "    2020          11       12           0        0\n",
       "    2021          13       14           0        0\n",
       "    2022          15       16           0        0"
      ],
      "text/html": [
       "<div>\n",
       "<style scoped>\n",
       "    .dataframe tbody tr th:only-of-type {\n",
       "        vertical-align: middle;\n",
       "    }\n",
       "\n",
       "    .dataframe tbody tr th {\n",
       "        vertical-align: top;\n",
       "    }\n",
       "\n",
       "    .dataframe thead tr th {\n",
       "        text-align: left;\n",
       "    }\n",
       "</style>\n",
       "<table border=\"1\" class=\"dataframe\">\n",
       "  <thead>\n",
       "    <tr>\n",
       "      <th></th>\n",
       "      <th></th>\n",
       "      <th colspan=\"2\" halign=\"left\">delhi</th>\n",
       "      <th colspan=\"2\" halign=\"left\">mumbai</th>\n",
       "    </tr>\n",
       "    <tr>\n",
       "      <th></th>\n",
       "      <th></th>\n",
       "      <th>avg_package</th>\n",
       "      <th>students</th>\n",
       "      <th>avg_package</th>\n",
       "      <th>students</th>\n",
       "    </tr>\n",
       "  </thead>\n",
       "  <tbody>\n",
       "    <tr>\n",
       "      <th rowspan=\"4\" valign=\"top\">cse</th>\n",
       "      <th>2019</th>\n",
       "      <td>1</td>\n",
       "      <td>2</td>\n",
       "      <td>0</td>\n",
       "      <td>0</td>\n",
       "    </tr>\n",
       "    <tr>\n",
       "      <th>2020</th>\n",
       "      <td>3</td>\n",
       "      <td>4</td>\n",
       "      <td>0</td>\n",
       "      <td>0</td>\n",
       "    </tr>\n",
       "    <tr>\n",
       "      <th>2021</th>\n",
       "      <td>5</td>\n",
       "      <td>6</td>\n",
       "      <td>0</td>\n",
       "      <td>0</td>\n",
       "    </tr>\n",
       "    <tr>\n",
       "      <th>2022</th>\n",
       "      <td>7</td>\n",
       "      <td>8</td>\n",
       "      <td>0</td>\n",
       "      <td>0</td>\n",
       "    </tr>\n",
       "    <tr>\n",
       "      <th rowspan=\"4\" valign=\"top\">ece</th>\n",
       "      <th>2019</th>\n",
       "      <td>9</td>\n",
       "      <td>10</td>\n",
       "      <td>0</td>\n",
       "      <td>0</td>\n",
       "    </tr>\n",
       "    <tr>\n",
       "      <th>2020</th>\n",
       "      <td>11</td>\n",
       "      <td>12</td>\n",
       "      <td>0</td>\n",
       "      <td>0</td>\n",
       "    </tr>\n",
       "    <tr>\n",
       "      <th>2021</th>\n",
       "      <td>13</td>\n",
       "      <td>14</td>\n",
       "      <td>0</td>\n",
       "      <td>0</td>\n",
       "    </tr>\n",
       "    <tr>\n",
       "      <th>2022</th>\n",
       "      <td>15</td>\n",
       "      <td>16</td>\n",
       "      <td>0</td>\n",
       "      <td>0</td>\n",
       "    </tr>\n",
       "  </tbody>\n",
       "</table>\n",
       "</div>"
      ]
     },
     "execution_count": 55,
     "metadata": {},
     "output_type": "execute_result"
    }
   ],
   "execution_count": 55
  },
  {
   "metadata": {},
   "cell_type": "markdown",
   "source": "- this is a 4-D object since we need 4 values (level 0 , level 1 , column level 0 and column level 1) to extract one particular value from this dataframe ."
  },
  {
   "metadata": {
    "ExecuteTime": {
     "end_time": "2025-09-03T16:30:22.642251Z",
     "start_time": "2025-09-03T16:30:22.629816Z"
    }
   },
   "cell_type": "code",
   "source": "branch_df3['delhi']",
   "outputs": [
    {
     "data": {
      "text/plain": [
       "          avg_package  students\n",
       "cse 2019            1         2\n",
       "    2020            3         4\n",
       "    2021            5         6\n",
       "    2022            7         8\n",
       "ece 2019            9        10\n",
       "    2020           11        12\n",
       "    2021           13        14\n",
       "    2022           15        16"
      ],
      "text/html": [
       "<div>\n",
       "<style scoped>\n",
       "    .dataframe tbody tr th:only-of-type {\n",
       "        vertical-align: middle;\n",
       "    }\n",
       "\n",
       "    .dataframe tbody tr th {\n",
       "        vertical-align: top;\n",
       "    }\n",
       "\n",
       "    .dataframe thead th {\n",
       "        text-align: right;\n",
       "    }\n",
       "</style>\n",
       "<table border=\"1\" class=\"dataframe\">\n",
       "  <thead>\n",
       "    <tr style=\"text-align: right;\">\n",
       "      <th></th>\n",
       "      <th></th>\n",
       "      <th>avg_package</th>\n",
       "      <th>students</th>\n",
       "    </tr>\n",
       "  </thead>\n",
       "  <tbody>\n",
       "    <tr>\n",
       "      <th rowspan=\"4\" valign=\"top\">cse</th>\n",
       "      <th>2019</th>\n",
       "      <td>1</td>\n",
       "      <td>2</td>\n",
       "    </tr>\n",
       "    <tr>\n",
       "      <th>2020</th>\n",
       "      <td>3</td>\n",
       "      <td>4</td>\n",
       "    </tr>\n",
       "    <tr>\n",
       "      <th>2021</th>\n",
       "      <td>5</td>\n",
       "      <td>6</td>\n",
       "    </tr>\n",
       "    <tr>\n",
       "      <th>2022</th>\n",
       "      <td>7</td>\n",
       "      <td>8</td>\n",
       "    </tr>\n",
       "    <tr>\n",
       "      <th rowspan=\"4\" valign=\"top\">ece</th>\n",
       "      <th>2019</th>\n",
       "      <td>9</td>\n",
       "      <td>10</td>\n",
       "    </tr>\n",
       "    <tr>\n",
       "      <th>2020</th>\n",
       "      <td>11</td>\n",
       "      <td>12</td>\n",
       "    </tr>\n",
       "    <tr>\n",
       "      <th>2021</th>\n",
       "      <td>13</td>\n",
       "      <td>14</td>\n",
       "    </tr>\n",
       "    <tr>\n",
       "      <th>2022</th>\n",
       "      <td>15</td>\n",
       "      <td>16</td>\n",
       "    </tr>\n",
       "  </tbody>\n",
       "</table>\n",
       "</div>"
      ]
     },
     "execution_count": 60,
     "metadata": {},
     "output_type": "execute_result"
    }
   ],
   "execution_count": 60
  },
  {
   "cell_type": "markdown",
   "source": [
    "### Stacking and Unstacking"
   ],
   "metadata": {
    "id": "7yvcrnsEfzHF"
   }
  },
  {
   "metadata": {
    "ExecuteTime": {
     "end_time": "2025-09-03T16:32:26.555103Z",
     "start_time": "2025-09-03T16:32:26.544996Z"
    }
   },
   "cell_type": "code",
   "source": "branch_df1",
   "outputs": [
    {
     "data": {
      "text/plain": [
       "          avg_package  students\n",
       "cse 2019            1         2\n",
       "    2020            3         4\n",
       "    2021            5         6\n",
       "    2022            7         8\n",
       "ece 2019            9        10\n",
       "    2020           11        12\n",
       "    2021           13        14\n",
       "    2022           15        16"
      ],
      "text/html": [
       "<div>\n",
       "<style scoped>\n",
       "    .dataframe tbody tr th:only-of-type {\n",
       "        vertical-align: middle;\n",
       "    }\n",
       "\n",
       "    .dataframe tbody tr th {\n",
       "        vertical-align: top;\n",
       "    }\n",
       "\n",
       "    .dataframe thead th {\n",
       "        text-align: right;\n",
       "    }\n",
       "</style>\n",
       "<table border=\"1\" class=\"dataframe\">\n",
       "  <thead>\n",
       "    <tr style=\"text-align: right;\">\n",
       "      <th></th>\n",
       "      <th></th>\n",
       "      <th>avg_package</th>\n",
       "      <th>students</th>\n",
       "    </tr>\n",
       "  </thead>\n",
       "  <tbody>\n",
       "    <tr>\n",
       "      <th rowspan=\"4\" valign=\"top\">cse</th>\n",
       "      <th>2019</th>\n",
       "      <td>1</td>\n",
       "      <td>2</td>\n",
       "    </tr>\n",
       "    <tr>\n",
       "      <th>2020</th>\n",
       "      <td>3</td>\n",
       "      <td>4</td>\n",
       "    </tr>\n",
       "    <tr>\n",
       "      <th>2021</th>\n",
       "      <td>5</td>\n",
       "      <td>6</td>\n",
       "    </tr>\n",
       "    <tr>\n",
       "      <th>2022</th>\n",
       "      <td>7</td>\n",
       "      <td>8</td>\n",
       "    </tr>\n",
       "    <tr>\n",
       "      <th rowspan=\"4\" valign=\"top\">ece</th>\n",
       "      <th>2019</th>\n",
       "      <td>9</td>\n",
       "      <td>10</td>\n",
       "    </tr>\n",
       "    <tr>\n",
       "      <th>2020</th>\n",
       "      <td>11</td>\n",
       "      <td>12</td>\n",
       "    </tr>\n",
       "    <tr>\n",
       "      <th>2021</th>\n",
       "      <td>13</td>\n",
       "      <td>14</td>\n",
       "    </tr>\n",
       "    <tr>\n",
       "      <th>2022</th>\n",
       "      <td>15</td>\n",
       "      <td>16</td>\n",
       "    </tr>\n",
       "  </tbody>\n",
       "</table>\n",
       "</div>"
      ]
     },
     "execution_count": 61,
     "metadata": {},
     "output_type": "execute_result"
    }
   ],
   "execution_count": 61
  },
  {
   "metadata": {
    "ExecuteTime": {
     "end_time": "2025-09-03T16:32:36.088722Z",
     "start_time": "2025-09-03T16:32:36.075897Z"
    }
   },
   "cell_type": "code",
   "source": "branch_df1.unstack()",
   "outputs": [
    {
     "data": {
      "text/plain": [
       "    avg_package                students               \n",
       "           2019 2020 2021 2022     2019 2020 2021 2022\n",
       "cse           1    3    5    7        2    4    6    8\n",
       "ece           9   11   13   15       10   12   14   16"
      ],
      "text/html": [
       "<div>\n",
       "<style scoped>\n",
       "    .dataframe tbody tr th:only-of-type {\n",
       "        vertical-align: middle;\n",
       "    }\n",
       "\n",
       "    .dataframe tbody tr th {\n",
       "        vertical-align: top;\n",
       "    }\n",
       "\n",
       "    .dataframe thead tr th {\n",
       "        text-align: left;\n",
       "    }\n",
       "</style>\n",
       "<table border=\"1\" class=\"dataframe\">\n",
       "  <thead>\n",
       "    <tr>\n",
       "      <th></th>\n",
       "      <th colspan=\"4\" halign=\"left\">avg_package</th>\n",
       "      <th colspan=\"4\" halign=\"left\">students</th>\n",
       "    </tr>\n",
       "    <tr>\n",
       "      <th></th>\n",
       "      <th>2019</th>\n",
       "      <th>2020</th>\n",
       "      <th>2021</th>\n",
       "      <th>2022</th>\n",
       "      <th>2019</th>\n",
       "      <th>2020</th>\n",
       "      <th>2021</th>\n",
       "      <th>2022</th>\n",
       "    </tr>\n",
       "  </thead>\n",
       "  <tbody>\n",
       "    <tr>\n",
       "      <th>cse</th>\n",
       "      <td>1</td>\n",
       "      <td>3</td>\n",
       "      <td>5</td>\n",
       "      <td>7</td>\n",
       "      <td>2</td>\n",
       "      <td>4</td>\n",
       "      <td>6</td>\n",
       "      <td>8</td>\n",
       "    </tr>\n",
       "    <tr>\n",
       "      <th>ece</th>\n",
       "      <td>9</td>\n",
       "      <td>11</td>\n",
       "      <td>13</td>\n",
       "      <td>15</td>\n",
       "      <td>10</td>\n",
       "      <td>12</td>\n",
       "      <td>14</td>\n",
       "      <td>16</td>\n",
       "    </tr>\n",
       "  </tbody>\n",
       "</table>\n",
       "</div>"
      ]
     },
     "execution_count": 62,
     "metadata": {},
     "output_type": "execute_result"
    }
   ],
   "execution_count": 62
  },
  {
   "metadata": {},
   "cell_type": "markdown",
   "source": [
    "- so here we converted a 3D object into a 2D object by unstacking it .\n",
    "- internal index becomes internal columns and internal columns becomes external columns ."
   ]
  },
  {
   "metadata": {
    "ExecuteTime": {
     "end_time": "2025-09-03T16:35:31.490844Z",
     "start_time": "2025-09-03T16:35:31.464612Z"
    }
   },
   "cell_type": "code",
   "source": "branch_df1.unstack().unstack()",
   "outputs": [
    {
     "data": {
      "text/plain": [
       "avg_package  2019  cse     1\n",
       "                   ece     9\n",
       "             2020  cse     3\n",
       "                   ece    11\n",
       "             2021  cse     5\n",
       "                   ece    13\n",
       "             2022  cse     7\n",
       "                   ece    15\n",
       "students     2019  cse     2\n",
       "                   ece    10\n",
       "             2020  cse     4\n",
       "                   ece    12\n",
       "             2021  cse     6\n",
       "                   ece    14\n",
       "             2022  cse     8\n",
       "                   ece    16\n",
       "dtype: int64"
      ]
     },
     "execution_count": 63,
     "metadata": {},
     "output_type": "execute_result"
    }
   ],
   "execution_count": 63
  },
  {
   "metadata": {},
   "cell_type": "markdown",
   "source": [
    "- so here we converted a 3D object into a 1D object by unstacking it twice .\n",
    "- internal index becomes internal columns and internal columns becomes external columns ."
   ]
  },
  {
   "metadata": {
    "ExecuteTime": {
     "end_time": "2025-09-03T16:37:31.409491Z",
     "start_time": "2025-09-03T16:37:31.404600Z"
    }
   },
   "cell_type": "code",
   "source": [
    "# branch_df1.unstack().unstack().stack()\n",
    "# 'Series' object has no attribute 'stack'"
   ],
   "outputs": [],
   "execution_count": 65
  },
  {
   "metadata": {
    "ExecuteTime": {
     "end_time": "2025-09-03T16:39:23.044136Z",
     "start_time": "2025-09-03T16:39:23.031068Z"
    }
   },
   "cell_type": "code",
   "source": "branch_df1.unstack().stack()",
   "outputs": [
    {
     "name": "stderr",
     "output_type": "stream",
     "text": [
      "C:\\Users\\RITESH\\AppData\\Local\\Temp\\ipykernel_3492\\2294027815.py:1: FutureWarning: The previous implementation of stack is deprecated and will be removed in a future version of pandas. See the What's New notes for pandas 2.1.0 for details. Specify future_stack=True to adopt the new implementation and silence this warning.\n",
      "  branch_df1.unstack().stack()\n"
     ]
    },
    {
     "data": {
      "text/plain": [
       "          avg_package  students\n",
       "cse 2019            1         2\n",
       "    2020            3         4\n",
       "    2021            5         6\n",
       "    2022            7         8\n",
       "ece 2019            9        10\n",
       "    2020           11        12\n",
       "    2021           13        14\n",
       "    2022           15        16"
      ],
      "text/html": [
       "<div>\n",
       "<style scoped>\n",
       "    .dataframe tbody tr th:only-of-type {\n",
       "        vertical-align: middle;\n",
       "    }\n",
       "\n",
       "    .dataframe tbody tr th {\n",
       "        vertical-align: top;\n",
       "    }\n",
       "\n",
       "    .dataframe thead th {\n",
       "        text-align: right;\n",
       "    }\n",
       "</style>\n",
       "<table border=\"1\" class=\"dataframe\">\n",
       "  <thead>\n",
       "    <tr style=\"text-align: right;\">\n",
       "      <th></th>\n",
       "      <th></th>\n",
       "      <th>avg_package</th>\n",
       "      <th>students</th>\n",
       "    </tr>\n",
       "  </thead>\n",
       "  <tbody>\n",
       "    <tr>\n",
       "      <th rowspan=\"4\" valign=\"top\">cse</th>\n",
       "      <th>2019</th>\n",
       "      <td>1</td>\n",
       "      <td>2</td>\n",
       "    </tr>\n",
       "    <tr>\n",
       "      <th>2020</th>\n",
       "      <td>3</td>\n",
       "      <td>4</td>\n",
       "    </tr>\n",
       "    <tr>\n",
       "      <th>2021</th>\n",
       "      <td>5</td>\n",
       "      <td>6</td>\n",
       "    </tr>\n",
       "    <tr>\n",
       "      <th>2022</th>\n",
       "      <td>7</td>\n",
       "      <td>8</td>\n",
       "    </tr>\n",
       "    <tr>\n",
       "      <th rowspan=\"4\" valign=\"top\">ece</th>\n",
       "      <th>2019</th>\n",
       "      <td>9</td>\n",
       "      <td>10</td>\n",
       "    </tr>\n",
       "    <tr>\n",
       "      <th>2020</th>\n",
       "      <td>11</td>\n",
       "      <td>12</td>\n",
       "    </tr>\n",
       "    <tr>\n",
       "      <th>2021</th>\n",
       "      <td>13</td>\n",
       "      <td>14</td>\n",
       "    </tr>\n",
       "    <tr>\n",
       "      <th>2022</th>\n",
       "      <td>15</td>\n",
       "      <td>16</td>\n",
       "    </tr>\n",
       "  </tbody>\n",
       "</table>\n",
       "</div>"
      ]
     },
     "execution_count": 70,
     "metadata": {},
     "output_type": "execute_result"
    }
   ],
   "execution_count": 70
  },
  {
   "metadata": {},
   "cell_type": "markdown",
   "source": "- so here we converted a 2D object into a 3D object by stacking it once , the internal columns becomes internal index ."
  },
  {
   "metadata": {
    "ExecuteTime": {
     "end_time": "2025-09-03T16:40:50.507108Z",
     "start_time": "2025-09-03T16:40:50.493511Z"
    }
   },
   "cell_type": "code",
   "source": "branch_df1.unstack().stack().stack()",
   "outputs": [
    {
     "name": "stderr",
     "output_type": "stream",
     "text": [
      "C:\\Users\\RITESH\\AppData\\Local\\Temp\\ipykernel_3492\\3704879661.py:1: FutureWarning: The previous implementation of stack is deprecated and will be removed in a future version of pandas. See the What's New notes for pandas 2.1.0 for details. Specify future_stack=True to adopt the new implementation and silence this warning.\n",
      "  branch_df1.unstack().stack().stack()\n"
     ]
    },
    {
     "data": {
      "text/plain": [
       "cse  2019  avg_package     1\n",
       "           students        2\n",
       "     2020  avg_package     3\n",
       "           students        4\n",
       "     2021  avg_package     5\n",
       "           students        6\n",
       "     2022  avg_package     7\n",
       "           students        8\n",
       "ece  2019  avg_package     9\n",
       "           students       10\n",
       "     2020  avg_package    11\n",
       "           students       12\n",
       "     2021  avg_package    13\n",
       "           students       14\n",
       "     2022  avg_package    15\n",
       "           students       16\n",
       "dtype: int64"
      ]
     },
     "execution_count": 71,
     "metadata": {},
     "output_type": "execute_result"
    }
   ],
   "execution_count": 71
  },
  {
   "metadata": {},
   "cell_type": "markdown",
   "source": "- so here we converted a 1D object into a 3D object by stacking it twice , the internal columns becomes internal index and external columns becomes external index ."
  },
  {
   "metadata": {
    "ExecuteTime": {
     "end_time": "2025-09-03T16:42:42.614673Z",
     "start_time": "2025-09-03T16:42:42.600197Z"
    }
   },
   "cell_type": "code",
   "source": "branch_df2.unstack()",
   "outputs": [
    {
     "data": {
      "text/plain": [
       "delhi   avg_package  2019    1\n",
       "                     2020    3\n",
       "                     2021    5\n",
       "                     2022    7\n",
       "        students     2019    2\n",
       "                     2020    4\n",
       "                     2021    6\n",
       "                     2022    8\n",
       "mumbai  avg_package  2019    0\n",
       "                     2020    0\n",
       "                     2021    0\n",
       "                     2022    0\n",
       "        students     2019    0\n",
       "                     2020    0\n",
       "                     2021    0\n",
       "                     2022    0\n",
       "dtype: int64"
      ]
     },
     "execution_count": 73,
     "metadata": {},
     "output_type": "execute_result"
    }
   ],
   "execution_count": 73
  },
  {
   "metadata": {
    "ExecuteTime": {
     "end_time": "2025-09-03T16:42:59.169905Z",
     "start_time": "2025-09-03T16:42:59.156546Z"
    }
   },
   "cell_type": "code",
   "source": "branch_df2.stack()",
   "outputs": [
    {
     "name": "stderr",
     "output_type": "stream",
     "text": [
      "C:\\Users\\RITESH\\AppData\\Local\\Temp\\ipykernel_3492\\2650918455.py:1: FutureWarning: The previous implementation of stack is deprecated and will be removed in a future version of pandas. See the What's New notes for pandas 2.1.0 for details. Specify future_stack=True to adopt the new implementation and silence this warning.\n",
      "  branch_df2.stack()\n"
     ]
    },
    {
     "data": {
      "text/plain": [
       "                  delhi  mumbai\n",
       "2019 avg_package      1       0\n",
       "     students         2       0\n",
       "2020 avg_package      3       0\n",
       "     students         4       0\n",
       "2021 avg_package      5       0\n",
       "     students         6       0\n",
       "2022 avg_package      7       0\n",
       "     students         8       0"
      ],
      "text/html": [
       "<div>\n",
       "<style scoped>\n",
       "    .dataframe tbody tr th:only-of-type {\n",
       "        vertical-align: middle;\n",
       "    }\n",
       "\n",
       "    .dataframe tbody tr th {\n",
       "        vertical-align: top;\n",
       "    }\n",
       "\n",
       "    .dataframe thead th {\n",
       "        text-align: right;\n",
       "    }\n",
       "</style>\n",
       "<table border=\"1\" class=\"dataframe\">\n",
       "  <thead>\n",
       "    <tr style=\"text-align: right;\">\n",
       "      <th></th>\n",
       "      <th></th>\n",
       "      <th>delhi</th>\n",
       "      <th>mumbai</th>\n",
       "    </tr>\n",
       "  </thead>\n",
       "  <tbody>\n",
       "    <tr>\n",
       "      <th rowspan=\"2\" valign=\"top\">2019</th>\n",
       "      <th>avg_package</th>\n",
       "      <td>1</td>\n",
       "      <td>0</td>\n",
       "    </tr>\n",
       "    <tr>\n",
       "      <th>students</th>\n",
       "      <td>2</td>\n",
       "      <td>0</td>\n",
       "    </tr>\n",
       "    <tr>\n",
       "      <th rowspan=\"2\" valign=\"top\">2020</th>\n",
       "      <th>avg_package</th>\n",
       "      <td>3</td>\n",
       "      <td>0</td>\n",
       "    </tr>\n",
       "    <tr>\n",
       "      <th>students</th>\n",
       "      <td>4</td>\n",
       "      <td>0</td>\n",
       "    </tr>\n",
       "    <tr>\n",
       "      <th rowspan=\"2\" valign=\"top\">2021</th>\n",
       "      <th>avg_package</th>\n",
       "      <td>5</td>\n",
       "      <td>0</td>\n",
       "    </tr>\n",
       "    <tr>\n",
       "      <th>students</th>\n",
       "      <td>6</td>\n",
       "      <td>0</td>\n",
       "    </tr>\n",
       "    <tr>\n",
       "      <th rowspan=\"2\" valign=\"top\">2022</th>\n",
       "      <th>avg_package</th>\n",
       "      <td>7</td>\n",
       "      <td>0</td>\n",
       "    </tr>\n",
       "    <tr>\n",
       "      <th>students</th>\n",
       "      <td>8</td>\n",
       "      <td>0</td>\n",
       "    </tr>\n",
       "  </tbody>\n",
       "</table>\n",
       "</div>"
      ]
     },
     "execution_count": 74,
     "metadata": {},
     "output_type": "execute_result"
    }
   ],
   "execution_count": 74
  },
  {
   "metadata": {
    "ExecuteTime": {
     "end_time": "2025-09-03T16:44:16.465044Z",
     "start_time": "2025-09-03T16:44:16.453053Z"
    }
   },
   "cell_type": "code",
   "source": "branch_df2.stack().stack()",
   "outputs": [
    {
     "name": "stderr",
     "output_type": "stream",
     "text": [
      "C:\\Users\\RITESH\\AppData\\Local\\Temp\\ipykernel_3492\\3351297655.py:1: FutureWarning: The previous implementation of stack is deprecated and will be removed in a future version of pandas. See the What's New notes for pandas 2.1.0 for details. Specify future_stack=True to adopt the new implementation and silence this warning.\n",
      "  branch_df2.stack().stack()\n"
     ]
    },
    {
     "data": {
      "text/plain": [
       "2019  avg_package  delhi     1\n",
       "                   mumbai    0\n",
       "      students     delhi     2\n",
       "                   mumbai    0\n",
       "2020  avg_package  delhi     3\n",
       "                   mumbai    0\n",
       "      students     delhi     4\n",
       "                   mumbai    0\n",
       "2021  avg_package  delhi     5\n",
       "                   mumbai    0\n",
       "      students     delhi     6\n",
       "                   mumbai    0\n",
       "2022  avg_package  delhi     7\n",
       "                   mumbai    0\n",
       "      students     delhi     8\n",
       "                   mumbai    0\n",
       "dtype: int64"
      ]
     },
     "execution_count": 75,
     "metadata": {},
     "output_type": "execute_result"
    }
   ],
   "execution_count": 75
  },
  {
   "metadata": {},
   "cell_type": "markdown",
   "source": [
    "- unstack means unstack the innermost index level by default and convert it into columns  ==> unstack increases the dimension of the object by 1  ==> unstacking the index in simple words .\n",
    "- stack means stack the innermost column level by default and convert it into index ==> stack decreases the dimension of the object by 1 ==> stacking of index in simple words ."
   ]
  },
  {
   "cell_type": "code",
   "source": "branch_df3.unstack()",
   "metadata": {
    "id": "Dc6BwFQLf7kk",
    "colab": {
     "base_uri": "https://localhost:8080/"
    },
    "outputId": "86eedbe1-21f7-4dc0-d6d0-c7dc89246496",
    "ExecuteTime": {
     "end_time": "2025-09-03T16:46:50.109782Z",
     "start_time": "2025-09-03T16:46:50.086755Z"
    }
   },
   "outputs": [
    {
     "data": {
      "text/plain": [
       "          delhi                                             mumbai            \\\n",
       "    avg_package                students                avg_package             \n",
       "           2019 2020 2021 2022     2019 2020 2021 2022        2019 2020 2021   \n",
       "cse           1    3    5    7        2    4    6    8           0    0    0   \n",
       "ece           9   11   13   15       10   12   14   16           0    0    0   \n",
       "\n",
       "                                  \n",
       "         students                 \n",
       "    2022     2019 2020 2021 2022  \n",
       "cse    0        0    0    0    0  \n",
       "ece    0        0    0    0    0  "
      ],
      "text/html": [
       "<div>\n",
       "<style scoped>\n",
       "    .dataframe tbody tr th:only-of-type {\n",
       "        vertical-align: middle;\n",
       "    }\n",
       "\n",
       "    .dataframe tbody tr th {\n",
       "        vertical-align: top;\n",
       "    }\n",
       "\n",
       "    .dataframe thead tr th {\n",
       "        text-align: left;\n",
       "    }\n",
       "</style>\n",
       "<table border=\"1\" class=\"dataframe\">\n",
       "  <thead>\n",
       "    <tr>\n",
       "      <th></th>\n",
       "      <th colspan=\"8\" halign=\"left\">delhi</th>\n",
       "      <th colspan=\"8\" halign=\"left\">mumbai</th>\n",
       "    </tr>\n",
       "    <tr>\n",
       "      <th></th>\n",
       "      <th colspan=\"4\" halign=\"left\">avg_package</th>\n",
       "      <th colspan=\"4\" halign=\"left\">students</th>\n",
       "      <th colspan=\"4\" halign=\"left\">avg_package</th>\n",
       "      <th colspan=\"4\" halign=\"left\">students</th>\n",
       "    </tr>\n",
       "    <tr>\n",
       "      <th></th>\n",
       "      <th>2019</th>\n",
       "      <th>2020</th>\n",
       "      <th>2021</th>\n",
       "      <th>2022</th>\n",
       "      <th>2019</th>\n",
       "      <th>2020</th>\n",
       "      <th>2021</th>\n",
       "      <th>2022</th>\n",
       "      <th>2019</th>\n",
       "      <th>2020</th>\n",
       "      <th>2021</th>\n",
       "      <th>2022</th>\n",
       "      <th>2019</th>\n",
       "      <th>2020</th>\n",
       "      <th>2021</th>\n",
       "      <th>2022</th>\n",
       "    </tr>\n",
       "  </thead>\n",
       "  <tbody>\n",
       "    <tr>\n",
       "      <th>cse</th>\n",
       "      <td>1</td>\n",
       "      <td>3</td>\n",
       "      <td>5</td>\n",
       "      <td>7</td>\n",
       "      <td>2</td>\n",
       "      <td>4</td>\n",
       "      <td>6</td>\n",
       "      <td>8</td>\n",
       "      <td>0</td>\n",
       "      <td>0</td>\n",
       "      <td>0</td>\n",
       "      <td>0</td>\n",
       "      <td>0</td>\n",
       "      <td>0</td>\n",
       "      <td>0</td>\n",
       "      <td>0</td>\n",
       "    </tr>\n",
       "    <tr>\n",
       "      <th>ece</th>\n",
       "      <td>9</td>\n",
       "      <td>11</td>\n",
       "      <td>13</td>\n",
       "      <td>15</td>\n",
       "      <td>10</td>\n",
       "      <td>12</td>\n",
       "      <td>14</td>\n",
       "      <td>16</td>\n",
       "      <td>0</td>\n",
       "      <td>0</td>\n",
       "      <td>0</td>\n",
       "      <td>0</td>\n",
       "      <td>0</td>\n",
       "      <td>0</td>\n",
       "      <td>0</td>\n",
       "      <td>0</td>\n",
       "    </tr>\n",
       "  </tbody>\n",
       "</table>\n",
       "</div>"
      ]
     },
     "execution_count": 79,
     "metadata": {},
     "output_type": "execute_result"
    }
   ],
   "execution_count": 79
  },
  {
   "metadata": {
    "ExecuteTime": {
     "end_time": "2025-09-03T16:46:51.707292Z",
     "start_time": "2025-09-03T16:46:51.689919Z"
    }
   },
   "cell_type": "code",
   "source": "branch_df3.stack()",
   "outputs": [
    {
     "name": "stderr",
     "output_type": "stream",
     "text": [
      "C:\\Users\\RITESH\\AppData\\Local\\Temp\\ipykernel_3492\\1686830926.py:1: FutureWarning: The previous implementation of stack is deprecated and will be removed in a future version of pandas. See the What's New notes for pandas 2.1.0 for details. Specify future_stack=True to adopt the new implementation and silence this warning.\n",
      "  branch_df3.stack()\n"
     ]
    },
    {
     "data": {
      "text/plain": [
       "                      delhi  mumbai\n",
       "cse 2019 avg_package      1       0\n",
       "         students         2       0\n",
       "    2020 avg_package      3       0\n",
       "         students         4       0\n",
       "    2021 avg_package      5       0\n",
       "         students         6       0\n",
       "    2022 avg_package      7       0\n",
       "         students         8       0\n",
       "ece 2019 avg_package      9       0\n",
       "         students        10       0\n",
       "    2020 avg_package     11       0\n",
       "         students        12       0\n",
       "    2021 avg_package     13       0\n",
       "         students        14       0\n",
       "    2022 avg_package     15       0\n",
       "         students        16       0"
      ],
      "text/html": [
       "<div>\n",
       "<style scoped>\n",
       "    .dataframe tbody tr th:only-of-type {\n",
       "        vertical-align: middle;\n",
       "    }\n",
       "\n",
       "    .dataframe tbody tr th {\n",
       "        vertical-align: top;\n",
       "    }\n",
       "\n",
       "    .dataframe thead th {\n",
       "        text-align: right;\n",
       "    }\n",
       "</style>\n",
       "<table border=\"1\" class=\"dataframe\">\n",
       "  <thead>\n",
       "    <tr style=\"text-align: right;\">\n",
       "      <th></th>\n",
       "      <th></th>\n",
       "      <th></th>\n",
       "      <th>delhi</th>\n",
       "      <th>mumbai</th>\n",
       "    </tr>\n",
       "  </thead>\n",
       "  <tbody>\n",
       "    <tr>\n",
       "      <th rowspan=\"8\" valign=\"top\">cse</th>\n",
       "      <th rowspan=\"2\" valign=\"top\">2019</th>\n",
       "      <th>avg_package</th>\n",
       "      <td>1</td>\n",
       "      <td>0</td>\n",
       "    </tr>\n",
       "    <tr>\n",
       "      <th>students</th>\n",
       "      <td>2</td>\n",
       "      <td>0</td>\n",
       "    </tr>\n",
       "    <tr>\n",
       "      <th rowspan=\"2\" valign=\"top\">2020</th>\n",
       "      <th>avg_package</th>\n",
       "      <td>3</td>\n",
       "      <td>0</td>\n",
       "    </tr>\n",
       "    <tr>\n",
       "      <th>students</th>\n",
       "      <td>4</td>\n",
       "      <td>0</td>\n",
       "    </tr>\n",
       "    <tr>\n",
       "      <th rowspan=\"2\" valign=\"top\">2021</th>\n",
       "      <th>avg_package</th>\n",
       "      <td>5</td>\n",
       "      <td>0</td>\n",
       "    </tr>\n",
       "    <tr>\n",
       "      <th>students</th>\n",
       "      <td>6</td>\n",
       "      <td>0</td>\n",
       "    </tr>\n",
       "    <tr>\n",
       "      <th rowspan=\"2\" valign=\"top\">2022</th>\n",
       "      <th>avg_package</th>\n",
       "      <td>7</td>\n",
       "      <td>0</td>\n",
       "    </tr>\n",
       "    <tr>\n",
       "      <th>students</th>\n",
       "      <td>8</td>\n",
       "      <td>0</td>\n",
       "    </tr>\n",
       "    <tr>\n",
       "      <th rowspan=\"8\" valign=\"top\">ece</th>\n",
       "      <th rowspan=\"2\" valign=\"top\">2019</th>\n",
       "      <th>avg_package</th>\n",
       "      <td>9</td>\n",
       "      <td>0</td>\n",
       "    </tr>\n",
       "    <tr>\n",
       "      <th>students</th>\n",
       "      <td>10</td>\n",
       "      <td>0</td>\n",
       "    </tr>\n",
       "    <tr>\n",
       "      <th rowspan=\"2\" valign=\"top\">2020</th>\n",
       "      <th>avg_package</th>\n",
       "      <td>11</td>\n",
       "      <td>0</td>\n",
       "    </tr>\n",
       "    <tr>\n",
       "      <th>students</th>\n",
       "      <td>12</td>\n",
       "      <td>0</td>\n",
       "    </tr>\n",
       "    <tr>\n",
       "      <th rowspan=\"2\" valign=\"top\">2021</th>\n",
       "      <th>avg_package</th>\n",
       "      <td>13</td>\n",
       "      <td>0</td>\n",
       "    </tr>\n",
       "    <tr>\n",
       "      <th>students</th>\n",
       "      <td>14</td>\n",
       "      <td>0</td>\n",
       "    </tr>\n",
       "    <tr>\n",
       "      <th rowspan=\"2\" valign=\"top\">2022</th>\n",
       "      <th>avg_package</th>\n",
       "      <td>15</td>\n",
       "      <td>0</td>\n",
       "    </tr>\n",
       "    <tr>\n",
       "      <th>students</th>\n",
       "      <td>16</td>\n",
       "      <td>0</td>\n",
       "    </tr>\n",
       "  </tbody>\n",
       "</table>\n",
       "</div>"
      ]
     },
     "execution_count": 80,
     "metadata": {},
     "output_type": "execute_result"
    }
   ],
   "execution_count": 80
  },
  {
   "metadata": {
    "ExecuteTime": {
     "end_time": "2025-09-03T16:47:14.614380Z",
     "start_time": "2025-09-03T16:47:14.601466Z"
    }
   },
   "cell_type": "code",
   "source": "branch_df3.stack().stack()",
   "outputs": [
    {
     "name": "stderr",
     "output_type": "stream",
     "text": [
      "C:\\Users\\RITESH\\AppData\\Local\\Temp\\ipykernel_3492\\4037618427.py:1: FutureWarning: The previous implementation of stack is deprecated and will be removed in a future version of pandas. See the What's New notes for pandas 2.1.0 for details. Specify future_stack=True to adopt the new implementation and silence this warning.\n",
      "  branch_df3.stack().stack()\n"
     ]
    },
    {
     "data": {
      "text/plain": [
       "cse  2019  avg_package  delhi      1\n",
       "                        mumbai     0\n",
       "           students     delhi      2\n",
       "                        mumbai     0\n",
       "     2020  avg_package  delhi      3\n",
       "                        mumbai     0\n",
       "           students     delhi      4\n",
       "                        mumbai     0\n",
       "     2021  avg_package  delhi      5\n",
       "                        mumbai     0\n",
       "           students     delhi      6\n",
       "                        mumbai     0\n",
       "     2022  avg_package  delhi      7\n",
       "                        mumbai     0\n",
       "           students     delhi      8\n",
       "                        mumbai     0\n",
       "ece  2019  avg_package  delhi      9\n",
       "                        mumbai     0\n",
       "           students     delhi     10\n",
       "                        mumbai     0\n",
       "     2020  avg_package  delhi     11\n",
       "                        mumbai     0\n",
       "           students     delhi     12\n",
       "                        mumbai     0\n",
       "     2021  avg_package  delhi     13\n",
       "                        mumbai     0\n",
       "           students     delhi     14\n",
       "                        mumbai     0\n",
       "     2022  avg_package  delhi     15\n",
       "                        mumbai     0\n",
       "           students     delhi     16\n",
       "                        mumbai     0\n",
       "dtype: int64"
      ]
     },
     "execution_count": 81,
     "metadata": {},
     "output_type": "execute_result"
    }
   ],
   "execution_count": 81
  },
  {
   "cell_type": "markdown",
   "source": [
    "### Working with multiindex dataframes"
   ],
   "metadata": {
    "id": "1y9blIqof8fm"
   }
  },
  {
   "cell_type": "code",
   "source": [
    "# head and tail\n",
    "branch_df3.head()\n",
    "# shape\n",
    "branch_df3.shape\n",
    "# info\n",
    "branch_df3.info()\n",
    "# duplicated -> isnull\n",
    "branch_df3.duplicated()\n",
    "branch_df3.isnull()"
   ],
   "metadata": {
    "id": "__Xxc3ckgA2L",
    "colab": {
     "base_uri": "https://localhost:8080/",
     "height": 523
    },
    "outputId": "606723fb-0b5e-42de-fe46-9e4cbb85e280",
    "ExecuteTime": {
     "end_time": "2025-09-03T16:53:21.820503Z",
     "start_time": "2025-09-03T16:53:21.774677Z"
    }
   },
   "outputs": [
    {
     "name": "stdout",
     "output_type": "stream",
     "text": [
      "<class 'pandas.core.frame.DataFrame'>\n",
      "MultiIndex: 8 entries, ('cse', np.int64(2019)) to ('ece', np.int64(2022))\n",
      "Data columns (total 4 columns):\n",
      " #   Column                 Non-Null Count  Dtype\n",
      "---  ------                 --------------  -----\n",
      " 0   (delhi, avg_package)   8 non-null      int64\n",
      " 1   (delhi, students)      8 non-null      int64\n",
      " 2   (mumbai, avg_package)  8 non-null      int64\n",
      " 3   (mumbai, students)     8 non-null      int64\n",
      "dtypes: int64(4)\n",
      "memory usage: 932.0+ bytes\n"
     ]
    },
    {
     "data": {
      "text/plain": [
       "               delhi               mumbai         \n",
       "         avg_package students avg_package students\n",
       "cse 2019       False    False       False    False\n",
       "    2020       False    False       False    False\n",
       "    2021       False    False       False    False\n",
       "    2022       False    False       False    False\n",
       "ece 2019       False    False       False    False\n",
       "    2020       False    False       False    False\n",
       "    2021       False    False       False    False\n",
       "    2022       False    False       False    False"
      ],
      "text/html": [
       "<div>\n",
       "<style scoped>\n",
       "    .dataframe tbody tr th:only-of-type {\n",
       "        vertical-align: middle;\n",
       "    }\n",
       "\n",
       "    .dataframe tbody tr th {\n",
       "        vertical-align: top;\n",
       "    }\n",
       "\n",
       "    .dataframe thead tr th {\n",
       "        text-align: left;\n",
       "    }\n",
       "</style>\n",
       "<table border=\"1\" class=\"dataframe\">\n",
       "  <thead>\n",
       "    <tr>\n",
       "      <th></th>\n",
       "      <th></th>\n",
       "      <th colspan=\"2\" halign=\"left\">delhi</th>\n",
       "      <th colspan=\"2\" halign=\"left\">mumbai</th>\n",
       "    </tr>\n",
       "    <tr>\n",
       "      <th></th>\n",
       "      <th></th>\n",
       "      <th>avg_package</th>\n",
       "      <th>students</th>\n",
       "      <th>avg_package</th>\n",
       "      <th>students</th>\n",
       "    </tr>\n",
       "  </thead>\n",
       "  <tbody>\n",
       "    <tr>\n",
       "      <th rowspan=\"4\" valign=\"top\">cse</th>\n",
       "      <th>2019</th>\n",
       "      <td>False</td>\n",
       "      <td>False</td>\n",
       "      <td>False</td>\n",
       "      <td>False</td>\n",
       "    </tr>\n",
       "    <tr>\n",
       "      <th>2020</th>\n",
       "      <td>False</td>\n",
       "      <td>False</td>\n",
       "      <td>False</td>\n",
       "      <td>False</td>\n",
       "    </tr>\n",
       "    <tr>\n",
       "      <th>2021</th>\n",
       "      <td>False</td>\n",
       "      <td>False</td>\n",
       "      <td>False</td>\n",
       "      <td>False</td>\n",
       "    </tr>\n",
       "    <tr>\n",
       "      <th>2022</th>\n",
       "      <td>False</td>\n",
       "      <td>False</td>\n",
       "      <td>False</td>\n",
       "      <td>False</td>\n",
       "    </tr>\n",
       "    <tr>\n",
       "      <th rowspan=\"4\" valign=\"top\">ece</th>\n",
       "      <th>2019</th>\n",
       "      <td>False</td>\n",
       "      <td>False</td>\n",
       "      <td>False</td>\n",
       "      <td>False</td>\n",
       "    </tr>\n",
       "    <tr>\n",
       "      <th>2020</th>\n",
       "      <td>False</td>\n",
       "      <td>False</td>\n",
       "      <td>False</td>\n",
       "      <td>False</td>\n",
       "    </tr>\n",
       "    <tr>\n",
       "      <th>2021</th>\n",
       "      <td>False</td>\n",
       "      <td>False</td>\n",
       "      <td>False</td>\n",
       "      <td>False</td>\n",
       "    </tr>\n",
       "    <tr>\n",
       "      <th>2022</th>\n",
       "      <td>False</td>\n",
       "      <td>False</td>\n",
       "      <td>False</td>\n",
       "      <td>False</td>\n",
       "    </tr>\n",
       "  </tbody>\n",
       "</table>\n",
       "</div>"
      ]
     },
     "execution_count": 82,
     "metadata": {},
     "output_type": "execute_result"
    }
   ],
   "execution_count": 82
  },
  {
   "cell_type": "code",
   "source": [
    "# Extracting rows single\n",
    "branch_df3.loc[('cse',2022)]"
   ],
   "metadata": {
    "id": "YEmNFJR-3DP4",
    "colab": {
     "base_uri": "https://localhost:8080/"
    },
    "outputId": "f71361e4-62c4-42e7-feac-ef764f555fc9",
    "ExecuteTime": {
     "end_time": "2025-09-03T16:53:53.866274Z",
     "start_time": "2025-09-03T16:53:53.858450Z"
    }
   },
   "outputs": [
    {
     "data": {
      "text/plain": [
       "delhi   avg_package    7\n",
       "        students       8\n",
       "mumbai  avg_package    0\n",
       "        students       0\n",
       "Name: (cse, 2022), dtype: int64"
      ]
     },
     "execution_count": 83,
     "metadata": {},
     "output_type": "execute_result"
    }
   ],
   "execution_count": 83
  },
  {
   "cell_type": "code",
   "source": [
    "# multiple\n",
    "branch_df3.loc[('cse',2019):('ece',2020):2]"
   ],
   "metadata": {
    "id": "rDZFj7bAtARW",
    "colab": {
     "base_uri": "https://localhost:8080/",
     "height": 175
    },
    "outputId": "abc00c3f-d30b-45f2-d8a0-839da4c5ba2d",
    "ExecuteTime": {
     "end_time": "2025-09-03T16:54:30.931180Z",
     "start_time": "2025-09-03T16:54:30.919976Z"
    }
   },
   "outputs": [
    {
     "data": {
      "text/plain": [
       "               delhi               mumbai         \n",
       "         avg_package students avg_package students\n",
       "cse 2019           1        2           0        0\n",
       "    2021           5        6           0        0\n",
       "ece 2019           9       10           0        0"
      ],
      "text/html": [
       "<div>\n",
       "<style scoped>\n",
       "    .dataframe tbody tr th:only-of-type {\n",
       "        vertical-align: middle;\n",
       "    }\n",
       "\n",
       "    .dataframe tbody tr th {\n",
       "        vertical-align: top;\n",
       "    }\n",
       "\n",
       "    .dataframe thead tr th {\n",
       "        text-align: left;\n",
       "    }\n",
       "</style>\n",
       "<table border=\"1\" class=\"dataframe\">\n",
       "  <thead>\n",
       "    <tr>\n",
       "      <th></th>\n",
       "      <th></th>\n",
       "      <th colspan=\"2\" halign=\"left\">delhi</th>\n",
       "      <th colspan=\"2\" halign=\"left\">mumbai</th>\n",
       "    </tr>\n",
       "    <tr>\n",
       "      <th></th>\n",
       "      <th></th>\n",
       "      <th>avg_package</th>\n",
       "      <th>students</th>\n",
       "      <th>avg_package</th>\n",
       "      <th>students</th>\n",
       "    </tr>\n",
       "  </thead>\n",
       "  <tbody>\n",
       "    <tr>\n",
       "      <th rowspan=\"2\" valign=\"top\">cse</th>\n",
       "      <th>2019</th>\n",
       "      <td>1</td>\n",
       "      <td>2</td>\n",
       "      <td>0</td>\n",
       "      <td>0</td>\n",
       "    </tr>\n",
       "    <tr>\n",
       "      <th>2021</th>\n",
       "      <td>5</td>\n",
       "      <td>6</td>\n",
       "      <td>0</td>\n",
       "      <td>0</td>\n",
       "    </tr>\n",
       "    <tr>\n",
       "      <th>ece</th>\n",
       "      <th>2019</th>\n",
       "      <td>9</td>\n",
       "      <td>10</td>\n",
       "      <td>0</td>\n",
       "      <td>0</td>\n",
       "    </tr>\n",
       "  </tbody>\n",
       "</table>\n",
       "</div>"
      ]
     },
     "execution_count": 84,
     "metadata": {},
     "output_type": "execute_result"
    }
   ],
   "execution_count": 84
  },
  {
   "cell_type": "code",
   "source": [
    "# using iloc\n",
    "branch_df3.iloc[0:5:2]"
   ],
   "metadata": {
    "id": "EIXsAwTCtNSv",
    "colab": {
     "base_uri": "https://localhost:8080/",
     "height": 175
    },
    "outputId": "031a4e81-f870-4a4f-b43b-aee53674fe85",
    "ExecuteTime": {
     "end_time": "2025-09-03T16:55:13.697243Z",
     "start_time": "2025-09-03T16:55:13.687239Z"
    }
   },
   "outputs": [
    {
     "data": {
      "text/plain": [
       "               delhi               mumbai         \n",
       "         avg_package students avg_package students\n",
       "cse 2019           1        2           0        0\n",
       "    2021           5        6           0        0\n",
       "ece 2019           9       10           0        0"
      ],
      "text/html": [
       "<div>\n",
       "<style scoped>\n",
       "    .dataframe tbody tr th:only-of-type {\n",
       "        vertical-align: middle;\n",
       "    }\n",
       "\n",
       "    .dataframe tbody tr th {\n",
       "        vertical-align: top;\n",
       "    }\n",
       "\n",
       "    .dataframe thead tr th {\n",
       "        text-align: left;\n",
       "    }\n",
       "</style>\n",
       "<table border=\"1\" class=\"dataframe\">\n",
       "  <thead>\n",
       "    <tr>\n",
       "      <th></th>\n",
       "      <th></th>\n",
       "      <th colspan=\"2\" halign=\"left\">delhi</th>\n",
       "      <th colspan=\"2\" halign=\"left\">mumbai</th>\n",
       "    </tr>\n",
       "    <tr>\n",
       "      <th></th>\n",
       "      <th></th>\n",
       "      <th>avg_package</th>\n",
       "      <th>students</th>\n",
       "      <th>avg_package</th>\n",
       "      <th>students</th>\n",
       "    </tr>\n",
       "  </thead>\n",
       "  <tbody>\n",
       "    <tr>\n",
       "      <th rowspan=\"2\" valign=\"top\">cse</th>\n",
       "      <th>2019</th>\n",
       "      <td>1</td>\n",
       "      <td>2</td>\n",
       "      <td>0</td>\n",
       "      <td>0</td>\n",
       "    </tr>\n",
       "    <tr>\n",
       "      <th>2021</th>\n",
       "      <td>5</td>\n",
       "      <td>6</td>\n",
       "      <td>0</td>\n",
       "      <td>0</td>\n",
       "    </tr>\n",
       "    <tr>\n",
       "      <th>ece</th>\n",
       "      <th>2019</th>\n",
       "      <td>9</td>\n",
       "      <td>10</td>\n",
       "      <td>0</td>\n",
       "      <td>0</td>\n",
       "    </tr>\n",
       "  </tbody>\n",
       "</table>\n",
       "</div>"
      ]
     },
     "execution_count": 85,
     "metadata": {},
     "output_type": "execute_result"
    }
   ],
   "execution_count": 85
  },
  {
   "cell_type": "code",
   "source": [
    "# Extracting cols\n",
    "branch_df3['delhi']['students']"
   ],
   "metadata": {
    "id": "_6MxWhhNgZXD",
    "colab": {
     "base_uri": "https://localhost:8080/"
    },
    "outputId": "4259432f-0ace-44db-d5b7-d63c228bd7f5",
    "ExecuteTime": {
     "end_time": "2025-09-03T16:55:45.508396Z",
     "start_time": "2025-09-03T16:55:45.501266Z"
    }
   },
   "outputs": [
    {
     "data": {
      "text/plain": [
       "cse  2019     2\n",
       "     2020     4\n",
       "     2021     6\n",
       "     2022     8\n",
       "ece  2019    10\n",
       "     2020    12\n",
       "     2021    14\n",
       "     2022    16\n",
       "Name: students, dtype: int64"
      ]
     },
     "execution_count": 86,
     "metadata": {},
     "output_type": "execute_result"
    }
   ],
   "execution_count": 86
  },
  {
   "cell_type": "code",
   "source": [
    "branch_df3.iloc[:,1:3]"
   ],
   "metadata": {
    "colab": {
     "base_uri": "https://localhost:8080/",
     "height": 332
    },
    "id": "7LYcFAiyTWtT",
    "outputId": "dc863c2e-73b3-4e22-bb63-b43e9c5b56ad",
    "ExecuteTime": {
     "end_time": "2025-09-03T16:55:57.927678Z",
     "start_time": "2025-09-03T16:55:57.911851Z"
    }
   },
   "outputs": [
    {
     "data": {
      "text/plain": [
       "            delhi      mumbai\n",
       "         students avg_package\n",
       "cse 2019        2           0\n",
       "    2020        4           0\n",
       "    2021        6           0\n",
       "    2022        8           0\n",
       "ece 2019       10           0\n",
       "    2020       12           0\n",
       "    2021       14           0\n",
       "    2022       16           0"
      ],
      "text/html": [
       "<div>\n",
       "<style scoped>\n",
       "    .dataframe tbody tr th:only-of-type {\n",
       "        vertical-align: middle;\n",
       "    }\n",
       "\n",
       "    .dataframe tbody tr th {\n",
       "        vertical-align: top;\n",
       "    }\n",
       "\n",
       "    .dataframe thead tr th {\n",
       "        text-align: left;\n",
       "    }\n",
       "</style>\n",
       "<table border=\"1\" class=\"dataframe\">\n",
       "  <thead>\n",
       "    <tr>\n",
       "      <th></th>\n",
       "      <th></th>\n",
       "      <th>delhi</th>\n",
       "      <th>mumbai</th>\n",
       "    </tr>\n",
       "    <tr>\n",
       "      <th></th>\n",
       "      <th></th>\n",
       "      <th>students</th>\n",
       "      <th>avg_package</th>\n",
       "    </tr>\n",
       "  </thead>\n",
       "  <tbody>\n",
       "    <tr>\n",
       "      <th rowspan=\"4\" valign=\"top\">cse</th>\n",
       "      <th>2019</th>\n",
       "      <td>2</td>\n",
       "      <td>0</td>\n",
       "    </tr>\n",
       "    <tr>\n",
       "      <th>2020</th>\n",
       "      <td>4</td>\n",
       "      <td>0</td>\n",
       "    </tr>\n",
       "    <tr>\n",
       "      <th>2021</th>\n",
       "      <td>6</td>\n",
       "      <td>0</td>\n",
       "    </tr>\n",
       "    <tr>\n",
       "      <th>2022</th>\n",
       "      <td>8</td>\n",
       "      <td>0</td>\n",
       "    </tr>\n",
       "    <tr>\n",
       "      <th rowspan=\"4\" valign=\"top\">ece</th>\n",
       "      <th>2019</th>\n",
       "      <td>10</td>\n",
       "      <td>0</td>\n",
       "    </tr>\n",
       "    <tr>\n",
       "      <th>2020</th>\n",
       "      <td>12</td>\n",
       "      <td>0</td>\n",
       "    </tr>\n",
       "    <tr>\n",
       "      <th>2021</th>\n",
       "      <td>14</td>\n",
       "      <td>0</td>\n",
       "    </tr>\n",
       "    <tr>\n",
       "      <th>2022</th>\n",
       "      <td>16</td>\n",
       "      <td>0</td>\n",
       "    </tr>\n",
       "  </tbody>\n",
       "</table>\n",
       "</div>"
      ]
     },
     "execution_count": 87,
     "metadata": {},
     "output_type": "execute_result"
    }
   ],
   "execution_count": 87
  },
  {
   "cell_type": "code",
   "source": [
    "# Extracting both ( using fancy indexing)\n",
    "branch_df3.iloc[[0,4],[1,2]]"
   ],
   "metadata": {
    "id": "8-VcyUlqgciM",
    "colab": {
     "base_uri": "https://localhost:8080/",
     "height": 143
    },
    "outputId": "c2879c7b-6b47-4415-e1e9-ef7f86eaf7eb",
    "ExecuteTime": {
     "end_time": "2025-09-03T16:57:49.080758Z",
     "start_time": "2025-09-03T16:57:49.066767Z"
    }
   },
   "outputs": [
    {
     "data": {
      "text/plain": [
       "            delhi      mumbai\n",
       "         students avg_package\n",
       "cse 2019        2           0\n",
       "ece 2019       10           0"
      ],
      "text/html": [
       "<div>\n",
       "<style scoped>\n",
       "    .dataframe tbody tr th:only-of-type {\n",
       "        vertical-align: middle;\n",
       "    }\n",
       "\n",
       "    .dataframe tbody tr th {\n",
       "        vertical-align: top;\n",
       "    }\n",
       "\n",
       "    .dataframe thead tr th {\n",
       "        text-align: left;\n",
       "    }\n",
       "</style>\n",
       "<table border=\"1\" class=\"dataframe\">\n",
       "  <thead>\n",
       "    <tr>\n",
       "      <th></th>\n",
       "      <th></th>\n",
       "      <th>delhi</th>\n",
       "      <th>mumbai</th>\n",
       "    </tr>\n",
       "    <tr>\n",
       "      <th></th>\n",
       "      <th></th>\n",
       "      <th>students</th>\n",
       "      <th>avg_package</th>\n",
       "    </tr>\n",
       "  </thead>\n",
       "  <tbody>\n",
       "    <tr>\n",
       "      <th>cse</th>\n",
       "      <th>2019</th>\n",
       "      <td>2</td>\n",
       "      <td>0</td>\n",
       "    </tr>\n",
       "    <tr>\n",
       "      <th>ece</th>\n",
       "      <th>2019</th>\n",
       "      <td>10</td>\n",
       "      <td>0</td>\n",
       "    </tr>\n",
       "  </tbody>\n",
       "</table>\n",
       "</div>"
      ]
     },
     "execution_count": 88,
     "metadata": {},
     "output_type": "execute_result"
    }
   ],
   "execution_count": 88
  },
  {
   "cell_type": "code",
   "source": [
    "# sort index\n",
    "# both -> descending -> diff order\n",
    "# based on one level\n",
    "branch_df3.sort_index(ascending=False)  # this will sort both index levels in descending order .\n",
    "branch_df3.sort_index(ascending=[False,True])   # this will sort level 0 in descending order and level 1 in ascending order .\n",
    "branch_df3.sort_index(level=1,ascending=[False])    # this will sort level 1 in descending order ."
   ],
   "metadata": {
    "id": "6Sn1rG9ciU5w",
    "colab": {
     "base_uri": "https://localhost:8080/",
     "height": 332
    },
    "outputId": "2f6b7dfd-b61b-4805-b080-67eb2444b281",
    "ExecuteTime": {
     "end_time": "2025-09-03T17:25:42.208187Z",
     "start_time": "2025-09-03T17:25:42.196591Z"
    }
   },
   "outputs": [
    {
     "data": {
      "text/plain": [
       "               delhi               mumbai         \n",
       "         avg_package students avg_package students\n",
       "cse 2022           7        8           0        0\n",
       "ece 2022          15       16           0        0\n",
       "cse 2021           5        6           0        0\n",
       "ece 2021          13       14           0        0\n",
       "cse 2020           3        4           0        0\n",
       "ece 2020          11       12           0        0\n",
       "cse 2019           1        2           0        0\n",
       "ece 2019           9       10           0        0"
      ],
      "text/html": [
       "<div>\n",
       "<style scoped>\n",
       "    .dataframe tbody tr th:only-of-type {\n",
       "        vertical-align: middle;\n",
       "    }\n",
       "\n",
       "    .dataframe tbody tr th {\n",
       "        vertical-align: top;\n",
       "    }\n",
       "\n",
       "    .dataframe thead tr th {\n",
       "        text-align: left;\n",
       "    }\n",
       "</style>\n",
       "<table border=\"1\" class=\"dataframe\">\n",
       "  <thead>\n",
       "    <tr>\n",
       "      <th></th>\n",
       "      <th></th>\n",
       "      <th colspan=\"2\" halign=\"left\">delhi</th>\n",
       "      <th colspan=\"2\" halign=\"left\">mumbai</th>\n",
       "    </tr>\n",
       "    <tr>\n",
       "      <th></th>\n",
       "      <th></th>\n",
       "      <th>avg_package</th>\n",
       "      <th>students</th>\n",
       "      <th>avg_package</th>\n",
       "      <th>students</th>\n",
       "    </tr>\n",
       "  </thead>\n",
       "  <tbody>\n",
       "    <tr>\n",
       "      <th>cse</th>\n",
       "      <th>2022</th>\n",
       "      <td>7</td>\n",
       "      <td>8</td>\n",
       "      <td>0</td>\n",
       "      <td>0</td>\n",
       "    </tr>\n",
       "    <tr>\n",
       "      <th>ece</th>\n",
       "      <th>2022</th>\n",
       "      <td>15</td>\n",
       "      <td>16</td>\n",
       "      <td>0</td>\n",
       "      <td>0</td>\n",
       "    </tr>\n",
       "    <tr>\n",
       "      <th>cse</th>\n",
       "      <th>2021</th>\n",
       "      <td>5</td>\n",
       "      <td>6</td>\n",
       "      <td>0</td>\n",
       "      <td>0</td>\n",
       "    </tr>\n",
       "    <tr>\n",
       "      <th>ece</th>\n",
       "      <th>2021</th>\n",
       "      <td>13</td>\n",
       "      <td>14</td>\n",
       "      <td>0</td>\n",
       "      <td>0</td>\n",
       "    </tr>\n",
       "    <tr>\n",
       "      <th>cse</th>\n",
       "      <th>2020</th>\n",
       "      <td>3</td>\n",
       "      <td>4</td>\n",
       "      <td>0</td>\n",
       "      <td>0</td>\n",
       "    </tr>\n",
       "    <tr>\n",
       "      <th>ece</th>\n",
       "      <th>2020</th>\n",
       "      <td>11</td>\n",
       "      <td>12</td>\n",
       "      <td>0</td>\n",
       "      <td>0</td>\n",
       "    </tr>\n",
       "    <tr>\n",
       "      <th>cse</th>\n",
       "      <th>2019</th>\n",
       "      <td>1</td>\n",
       "      <td>2</td>\n",
       "      <td>0</td>\n",
       "      <td>0</td>\n",
       "    </tr>\n",
       "    <tr>\n",
       "      <th>ece</th>\n",
       "      <th>2019</th>\n",
       "      <td>9</td>\n",
       "      <td>10</td>\n",
       "      <td>0</td>\n",
       "      <td>0</td>\n",
       "    </tr>\n",
       "  </tbody>\n",
       "</table>\n",
       "</div>"
      ]
     },
     "execution_count": 90,
     "metadata": {},
     "output_type": "execute_result"
    }
   ],
   "execution_count": 90
  },
  {
   "cell_type": "code",
   "source": [
    "# multiindex dataframe(col) -> transpose\n",
    "branch_df3.transpose()"
   ],
   "metadata": {
    "id": "5x73MtqP5yKP",
    "colab": {
     "base_uri": "https://localhost:8080/",
     "height": 206
    },
    "outputId": "4d0902bf-b110-4d93-dc61-47df3136f44d",
    "ExecuteTime": {
     "end_time": "2025-09-03T17:26:19.521106Z",
     "start_time": "2025-09-03T17:26:19.509985Z"
    }
   },
   "outputs": [
    {
     "data": {
      "text/plain": [
       "                    cse                 ece               \n",
       "                   2019 2020 2021 2022 2019 2020 2021 2022\n",
       "delhi  avg_package    1    3    5    7    9   11   13   15\n",
       "       students       2    4    6    8   10   12   14   16\n",
       "mumbai avg_package    0    0    0    0    0    0    0    0\n",
       "       students       0    0    0    0    0    0    0    0"
      ],
      "text/html": [
       "<div>\n",
       "<style scoped>\n",
       "    .dataframe tbody tr th:only-of-type {\n",
       "        vertical-align: middle;\n",
       "    }\n",
       "\n",
       "    .dataframe tbody tr th {\n",
       "        vertical-align: top;\n",
       "    }\n",
       "\n",
       "    .dataframe thead tr th {\n",
       "        text-align: left;\n",
       "    }\n",
       "</style>\n",
       "<table border=\"1\" class=\"dataframe\">\n",
       "  <thead>\n",
       "    <tr>\n",
       "      <th></th>\n",
       "      <th></th>\n",
       "      <th colspan=\"4\" halign=\"left\">cse</th>\n",
       "      <th colspan=\"4\" halign=\"left\">ece</th>\n",
       "    </tr>\n",
       "    <tr>\n",
       "      <th></th>\n",
       "      <th></th>\n",
       "      <th>2019</th>\n",
       "      <th>2020</th>\n",
       "      <th>2021</th>\n",
       "      <th>2022</th>\n",
       "      <th>2019</th>\n",
       "      <th>2020</th>\n",
       "      <th>2021</th>\n",
       "      <th>2022</th>\n",
       "    </tr>\n",
       "  </thead>\n",
       "  <tbody>\n",
       "    <tr>\n",
       "      <th rowspan=\"2\" valign=\"top\">delhi</th>\n",
       "      <th>avg_package</th>\n",
       "      <td>1</td>\n",
       "      <td>3</td>\n",
       "      <td>5</td>\n",
       "      <td>7</td>\n",
       "      <td>9</td>\n",
       "      <td>11</td>\n",
       "      <td>13</td>\n",
       "      <td>15</td>\n",
       "    </tr>\n",
       "    <tr>\n",
       "      <th>students</th>\n",
       "      <td>2</td>\n",
       "      <td>4</td>\n",
       "      <td>6</td>\n",
       "      <td>8</td>\n",
       "      <td>10</td>\n",
       "      <td>12</td>\n",
       "      <td>14</td>\n",
       "      <td>16</td>\n",
       "    </tr>\n",
       "    <tr>\n",
       "      <th rowspan=\"2\" valign=\"top\">mumbai</th>\n",
       "      <th>avg_package</th>\n",
       "      <td>0</td>\n",
       "      <td>0</td>\n",
       "      <td>0</td>\n",
       "      <td>0</td>\n",
       "      <td>0</td>\n",
       "      <td>0</td>\n",
       "      <td>0</td>\n",
       "      <td>0</td>\n",
       "    </tr>\n",
       "    <tr>\n",
       "      <th>students</th>\n",
       "      <td>0</td>\n",
       "      <td>0</td>\n",
       "      <td>0</td>\n",
       "      <td>0</td>\n",
       "      <td>0</td>\n",
       "      <td>0</td>\n",
       "      <td>0</td>\n",
       "      <td>0</td>\n",
       "    </tr>\n",
       "  </tbody>\n",
       "</table>\n",
       "</div>"
      ]
     },
     "execution_count": 92,
     "metadata": {},
     "output_type": "execute_result"
    }
   ],
   "execution_count": 92
  },
  {
   "cell_type": "code",
   "source": [
    "# swaplevel\n",
    "branch_df3.swaplevel()"
   ],
   "metadata": {
    "id": "nNBokstxrV_h",
    "colab": {
     "base_uri": "https://localhost:8080/",
     "height": 332
    },
    "outputId": "b43c2051-6228-4fb2-f805-c0f0b0b1f44e",
    "ExecuteTime": {
     "end_time": "2025-09-03T17:52:23.539527Z",
     "start_time": "2025-09-03T17:52:23.527278Z"
    }
   },
   "outputs": [
    {
     "data": {
      "text/plain": [
       "               delhi               mumbai         \n",
       "         avg_package students avg_package students\n",
       "2019 cse           1        2           0        0\n",
       "2020 cse           3        4           0        0\n",
       "2021 cse           5        6           0        0\n",
       "2022 cse           7        8           0        0\n",
       "2019 ece           9       10           0        0\n",
       "2020 ece          11       12           0        0\n",
       "2021 ece          13       14           0        0\n",
       "2022 ece          15       16           0        0"
      ],
      "text/html": [
       "<div>\n",
       "<style scoped>\n",
       "    .dataframe tbody tr th:only-of-type {\n",
       "        vertical-align: middle;\n",
       "    }\n",
       "\n",
       "    .dataframe tbody tr th {\n",
       "        vertical-align: top;\n",
       "    }\n",
       "\n",
       "    .dataframe thead tr th {\n",
       "        text-align: left;\n",
       "    }\n",
       "</style>\n",
       "<table border=\"1\" class=\"dataframe\">\n",
       "  <thead>\n",
       "    <tr>\n",
       "      <th></th>\n",
       "      <th></th>\n",
       "      <th colspan=\"2\" halign=\"left\">delhi</th>\n",
       "      <th colspan=\"2\" halign=\"left\">mumbai</th>\n",
       "    </tr>\n",
       "    <tr>\n",
       "      <th></th>\n",
       "      <th></th>\n",
       "      <th>avg_package</th>\n",
       "      <th>students</th>\n",
       "      <th>avg_package</th>\n",
       "      <th>students</th>\n",
       "    </tr>\n",
       "  </thead>\n",
       "  <tbody>\n",
       "    <tr>\n",
       "      <th>2019</th>\n",
       "      <th>cse</th>\n",
       "      <td>1</td>\n",
       "      <td>2</td>\n",
       "      <td>0</td>\n",
       "      <td>0</td>\n",
       "    </tr>\n",
       "    <tr>\n",
       "      <th>2020</th>\n",
       "      <th>cse</th>\n",
       "      <td>3</td>\n",
       "      <td>4</td>\n",
       "      <td>0</td>\n",
       "      <td>0</td>\n",
       "    </tr>\n",
       "    <tr>\n",
       "      <th>2021</th>\n",
       "      <th>cse</th>\n",
       "      <td>5</td>\n",
       "      <td>6</td>\n",
       "      <td>0</td>\n",
       "      <td>0</td>\n",
       "    </tr>\n",
       "    <tr>\n",
       "      <th>2022</th>\n",
       "      <th>cse</th>\n",
       "      <td>7</td>\n",
       "      <td>8</td>\n",
       "      <td>0</td>\n",
       "      <td>0</td>\n",
       "    </tr>\n",
       "    <tr>\n",
       "      <th>2019</th>\n",
       "      <th>ece</th>\n",
       "      <td>9</td>\n",
       "      <td>10</td>\n",
       "      <td>0</td>\n",
       "      <td>0</td>\n",
       "    </tr>\n",
       "    <tr>\n",
       "      <th>2020</th>\n",
       "      <th>ece</th>\n",
       "      <td>11</td>\n",
       "      <td>12</td>\n",
       "      <td>0</td>\n",
       "      <td>0</td>\n",
       "    </tr>\n",
       "    <tr>\n",
       "      <th>2021</th>\n",
       "      <th>ece</th>\n",
       "      <td>13</td>\n",
       "      <td>14</td>\n",
       "      <td>0</td>\n",
       "      <td>0</td>\n",
       "    </tr>\n",
       "    <tr>\n",
       "      <th>2022</th>\n",
       "      <th>ece</th>\n",
       "      <td>15</td>\n",
       "      <td>16</td>\n",
       "      <td>0</td>\n",
       "      <td>0</td>\n",
       "    </tr>\n",
       "  </tbody>\n",
       "</table>\n",
       "</div>"
      ]
     },
     "execution_count": 95,
     "metadata": {},
     "output_type": "execute_result"
    }
   ],
   "execution_count": 95
  },
  {
   "metadata": {
    "ExecuteTime": {
     "end_time": "2025-09-03T17:52:02.764584Z",
     "start_time": "2025-09-03T17:52:02.753736Z"
    }
   },
   "cell_type": "code",
   "source": "branch_df3.swaplevel(axis=1)",
   "outputs": [
    {
     "data": {
      "text/plain": [
       "         avg_package students avg_package students\n",
       "               delhi    delhi      mumbai   mumbai\n",
       "cse 2019           1        2           0        0\n",
       "    2020           3        4           0        0\n",
       "    2021           5        6           0        0\n",
       "    2022           7        8           0        0\n",
       "ece 2019           9       10           0        0\n",
       "    2020          11       12           0        0\n",
       "    2021          13       14           0        0\n",
       "    2022          15       16           0        0"
      ],
      "text/html": [
       "<div>\n",
       "<style scoped>\n",
       "    .dataframe tbody tr th:only-of-type {\n",
       "        vertical-align: middle;\n",
       "    }\n",
       "\n",
       "    .dataframe tbody tr th {\n",
       "        vertical-align: top;\n",
       "    }\n",
       "\n",
       "    .dataframe thead tr th {\n",
       "        text-align: left;\n",
       "    }\n",
       "</style>\n",
       "<table border=\"1\" class=\"dataframe\">\n",
       "  <thead>\n",
       "    <tr>\n",
       "      <th></th>\n",
       "      <th></th>\n",
       "      <th>avg_package</th>\n",
       "      <th>students</th>\n",
       "      <th>avg_package</th>\n",
       "      <th>students</th>\n",
       "    </tr>\n",
       "    <tr>\n",
       "      <th></th>\n",
       "      <th></th>\n",
       "      <th>delhi</th>\n",
       "      <th>delhi</th>\n",
       "      <th>mumbai</th>\n",
       "      <th>mumbai</th>\n",
       "    </tr>\n",
       "  </thead>\n",
       "  <tbody>\n",
       "    <tr>\n",
       "      <th rowspan=\"4\" valign=\"top\">cse</th>\n",
       "      <th>2019</th>\n",
       "      <td>1</td>\n",
       "      <td>2</td>\n",
       "      <td>0</td>\n",
       "      <td>0</td>\n",
       "    </tr>\n",
       "    <tr>\n",
       "      <th>2020</th>\n",
       "      <td>3</td>\n",
       "      <td>4</td>\n",
       "      <td>0</td>\n",
       "      <td>0</td>\n",
       "    </tr>\n",
       "    <tr>\n",
       "      <th>2021</th>\n",
       "      <td>5</td>\n",
       "      <td>6</td>\n",
       "      <td>0</td>\n",
       "      <td>0</td>\n",
       "    </tr>\n",
       "    <tr>\n",
       "      <th>2022</th>\n",
       "      <td>7</td>\n",
       "      <td>8</td>\n",
       "      <td>0</td>\n",
       "      <td>0</td>\n",
       "    </tr>\n",
       "    <tr>\n",
       "      <th rowspan=\"4\" valign=\"top\">ece</th>\n",
       "      <th>2019</th>\n",
       "      <td>9</td>\n",
       "      <td>10</td>\n",
       "      <td>0</td>\n",
       "      <td>0</td>\n",
       "    </tr>\n",
       "    <tr>\n",
       "      <th>2020</th>\n",
       "      <td>11</td>\n",
       "      <td>12</td>\n",
       "      <td>0</td>\n",
       "      <td>0</td>\n",
       "    </tr>\n",
       "    <tr>\n",
       "      <th>2021</th>\n",
       "      <td>13</td>\n",
       "      <td>14</td>\n",
       "      <td>0</td>\n",
       "      <td>0</td>\n",
       "    </tr>\n",
       "    <tr>\n",
       "      <th>2022</th>\n",
       "      <td>15</td>\n",
       "      <td>16</td>\n",
       "      <td>0</td>\n",
       "      <td>0</td>\n",
       "    </tr>\n",
       "  </tbody>\n",
       "</table>\n",
       "</div>"
      ]
     },
     "execution_count": 94,
     "metadata": {},
     "output_type": "execute_result"
    }
   ],
   "execution_count": 94
  },
  {
   "cell_type": "markdown",
   "source": [
    "### Long Vs Wide Data\n",
    "![image.png](data:image/png;base64,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)\n",
    "\n",
    "**Wide format** is where we have a single row for every data point with multiple columns to hold the values of various attributes.\n",
    "\n",
    "**Long format** is where, for each data point we have as many rows as the number of attributes and each row contains the value of a particular attribute for a given data point."
   ],
   "metadata": {
    "id": "txCa5unPO00k"
   }
  },
  {
   "metadata": {},
   "cell_type": "markdown",
   "source": [
    "- Melt function converts wide format to long format.\n",
    "- Pivot function converts long format to wide format."
   ]
  },
  {
   "cell_type": "code",
   "source": [
    "# melt -> simple example branch\n",
    "# wide to long\n",
    "x = pd.DataFrame({'cse':[120]})\n",
    "x"
   ],
   "metadata": {
    "id": "F4-gM5kLP8rK",
    "colab": {
     "base_uri": "https://localhost:8080/",
     "height": 81
    },
    "outputId": "7fd5fc7a-cdf9-4282-8cb0-5c29cd537f74",
    "ExecuteTime": {
     "end_time": "2025-09-03T17:58:58.831752Z",
     "start_time": "2025-09-03T17:58:58.823777Z"
    }
   },
   "outputs": [
    {
     "data": {
      "text/plain": [
       "   cse\n",
       "0  120"
      ],
      "text/html": [
       "<div>\n",
       "<style scoped>\n",
       "    .dataframe tbody tr th:only-of-type {\n",
       "        vertical-align: middle;\n",
       "    }\n",
       "\n",
       "    .dataframe tbody tr th {\n",
       "        vertical-align: top;\n",
       "    }\n",
       "\n",
       "    .dataframe thead th {\n",
       "        text-align: right;\n",
       "    }\n",
       "</style>\n",
       "<table border=\"1\" class=\"dataframe\">\n",
       "  <thead>\n",
       "    <tr style=\"text-align: right;\">\n",
       "      <th></th>\n",
       "      <th>cse</th>\n",
       "    </tr>\n",
       "  </thead>\n",
       "  <tbody>\n",
       "    <tr>\n",
       "      <th>0</th>\n",
       "      <td>120</td>\n",
       "    </tr>\n",
       "  </tbody>\n",
       "</table>\n",
       "</div>"
      ]
     },
     "execution_count": 97,
     "metadata": {},
     "output_type": "execute_result"
    }
   ],
   "execution_count": 97
  },
  {
   "metadata": {
    "ExecuteTime": {
     "end_time": "2025-09-03T17:59:23.122189Z",
     "start_time": "2025-09-03T17:59:23.113968Z"
    }
   },
   "cell_type": "code",
   "source": "x.melt()",
   "outputs": [
    {
     "data": {
      "text/plain": [
       "  variable  value\n",
       "0      cse    120"
      ],
      "text/html": [
       "<div>\n",
       "<style scoped>\n",
       "    .dataframe tbody tr th:only-of-type {\n",
       "        vertical-align: middle;\n",
       "    }\n",
       "\n",
       "    .dataframe tbody tr th {\n",
       "        vertical-align: top;\n",
       "    }\n",
       "\n",
       "    .dataframe thead th {\n",
       "        text-align: right;\n",
       "    }\n",
       "</style>\n",
       "<table border=\"1\" class=\"dataframe\">\n",
       "  <thead>\n",
       "    <tr style=\"text-align: right;\">\n",
       "      <th></th>\n",
       "      <th>variable</th>\n",
       "      <th>value</th>\n",
       "    </tr>\n",
       "  </thead>\n",
       "  <tbody>\n",
       "    <tr>\n",
       "      <th>0</th>\n",
       "      <td>cse</td>\n",
       "      <td>120</td>\n",
       "    </tr>\n",
       "  </tbody>\n",
       "</table>\n",
       "</div>"
      ]
     },
     "execution_count": 98,
     "metadata": {},
     "output_type": "execute_result"
    }
   ],
   "execution_count": 98
  },
  {
   "cell_type": "code",
   "source": [
    "# melt -> branch with year\n",
    "pd.DataFrame({'cse':[120],'ece':[100],'mech':[50]}).melt(var_name='branch',value_name='num_students').melt()\n"
   ],
   "metadata": {
    "id": "yTDt0rBZMZ6Z",
    "colab": {
     "base_uri": "https://localhost:8080/",
     "height": 143
    },
    "outputId": "7daa65f7-da14-4dec-ac60-a52704694a23",
    "ExecuteTime": {
     "end_time": "2025-09-03T18:03:15.543665Z",
     "start_time": "2025-09-03T18:03:15.531600Z"
    }
   },
   "outputs": [
    {
     "data": {
      "text/plain": [
       "       variable value\n",
       "0        branch   cse\n",
       "1        branch   ece\n",
       "2        branch  mech\n",
       "3  num_students   120\n",
       "4  num_students   100\n",
       "5  num_students    50"
      ],
      "text/html": [
       "<div>\n",
       "<style scoped>\n",
       "    .dataframe tbody tr th:only-of-type {\n",
       "        vertical-align: middle;\n",
       "    }\n",
       "\n",
       "    .dataframe tbody tr th {\n",
       "        vertical-align: top;\n",
       "    }\n",
       "\n",
       "    .dataframe thead th {\n",
       "        text-align: right;\n",
       "    }\n",
       "</style>\n",
       "<table border=\"1\" class=\"dataframe\">\n",
       "  <thead>\n",
       "    <tr style=\"text-align: right;\">\n",
       "      <th></th>\n",
       "      <th>variable</th>\n",
       "      <th>value</th>\n",
       "    </tr>\n",
       "  </thead>\n",
       "  <tbody>\n",
       "    <tr>\n",
       "      <th>0</th>\n",
       "      <td>branch</td>\n",
       "      <td>cse</td>\n",
       "    </tr>\n",
       "    <tr>\n",
       "      <th>1</th>\n",
       "      <td>branch</td>\n",
       "      <td>ece</td>\n",
       "    </tr>\n",
       "    <tr>\n",
       "      <th>2</th>\n",
       "      <td>branch</td>\n",
       "      <td>mech</td>\n",
       "    </tr>\n",
       "    <tr>\n",
       "      <th>3</th>\n",
       "      <td>num_students</td>\n",
       "      <td>120</td>\n",
       "    </tr>\n",
       "    <tr>\n",
       "      <th>4</th>\n",
       "      <td>num_students</td>\n",
       "      <td>100</td>\n",
       "    </tr>\n",
       "    <tr>\n",
       "      <th>5</th>\n",
       "      <td>num_students</td>\n",
       "      <td>50</td>\n",
       "    </tr>\n",
       "  </tbody>\n",
       "</table>\n",
       "</div>"
      ]
     },
     "execution_count": 110,
     "metadata": {},
     "output_type": "execute_result"
    }
   ],
   "execution_count": 110
  },
  {
   "cell_type": "code",
   "source": [
    "pd.DataFrame(\n",
    "    {\n",
    "        'branch':['cse','ece','mech'],\n",
    "        '2020':[100,150,60],\n",
    "        '2021':[120,130,80],\n",
    "        '2022':[150,140,70]\n",
    "    }\n",
    ").melt(id_vars=['branch'],var_name='year',value_name='students')\n",
    "# id_vars -> columns to be kept as it is\n",
    "# var_name -> name of the new variable column\n",
    "# value_name -> name of the new value column"
   ],
   "metadata": {
    "colab": {
     "base_uri": "https://localhost:8080/",
     "height": 332
    },
    "id": "zqJ68HyDYT4U",
    "outputId": "125d1c2f-ceca-44dc-fd9a-693ac6ebcde6",
    "ExecuteTime": {
     "end_time": "2025-09-03T18:05:40.674832Z",
     "start_time": "2025-09-03T18:05:40.661754Z"
    }
   },
   "outputs": [
    {
     "data": {
      "text/plain": [
       "  branch  year  students\n",
       "0    cse  2020       100\n",
       "1    ece  2020       150\n",
       "2   mech  2020        60\n",
       "3    cse  2021       120\n",
       "4    ece  2021       130\n",
       "5   mech  2021        80\n",
       "6    cse  2022       150\n",
       "7    ece  2022       140\n",
       "8   mech  2022        70"
      ],
      "text/html": [
       "<div>\n",
       "<style scoped>\n",
       "    .dataframe tbody tr th:only-of-type {\n",
       "        vertical-align: middle;\n",
       "    }\n",
       "\n",
       "    .dataframe tbody tr th {\n",
       "        vertical-align: top;\n",
       "    }\n",
       "\n",
       "    .dataframe thead th {\n",
       "        text-align: right;\n",
       "    }\n",
       "</style>\n",
       "<table border=\"1\" class=\"dataframe\">\n",
       "  <thead>\n",
       "    <tr style=\"text-align: right;\">\n",
       "      <th></th>\n",
       "      <th>branch</th>\n",
       "      <th>year</th>\n",
       "      <th>students</th>\n",
       "    </tr>\n",
       "  </thead>\n",
       "  <tbody>\n",
       "    <tr>\n",
       "      <th>0</th>\n",
       "      <td>cse</td>\n",
       "      <td>2020</td>\n",
       "      <td>100</td>\n",
       "    </tr>\n",
       "    <tr>\n",
       "      <th>1</th>\n",
       "      <td>ece</td>\n",
       "      <td>2020</td>\n",
       "      <td>150</td>\n",
       "    </tr>\n",
       "    <tr>\n",
       "      <th>2</th>\n",
       "      <td>mech</td>\n",
       "      <td>2020</td>\n",
       "      <td>60</td>\n",
       "    </tr>\n",
       "    <tr>\n",
       "      <th>3</th>\n",
       "      <td>cse</td>\n",
       "      <td>2021</td>\n",
       "      <td>120</td>\n",
       "    </tr>\n",
       "    <tr>\n",
       "      <th>4</th>\n",
       "      <td>ece</td>\n",
       "      <td>2021</td>\n",
       "      <td>130</td>\n",
       "    </tr>\n",
       "    <tr>\n",
       "      <th>5</th>\n",
       "      <td>mech</td>\n",
       "      <td>2021</td>\n",
       "      <td>80</td>\n",
       "    </tr>\n",
       "    <tr>\n",
       "      <th>6</th>\n",
       "      <td>cse</td>\n",
       "      <td>2022</td>\n",
       "      <td>150</td>\n",
       "    </tr>\n",
       "    <tr>\n",
       "      <th>7</th>\n",
       "      <td>ece</td>\n",
       "      <td>2022</td>\n",
       "      <td>140</td>\n",
       "    </tr>\n",
       "    <tr>\n",
       "      <th>8</th>\n",
       "      <td>mech</td>\n",
       "      <td>2022</td>\n",
       "      <td>70</td>\n",
       "    </tr>\n",
       "  </tbody>\n",
       "</table>\n",
       "</div>"
      ]
     },
     "execution_count": 113,
     "metadata": {},
     "output_type": "execute_result"
    }
   ],
   "execution_count": 113
  },
  {
   "cell_type": "code",
   "source": [
    "# melt -> real world example\n",
    "death = pd.read_csv('../DataSets/time_series_covid19_deaths_global.csv')\n",
    "confirm = pd.read_csv('../DataSets/time_series_covid19_confirmed_global.csv')"
   ],
   "metadata": {
    "id": "WNxHE7MGaNG9",
    "ExecuteTime": {
     "end_time": "2025-09-03T18:06:40.446389Z",
     "start_time": "2025-09-03T18:06:40.353545Z"
    }
   },
   "outputs": [],
   "execution_count": 114
  },
  {
   "cell_type": "code",
   "source": [
    "death.head()"
   ],
   "metadata": {
    "id": "MIP-6QT-SiCk",
    "colab": {
     "base_uri": "https://localhost:8080/",
     "height": 300
    },
    "outputId": "1bd75cc0-176b-4653-aed9-ae84a13112e2",
    "ExecuteTime": {
     "end_time": "2025-09-03T18:06:43.611349Z",
     "start_time": "2025-09-03T18:06:43.586186Z"
    }
   },
   "outputs": [
    {
     "data": {
      "text/plain": [
       "  Province/State Country/Region       Lat       Long  1/22/20  1/23/20  \\\n",
       "0            NaN    Afghanistan  33.93911  67.709953        0        0   \n",
       "1            NaN        Albania  41.15330  20.168300        0        0   \n",
       "2            NaN        Algeria  28.03390   1.659600        0        0   \n",
       "3            NaN        Andorra  42.50630   1.521800        0        0   \n",
       "4            NaN         Angola -11.20270  17.873900        0        0   \n",
       "\n",
       "   1/24/20  1/25/20  1/26/20  1/27/20  ...  12/24/22  12/25/22  12/26/22  \\\n",
       "0        0        0        0        0  ...      7845      7846      7846   \n",
       "1        0        0        0        0  ...      3595      3595      3595   \n",
       "2        0        0        0        0  ...      6881      6881      6881   \n",
       "3        0        0        0        0  ...       165       165       165   \n",
       "4        0        0        0        0  ...      1928      1928      1928   \n",
       "\n",
       "   12/27/22  12/28/22  12/29/22  12/30/22  12/31/22  1/1/23  1/2/23  \n",
       "0      7846      7846      7847      7847      7849    7849    7849  \n",
       "1      3595      3595      3595      3595      3595    3595    3595  \n",
       "2      6881      6881      6881      6881      6881    6881    6881  \n",
       "3       165       165       165       165       165     165     165  \n",
       "4      1930      1930      1930      1930      1930    1930    1930  \n",
       "\n",
       "[5 rows x 1081 columns]"
      ],
      "text/html": [
       "<div>\n",
       "<style scoped>\n",
       "    .dataframe tbody tr th:only-of-type {\n",
       "        vertical-align: middle;\n",
       "    }\n",
       "\n",
       "    .dataframe tbody tr th {\n",
       "        vertical-align: top;\n",
       "    }\n",
       "\n",
       "    .dataframe thead th {\n",
       "        text-align: right;\n",
       "    }\n",
       "</style>\n",
       "<table border=\"1\" class=\"dataframe\">\n",
       "  <thead>\n",
       "    <tr style=\"text-align: right;\">\n",
       "      <th></th>\n",
       "      <th>Province/State</th>\n",
       "      <th>Country/Region</th>\n",
       "      <th>Lat</th>\n",
       "      <th>Long</th>\n",
       "      <th>1/22/20</th>\n",
       "      <th>1/23/20</th>\n",
       "      <th>1/24/20</th>\n",
       "      <th>1/25/20</th>\n",
       "      <th>1/26/20</th>\n",
       "      <th>1/27/20</th>\n",
       "      <th>...</th>\n",
       "      <th>12/24/22</th>\n",
       "      <th>12/25/22</th>\n",
       "      <th>12/26/22</th>\n",
       "      <th>12/27/22</th>\n",
       "      <th>12/28/22</th>\n",
       "      <th>12/29/22</th>\n",
       "      <th>12/30/22</th>\n",
       "      <th>12/31/22</th>\n",
       "      <th>1/1/23</th>\n",
       "      <th>1/2/23</th>\n",
       "    </tr>\n",
       "  </thead>\n",
       "  <tbody>\n",
       "    <tr>\n",
       "      <th>0</th>\n",
       "      <td>NaN</td>\n",
       "      <td>Afghanistan</td>\n",
       "      <td>33.93911</td>\n",
       "      <td>67.709953</td>\n",
       "      <td>0</td>\n",
       "      <td>0</td>\n",
       "      <td>0</td>\n",
       "      <td>0</td>\n",
       "      <td>0</td>\n",
       "      <td>0</td>\n",
       "      <td>...</td>\n",
       "      <td>7845</td>\n",
       "      <td>7846</td>\n",
       "      <td>7846</td>\n",
       "      <td>7846</td>\n",
       "      <td>7846</td>\n",
       "      <td>7847</td>\n",
       "      <td>7847</td>\n",
       "      <td>7849</td>\n",
       "      <td>7849</td>\n",
       "      <td>7849</td>\n",
       "    </tr>\n",
       "    <tr>\n",
       "      <th>1</th>\n",
       "      <td>NaN</td>\n",
       "      <td>Albania</td>\n",
       "      <td>41.15330</td>\n",
       "      <td>20.168300</td>\n",
       "      <td>0</td>\n",
       "      <td>0</td>\n",
       "      <td>0</td>\n",
       "      <td>0</td>\n",
       "      <td>0</td>\n",
       "      <td>0</td>\n",
       "      <td>...</td>\n",
       "      <td>3595</td>\n",
       "      <td>3595</td>\n",
       "      <td>3595</td>\n",
       "      <td>3595</td>\n",
       "      <td>3595</td>\n",
       "      <td>3595</td>\n",
       "      <td>3595</td>\n",
       "      <td>3595</td>\n",
       "      <td>3595</td>\n",
       "      <td>3595</td>\n",
       "    </tr>\n",
       "    <tr>\n",
       "      <th>2</th>\n",
       "      <td>NaN</td>\n",
       "      <td>Algeria</td>\n",
       "      <td>28.03390</td>\n",
       "      <td>1.659600</td>\n",
       "      <td>0</td>\n",
       "      <td>0</td>\n",
       "      <td>0</td>\n",
       "      <td>0</td>\n",
       "      <td>0</td>\n",
       "      <td>0</td>\n",
       "      <td>...</td>\n",
       "      <td>6881</td>\n",
       "      <td>6881</td>\n",
       "      <td>6881</td>\n",
       "      <td>6881</td>\n",
       "      <td>6881</td>\n",
       "      <td>6881</td>\n",
       "      <td>6881</td>\n",
       "      <td>6881</td>\n",
       "      <td>6881</td>\n",
       "      <td>6881</td>\n",
       "    </tr>\n",
       "    <tr>\n",
       "      <th>3</th>\n",
       "      <td>NaN</td>\n",
       "      <td>Andorra</td>\n",
       "      <td>42.50630</td>\n",
       "      <td>1.521800</td>\n",
       "      <td>0</td>\n",
       "      <td>0</td>\n",
       "      <td>0</td>\n",
       "      <td>0</td>\n",
       "      <td>0</td>\n",
       "      <td>0</td>\n",
       "      <td>...</td>\n",
       "      <td>165</td>\n",
       "      <td>165</td>\n",
       "      <td>165</td>\n",
       "      <td>165</td>\n",
       "      <td>165</td>\n",
       "      <td>165</td>\n",
       "      <td>165</td>\n",
       "      <td>165</td>\n",
       "      <td>165</td>\n",
       "      <td>165</td>\n",
       "    </tr>\n",
       "    <tr>\n",
       "      <th>4</th>\n",
       "      <td>NaN</td>\n",
       "      <td>Angola</td>\n",
       "      <td>-11.20270</td>\n",
       "      <td>17.873900</td>\n",
       "      <td>0</td>\n",
       "      <td>0</td>\n",
       "      <td>0</td>\n",
       "      <td>0</td>\n",
       "      <td>0</td>\n",
       "      <td>0</td>\n",
       "      <td>...</td>\n",
       "      <td>1928</td>\n",
       "      <td>1928</td>\n",
       "      <td>1928</td>\n",
       "      <td>1930</td>\n",
       "      <td>1930</td>\n",
       "      <td>1930</td>\n",
       "      <td>1930</td>\n",
       "      <td>1930</td>\n",
       "      <td>1930</td>\n",
       "      <td>1930</td>\n",
       "    </tr>\n",
       "  </tbody>\n",
       "</table>\n",
       "<p>5 rows × 1081 columns</p>\n",
       "</div>"
      ]
     },
     "execution_count": 115,
     "metadata": {},
     "output_type": "execute_result"
    }
   ],
   "execution_count": 115
  },
  {
   "cell_type": "code",
   "source": [
    "confirm.head()"
   ],
   "metadata": {
    "colab": {
     "base_uri": "https://localhost:8080/",
     "height": 300
    },
    "id": "l1U388uEZ2Bd",
    "outputId": "bf41a4e6-0aae-4185-b6cd-d930834a0dbc",
    "ExecuteTime": {
     "end_time": "2025-09-03T18:06:53.030422Z",
     "start_time": "2025-09-03T18:06:53.012133Z"
    }
   },
   "outputs": [
    {
     "data": {
      "text/plain": [
       "  Province/State Country/Region       Lat       Long  1/22/20  1/23/20  \\\n",
       "0            NaN    Afghanistan  33.93911  67.709953        0        0   \n",
       "1            NaN        Albania  41.15330  20.168300        0        0   \n",
       "2            NaN        Algeria  28.03390   1.659600        0        0   \n",
       "3            NaN        Andorra  42.50630   1.521800        0        0   \n",
       "4            NaN         Angola -11.20270  17.873900        0        0   \n",
       "\n",
       "   1/24/20  1/25/20  1/26/20  1/27/20  ...  12/24/22  12/25/22  12/26/22  \\\n",
       "0        0        0        0        0  ...    207310    207399    207438   \n",
       "1        0        0        0        0  ...    333749    333749    333751   \n",
       "2        0        0        0        0  ...    271194    271198    271198   \n",
       "3        0        0        0        0  ...     47686     47686     47686   \n",
       "4        0        0        0        0  ...    104973    104973    104973   \n",
       "\n",
       "   12/27/22  12/28/22  12/29/22  12/30/22  12/31/22  1/1/23  1/2/23  \n",
       "0    207460    207493    207511    207550    207559  207616  207627  \n",
       "1    333751    333776    333776    333806    333806  333811  333812  \n",
       "2    271202    271208    271217    271223    271228  271229  271229  \n",
       "3     47686     47751     47751     47751     47751   47751   47751  \n",
       "4    105095    105095    105095    105095    105095  105095  105095  \n",
       "\n",
       "[5 rows x 1081 columns]"
      ],
      "text/html": [
       "<div>\n",
       "<style scoped>\n",
       "    .dataframe tbody tr th:only-of-type {\n",
       "        vertical-align: middle;\n",
       "    }\n",
       "\n",
       "    .dataframe tbody tr th {\n",
       "        vertical-align: top;\n",
       "    }\n",
       "\n",
       "    .dataframe thead th {\n",
       "        text-align: right;\n",
       "    }\n",
       "</style>\n",
       "<table border=\"1\" class=\"dataframe\">\n",
       "  <thead>\n",
       "    <tr style=\"text-align: right;\">\n",
       "      <th></th>\n",
       "      <th>Province/State</th>\n",
       "      <th>Country/Region</th>\n",
       "      <th>Lat</th>\n",
       "      <th>Long</th>\n",
       "      <th>1/22/20</th>\n",
       "      <th>1/23/20</th>\n",
       "      <th>1/24/20</th>\n",
       "      <th>1/25/20</th>\n",
       "      <th>1/26/20</th>\n",
       "      <th>1/27/20</th>\n",
       "      <th>...</th>\n",
       "      <th>12/24/22</th>\n",
       "      <th>12/25/22</th>\n",
       "      <th>12/26/22</th>\n",
       "      <th>12/27/22</th>\n",
       "      <th>12/28/22</th>\n",
       "      <th>12/29/22</th>\n",
       "      <th>12/30/22</th>\n",
       "      <th>12/31/22</th>\n",
       "      <th>1/1/23</th>\n",
       "      <th>1/2/23</th>\n",
       "    </tr>\n",
       "  </thead>\n",
       "  <tbody>\n",
       "    <tr>\n",
       "      <th>0</th>\n",
       "      <td>NaN</td>\n",
       "      <td>Afghanistan</td>\n",
       "      <td>33.93911</td>\n",
       "      <td>67.709953</td>\n",
       "      <td>0</td>\n",
       "      <td>0</td>\n",
       "      <td>0</td>\n",
       "      <td>0</td>\n",
       "      <td>0</td>\n",
       "      <td>0</td>\n",
       "      <td>...</td>\n",
       "      <td>207310</td>\n",
       "      <td>207399</td>\n",
       "      <td>207438</td>\n",
       "      <td>207460</td>\n",
       "      <td>207493</td>\n",
       "      <td>207511</td>\n",
       "      <td>207550</td>\n",
       "      <td>207559</td>\n",
       "      <td>207616</td>\n",
       "      <td>207627</td>\n",
       "    </tr>\n",
       "    <tr>\n",
       "      <th>1</th>\n",
       "      <td>NaN</td>\n",
       "      <td>Albania</td>\n",
       "      <td>41.15330</td>\n",
       "      <td>20.168300</td>\n",
       "      <td>0</td>\n",
       "      <td>0</td>\n",
       "      <td>0</td>\n",
       "      <td>0</td>\n",
       "      <td>0</td>\n",
       "      <td>0</td>\n",
       "      <td>...</td>\n",
       "      <td>333749</td>\n",
       "      <td>333749</td>\n",
       "      <td>333751</td>\n",
       "      <td>333751</td>\n",
       "      <td>333776</td>\n",
       "      <td>333776</td>\n",
       "      <td>333806</td>\n",
       "      <td>333806</td>\n",
       "      <td>333811</td>\n",
       "      <td>333812</td>\n",
       "    </tr>\n",
       "    <tr>\n",
       "      <th>2</th>\n",
       "      <td>NaN</td>\n",
       "      <td>Algeria</td>\n",
       "      <td>28.03390</td>\n",
       "      <td>1.659600</td>\n",
       "      <td>0</td>\n",
       "      <td>0</td>\n",
       "      <td>0</td>\n",
       "      <td>0</td>\n",
       "      <td>0</td>\n",
       "      <td>0</td>\n",
       "      <td>...</td>\n",
       "      <td>271194</td>\n",
       "      <td>271198</td>\n",
       "      <td>271198</td>\n",
       "      <td>271202</td>\n",
       "      <td>271208</td>\n",
       "      <td>271217</td>\n",
       "      <td>271223</td>\n",
       "      <td>271228</td>\n",
       "      <td>271229</td>\n",
       "      <td>271229</td>\n",
       "    </tr>\n",
       "    <tr>\n",
       "      <th>3</th>\n",
       "      <td>NaN</td>\n",
       "      <td>Andorra</td>\n",
       "      <td>42.50630</td>\n",
       "      <td>1.521800</td>\n",
       "      <td>0</td>\n",
       "      <td>0</td>\n",
       "      <td>0</td>\n",
       "      <td>0</td>\n",
       "      <td>0</td>\n",
       "      <td>0</td>\n",
       "      <td>...</td>\n",
       "      <td>47686</td>\n",
       "      <td>47686</td>\n",
       "      <td>47686</td>\n",
       "      <td>47686</td>\n",
       "      <td>47751</td>\n",
       "      <td>47751</td>\n",
       "      <td>47751</td>\n",
       "      <td>47751</td>\n",
       "      <td>47751</td>\n",
       "      <td>47751</td>\n",
       "    </tr>\n",
       "    <tr>\n",
       "      <th>4</th>\n",
       "      <td>NaN</td>\n",
       "      <td>Angola</td>\n",
       "      <td>-11.20270</td>\n",
       "      <td>17.873900</td>\n",
       "      <td>0</td>\n",
       "      <td>0</td>\n",
       "      <td>0</td>\n",
       "      <td>0</td>\n",
       "      <td>0</td>\n",
       "      <td>0</td>\n",
       "      <td>...</td>\n",
       "      <td>104973</td>\n",
       "      <td>104973</td>\n",
       "      <td>104973</td>\n",
       "      <td>105095</td>\n",
       "      <td>105095</td>\n",
       "      <td>105095</td>\n",
       "      <td>105095</td>\n",
       "      <td>105095</td>\n",
       "      <td>105095</td>\n",
       "      <td>105095</td>\n",
       "    </tr>\n",
       "  </tbody>\n",
       "</table>\n",
       "<p>5 rows × 1081 columns</p>\n",
       "</div>"
      ]
     },
     "execution_count": 116,
     "metadata": {},
     "output_type": "execute_result"
    }
   ],
   "execution_count": 116
  },
  {
   "metadata": {
    "ExecuteTime": {
     "end_time": "2025-09-03T18:07:37.464946Z",
     "start_time": "2025-09-03T18:07:37.457982Z"
    }
   },
   "cell_type": "code",
   "source": "death.shape",
   "outputs": [
    {
     "data": {
      "text/plain": [
       "(289, 1081)"
      ]
     },
     "execution_count": 118,
     "metadata": {},
     "output_type": "execute_result"
    }
   ],
   "execution_count": 118
  },
  {
   "cell_type": "code",
   "source": [
    "# creating a long format\n",
    "death = death.melt(id_vars=['Province/State','Country/Region','Lat','Long'],var_name='date',value_name='num_deaths')\n",
    "confirm = confirm.melt(id_vars=['Province/State','Country/Region','Lat','Long'],var_name='date',value_name='num_cases')"
   ],
   "metadata": {
    "id": "mSeb7HjTasQp",
    "ExecuteTime": {
     "end_time": "2025-09-03T18:10:15.052446Z",
     "start_time": "2025-09-03T18:10:14.903174Z"
    }
   },
   "outputs": [],
   "execution_count": 119
  },
  {
   "cell_type": "code",
   "source": [
    "death.head()"
   ],
   "metadata": {
    "colab": {
     "base_uri": "https://localhost:8080/",
     "height": 206
    },
    "id": "6VLLCg4XasZO",
    "outputId": "1f366237-1e89-47d6-a12c-2c2e4f371063",
    "ExecuteTime": {
     "end_time": "2025-09-03T18:10:19.332778Z",
     "start_time": "2025-09-03T18:10:19.317410Z"
    }
   },
   "outputs": [
    {
     "data": {
      "text/plain": [
       "  Province/State Country/Region       Lat       Long     date  num_deaths\n",
       "0            NaN    Afghanistan  33.93911  67.709953  1/22/20           0\n",
       "1            NaN        Albania  41.15330  20.168300  1/22/20           0\n",
       "2            NaN        Algeria  28.03390   1.659600  1/22/20           0\n",
       "3            NaN        Andorra  42.50630   1.521800  1/22/20           0\n",
       "4            NaN         Angola -11.20270  17.873900  1/22/20           0"
      ],
      "text/html": [
       "<div>\n",
       "<style scoped>\n",
       "    .dataframe tbody tr th:only-of-type {\n",
       "        vertical-align: middle;\n",
       "    }\n",
       "\n",
       "    .dataframe tbody tr th {\n",
       "        vertical-align: top;\n",
       "    }\n",
       "\n",
       "    .dataframe thead th {\n",
       "        text-align: right;\n",
       "    }\n",
       "</style>\n",
       "<table border=\"1\" class=\"dataframe\">\n",
       "  <thead>\n",
       "    <tr style=\"text-align: right;\">\n",
       "      <th></th>\n",
       "      <th>Province/State</th>\n",
       "      <th>Country/Region</th>\n",
       "      <th>Lat</th>\n",
       "      <th>Long</th>\n",
       "      <th>date</th>\n",
       "      <th>num_deaths</th>\n",
       "    </tr>\n",
       "  </thead>\n",
       "  <tbody>\n",
       "    <tr>\n",
       "      <th>0</th>\n",
       "      <td>NaN</td>\n",
       "      <td>Afghanistan</td>\n",
       "      <td>33.93911</td>\n",
       "      <td>67.709953</td>\n",
       "      <td>1/22/20</td>\n",
       "      <td>0</td>\n",
       "    </tr>\n",
       "    <tr>\n",
       "      <th>1</th>\n",
       "      <td>NaN</td>\n",
       "      <td>Albania</td>\n",
       "      <td>41.15330</td>\n",
       "      <td>20.168300</td>\n",
       "      <td>1/22/20</td>\n",
       "      <td>0</td>\n",
       "    </tr>\n",
       "    <tr>\n",
       "      <th>2</th>\n",
       "      <td>NaN</td>\n",
       "      <td>Algeria</td>\n",
       "      <td>28.03390</td>\n",
       "      <td>1.659600</td>\n",
       "      <td>1/22/20</td>\n",
       "      <td>0</td>\n",
       "    </tr>\n",
       "    <tr>\n",
       "      <th>3</th>\n",
       "      <td>NaN</td>\n",
       "      <td>Andorra</td>\n",
       "      <td>42.50630</td>\n",
       "      <td>1.521800</td>\n",
       "      <td>1/22/20</td>\n",
       "      <td>0</td>\n",
       "    </tr>\n",
       "    <tr>\n",
       "      <th>4</th>\n",
       "      <td>NaN</td>\n",
       "      <td>Angola</td>\n",
       "      <td>-11.20270</td>\n",
       "      <td>17.873900</td>\n",
       "      <td>1/22/20</td>\n",
       "      <td>0</td>\n",
       "    </tr>\n",
       "  </tbody>\n",
       "</table>\n",
       "</div>"
      ]
     },
     "execution_count": 120,
     "metadata": {},
     "output_type": "execute_result"
    }
   ],
   "execution_count": 120
  },
  {
   "cell_type": "code",
   "source": "confirm.merge(death,on=['Province/State','Country/Region','Lat','Long','date'])[['Country/Region','date','num_cases','num_deaths']]",
   "metadata": {
    "colab": {
     "base_uri": "https://localhost:8080/",
     "height": 424
    },
    "id": "rRWDC5zyashI",
    "outputId": "bf7c4ff9-bb04-43ee-958a-655dc8cac8a8",
    "ExecuteTime": {
     "end_time": "2025-09-03T18:10:48.427027Z",
     "start_time": "2025-09-03T18:10:48.202475Z"
    }
   },
   "outputs": [
    {
     "data": {
      "text/plain": [
       "              Country/Region     date  num_cases  num_deaths\n",
       "0                Afghanistan  1/22/20          0           0\n",
       "1                    Albania  1/22/20          0           0\n",
       "2                    Algeria  1/22/20          0           0\n",
       "3                    Andorra  1/22/20          0           0\n",
       "4                     Angola  1/22/20          0           0\n",
       "...                      ...      ...        ...         ...\n",
       "311248    West Bank and Gaza   1/2/23     703228        5708\n",
       "311249  Winter Olympics 2022   1/2/23        535           0\n",
       "311250                 Yemen   1/2/23      11945        2159\n",
       "311251                Zambia   1/2/23     334661        4024\n",
       "311252              Zimbabwe   1/2/23     259981        5637\n",
       "\n",
       "[311253 rows x 4 columns]"
      ],
      "text/html": [
       "<div>\n",
       "<style scoped>\n",
       "    .dataframe tbody tr th:only-of-type {\n",
       "        vertical-align: middle;\n",
       "    }\n",
       "\n",
       "    .dataframe tbody tr th {\n",
       "        vertical-align: top;\n",
       "    }\n",
       "\n",
       "    .dataframe thead th {\n",
       "        text-align: right;\n",
       "    }\n",
       "</style>\n",
       "<table border=\"1\" class=\"dataframe\">\n",
       "  <thead>\n",
       "    <tr style=\"text-align: right;\">\n",
       "      <th></th>\n",
       "      <th>Country/Region</th>\n",
       "      <th>date</th>\n",
       "      <th>num_cases</th>\n",
       "      <th>num_deaths</th>\n",
       "    </tr>\n",
       "  </thead>\n",
       "  <tbody>\n",
       "    <tr>\n",
       "      <th>0</th>\n",
       "      <td>Afghanistan</td>\n",
       "      <td>1/22/20</td>\n",
       "      <td>0</td>\n",
       "      <td>0</td>\n",
       "    </tr>\n",
       "    <tr>\n",
       "      <th>1</th>\n",
       "      <td>Albania</td>\n",
       "      <td>1/22/20</td>\n",
       "      <td>0</td>\n",
       "      <td>0</td>\n",
       "    </tr>\n",
       "    <tr>\n",
       "      <th>2</th>\n",
       "      <td>Algeria</td>\n",
       "      <td>1/22/20</td>\n",
       "      <td>0</td>\n",
       "      <td>0</td>\n",
       "    </tr>\n",
       "    <tr>\n",
       "      <th>3</th>\n",
       "      <td>Andorra</td>\n",
       "      <td>1/22/20</td>\n",
       "      <td>0</td>\n",
       "      <td>0</td>\n",
       "    </tr>\n",
       "    <tr>\n",
       "      <th>4</th>\n",
       "      <td>Angola</td>\n",
       "      <td>1/22/20</td>\n",
       "      <td>0</td>\n",
       "      <td>0</td>\n",
       "    </tr>\n",
       "    <tr>\n",
       "      <th>...</th>\n",
       "      <td>...</td>\n",
       "      <td>...</td>\n",
       "      <td>...</td>\n",
       "      <td>...</td>\n",
       "    </tr>\n",
       "    <tr>\n",
       "      <th>311248</th>\n",
       "      <td>West Bank and Gaza</td>\n",
       "      <td>1/2/23</td>\n",
       "      <td>703228</td>\n",
       "      <td>5708</td>\n",
       "    </tr>\n",
       "    <tr>\n",
       "      <th>311249</th>\n",
       "      <td>Winter Olympics 2022</td>\n",
       "      <td>1/2/23</td>\n",
       "      <td>535</td>\n",
       "      <td>0</td>\n",
       "    </tr>\n",
       "    <tr>\n",
       "      <th>311250</th>\n",
       "      <td>Yemen</td>\n",
       "      <td>1/2/23</td>\n",
       "      <td>11945</td>\n",
       "      <td>2159</td>\n",
       "    </tr>\n",
       "    <tr>\n",
       "      <th>311251</th>\n",
       "      <td>Zambia</td>\n",
       "      <td>1/2/23</td>\n",
       "      <td>334661</td>\n",
       "      <td>4024</td>\n",
       "    </tr>\n",
       "    <tr>\n",
       "      <th>311252</th>\n",
       "      <td>Zimbabwe</td>\n",
       "      <td>1/2/23</td>\n",
       "      <td>259981</td>\n",
       "      <td>5637</td>\n",
       "    </tr>\n",
       "  </tbody>\n",
       "</table>\n",
       "<p>311253 rows × 4 columns</p>\n",
       "</div>"
      ]
     },
     "execution_count": 121,
     "metadata": {},
     "output_type": "execute_result"
    }
   ],
   "execution_count": 121
  },
  {
   "cell_type": "markdown",
   "source": [
    "### Pivot Table\n",
    "\n",
    "- The pivot table takes simple column-wise data as input, and groups the entries into a two-dimensional table that provides a multidimensional summarization of the data."
   ],
   "metadata": {
    "id": "RGMtDwR7ZisU"
   }
  },
  {
   "cell_type": "code",
   "source": [
    "import numpy as np\n",
    "import pandas as pd\n",
    "import seaborn as sns"
   ],
   "metadata": {
    "id": "vgkfdDYcZkuf",
    "ExecuteTime": {
     "end_time": "2025-09-04T07:57:08.446244Z",
     "start_time": "2025-09-04T07:57:06.590443Z"
    }
   },
   "outputs": [],
   "execution_count": 3
  },
  {
   "cell_type": "code",
   "source": [
    "df = sns.load_dataset('tips')   # here tips is a toy dataset .\n",
    "df.head()"
   ],
   "metadata": {
    "colab": {
     "base_uri": "https://localhost:8080/",
     "height": 206
    },
    "id": "ViuA8CE28yq0",
    "outputId": "6b06f2a0-59ed-4a93-c3d5-58376324d4b0",
    "ExecuteTime": {
     "end_time": "2025-09-04T07:57:14.837687Z",
     "start_time": "2025-09-04T07:57:14.102493Z"
    }
   },
   "outputs": [
    {
     "data": {
      "text/plain": [
       "   total_bill   tip     sex smoker  day    time  size\n",
       "0       16.99  1.01  Female     No  Sun  Dinner     2\n",
       "1       10.34  1.66    Male     No  Sun  Dinner     3\n",
       "2       21.01  3.50    Male     No  Sun  Dinner     3\n",
       "3       23.68  3.31    Male     No  Sun  Dinner     2\n",
       "4       24.59  3.61  Female     No  Sun  Dinner     4"
      ],
      "text/html": [
       "<div>\n",
       "<style scoped>\n",
       "    .dataframe tbody tr th:only-of-type {\n",
       "        vertical-align: middle;\n",
       "    }\n",
       "\n",
       "    .dataframe tbody tr th {\n",
       "        vertical-align: top;\n",
       "    }\n",
       "\n",
       "    .dataframe thead th {\n",
       "        text-align: right;\n",
       "    }\n",
       "</style>\n",
       "<table border=\"1\" class=\"dataframe\">\n",
       "  <thead>\n",
       "    <tr style=\"text-align: right;\">\n",
       "      <th></th>\n",
       "      <th>total_bill</th>\n",
       "      <th>tip</th>\n",
       "      <th>sex</th>\n",
       "      <th>smoker</th>\n",
       "      <th>day</th>\n",
       "      <th>time</th>\n",
       "      <th>size</th>\n",
       "    </tr>\n",
       "  </thead>\n",
       "  <tbody>\n",
       "    <tr>\n",
       "      <th>0</th>\n",
       "      <td>16.99</td>\n",
       "      <td>1.01</td>\n",
       "      <td>Female</td>\n",
       "      <td>No</td>\n",
       "      <td>Sun</td>\n",
       "      <td>Dinner</td>\n",
       "      <td>2</td>\n",
       "    </tr>\n",
       "    <tr>\n",
       "      <th>1</th>\n",
       "      <td>10.34</td>\n",
       "      <td>1.66</td>\n",
       "      <td>Male</td>\n",
       "      <td>No</td>\n",
       "      <td>Sun</td>\n",
       "      <td>Dinner</td>\n",
       "      <td>3</td>\n",
       "    </tr>\n",
       "    <tr>\n",
       "      <th>2</th>\n",
       "      <td>21.01</td>\n",
       "      <td>3.50</td>\n",
       "      <td>Male</td>\n",
       "      <td>No</td>\n",
       "      <td>Sun</td>\n",
       "      <td>Dinner</td>\n",
       "      <td>3</td>\n",
       "    </tr>\n",
       "    <tr>\n",
       "      <th>3</th>\n",
       "      <td>23.68</td>\n",
       "      <td>3.31</td>\n",
       "      <td>Male</td>\n",
       "      <td>No</td>\n",
       "      <td>Sun</td>\n",
       "      <td>Dinner</td>\n",
       "      <td>2</td>\n",
       "    </tr>\n",
       "    <tr>\n",
       "      <th>4</th>\n",
       "      <td>24.59</td>\n",
       "      <td>3.61</td>\n",
       "      <td>Female</td>\n",
       "      <td>No</td>\n",
       "      <td>Sun</td>\n",
       "      <td>Dinner</td>\n",
       "      <td>4</td>\n",
       "    </tr>\n",
       "  </tbody>\n",
       "</table>\n",
       "</div>"
      ]
     },
     "execution_count": 4,
     "metadata": {},
     "output_type": "execute_result"
    }
   ],
   "execution_count": 4
  },
  {
   "cell_type": "code",
   "source": [
    "# Q : What is the average total_bill paid by male and female customers ?\n",
    "df.groupby('sex')[['total_bill']].mean()"
   ],
   "metadata": {
    "colab": {
     "base_uri": "https://localhost:8080/",
     "height": 143
    },
    "id": "5mSBZOH58yuQ",
    "outputId": "64a5ee98-a1cd-41f1-c76a-29d7873a3cde",
    "ExecuteTime": {
     "end_time": "2025-09-04T08:00:29.686259Z",
     "start_time": "2025-09-04T08:00:29.670410Z"
    }
   },
   "outputs": [
    {
     "name": "stderr",
     "output_type": "stream",
     "text": [
      "C:\\Users\\RITESH\\AppData\\Local\\Temp\\ipykernel_5004\\721421338.py:2: FutureWarning: The default of observed=False is deprecated and will be changed to True in a future version of pandas. Pass observed=False to retain current behavior or observed=True to adopt the future default and silence this warning.\n",
      "  df.groupby('sex')[['total_bill']].mean()\n"
     ]
    },
    {
     "data": {
      "text/plain": [
       "        total_bill\n",
       "sex               \n",
       "Male     20.744076\n",
       "Female   18.056897"
      ],
      "text/html": [
       "<div>\n",
       "<style scoped>\n",
       "    .dataframe tbody tr th:only-of-type {\n",
       "        vertical-align: middle;\n",
       "    }\n",
       "\n",
       "    .dataframe tbody tr th {\n",
       "        vertical-align: top;\n",
       "    }\n",
       "\n",
       "    .dataframe thead th {\n",
       "        text-align: right;\n",
       "    }\n",
       "</style>\n",
       "<table border=\"1\" class=\"dataframe\">\n",
       "  <thead>\n",
       "    <tr style=\"text-align: right;\">\n",
       "      <th></th>\n",
       "      <th>total_bill</th>\n",
       "    </tr>\n",
       "    <tr>\n",
       "      <th>sex</th>\n",
       "      <th></th>\n",
       "    </tr>\n",
       "  </thead>\n",
       "  <tbody>\n",
       "    <tr>\n",
       "      <th>Male</th>\n",
       "      <td>20.744076</td>\n",
       "    </tr>\n",
       "    <tr>\n",
       "      <th>Female</th>\n",
       "      <td>18.056897</td>\n",
       "    </tr>\n",
       "  </tbody>\n",
       "</table>\n",
       "</div>"
      ]
     },
     "execution_count": 7,
     "metadata": {},
     "output_type": "execute_result"
    }
   ],
   "execution_count": 7
  },
  {
   "cell_type": "code",
   "source": [
    "# Q : What is the average total_bill paid by smokers and non-smokers ?\n",
    "df.groupby(['sex','smoker'])[['total_bill']].mean().unstack()"
   ],
   "metadata": {
    "colab": {
     "base_uri": "https://localhost:8080/",
     "height": 175
    },
    "id": "CoJFqR1s8yx8",
    "outputId": "fbf8c6f8-21a9-4abd-cf08-b296f50a3bc4",
    "ExecuteTime": {
     "end_time": "2025-09-04T08:06:07.162239Z",
     "start_time": "2025-09-04T08:06:07.143768Z"
    }
   },
   "outputs": [
    {
     "name": "stderr",
     "output_type": "stream",
     "text": [
      "C:\\Users\\RITESH\\AppData\\Local\\Temp\\ipykernel_5004\\2502940247.py:2: FutureWarning: The default of observed=False is deprecated and will be changed to True in a future version of pandas. Pass observed=False to retain current behavior or observed=True to adopt the future default and silence this warning.\n",
      "  df.groupby(['sex','smoker'])[['total_bill']].mean().unstack()\n"
     ]
    },
    {
     "data": {
      "text/plain": [
       "       total_bill           \n",
       "smoker        Yes         No\n",
       "sex                         \n",
       "Male    22.284500  19.791237\n",
       "Female  17.977879  18.105185"
      ],
      "text/html": [
       "<div>\n",
       "<style scoped>\n",
       "    .dataframe tbody tr th:only-of-type {\n",
       "        vertical-align: middle;\n",
       "    }\n",
       "\n",
       "    .dataframe tbody tr th {\n",
       "        vertical-align: top;\n",
       "    }\n",
       "\n",
       "    .dataframe thead tr th {\n",
       "        text-align: left;\n",
       "    }\n",
       "\n",
       "    .dataframe thead tr:last-of-type th {\n",
       "        text-align: right;\n",
       "    }\n",
       "</style>\n",
       "<table border=\"1\" class=\"dataframe\">\n",
       "  <thead>\n",
       "    <tr>\n",
       "      <th></th>\n",
       "      <th colspan=\"2\" halign=\"left\">total_bill</th>\n",
       "    </tr>\n",
       "    <tr>\n",
       "      <th>smoker</th>\n",
       "      <th>Yes</th>\n",
       "      <th>No</th>\n",
       "    </tr>\n",
       "    <tr>\n",
       "      <th>sex</th>\n",
       "      <th></th>\n",
       "      <th></th>\n",
       "    </tr>\n",
       "  </thead>\n",
       "  <tbody>\n",
       "    <tr>\n",
       "      <th>Male</th>\n",
       "      <td>22.284500</td>\n",
       "      <td>19.791237</td>\n",
       "    </tr>\n",
       "    <tr>\n",
       "      <th>Female</th>\n",
       "      <td>17.977879</td>\n",
       "      <td>18.105185</td>\n",
       "    </tr>\n",
       "  </tbody>\n",
       "</table>\n",
       "</div>"
      ]
     },
     "execution_count": 10,
     "metadata": {},
     "output_type": "execute_result"
    }
   ],
   "execution_count": 10
  },
  {
   "cell_type": "code",
   "source": "df.pivot_table(index='sex',columns='smoker',values='total_bill')",
   "metadata": {
    "colab": {
     "base_uri": "https://localhost:8080/",
     "height": 143
    },
    "id": "z4Y5Otsw8y1V",
    "outputId": "473fd6de-f84f-4e4b-8bfb-0ed2d593d7d8",
    "ExecuteTime": {
     "end_time": "2025-09-04T08:06:10.152228Z",
     "start_time": "2025-09-04T08:06:10.102086Z"
    }
   },
   "outputs": [
    {
     "name": "stderr",
     "output_type": "stream",
     "text": [
      "C:\\Users\\RITESH\\AppData\\Local\\Temp\\ipykernel_5004\\3095103609.py:1: FutureWarning: The default value of observed=False is deprecated and will change to observed=True in a future version of pandas. Specify observed=False to silence this warning and retain the current behavior\n",
      "  df.pivot_table(index='sex',columns='smoker',values='total_bill')\n"
     ]
    },
    {
     "data": {
      "text/plain": [
       "smoker        Yes         No\n",
       "sex                         \n",
       "Male    22.284500  19.791237\n",
       "Female  17.977879  18.105185"
      ],
      "text/html": [
       "<div>\n",
       "<style scoped>\n",
       "    .dataframe tbody tr th:only-of-type {\n",
       "        vertical-align: middle;\n",
       "    }\n",
       "\n",
       "    .dataframe tbody tr th {\n",
       "        vertical-align: top;\n",
       "    }\n",
       "\n",
       "    .dataframe thead th {\n",
       "        text-align: right;\n",
       "    }\n",
       "</style>\n",
       "<table border=\"1\" class=\"dataframe\">\n",
       "  <thead>\n",
       "    <tr style=\"text-align: right;\">\n",
       "      <th>smoker</th>\n",
       "      <th>Yes</th>\n",
       "      <th>No</th>\n",
       "    </tr>\n",
       "    <tr>\n",
       "      <th>sex</th>\n",
       "      <th></th>\n",
       "      <th></th>\n",
       "    </tr>\n",
       "  </thead>\n",
       "  <tbody>\n",
       "    <tr>\n",
       "      <th>Male</th>\n",
       "      <td>22.284500</td>\n",
       "      <td>19.791237</td>\n",
       "    </tr>\n",
       "    <tr>\n",
       "      <th>Female</th>\n",
       "      <td>17.977879</td>\n",
       "      <td>18.105185</td>\n",
       "    </tr>\n",
       "  </tbody>\n",
       "</table>\n",
       "</div>"
      ]
     },
     "execution_count": 11,
     "metadata": {},
     "output_type": "execute_result"
    }
   ],
   "execution_count": 11
  },
  {
   "metadata": {},
   "cell_type": "markdown",
   "source": [
    "- Here index is rows and columns is columns and values is the values to be filled in the table .\n",
    "- The default aggfunc is mean  we can change it to other functions like sum , std , count , min , max etc .\n",
    "- We can also use multiple functions at a time .\n",
    "- We can also use multiple columns at a time .\n",
    "- We can also use margins = True to get the total values for rows and columns ."
   ]
  },
  {
   "cell_type": "code",
   "source": [
    "# aggfunc\n",
    "df.pivot_table(index='sex',columns='smoker',values='total_bill',aggfunc='std')"
   ],
   "metadata": {
    "colab": {
     "base_uri": "https://localhost:8080/",
     "height": 143
    },
    "id": "lLRJFOWP8Vxt",
    "outputId": "787eb6d6-d5d9-4707-802e-7fbc0199bc66",
    "ExecuteTime": {
     "end_time": "2025-09-04T08:08:01.846002Z",
     "start_time": "2025-09-04T08:08:01.797894Z"
    }
   },
   "outputs": [
    {
     "name": "stderr",
     "output_type": "stream",
     "text": [
      "C:\\Users\\RITESH\\AppData\\Local\\Temp\\ipykernel_5004\\2738203784.py:2: FutureWarning: The default value of observed=False is deprecated and will change to observed=True in a future version of pandas. Specify observed=False to silence this warning and retain the current behavior\n",
      "  df.pivot_table(index='sex',columns='smoker',values='total_bill',aggfunc='std')\n"
     ]
    },
    {
     "data": {
      "text/plain": [
       "smoker       Yes        No\n",
       "sex                       \n",
       "Male    9.911845  8.726566\n",
       "Female  9.189751  7.286455"
      ],
      "text/html": [
       "<div>\n",
       "<style scoped>\n",
       "    .dataframe tbody tr th:only-of-type {\n",
       "        vertical-align: middle;\n",
       "    }\n",
       "\n",
       "    .dataframe tbody tr th {\n",
       "        vertical-align: top;\n",
       "    }\n",
       "\n",
       "    .dataframe thead th {\n",
       "        text-align: right;\n",
       "    }\n",
       "</style>\n",
       "<table border=\"1\" class=\"dataframe\">\n",
       "  <thead>\n",
       "    <tr style=\"text-align: right;\">\n",
       "      <th>smoker</th>\n",
       "      <th>Yes</th>\n",
       "      <th>No</th>\n",
       "    </tr>\n",
       "    <tr>\n",
       "      <th>sex</th>\n",
       "      <th></th>\n",
       "      <th></th>\n",
       "    </tr>\n",
       "  </thead>\n",
       "  <tbody>\n",
       "    <tr>\n",
       "      <th>Male</th>\n",
       "      <td>9.911845</td>\n",
       "      <td>8.726566</td>\n",
       "    </tr>\n",
       "    <tr>\n",
       "      <th>Female</th>\n",
       "      <td>9.189751</td>\n",
       "      <td>7.286455</td>\n",
       "    </tr>\n",
       "  </tbody>\n",
       "</table>\n",
       "</div>"
      ]
     },
     "execution_count": 12,
     "metadata": {},
     "output_type": "execute_result"
    }
   ],
   "execution_count": 12
  },
  {
   "cell_type": "code",
   "source": [
    "# multidimensional\n",
    "df.pivot_table(index=['sex','smoker'],columns=['day','time'],margins=True)\n",
    "# here margins = True gives the total values for rows and columns ."
   ],
   "metadata": {
    "colab": {
     "base_uri": "https://localhost:8080/",
     "height": 394
    },
    "id": "ne7ZYqSg7HwX",
    "outputId": "75de6f5c-cab0-4b2f-af9b-386a6df9d625",
    "ExecuteTime": {
     "end_time": "2025-09-04T08:25:38.719261Z",
     "start_time": "2025-09-04T08:25:38.684943Z"
    }
   },
   "outputs": [
    {
     "name": "stderr",
     "output_type": "stream",
     "text": [
      "C:\\Users\\RITESH\\AppData\\Local\\Temp\\ipykernel_5004\\3067188775.py:2: FutureWarning: The default value of observed=False is deprecated and will change to observed=True in a future version of pandas. Specify observed=False to silence this warning and retain the current behavior\n",
      "  df.pivot_table(index=['sex','smoker'],columns=['day','time'],margins=True)\n"
     ]
    },
    {
     "data": {
      "text/plain": [
       "                   size                                                 \\\n",
       "day                Thur              Fri                 Sat       Sun   \n",
       "time              Lunch Dinner     Lunch    Dinner    Dinner    Dinner   \n",
       "sex    smoker                                                            \n",
       "Male   Yes     2.300000    NaN  1.666667  2.400000  2.629630  2.600000   \n",
       "       No      2.500000    NaN       NaN  2.000000  2.656250  2.883721   \n",
       "Female Yes     2.428571    NaN  2.000000  2.000000  2.200000  2.500000   \n",
       "       No      2.500000    2.0  3.000000  2.000000  2.307692  3.071429   \n",
       "All            2.459016    2.0  2.000000  2.166667  2.517241  2.842105   \n",
       "\n",
       "                              tip                   ...                      \\\n",
       "day                 All      Thur              Fri  ...       Sat       Sun   \n",
       "time                        Lunch Dinner     Lunch  ...    Dinner    Dinner   \n",
       "sex    smoker                                       ...                       \n",
       "Male   Yes     2.500000  3.058000    NaN  1.900000  ...  2.879259  3.521333   \n",
       "       No      2.711340  2.941500    NaN       NaN  ...  3.256563  3.115349   \n",
       "Female Yes     2.242424  2.990000    NaN  2.660000  ...  2.868667  3.500000   \n",
       "       No      2.592593  2.437083    3.0  3.000000  ...  2.724615  3.329286   \n",
       "All            2.569672  2.767705    3.0  2.382857  ...  2.993103  3.255132   \n",
       "\n",
       "                        total_bill                                          \\\n",
       "day                 All       Thur               Fri                   Sat   \n",
       "time                         Lunch Dinner      Lunch     Dinner     Dinner   \n",
       "sex    smoker                                                                \n",
       "Male   Yes     3.051167  19.171000    NaN  11.386667  25.892000  21.837778   \n",
       "       No      3.113402  18.486500    NaN        NaN  17.475000  19.929063   \n",
       "Female Yes     2.931515  19.218571    NaN  13.260000  12.200000  20.266667   \n",
       "       No      2.773519  15.899167  18.78  15.980000  22.750000  19.003846   \n",
       "All            2.998279  17.664754  18.78  12.845714  19.663333  20.441379   \n",
       "\n",
       "                                     \n",
       "day                  Sun        All  \n",
       "time              Dinner             \n",
       "sex    smoker                        \n",
       "Male   Yes     26.141333  22.284500  \n",
       "       No      20.403256  19.791237  \n",
       "Female Yes     16.540000  17.977879  \n",
       "       No      20.824286  18.105185  \n",
       "All            21.410000  19.785943  \n",
       "\n",
       "[5 rows x 21 columns]"
      ],
      "text/html": [
       "<div>\n",
       "<style scoped>\n",
       "    .dataframe tbody tr th:only-of-type {\n",
       "        vertical-align: middle;\n",
       "    }\n",
       "\n",
       "    .dataframe tbody tr th {\n",
       "        vertical-align: top;\n",
       "    }\n",
       "\n",
       "    .dataframe thead tr th {\n",
       "        text-align: left;\n",
       "    }\n",
       "\n",
       "    .dataframe thead tr:last-of-type th {\n",
       "        text-align: right;\n",
       "    }\n",
       "</style>\n",
       "<table border=\"1\" class=\"dataframe\">\n",
       "  <thead>\n",
       "    <tr>\n",
       "      <th></th>\n",
       "      <th></th>\n",
       "      <th colspan=\"7\" halign=\"left\">size</th>\n",
       "      <th colspan=\"7\" halign=\"left\">tip</th>\n",
       "      <th colspan=\"7\" halign=\"left\">total_bill</th>\n",
       "    </tr>\n",
       "    <tr>\n",
       "      <th></th>\n",
       "      <th>day</th>\n",
       "      <th colspan=\"2\" halign=\"left\">Thur</th>\n",
       "      <th colspan=\"2\" halign=\"left\">Fri</th>\n",
       "      <th>Sat</th>\n",
       "      <th>Sun</th>\n",
       "      <th>All</th>\n",
       "      <th colspan=\"2\" halign=\"left\">Thur</th>\n",
       "      <th>Fri</th>\n",
       "      <th>...</th>\n",
       "      <th>Sat</th>\n",
       "      <th>Sun</th>\n",
       "      <th>All</th>\n",
       "      <th colspan=\"2\" halign=\"left\">Thur</th>\n",
       "      <th colspan=\"2\" halign=\"left\">Fri</th>\n",
       "      <th>Sat</th>\n",
       "      <th>Sun</th>\n",
       "      <th>All</th>\n",
       "    </tr>\n",
       "    <tr>\n",
       "      <th></th>\n",
       "      <th>time</th>\n",
       "      <th>Lunch</th>\n",
       "      <th>Dinner</th>\n",
       "      <th>Lunch</th>\n",
       "      <th>Dinner</th>\n",
       "      <th>Dinner</th>\n",
       "      <th>Dinner</th>\n",
       "      <th></th>\n",
       "      <th>Lunch</th>\n",
       "      <th>Dinner</th>\n",
       "      <th>Lunch</th>\n",
       "      <th>...</th>\n",
       "      <th>Dinner</th>\n",
       "      <th>Dinner</th>\n",
       "      <th></th>\n",
       "      <th>Lunch</th>\n",
       "      <th>Dinner</th>\n",
       "      <th>Lunch</th>\n",
       "      <th>Dinner</th>\n",
       "      <th>Dinner</th>\n",
       "      <th>Dinner</th>\n",
       "      <th></th>\n",
       "    </tr>\n",
       "    <tr>\n",
       "      <th>sex</th>\n",
       "      <th>smoker</th>\n",
       "      <th></th>\n",
       "      <th></th>\n",
       "      <th></th>\n",
       "      <th></th>\n",
       "      <th></th>\n",
       "      <th></th>\n",
       "      <th></th>\n",
       "      <th></th>\n",
       "      <th></th>\n",
       "      <th></th>\n",
       "      <th></th>\n",
       "      <th></th>\n",
       "      <th></th>\n",
       "      <th></th>\n",
       "      <th></th>\n",
       "      <th></th>\n",
       "      <th></th>\n",
       "      <th></th>\n",
       "      <th></th>\n",
       "      <th></th>\n",
       "      <th></th>\n",
       "    </tr>\n",
       "  </thead>\n",
       "  <tbody>\n",
       "    <tr>\n",
       "      <th rowspan=\"2\" valign=\"top\">Male</th>\n",
       "      <th>Yes</th>\n",
       "      <td>2.300000</td>\n",
       "      <td>NaN</td>\n",
       "      <td>1.666667</td>\n",
       "      <td>2.400000</td>\n",
       "      <td>2.629630</td>\n",
       "      <td>2.600000</td>\n",
       "      <td>2.500000</td>\n",
       "      <td>3.058000</td>\n",
       "      <td>NaN</td>\n",
       "      <td>1.900000</td>\n",
       "      <td>...</td>\n",
       "      <td>2.879259</td>\n",
       "      <td>3.521333</td>\n",
       "      <td>3.051167</td>\n",
       "      <td>19.171000</td>\n",
       "      <td>NaN</td>\n",
       "      <td>11.386667</td>\n",
       "      <td>25.892000</td>\n",
       "      <td>21.837778</td>\n",
       "      <td>26.141333</td>\n",
       "      <td>22.284500</td>\n",
       "    </tr>\n",
       "    <tr>\n",
       "      <th>No</th>\n",
       "      <td>2.500000</td>\n",
       "      <td>NaN</td>\n",
       "      <td>NaN</td>\n",
       "      <td>2.000000</td>\n",
       "      <td>2.656250</td>\n",
       "      <td>2.883721</td>\n",
       "      <td>2.711340</td>\n",
       "      <td>2.941500</td>\n",
       "      <td>NaN</td>\n",
       "      <td>NaN</td>\n",
       "      <td>...</td>\n",
       "      <td>3.256563</td>\n",
       "      <td>3.115349</td>\n",
       "      <td>3.113402</td>\n",
       "      <td>18.486500</td>\n",
       "      <td>NaN</td>\n",
       "      <td>NaN</td>\n",
       "      <td>17.475000</td>\n",
       "      <td>19.929063</td>\n",
       "      <td>20.403256</td>\n",
       "      <td>19.791237</td>\n",
       "    </tr>\n",
       "    <tr>\n",
       "      <th rowspan=\"2\" valign=\"top\">Female</th>\n",
       "      <th>Yes</th>\n",
       "      <td>2.428571</td>\n",
       "      <td>NaN</td>\n",
       "      <td>2.000000</td>\n",
       "      <td>2.000000</td>\n",
       "      <td>2.200000</td>\n",
       "      <td>2.500000</td>\n",
       "      <td>2.242424</td>\n",
       "      <td>2.990000</td>\n",
       "      <td>NaN</td>\n",
       "      <td>2.660000</td>\n",
       "      <td>...</td>\n",
       "      <td>2.868667</td>\n",
       "      <td>3.500000</td>\n",
       "      <td>2.931515</td>\n",
       "      <td>19.218571</td>\n",
       "      <td>NaN</td>\n",
       "      <td>13.260000</td>\n",
       "      <td>12.200000</td>\n",
       "      <td>20.266667</td>\n",
       "      <td>16.540000</td>\n",
       "      <td>17.977879</td>\n",
       "    </tr>\n",
       "    <tr>\n",
       "      <th>No</th>\n",
       "      <td>2.500000</td>\n",
       "      <td>2.0</td>\n",
       "      <td>3.000000</td>\n",
       "      <td>2.000000</td>\n",
       "      <td>2.307692</td>\n",
       "      <td>3.071429</td>\n",
       "      <td>2.592593</td>\n",
       "      <td>2.437083</td>\n",
       "      <td>3.0</td>\n",
       "      <td>3.000000</td>\n",
       "      <td>...</td>\n",
       "      <td>2.724615</td>\n",
       "      <td>3.329286</td>\n",
       "      <td>2.773519</td>\n",
       "      <td>15.899167</td>\n",
       "      <td>18.78</td>\n",
       "      <td>15.980000</td>\n",
       "      <td>22.750000</td>\n",
       "      <td>19.003846</td>\n",
       "      <td>20.824286</td>\n",
       "      <td>18.105185</td>\n",
       "    </tr>\n",
       "    <tr>\n",
       "      <th>All</th>\n",
       "      <th></th>\n",
       "      <td>2.459016</td>\n",
       "      <td>2.0</td>\n",
       "      <td>2.000000</td>\n",
       "      <td>2.166667</td>\n",
       "      <td>2.517241</td>\n",
       "      <td>2.842105</td>\n",
       "      <td>2.569672</td>\n",
       "      <td>2.767705</td>\n",
       "      <td>3.0</td>\n",
       "      <td>2.382857</td>\n",
       "      <td>...</td>\n",
       "      <td>2.993103</td>\n",
       "      <td>3.255132</td>\n",
       "      <td>2.998279</td>\n",
       "      <td>17.664754</td>\n",
       "      <td>18.78</td>\n",
       "      <td>12.845714</td>\n",
       "      <td>19.663333</td>\n",
       "      <td>20.441379</td>\n",
       "      <td>21.410000</td>\n",
       "      <td>19.785943</td>\n",
       "    </tr>\n",
       "  </tbody>\n",
       "</table>\n",
       "<p>5 rows × 21 columns</p>\n",
       "</div>"
      ]
     },
     "execution_count": 27,
     "metadata": {},
     "output_type": "execute_result"
    }
   ],
   "execution_count": 27
  },
  {
   "metadata": {
    "ExecuteTime": {
     "end_time": "2025-09-04T08:19:21.899533Z",
     "start_time": "2025-09-04T08:19:21.826185Z"
    }
   },
   "cell_type": "code",
   "outputs": [
    {
     "name": "stderr",
     "output_type": "stream",
     "text": [
      "C:\\Users\\RITESH\\AppData\\Local\\Temp\\ipykernel_5004\\405964379.py:1: FutureWarning: The default value of observed=False is deprecated and will change to observed=True in a future version of pandas. Specify observed=False to silence this warning and retain the current behavior\n",
      "  df.pivot_table(index=['sex','smoker'],columns=['day','time'],aggfunc={'size':'mean','tip':'max','total_bill':'sum'} ,margins=True),\n"
     ]
    },
    {
     "data": {
      "text/plain": [
       "(                   size                                                 \\\n",
       " day                Thur              Fri                 Sat       Sun   \n",
       " time              Lunch Dinner     Lunch    Dinner    Dinner    Dinner   \n",
       " sex    smoker                                                            \n",
       " Male   Yes     2.300000    NaN  1.666667  2.400000  2.629630  2.600000   \n",
       "        No      2.500000    NaN       NaN  2.000000  2.656250  2.883721   \n",
       " Female Yes     2.428571    NaN  2.000000  2.000000  2.200000  2.500000   \n",
       "        No      2.500000    2.0  3.000000  2.000000  2.307692  3.071429   \n",
       " All            2.459016    2.0  2.000000  2.166667  2.517241  2.842105   \n",
       " \n",
       "                           tip               ...       total_bill         \\\n",
       " day                 All  Thur          Fri  ...   All       Thur          \n",
       " time                    Lunch Dinner Lunch  ...            Lunch Dinner   \n",
       " sex    smoker                               ...                           \n",
       " Male   Yes     2.500000  5.00    NaN  2.20  ...  10.0     191.71   0.00   \n",
       "        No      2.711340  6.70    NaN   NaN  ...   9.0     369.73   0.00   \n",
       " Female Yes     2.242424  5.00    NaN  3.48  ...   6.5     134.53   0.00   \n",
       "        No      2.592593  5.17    3.0  3.00  ...   5.2     381.58  18.78   \n",
       " All            2.569672  6.70    3.0  3.48  ...  10.0    1077.55  18.78   \n",
       " \n",
       "                                                                      \n",
       " day              Fri           Sat            Sun               All  \n",
       " time           Lunch  Dinner Lunch   Dinner Lunch   Dinner           \n",
       " sex    smoker                                                        \n",
       " Male   Yes     34.16  129.46   0.0   589.62   0.0   392.12  1337.07  \n",
       "        No       0.00   34.95   0.0   637.73   0.0   877.34  1919.75  \n",
       " Female Yes     39.78   48.80   0.0   304.00   0.0    66.16   593.27  \n",
       "        No      15.98   22.75   0.0   247.05   0.0   291.54   977.68  \n",
       " All            89.92  235.96   NaN  1778.40   NaN  1627.16  4827.77  \n",
       " \n",
       " [5 rows x 23 columns],)"
      ]
     },
     "execution_count": 26,
     "metadata": {},
     "output_type": "execute_result"
    }
   ],
   "execution_count": 26,
   "source": [
    "df.pivot_table(index=['sex','smoker'],columns=['day','time'],aggfunc={'size':'mean','tip':'max','total_bill':'sum'} ,margins=True),\n",
    "# it is a 5D table"
   ]
  },
  {
   "cell_type": "code",
   "source": [
    "# margins\n",
    "df.pivot_table(index='sex',columns='smoker',values='total_bill',aggfunc='sum',margins=True)"
   ],
   "metadata": {
    "colab": {
     "base_uri": "https://localhost:8080/",
     "height": 175
    },
    "id": "doplV3v17JR_",
    "outputId": "7ca1d884-24ed-4c06-8253-3987595c8178"
   },
   "execution_count": null,
   "outputs": [
    {
     "output_type": "execute_result",
     "data": {
      "text/plain": [
       "smoker      Yes       No      All\n",
       "sex                              \n",
       "Male    1337.07  1919.75  3256.82\n",
       "Female   593.27   977.68  1570.95\n",
       "All     1930.34  2897.43  4827.77"
      ],
      "text/html": [
       "\n",
       "  <div id=\"df-54989243-f739-4bc4-8884-8343ae2f93ca\">\n",
       "    <div class=\"colab-df-container\">\n",
       "      <div>\n",
       "<style scoped>\n",
       "    .dataframe tbody tr th:only-of-type {\n",
       "        vertical-align: middle;\n",
       "    }\n",
       "\n",
       "    .dataframe tbody tr th {\n",
       "        vertical-align: top;\n",
       "    }\n",
       "\n",
       "    .dataframe thead th {\n",
       "        text-align: right;\n",
       "    }\n",
       "</style>\n",
       "<table border=\"1\" class=\"dataframe\">\n",
       "  <thead>\n",
       "    <tr style=\"text-align: right;\">\n",
       "      <th>smoker</th>\n",
       "      <th>Yes</th>\n",
       "      <th>No</th>\n",
       "      <th>All</th>\n",
       "    </tr>\n",
       "    <tr>\n",
       "      <th>sex</th>\n",
       "      <th></th>\n",
       "      <th></th>\n",
       "      <th></th>\n",
       "    </tr>\n",
       "  </thead>\n",
       "  <tbody>\n",
       "    <tr>\n",
       "      <th>Male</th>\n",
       "      <td>1337.07</td>\n",
       "      <td>1919.75</td>\n",
       "      <td>3256.82</td>\n",
       "    </tr>\n",
       "    <tr>\n",
       "      <th>Female</th>\n",
       "      <td>593.27</td>\n",
       "      <td>977.68</td>\n",
       "      <td>1570.95</td>\n",
       "    </tr>\n",
       "    <tr>\n",
       "      <th>All</th>\n",
       "      <td>1930.34</td>\n",
       "      <td>2897.43</td>\n",
       "      <td>4827.77</td>\n",
       "    </tr>\n",
       "  </tbody>\n",
       "</table>\n",
       "</div>\n",
       "      <button class=\"colab-df-convert\" onclick=\"convertToInteractive('df-54989243-f739-4bc4-8884-8343ae2f93ca')\"\n",
       "              title=\"Convert this dataframe to an interactive table.\"\n",
       "              style=\"display:none;\">\n",
       "        \n",
       "  <svg xmlns=\"http://www.w3.org/2000/svg\" height=\"24px\"viewBox=\"0 0 24 24\"\n",
       "       width=\"24px\">\n",
       "    <path d=\"M0 0h24v24H0V0z\" fill=\"none\"/>\n",
       "    <path d=\"M18.56 5.44l.94 2.06.94-2.06 2.06-.94-2.06-.94-.94-2.06-.94 2.06-2.06.94zm-11 1L8.5 8.5l.94-2.06 2.06-.94-2.06-.94L8.5 2.5l-.94 2.06-2.06.94zm10 10l.94 2.06.94-2.06 2.06-.94-2.06-.94-.94-2.06-.94 2.06-2.06.94z\"/><path d=\"M17.41 7.96l-1.37-1.37c-.4-.4-.92-.59-1.43-.59-.52 0-1.04.2-1.43.59L10.3 9.45l-7.72 7.72c-.78.78-.78 2.05 0 2.83L4 21.41c.39.39.9.59 1.41.59.51 0 1.02-.2 1.41-.59l7.78-7.78 2.81-2.81c.8-.78.8-2.07 0-2.86zM5.41 20L4 18.59l7.72-7.72 1.47 1.35L5.41 20z\"/>\n",
       "  </svg>\n",
       "      </button>\n",
       "      \n",
       "  <style>\n",
       "    .colab-df-container {\n",
       "      display:flex;\n",
       "      flex-wrap:wrap;\n",
       "      gap: 12px;\n",
       "    }\n",
       "\n",
       "    .colab-df-convert {\n",
       "      background-color: #E8F0FE;\n",
       "      border: none;\n",
       "      border-radius: 50%;\n",
       "      cursor: pointer;\n",
       "      display: none;\n",
       "      fill: #1967D2;\n",
       "      height: 32px;\n",
       "      padding: 0 0 0 0;\n",
       "      width: 32px;\n",
       "    }\n",
       "\n",
       "    .colab-df-convert:hover {\n",
       "      background-color: #E2EBFA;\n",
       "      box-shadow: 0px 1px 2px rgba(60, 64, 67, 0.3), 0px 1px 3px 1px rgba(60, 64, 67, 0.15);\n",
       "      fill: #174EA6;\n",
       "    }\n",
       "\n",
       "    [theme=dark] .colab-df-convert {\n",
       "      background-color: #3B4455;\n",
       "      fill: #D2E3FC;\n",
       "    }\n",
       "\n",
       "    [theme=dark] .colab-df-convert:hover {\n",
       "      background-color: #434B5C;\n",
       "      box-shadow: 0px 1px 3px 1px rgba(0, 0, 0, 0.15);\n",
       "      filter: drop-shadow(0px 1px 2px rgba(0, 0, 0, 0.3));\n",
       "      fill: #FFFFFF;\n",
       "    }\n",
       "  </style>\n",
       "\n",
       "      <script>\n",
       "        const buttonEl =\n",
       "          document.querySelector('#df-54989243-f739-4bc4-8884-8343ae2f93ca button.colab-df-convert');\n",
       "        buttonEl.style.display =\n",
       "          google.colab.kernel.accessAllowed ? 'block' : 'none';\n",
       "\n",
       "        async function convertToInteractive(key) {\n",
       "          const element = document.querySelector('#df-54989243-f739-4bc4-8884-8343ae2f93ca');\n",
       "          const dataTable =\n",
       "            await google.colab.kernel.invokeFunction('convertToInteractive',\n",
       "                                                     [key], {});\n",
       "          if (!dataTable) return;\n",
       "\n",
       "          const docLinkHtml = 'Like what you see? Visit the ' +\n",
       "            '<a target=\"_blank\" href=https://colab.research.google.com/notebooks/data_table.ipynb>data table notebook</a>'\n",
       "            + ' to learn more about interactive tables.';\n",
       "          element.innerHTML = '';\n",
       "          dataTable['output_type'] = 'display_data';\n",
       "          await google.colab.output.renderOutput(dataTable, element);\n",
       "          const docLink = document.createElement('div');\n",
       "          docLink.innerHTML = docLinkHtml;\n",
       "          element.appendChild(docLink);\n",
       "        }\n",
       "      </script>\n",
       "    </div>\n",
       "  </div>\n",
       "  "
      ]
     },
     "metadata": {},
     "execution_count": 43
    }
   ]
  },
  {
   "cell_type": "code",
   "source": [
    "# plotting graphs\n",
    "df = pd.read_csv('../DataSets/expense_data.csv')"
   ],
   "metadata": {
    "id": "iMmCG0bq7LNP",
    "ExecuteTime": {
     "end_time": "2025-09-04T08:26:44.050284Z",
     "start_time": "2025-09-04T08:26:44.040814Z"
    }
   },
   "outputs": [],
   "execution_count": 29
  },
  {
   "cell_type": "code",
   "source": [
    "df.head()"
   ],
   "metadata": {
    "colab": {
     "base_uri": "https://localhost:8080/",
     "height": 206
    },
    "id": "U5mwCir18BRS",
    "outputId": "0db2403b-10da-4a5d-87ad-2de2c413b43c",
    "ExecuteTime": {
     "end_time": "2025-09-04T08:26:45.840345Z",
     "start_time": "2025-09-04T08:26:45.826583Z"
    }
   },
   "outputs": [
    {
     "data": {
      "text/plain": [
       "             Date               Account        Category  Subcategory  \\\n",
       "0  3/2/2022 10:11  CUB - online payment            Food          NaN   \n",
       "1  3/2/2022 10:11  CUB - online payment           Other          NaN   \n",
       "2  3/1/2022 19:50  CUB - online payment            Food          NaN   \n",
       "3  3/1/2022 18:56  CUB - online payment  Transportation          NaN   \n",
       "4  3/1/2022 18:22  CUB - online payment            Food          NaN   \n",
       "\n",
       "               Note    INR Income/Expense  Note.1  Amount Currency  Account.1  \n",
       "0           Brownie   50.0        Expense     NaN    50.0      INR       50.0  \n",
       "1  To lended people  300.0        Expense     NaN   300.0      INR      300.0  \n",
       "2            Dinner   78.0        Expense     NaN    78.0      INR       78.0  \n",
       "3             Metro   30.0        Expense     NaN    30.0      INR       30.0  \n",
       "4            Snacks   67.0        Expense     NaN    67.0      INR       67.0  "
      ],
      "text/html": [
       "<div>\n",
       "<style scoped>\n",
       "    .dataframe tbody tr th:only-of-type {\n",
       "        vertical-align: middle;\n",
       "    }\n",
       "\n",
       "    .dataframe tbody tr th {\n",
       "        vertical-align: top;\n",
       "    }\n",
       "\n",
       "    .dataframe thead th {\n",
       "        text-align: right;\n",
       "    }\n",
       "</style>\n",
       "<table border=\"1\" class=\"dataframe\">\n",
       "  <thead>\n",
       "    <tr style=\"text-align: right;\">\n",
       "      <th></th>\n",
       "      <th>Date</th>\n",
       "      <th>Account</th>\n",
       "      <th>Category</th>\n",
       "      <th>Subcategory</th>\n",
       "      <th>Note</th>\n",
       "      <th>INR</th>\n",
       "      <th>Income/Expense</th>\n",
       "      <th>Note.1</th>\n",
       "      <th>Amount</th>\n",
       "      <th>Currency</th>\n",
       "      <th>Account.1</th>\n",
       "    </tr>\n",
       "  </thead>\n",
       "  <tbody>\n",
       "    <tr>\n",
       "      <th>0</th>\n",
       "      <td>3/2/2022 10:11</td>\n",
       "      <td>CUB - online payment</td>\n",
       "      <td>Food</td>\n",
       "      <td>NaN</td>\n",
       "      <td>Brownie</td>\n",
       "      <td>50.0</td>\n",
       "      <td>Expense</td>\n",
       "      <td>NaN</td>\n",
       "      <td>50.0</td>\n",
       "      <td>INR</td>\n",
       "      <td>50.0</td>\n",
       "    </tr>\n",
       "    <tr>\n",
       "      <th>1</th>\n",
       "      <td>3/2/2022 10:11</td>\n",
       "      <td>CUB - online payment</td>\n",
       "      <td>Other</td>\n",
       "      <td>NaN</td>\n",
       "      <td>To lended people</td>\n",
       "      <td>300.0</td>\n",
       "      <td>Expense</td>\n",
       "      <td>NaN</td>\n",
       "      <td>300.0</td>\n",
       "      <td>INR</td>\n",
       "      <td>300.0</td>\n",
       "    </tr>\n",
       "    <tr>\n",
       "      <th>2</th>\n",
       "      <td>3/1/2022 19:50</td>\n",
       "      <td>CUB - online payment</td>\n",
       "      <td>Food</td>\n",
       "      <td>NaN</td>\n",
       "      <td>Dinner</td>\n",
       "      <td>78.0</td>\n",
       "      <td>Expense</td>\n",
       "      <td>NaN</td>\n",
       "      <td>78.0</td>\n",
       "      <td>INR</td>\n",
       "      <td>78.0</td>\n",
       "    </tr>\n",
       "    <tr>\n",
       "      <th>3</th>\n",
       "      <td>3/1/2022 18:56</td>\n",
       "      <td>CUB - online payment</td>\n",
       "      <td>Transportation</td>\n",
       "      <td>NaN</td>\n",
       "      <td>Metro</td>\n",
       "      <td>30.0</td>\n",
       "      <td>Expense</td>\n",
       "      <td>NaN</td>\n",
       "      <td>30.0</td>\n",
       "      <td>INR</td>\n",
       "      <td>30.0</td>\n",
       "    </tr>\n",
       "    <tr>\n",
       "      <th>4</th>\n",
       "      <td>3/1/2022 18:22</td>\n",
       "      <td>CUB - online payment</td>\n",
       "      <td>Food</td>\n",
       "      <td>NaN</td>\n",
       "      <td>Snacks</td>\n",
       "      <td>67.0</td>\n",
       "      <td>Expense</td>\n",
       "      <td>NaN</td>\n",
       "      <td>67.0</td>\n",
       "      <td>INR</td>\n",
       "      <td>67.0</td>\n",
       "    </tr>\n",
       "  </tbody>\n",
       "</table>\n",
       "</div>"
      ]
     },
     "execution_count": 30,
     "metadata": {},
     "output_type": "execute_result"
    }
   ],
   "execution_count": 30
  },
  {
   "cell_type": "code",
   "source": [
    "df['Category'].value_counts()"
   ],
   "metadata": {
    "colab": {
     "base_uri": "https://localhost:8080/"
    },
    "id": "be3bdNUwbHpK",
    "outputId": "e60294ec-c6c5-4656-9652-6a4c26f8a9ff",
    "ExecuteTime": {
     "end_time": "2025-09-04T08:28:53.655719Z",
     "start_time": "2025-09-04T08:28:53.646739Z"
    }
   },
   "outputs": [
    {
     "data": {
      "text/plain": [
       "Category\n",
       "Food                156\n",
       "Other                60\n",
       "Transportation       31\n",
       "Apparel               7\n",
       "Household             6\n",
       "Allowance             6\n",
       "Social Life           5\n",
       "Education             1\n",
       "Salary                1\n",
       "Self-development      1\n",
       "Beauty                1\n",
       "Gift                  1\n",
       "Petty cash            1\n",
       "Name: count, dtype: int64"
      ]
     },
     "execution_count": 31,
     "metadata": {},
     "output_type": "execute_result"
    }
   ],
   "execution_count": 31
  },
  {
   "cell_type": "code",
   "source": [
    "df.info()"
   ],
   "metadata": {
    "colab": {
     "base_uri": "https://localhost:8080/"
    },
    "id": "hNzYDdLEbXTX",
    "outputId": "17adeb99-e0e0-4eb2-cb5e-583785b0d6bd",
    "ExecuteTime": {
     "end_time": "2025-09-04T08:30:48.324758Z",
     "start_time": "2025-09-04T08:30:48.310719Z"
    }
   },
   "outputs": [
    {
     "name": "stdout",
     "output_type": "stream",
     "text": [
      "<class 'pandas.core.frame.DataFrame'>\n",
      "RangeIndex: 277 entries, 0 to 276\n",
      "Data columns (total 11 columns):\n",
      " #   Column          Non-Null Count  Dtype  \n",
      "---  ------          --------------  -----  \n",
      " 0   Date            277 non-null    object \n",
      " 1   Account         277 non-null    object \n",
      " 2   Category        277 non-null    object \n",
      " 3   Subcategory     0 non-null      float64\n",
      " 4   Note            273 non-null    object \n",
      " 5   INR             277 non-null    float64\n",
      " 6   Income/Expense  277 non-null    object \n",
      " 7   Note.1          0 non-null      float64\n",
      " 8   Amount          277 non-null    float64\n",
      " 9   Currency        277 non-null    object \n",
      " 10  Account.1       277 non-null    float64\n",
      "dtypes: float64(5), object(6)\n",
      "memory usage: 23.9+ KB\n"
     ]
    }
   ],
   "execution_count": 32
  },
  {
   "cell_type": "code",
   "source": [
    "df['Date'] = pd.to_datetime(df['Date'])"
   ],
   "metadata": {
    "id": "TM_X1bqxbjwl",
    "ExecuteTime": {
     "end_time": "2025-09-04T08:33:40.828326Z",
     "start_time": "2025-09-04T08:33:40.794333Z"
    }
   },
   "outputs": [],
   "execution_count": 33
  },
  {
   "cell_type": "code",
   "source": [
    "df.info()"
   ],
   "metadata": {
    "colab": {
     "base_uri": "https://localhost:8080/"
    },
    "id": "1p3mwnkrbr27",
    "outputId": "7aaaf616-87b9-41af-d28b-c375622830f1",
    "ExecuteTime": {
     "end_time": "2025-09-04T08:33:42.490191Z",
     "start_time": "2025-09-04T08:33:42.474105Z"
    }
   },
   "outputs": [
    {
     "name": "stdout",
     "output_type": "stream",
     "text": [
      "<class 'pandas.core.frame.DataFrame'>\n",
      "RangeIndex: 277 entries, 0 to 276\n",
      "Data columns (total 11 columns):\n",
      " #   Column          Non-Null Count  Dtype         \n",
      "---  ------          --------------  -----         \n",
      " 0   Date            277 non-null    datetime64[ns]\n",
      " 1   Account         277 non-null    object        \n",
      " 2   Category        277 non-null    object        \n",
      " 3   Subcategory     0 non-null      float64       \n",
      " 4   Note            273 non-null    object        \n",
      " 5   INR             277 non-null    float64       \n",
      " 6   Income/Expense  277 non-null    object        \n",
      " 7   Note.1          0 non-null      float64       \n",
      " 8   Amount          277 non-null    float64       \n",
      " 9   Currency        277 non-null    object        \n",
      " 10  Account.1       277 non-null    float64       \n",
      "dtypes: datetime64[ns](1), float64(5), object(5)\n",
      "memory usage: 23.9+ KB\n"
     ]
    }
   ],
   "execution_count": 34
  },
  {
   "metadata": {},
   "cell_type": "markdown",
   "source": [
    "- hence we have converted the Date column to datetime format .\n",
    "- now we can extract month from the Date column ."
   ]
  },
  {
   "cell_type": "code",
   "source": [
    "df['month'] = df['Date'].dt.month_name()"
   ],
   "metadata": {
    "id": "5IqX1MsZbwso",
    "ExecuteTime": {
     "end_time": "2025-09-04T08:34:18.551160Z",
     "start_time": "2025-09-04T08:34:18.543531Z"
    }
   },
   "outputs": [],
   "execution_count": 35
  },
  {
   "cell_type": "code",
   "source": [
    "df.head()"
   ],
   "metadata": {
    "colab": {
     "base_uri": "https://localhost:8080/",
     "height": 337
    },
    "id": "xrkhe4iMb12r",
    "outputId": "2c9f5f77-f8fc-41c8-8bb1-5cff05470a6a",
    "ExecuteTime": {
     "end_time": "2025-09-04T08:34:25.399633Z",
     "start_time": "2025-09-04T08:34:25.384174Z"
    }
   },
   "outputs": [
    {
     "data": {
      "text/plain": [
       "                 Date               Account        Category  Subcategory  \\\n",
       "0 2022-03-02 10:11:00  CUB - online payment            Food          NaN   \n",
       "1 2022-03-02 10:11:00  CUB - online payment           Other          NaN   \n",
       "2 2022-03-01 19:50:00  CUB - online payment            Food          NaN   \n",
       "3 2022-03-01 18:56:00  CUB - online payment  Transportation          NaN   \n",
       "4 2022-03-01 18:22:00  CUB - online payment            Food          NaN   \n",
       "\n",
       "               Note    INR Income/Expense  Note.1  Amount Currency  Account.1  \\\n",
       "0           Brownie   50.0        Expense     NaN    50.0      INR       50.0   \n",
       "1  To lended people  300.0        Expense     NaN   300.0      INR      300.0   \n",
       "2            Dinner   78.0        Expense     NaN    78.0      INR       78.0   \n",
       "3             Metro   30.0        Expense     NaN    30.0      INR       30.0   \n",
       "4            Snacks   67.0        Expense     NaN    67.0      INR       67.0   \n",
       "\n",
       "   month  \n",
       "0  March  \n",
       "1  March  \n",
       "2  March  \n",
       "3  March  \n",
       "4  March  "
      ],
      "text/html": [
       "<div>\n",
       "<style scoped>\n",
       "    .dataframe tbody tr th:only-of-type {\n",
       "        vertical-align: middle;\n",
       "    }\n",
       "\n",
       "    .dataframe tbody tr th {\n",
       "        vertical-align: top;\n",
       "    }\n",
       "\n",
       "    .dataframe thead th {\n",
       "        text-align: right;\n",
       "    }\n",
       "</style>\n",
       "<table border=\"1\" class=\"dataframe\">\n",
       "  <thead>\n",
       "    <tr style=\"text-align: right;\">\n",
       "      <th></th>\n",
       "      <th>Date</th>\n",
       "      <th>Account</th>\n",
       "      <th>Category</th>\n",
       "      <th>Subcategory</th>\n",
       "      <th>Note</th>\n",
       "      <th>INR</th>\n",
       "      <th>Income/Expense</th>\n",
       "      <th>Note.1</th>\n",
       "      <th>Amount</th>\n",
       "      <th>Currency</th>\n",
       "      <th>Account.1</th>\n",
       "      <th>month</th>\n",
       "    </tr>\n",
       "  </thead>\n",
       "  <tbody>\n",
       "    <tr>\n",
       "      <th>0</th>\n",
       "      <td>2022-03-02 10:11:00</td>\n",
       "      <td>CUB - online payment</td>\n",
       "      <td>Food</td>\n",
       "      <td>NaN</td>\n",
       "      <td>Brownie</td>\n",
       "      <td>50.0</td>\n",
       "      <td>Expense</td>\n",
       "      <td>NaN</td>\n",
       "      <td>50.0</td>\n",
       "      <td>INR</td>\n",
       "      <td>50.0</td>\n",
       "      <td>March</td>\n",
       "    </tr>\n",
       "    <tr>\n",
       "      <th>1</th>\n",
       "      <td>2022-03-02 10:11:00</td>\n",
       "      <td>CUB - online payment</td>\n",
       "      <td>Other</td>\n",
       "      <td>NaN</td>\n",
       "      <td>To lended people</td>\n",
       "      <td>300.0</td>\n",
       "      <td>Expense</td>\n",
       "      <td>NaN</td>\n",
       "      <td>300.0</td>\n",
       "      <td>INR</td>\n",
       "      <td>300.0</td>\n",
       "      <td>March</td>\n",
       "    </tr>\n",
       "    <tr>\n",
       "      <th>2</th>\n",
       "      <td>2022-03-01 19:50:00</td>\n",
       "      <td>CUB - online payment</td>\n",
       "      <td>Food</td>\n",
       "      <td>NaN</td>\n",
       "      <td>Dinner</td>\n",
       "      <td>78.0</td>\n",
       "      <td>Expense</td>\n",
       "      <td>NaN</td>\n",
       "      <td>78.0</td>\n",
       "      <td>INR</td>\n",
       "      <td>78.0</td>\n",
       "      <td>March</td>\n",
       "    </tr>\n",
       "    <tr>\n",
       "      <th>3</th>\n",
       "      <td>2022-03-01 18:56:00</td>\n",
       "      <td>CUB - online payment</td>\n",
       "      <td>Transportation</td>\n",
       "      <td>NaN</td>\n",
       "      <td>Metro</td>\n",
       "      <td>30.0</td>\n",
       "      <td>Expense</td>\n",
       "      <td>NaN</td>\n",
       "      <td>30.0</td>\n",
       "      <td>INR</td>\n",
       "      <td>30.0</td>\n",
       "      <td>March</td>\n",
       "    </tr>\n",
       "    <tr>\n",
       "      <th>4</th>\n",
       "      <td>2022-03-01 18:22:00</td>\n",
       "      <td>CUB - online payment</td>\n",
       "      <td>Food</td>\n",
       "      <td>NaN</td>\n",
       "      <td>Snacks</td>\n",
       "      <td>67.0</td>\n",
       "      <td>Expense</td>\n",
       "      <td>NaN</td>\n",
       "      <td>67.0</td>\n",
       "      <td>INR</td>\n",
       "      <td>67.0</td>\n",
       "      <td>March</td>\n",
       "    </tr>\n",
       "  </tbody>\n",
       "</table>\n",
       "</div>"
      ]
     },
     "execution_count": 36,
     "metadata": {},
     "output_type": "execute_result"
    }
   ],
   "execution_count": 36
  },
  {
   "cell_type": "code",
   "source": [
    "df.pivot_table(index='month',columns='Category',values='INR',aggfunc='sum',fill_value=0).plot()"
   ],
   "metadata": {
    "colab": {
     "base_uri": "https://localhost:8080/",
     "height": 297
    },
    "id": "Qttwzifeb_M2",
    "outputId": "b7c57372-c4b8-4872-cec3-423db1dbdf08",
    "ExecuteTime": {
     "end_time": "2025-09-04T08:39:56.389449Z",
     "start_time": "2025-09-04T08:39:56.150143Z"
    }
   },
   "outputs": [
    {
     "data": {
      "text/plain": [
       "<Axes: xlabel='month'>"
      ]
     },
     "execution_count": 38,
     "metadata": {},
     "output_type": "execute_result"
    },
    {
     "data": {
      "text/plain": [
       "<Figure size 640x480 with 1 Axes>"
      ],
      "image/png": "[encoded data removed]"
     },
     "metadata": {},
     "output_type": "display_data"
    }
   ],
   "execution_count": 38
  },
  {
   "cell_type": "code",
   "source": [
    "df.pivot_table(index='month',columns='Income/Expense',values='INR',aggfunc='sum',fill_value=0).plot()"
   ],
   "metadata": {
    "colab": {
     "base_uri": "https://localhost:8080/",
     "height": 296
    },
    "id": "-oQZntArcOKD",
    "outputId": "528ab14c-e3ad-4fdb-91fd-6e4937df7605",
    "ExecuteTime": {
     "end_time": "2025-09-04T08:39:57.716954Z",
     "start_time": "2025-09-04T08:39:57.584855Z"
    }
   },
   "outputs": [
    {
     "data": {
      "text/plain": [
       "<Axes: xlabel='month'>"
      ]
     },
     "execution_count": 39,
     "metadata": {},
     "output_type": "execute_result"
    },
    {
     "data": {
      "text/plain": [
       "<Figure size 640x480 with 1 Axes>"
      ],
      "image/png": "[encoded data removed]"
     },
     "metadata": {},
     "output_type": "display_data"
    }
   ],
   "execution_count": 39
  },
  {
   "cell_type": "code",
   "source": [
    "df.pivot_table(index='month',columns='Account',values='INR',aggfunc='sum',fill_value=0).plot()"
   ],
   "metadata": {
    "colab": {
     "base_uri": "https://localhost:8080/",
     "height": 296
    },
    "id": "x40NL6SHczbO",
    "outputId": "2362d1e9-5490-4860-e753-234268cb8cd9",
    "ExecuteTime": {
     "end_time": "2025-09-04T08:40:05.897004Z",
     "start_time": "2025-09-04T08:40:05.745915Z"
    }
   },
   "outputs": [
    {
     "data": {
      "text/plain": [
       "<Axes: xlabel='month'>"
      ]
     },
     "execution_count": 40,
     "metadata": {},
     "output_type": "execute_result"
    },
    {
     "data": {
      "text/plain": [
       "<Figure size 640x480 with 1 Axes>"
      ],
      "image/png": "[encoded data removed]"
     },
     "metadata": {},
     "output_type": "display_data"
    }
   ],
   "execution_count": 40
  }
 ]
}
