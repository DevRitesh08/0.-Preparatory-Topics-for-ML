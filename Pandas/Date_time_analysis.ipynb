{
 "cells": [
  {
   "cell_type": "code",
   "id": "initial_id",
   "metadata": {
    "collapsed": true,
    "ExecuteTime": {
     "end_time": "2025-09-06T07:13:43.796068Z",
     "start_time": "2025-09-06T07:13:43.789205Z"
    }
   },
   "source": [
    "import pandas as pd\n",
    "import numpy as np"
   ],
   "outputs": [],
   "execution_count": 1
  },
  {
   "metadata": {
    "ExecuteTime": {
     "end_time": "2025-09-05T15:01:20.302782Z",
     "start_time": "2025-09-05T15:01:20.279097Z"
    }
   },
   "cell_type": "code",
   "source": [
    "# till now\n",
    "# Timestamp\n",
    "pd.Timestamp('6th aug 2025 8:10')\n",
    "\n",
    "# DatetimeIndex -> df and series index\n",
    "pd.DatetimeIndex([\n",
    "    pd.Timestamp('6th aug 2025 8:10'),\n",
    "    pd.Timestamp('7th aug 2025 8:10'),\n",
    "    pd.Timestamp('8th aug 2025 8:10')\n",
    "])[0]\n",
    "\n",
    "# date_range()\n",
    "pd.date_range(start= '2025/8/6', end='2025/8/20', freq='2D')\n",
    "\n",
    "# to_datetime()\n",
    "s = pd.Series(['2025/8/6','2025/8/7','2025/8/8'])\n",
    "s   # but here s is object type"
   ],
   "id": "d5586d7be454a1f0",
   "outputs": [
    {
     "data": {
      "text/plain": [
       "0    2025/8/6\n",
       "1    2025/8/7\n",
       "2    2025/8/8\n",
       "dtype: object"
      ]
     },
     "execution_count": 6,
     "metadata": {},
     "output_type": "execute_result"
    }
   ],
   "execution_count": 6
  },
  {
   "metadata": {
    "ExecuteTime": {
     "end_time": "2025-09-05T15:02:29.127502Z",
     "start_time": "2025-09-05T15:02:29.119586Z"
    }
   },
   "cell_type": "code",
   "source": [
    "s = pd.to_datetime(s)   # converts to datetimeindex\n",
    "s.dt.day_name()   # day name of each date"
   ],
   "id": "cea28071930f593c",
   "outputs": [
    {
     "data": {
      "text/plain": [
       "0    Wednesday\n",
       "1     Thursday\n",
       "2       Friday\n",
       "dtype: object"
      ]
     },
     "execution_count": 12,
     "metadata": {},
     "output_type": "execute_result"
    }
   ],
   "execution_count": 12
  },
  {
   "metadata": {},
   "cell_type": "markdown",
   "source": [
    "## Timedelta\n",
    "- Represents a duration, the difference between two dates or times.\n",
    "- Can be created using `pd.Timedelta`, `pd.to_timedelta`, or by performing arithmetic operations on `Timestamp` or `DatetimeIndex` objects.\n",
    "- Supports various units such as days, hours, minutes, seconds, and milliseconds.\n",
    "- Useful for date arithmetic, such as adding or subtracting time from a date.\n",
    "- Can be used in time series analysis to represent time intervals."
   ],
   "id": "58988fd1bcb56e2d"
  },
  {
   "metadata": {
    "ExecuteTime": {
     "end_time": "2025-09-05T15:31:16.378866Z",
     "start_time": "2025-09-05T15:31:16.373054Z"
    }
   },
   "cell_type": "code",
   "source": [
    "# using Timestamp : subtraction of two timestamps\n",
    "t1 = pd.Timestamp('2025/8/6 8:10')\n",
    "t2 = pd.Timestamp('2025/8/7 10:15')\n",
    "print(t2 - t1)\n",
    "print(t1 - t2)"
   ],
   "id": "648a050e90f7a40e",
   "outputs": [
    {
     "name": "stdout",
     "output_type": "stream",
     "text": [
      "1 days 02:05:00\n",
      "-2 days +21:55:00\n"
     ]
    }
   ],
   "execution_count": 15
  },
  {
   "metadata": {
    "ExecuteTime": {
     "end_time": "2025-09-05T15:32:56.763310Z",
     "start_time": "2025-09-05T15:32:56.755616Z"
    }
   },
   "cell_type": "code",
   "source": [
    "# using Timedelta\n",
    "pd.Timedelta('1 days 2 hours 5 minutes')"
   ],
   "id": "4b3c3dcbe1e29ac9",
   "outputs": [
    {
     "data": {
      "text/plain": [
       "Timedelta('1 days 02:05:00')"
      ]
     },
     "execution_count": 16,
     "metadata": {},
     "output_type": "execute_result"
    }
   ],
   "execution_count": 16
  },
  {
   "metadata": {
    "ExecuteTime": {
     "end_time": "2025-09-05T15:34:18.514901Z",
     "start_time": "2025-09-05T15:34:18.507613Z"
    }
   },
   "cell_type": "code",
   "source": [
    "# Arithmetic operations\n",
    "t1 + pd.Timedelta('2 days 3 hours')"
   ],
   "id": "8cace7faca88cbb2",
   "outputs": [
    {
     "data": {
      "text/plain": [
       "Timestamp('2025-08-08 11:10:00')"
      ]
     },
     "execution_count": 17,
     "metadata": {},
     "output_type": "execute_result"
    }
   ],
   "execution_count": 17
  },
  {
   "metadata": {
    "ExecuteTime": {
     "end_time": "2025-09-05T15:36:01.334274Z",
     "start_time": "2025-09-05T15:36:01.327683Z"
    }
   },
   "cell_type": "code",
   "source": "pd.date_range(start='2025/8/6', periods=10, freq='D')",
   "id": "f2669a912cf2b77",
   "outputs": [
    {
     "data": {
      "text/plain": [
       "DatetimeIndex(['2025-08-06', '2025-08-07', '2025-08-08', '2025-08-09',\n",
       "               '2025-08-10', '2025-08-11', '2025-08-12', '2025-08-13',\n",
       "               '2025-08-14', '2025-08-15'],\n",
       "              dtype='datetime64[ns]', freq='D')"
      ]
     },
     "execution_count": 19,
     "metadata": {},
     "output_type": "execute_result"
    }
   ],
   "execution_count": 19
  },
  {
   "metadata": {
    "ExecuteTime": {
     "end_time": "2025-09-05T15:36:12.173444Z",
     "start_time": "2025-09-05T15:36:12.165606Z"
    }
   },
   "cell_type": "code",
   "source": " pd.date_range(start='2025/8/6', periods=10, freq='D') + pd.Timedelta('2 days 3 hours')",
   "id": "d3d94b28a18da251",
   "outputs": [
    {
     "data": {
      "text/plain": [
       "DatetimeIndex(['2025-08-08 03:00:00', '2025-08-09 03:00:00',\n",
       "               '2025-08-10 03:00:00', '2025-08-11 03:00:00',\n",
       "               '2025-08-12 03:00:00', '2025-08-13 03:00:00',\n",
       "               '2025-08-14 03:00:00', '2025-08-15 03:00:00',\n",
       "               '2025-08-16 03:00:00', '2025-08-17 03:00:00'],\n",
       "              dtype='datetime64[ns]', freq='D')"
      ]
     },
     "execution_count": 20,
     "metadata": {},
     "output_type": "execute_result"
    }
   ],
   "execution_count": 20
  },
  {
   "metadata": {},
   "cell_type": "code",
   "outputs": [],
   "execution_count": null,
   "source": [
    "# Example\n",
    "pd.read_csv(..)"
   ],
   "id": "5285ee4f2f2bbe59"
  }
 ],
 "metadata": {
  "kernelspec": {
   "display_name": "Python 3",
   "language": "python",
   "name": "python3"
  },
  "language_info": {
   "codemirror_mode": {
    "name": "ipython",
    "version": 2
   },
   "file_extension": ".py",
   "mimetype": "text/x-python",
   "name": "python",
   "nbconvert_exporter": "python",
   "pygments_lexer": "ipython2",
   "version": "2.7.6"
  }
 },
 "nbformat": 4,
 "nbformat_minor": 5
}
