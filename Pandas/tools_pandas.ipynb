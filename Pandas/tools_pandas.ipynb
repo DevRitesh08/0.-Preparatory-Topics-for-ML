{
 "cells": [
  {
   "cell_type": "markdown",
   "metadata": {},
   "source": [
    "**Tools - pandas**\n",
    "\n",
    "*The `pandas` library provides high-performance, easy-to-use data structures and data analysis tools. The main data structure is the `DataFrame`, which you can think of as an in-memory 2D table (like a spreadsheet, with column names and row labels). Many features available in Excel are available programmatically, such as creating pivot tables, computing columns based on other columns, plotting graphs, etc. You can also group rows by column value, or join tables much like in SQL. Pandas is also great at handling time series.*\n",
    "\n",
    "* Pandas is a fast, powerful, flexible and easy to use open source data analysis and manipulation tool,\n",
    "built on top of the Python programming language.\n",
    "\n",
    "https://pandas.pydata.org/about/index.html\n",
    "\n",
    "Prerequisites:\n",
    "* NumPy – if you are not familiar with NumPy, I recommend that you go through the NumPy-Guide now."
   ]
  },
  {
   "cell_type": "markdown",
   "metadata": {},
   "source": [
    "<table align=\"left\">\n",
    "  <td>\n",
    "    <a href=\"https://colab.research.google.com/github/ageron/handson-ml2/blob/master/tools_pandas.ipynb\" target=\"_parent\"><img src=\"https://colab.research.google.com/assets/colab-badge.svg\" alt=\"Open In Colab\"/></a>\n",
    "  </td>\n",
    "  <td>\n",
    "    <a target=\"_blank\" href=\"https://kaggle.com/kernels/welcome?src=https://github.com/ageron/handson-ml2/blob/master/tools_pandas.ipynb\"><img src=\"https://kaggle.com/static/images/open-in-kaggle.svg\" /></a>\n",
    "  </td>\n",
    "</table>"
   ]
  },
  {
   "cell_type": "markdown",
   "metadata": {},
   "source": [
    "# Setup"
   ]
  },
  {
   "cell_type": "markdown",
   "metadata": {},
   "source": [
    "First, let's import `pandas`. People usually import it as `pd`:"
   ]
  },
  {
   "cell_type": "code",
   "metadata": {
    "ExecuteTime": {
     "end_time": "2025-08-24T11:54:08.263406Z",
     "start_time": "2025-08-24T11:54:04.289769Z"
    }
   },
   "source": [
    "import numpy as np\n",
    "import pandas as pd"
   ],
   "outputs": [],
   "execution_count": 2
  },
  {
   "cell_type": "markdown",
   "metadata": {},
   "source": [
    "# `Series` objects\n",
    "The `pandas` library contains these useful data structures:\n",
    "* `Series` objects, that we will discuss now. A `Series` object is 1D array, similar to a column in a spreadsheet (with a column name and row labels).\n",
    "* `DataFrame` objects. This is a 2D table, similar to a spreadsheet (with column names and row labels).\n",
    "* `Panel` objects. You can see a `Panel` as a dictionary of `DataFrame`s. These are less used, so we will not discuss them here."
   ]
  },
  {
   "cell_type": "markdown",
   "metadata": {},
   "source": [
    "## Creating a `Series`\n",
    "Let's start by creating our first `Series` object!"
   ]
  },
  {
   "metadata": {},
   "cell_type": "markdown",
   "source": "- **Series from Lists**"
  },
  {
   "metadata": {
    "ExecuteTime": {
     "end_time": "2025-08-24T11:54:15.324783Z",
     "start_time": "2025-08-24T11:54:15.314511Z"
    }
   },
   "cell_type": "code",
   "source": [
    "# string\n",
    "country = ['India','Pakistan','USA','Nepal','Britain' , 'UAE' , 'Oman']\n",
    "\n",
    "a = pd.Series(country)"
   ],
   "outputs": [],
   "execution_count": 3
  },
  {
   "metadata": {},
   "cell_type": "markdown",
   "source": "    - Hence a series object contains two things index and its value ."
  },
  {
   "metadata": {
    "ExecuteTime": {
     "end_time": "2025-08-24T11:54:16.091329Z",
     "start_time": "2025-08-24T11:54:16.080327Z"
    }
   },
   "cell_type": "code",
   "source": "a.dtype",
   "outputs": [
    {
     "data": {
      "text/plain": [
       "dtype('O')"
      ]
     },
     "execution_count": 4,
     "metadata": {},
     "output_type": "execute_result"
    }
   ],
   "execution_count": 4
  },
  {
   "metadata": {},
   "cell_type": "markdown",
   "source": "    - data type is object ('O') that is almost equivalent to strings in python ."
  },
  {
   "cell_type": "code",
   "metadata": {
    "ExecuteTime": {
     "end_time": "2025-08-24T11:54:16.501853Z",
     "start_time": "2025-08-24T11:54:16.489678Z"
    }
   },
   "source": [
    "# integers\n",
    "s = pd.Series([2,-1,3,5])\n",
    "s"
   ],
   "outputs": [
    {
     "data": {
      "text/plain": [
       "0    2\n",
       "1   -1\n",
       "2    3\n",
       "3    5\n",
       "dtype: int64"
      ]
     },
     "execution_count": 5,
     "metadata": {},
     "output_type": "execute_result"
    }
   ],
   "execution_count": 5
  },
  {
   "metadata": {
    "ExecuteTime": {
     "end_time": "2025-08-24T11:54:16.711128Z",
     "start_time": "2025-08-24T11:54:16.706410Z"
    }
   },
   "cell_type": "code",
   "source": "s.dtype",
   "outputs": [
    {
     "data": {
      "text/plain": [
       "dtype('int64')"
      ]
     },
     "execution_count": 6,
     "metadata": {},
     "output_type": "execute_result"
    }
   ],
   "execution_count": 6
  },
  {
   "cell_type": "markdown",
   "metadata": {},
   "source": [
    "## Similar to a 1D `ndarray`\n",
    "`Series` objects behave much like one-dimensional NumPy `ndarray`s, and you can often pass them as parameters to NumPy functions:"
   ]
  },
  {
   "cell_type": "code",
   "metadata": {
    "ExecuteTime": {
     "end_time": "2025-08-24T11:54:17.303687Z",
     "start_time": "2025-08-24T11:54:17.295461Z"
    }
   },
   "source": "np.exp(s)",
   "outputs": [
    {
     "data": {
      "text/plain": [
       "0      7.389056\n",
       "1      0.367879\n",
       "2     20.085537\n",
       "3    148.413159\n",
       "dtype: float64"
      ]
     },
     "execution_count": 7,
     "metadata": {},
     "output_type": "execute_result"
    }
   ],
   "execution_count": 7
  },
  {
   "cell_type": "markdown",
   "metadata": {},
   "source": [
    "Arithmetic operations on `Series` are also possible, and they apply *elementwise*, just like for `ndarray`s:"
   ]
  },
  {
   "cell_type": "code",
   "metadata": {
    "ExecuteTime": {
     "end_time": "2025-08-24T11:54:17.772876Z",
     "start_time": "2025-08-24T11:54:17.767566Z"
    }
   },
   "source": [
    "s + [1000,2000,3000,4000]"
   ],
   "outputs": [
    {
     "data": {
      "text/plain": [
       "0    1002\n",
       "1    1999\n",
       "2    3003\n",
       "3    4005\n",
       "dtype: int64"
      ]
     },
     "execution_count": 8,
     "metadata": {},
     "output_type": "execute_result"
    }
   ],
   "execution_count": 8
  },
  {
   "cell_type": "markdown",
   "metadata": {},
   "source": "Similar to NumPy, if you add a single number to a `Series`, that number is added to all items in the `Series`. This is called * broadcasting*:"
  },
  {
   "cell_type": "code",
   "metadata": {
    "ExecuteTime": {
     "end_time": "2025-08-24T11:54:18.376276Z",
     "start_time": "2025-08-24T11:54:18.369408Z"
    }
   },
   "source": [
    "s + 1000"
   ],
   "outputs": [
    {
     "data": {
      "text/plain": [
       "0    1002\n",
       "1     999\n",
       "2    1003\n",
       "3    1005\n",
       "dtype: int64"
      ]
     },
     "execution_count": 9,
     "metadata": {},
     "output_type": "execute_result"
    }
   ],
   "execution_count": 9
  },
  {
   "cell_type": "markdown",
   "metadata": {},
   "source": [
    "The same is true for all binary operations such as `*` or `/`, and even conditional operations:"
   ]
  },
  {
   "cell_type": "code",
   "metadata": {
    "ExecuteTime": {
     "end_time": "2025-08-24T11:54:18.911778Z",
     "start_time": "2025-08-24T11:54:18.903165Z"
    }
   },
   "source": [
    "s < 0"
   ],
   "outputs": [
    {
     "data": {
      "text/plain": [
       "0    False\n",
       "1     True\n",
       "2    False\n",
       "3    False\n",
       "dtype: bool"
      ]
     },
     "execution_count": 10,
     "metadata": {},
     "output_type": "execute_result"
    }
   ],
   "execution_count": 10
  },
  {
   "cell_type": "markdown",
   "metadata": {},
   "source": [
    "## Index labels\n",
    "Each item in a `Series` object has a unique identifier called the *index label*. By default, it is simply the rank of the item in the `Series` (starting at `0`) but you can also set the index labels manually:"
   ]
  },
  {
   "cell_type": "code",
   "metadata": {
    "ExecuteTime": {
     "end_time": "2025-08-24T11:54:19.528754Z",
     "start_time": "2025-08-24T11:54:19.520174Z"
    }
   },
   "source": [
    "\n",
    "s2 = pd.Series([68, 83, 112, 68], index=[\"alice\", \"bob\", \"charles\", \"darwin\"])\n",
    "s2"
   ],
   "outputs": [
    {
     "data": {
      "text/plain": [
       "alice       68\n",
       "bob         83\n",
       "charles    112\n",
       "darwin      68\n",
       "dtype: int64"
      ]
     },
     "execution_count": 11,
     "metadata": {},
     "output_type": "execute_result"
    }
   ],
   "execution_count": 11
  },
  {
   "cell_type": "markdown",
   "metadata": {},
   "source": [
    "You can then use the `Series` just like a `dict`:"
   ]
  },
  {
   "cell_type": "code",
   "metadata": {
    "ExecuteTime": {
     "end_time": "2025-08-24T11:54:20.080754Z",
     "start_time": "2025-08-24T11:54:20.074594Z"
    }
   },
   "source": [
    "s2[\"bob\"]"
   ],
   "outputs": [
    {
     "data": {
      "text/plain": [
       "np.int64(83)"
      ]
     },
     "execution_count": 12,
     "metadata": {},
     "output_type": "execute_result"
    }
   ],
   "execution_count": 12
  },
  {
   "cell_type": "markdown",
   "metadata": {},
   "source": [
    "You can still access the items by integer location, like in a regular array but you must use the `iloc` attribute:\n",
    "- Accessing s2[1] tries to find the label '1', not the position. Use s2.iloc[1] for position-based access."
   ]
  },
  {
   "cell_type": "code",
   "metadata": {
    "ExecuteTime": {
     "end_time": "2025-08-24T11:54:20.626668Z",
     "start_time": "2025-08-24T11:54:20.620544Z"
    }
   },
   "source": "s2.iloc[1]",
   "outputs": [
    {
     "data": {
      "text/plain": [
       "np.int64(83)"
      ]
     },
     "execution_count": 13,
     "metadata": {},
     "output_type": "execute_result"
    }
   ],
   "execution_count": 13
  },
  {
   "cell_type": "markdown",
   "metadata": {},
   "source": [
    "To make it clear when you are accessing by label or by integer location, it is recommended to always use the `loc` attribute when accessing by label, and the `iloc` attribute when accessing by integer location:"
   ]
  },
  {
   "cell_type": "code",
   "metadata": {
    "ExecuteTime": {
     "end_time": "2025-08-24T11:54:21.173146Z",
     "start_time": "2025-08-24T11:54:21.167985Z"
    }
   },
   "source": [
    "s2.loc[\"bob\"]"
   ],
   "outputs": [
    {
     "data": {
      "text/plain": [
       "np.int64(83)"
      ]
     },
     "execution_count": 14,
     "metadata": {},
     "output_type": "execute_result"
    }
   ],
   "execution_count": 14
  },
  {
   "cell_type": "code",
   "metadata": {
    "ExecuteTime": {
     "end_time": "2025-08-24T11:54:21.462445Z",
     "start_time": "2025-08-24T11:54:21.457789Z"
    }
   },
   "source": [
    "s2.iloc[1]"
   ],
   "outputs": [
    {
     "data": {
      "text/plain": [
       "np.int64(83)"
      ]
     },
     "execution_count": 15,
     "metadata": {},
     "output_type": "execute_result"
    }
   ],
   "execution_count": 15
  },
  {
   "cell_type": "markdown",
   "metadata": {},
   "source": [
    "Slicing a `Series` also slices the index labels:"
   ]
  },
  {
   "cell_type": "code",
   "metadata": {
    "ExecuteTime": {
     "end_time": "2025-08-24T11:54:21.998829Z",
     "start_time": "2025-08-24T11:54:21.992044Z"
    }
   },
   "source": [
    "s2.iloc[1:3]"
   ],
   "outputs": [
    {
     "data": {
      "text/plain": [
       "bob         83\n",
       "charles    112\n",
       "dtype: int64"
      ]
     },
     "execution_count": 16,
     "metadata": {},
     "output_type": "execute_result"
    }
   ],
   "execution_count": 16
  },
  {
   "cell_type": "markdown",
   "metadata": {},
   "source": [
    "This can lead to unexpected results when using the default numeric labels, so be careful:"
   ]
  },
  {
   "cell_type": "code",
   "metadata": {
    "ExecuteTime": {
     "end_time": "2025-08-24T11:54:22.619795Z",
     "start_time": "2025-08-24T11:54:22.613809Z"
    }
   },
   "source": [
    "surprise = pd.Series([1000, 1001, 1002, 1003])\n",
    "surprise"
   ],
   "outputs": [
    {
     "data": {
      "text/plain": [
       "0    1000\n",
       "1    1001\n",
       "2    1002\n",
       "3    1003\n",
       "dtype: int64"
      ]
     },
     "execution_count": 17,
     "metadata": {},
     "output_type": "execute_result"
    }
   ],
   "execution_count": 17
  },
  {
   "cell_type": "code",
   "metadata": {
    "ExecuteTime": {
     "end_time": "2025-08-24T11:54:23.107583Z",
     "start_time": "2025-08-24T11:54:23.097654Z"
    }
   },
   "source": [
    "surprise_slice = surprise[2:]\n",
    "surprise_slice"
   ],
   "outputs": [
    {
     "data": {
      "text/plain": [
       "2    1002\n",
       "3    1003\n",
       "dtype: int64"
      ]
     },
     "execution_count": 18,
     "metadata": {},
     "output_type": "execute_result"
    }
   ],
   "execution_count": 18
  },
  {
   "cell_type": "markdown",
   "metadata": {},
   "source": [
    "Oh look! The first element has index label `2`. The element with index label `0` is absent from the slice:"
   ]
  },
  {
   "cell_type": "code",
   "metadata": {
    "ExecuteTime": {
     "end_time": "2025-08-24T11:54:23.609546Z",
     "start_time": "2025-08-24T11:54:23.604730Z"
    }
   },
   "source": [
    "try:\n",
    "    surprise_slice[0]\n",
    "except KeyError as e:\n",
    "    print(\"Key error:\", e)"
   ],
   "outputs": [
    {
     "name": "stdout",
     "output_type": "stream",
     "text": [
      "Key error: 0\n"
     ]
    }
   ],
   "execution_count": 19
  },
  {
   "cell_type": "markdown",
   "metadata": {},
   "source": [
    "But remember that you can access elements by integer location using the `iloc` attribute. This illustrates another reason why it's always better to use `loc` and `iloc` to access `Series` objects:"
   ]
  },
  {
   "cell_type": "code",
   "metadata": {
    "ExecuteTime": {
     "end_time": "2025-08-24T11:54:24.230433Z",
     "start_time": "2025-08-24T11:54:24.223152Z"
    }
   },
   "source": [
    "surprise_slice.iloc[0]"
   ],
   "outputs": [
    {
     "data": {
      "text/plain": [
       "np.int64(1002)"
      ]
     },
     "execution_count": 20,
     "metadata": {},
     "output_type": "execute_result"
    }
   ],
   "execution_count": 20
  },
  {
   "metadata": {},
   "cell_type": "markdown",
   "source": "- **Naming a series**"
  },
  {
   "metadata": {
    "ExecuteTime": {
     "end_time": "2025-08-24T11:54:24.766921Z",
     "start_time": "2025-08-24T11:54:24.760428Z"
    }
   },
   "cell_type": "code",
   "source": [
    "std = pd.Series([56,77,55,78,67,56] , index = ('alice' , 'James' , 'Rahul' ,'Arjun' ,'shantanu','Yukti' ) , name = 'weight of Students' )\n",
    "std"
   ],
   "outputs": [
    {
     "data": {
      "text/plain": [
       "alice       56\n",
       "James       77\n",
       "Rahul       55\n",
       "Arjun       78\n",
       "shantanu    67\n",
       "Yukti       56\n",
       "Name: weight of Students, dtype: int64"
      ]
     },
     "execution_count": 21,
     "metadata": {},
     "output_type": "execute_result"
    }
   ],
   "execution_count": 21
  },
  {
   "metadata": {
    "ExecuteTime": {
     "end_time": "2025-08-24T11:54:26.516419Z",
     "start_time": "2025-08-24T11:54:26.509490Z"
    }
   },
   "cell_type": "code",
   "source": [
    "# To add a name to the index of a pandas Series, set the index.name attribute:\n",
    "std.index.name = \"students\"\n",
    "std"
   ],
   "outputs": [
    {
     "data": {
      "text/plain": [
       "students\n",
       "alice       56\n",
       "James       77\n",
       "Rahul       55\n",
       "Arjun       78\n",
       "shantanu    67\n",
       "Yukti       56\n",
       "Name: weight of Students, dtype: int64"
      ]
     },
     "execution_count": 22,
     "metadata": {},
     "output_type": "execute_result"
    }
   ],
   "execution_count": 22
  },
  {
   "metadata": {
    "ExecuteTime": {
     "end_time": "2025-08-24T11:54:27.497091Z",
     "start_time": "2025-08-24T11:54:27.493122Z"
    }
   },
   "cell_type": "code",
   "source": [
    "print(std.name)             # name of the series\n",
    "print(std.index.name)       # name of the index"
   ],
   "outputs": [
    {
     "name": "stdout",
     "output_type": "stream",
     "text": [
      "weight of Students\n",
      "students\n"
     ]
    }
   ],
   "execution_count": 23
  },
  {
   "metadata": {},
   "cell_type": "markdown",
   "source": [
    "#### Difference Between a series name (weight of Students) and std variable name\n",
    "- std is a variable name which is used to access the series object whereas 'weight of Students' is a name of the series object which can be accessed by std.name"
   ]
  },
  {
   "cell_type": "markdown",
   "metadata": {},
   "source": [
    "## Initializing a Series with a `dict`\n",
    "You can create a `Series` object from a `dict`. The keys will be used as index labels:"
   ]
  },
  {
   "cell_type": "code",
   "metadata": {
    "ExecuteTime": {
     "end_time": "2025-08-24T11:54:30.375664Z",
     "start_time": "2025-08-24T11:54:30.368184Z"
    }
   },
   "source": [
    "weights = {\"alice\": 68, \"bob\": 83, \"colin\": 86, \"darwin\": 68}\n",
    "s3 = pd.Series(weights)\n",
    "s3"
   ],
   "outputs": [
    {
     "data": {
      "text/plain": [
       "alice     68\n",
       "bob       83\n",
       "colin     86\n",
       "darwin    68\n",
       "dtype: int64"
      ]
     },
     "execution_count": 24,
     "metadata": {},
     "output_type": "execute_result"
    }
   ],
   "execution_count": 24
  },
  {
   "cell_type": "markdown",
   "metadata": {},
   "source": [
    "You can control which elements you want to include in the `Series` and in what order by explicitly specifying the desired `index`:"
   ]
  },
  {
   "cell_type": "code",
   "metadata": {
    "ExecuteTime": {
     "end_time": "2025-08-24T11:54:33.423959Z",
     "start_time": "2025-08-24T11:54:33.406101Z"
    }
   },
   "source": [
    "s4 = pd.Series(weights, index = [\"colin\", \"alice\"])\n",
    "s4"
   ],
   "outputs": [
    {
     "data": {
      "text/plain": [
       "colin    86\n",
       "alice    68\n",
       "dtype: int64"
      ]
     },
     "execution_count": 25,
     "metadata": {},
     "output_type": "execute_result"
    }
   ],
   "execution_count": 25
  },
  {
   "metadata": {},
   "cell_type": "markdown",
   "source": "### Series Attributes"
  },
  {
   "metadata": {
    "ExecuteTime": {
     "end_time": "2025-08-24T11:54:34.847866Z",
     "start_time": "2025-08-24T11:54:34.844304Z"
    }
   },
   "cell_type": "code",
   "source": [
    "# size\n",
    "std.size"
   ],
   "outputs": [
    {
     "data": {
      "text/plain": [
       "6"
      ]
     },
     "execution_count": 26,
     "metadata": {},
     "output_type": "execute_result"
    }
   ],
   "execution_count": 26
  },
  {
   "metadata": {
    "ExecuteTime": {
     "end_time": "2025-08-24T11:54:35.479775Z",
     "start_time": "2025-08-24T11:54:35.473172Z"
    }
   },
   "cell_type": "code",
   "source": [
    "# dtype\n",
    "std.dtype"
   ],
   "outputs": [
    {
     "data": {
      "text/plain": [
       "dtype('int64')"
      ]
     },
     "execution_count": 27,
     "metadata": {},
     "output_type": "execute_result"
    }
   ],
   "execution_count": 27
  },
  {
   "metadata": {
    "ExecuteTime": {
     "end_time": "2025-08-24T11:54:36.008838Z",
     "start_time": "2025-08-24T11:54:36.003251Z"
    }
   },
   "cell_type": "code",
   "source": [
    "# name : name of the series .\n",
    "std.name"
   ],
   "outputs": [
    {
     "data": {
      "text/plain": [
       "'weight of Students'"
      ]
     },
     "execution_count": 28,
     "metadata": {},
     "output_type": "execute_result"
    }
   ],
   "execution_count": 28
  },
  {
   "metadata": {
    "ExecuteTime": {
     "end_time": "2025-08-24T11:54:36.492702Z",
     "start_time": "2025-08-24T11:54:36.487680Z"
    }
   },
   "cell_type": "code",
   "source": [
    "# index.name : name of the index .\n",
    "std.index.name"
   ],
   "outputs": [
    {
     "data": {
      "text/plain": [
       "'students'"
      ]
     },
     "execution_count": 29,
     "metadata": {},
     "output_type": "execute_result"
    }
   ],
   "execution_count": 29
  },
  {
   "metadata": {
    "ExecuteTime": {
     "end_time": "2025-08-24T11:54:36.991661Z",
     "start_time": "2025-08-24T11:54:36.983304Z"
    }
   },
   "cell_type": "code",
   "source": [
    "# is_unique : checks if all the elements in the series are unique or not\n",
    "std.is_unique"
   ],
   "outputs": [
    {
     "data": {
      "text/plain": [
       "False"
      ]
     },
     "execution_count": 30,
     "metadata": {},
     "output_type": "execute_result"
    }
   ],
   "execution_count": 30
  },
  {
   "metadata": {
    "ExecuteTime": {
     "end_time": "2025-08-24T11:54:37.581857Z",
     "start_time": "2025-08-24T11:54:37.575452Z"
    }
   },
   "cell_type": "code",
   "source": [
    "# index : gives the index of the series .\n",
    "std.index"
   ],
   "outputs": [
    {
     "data": {
      "text/plain": [
       "Index(['alice', 'James', 'Rahul', 'Arjun', 'shantanu', 'Yukti'], dtype='object', name='students')"
      ]
     },
     "execution_count": 31,
     "metadata": {},
     "output_type": "execute_result"
    }
   ],
   "execution_count": 31
  },
  {
   "metadata": {
    "ExecuteTime": {
     "end_time": "2025-08-24T11:54:38.140461Z",
     "start_time": "2025-08-24T11:54:38.133127Z"
    }
   },
   "cell_type": "code",
   "source": "s.index",
   "outputs": [
    {
     "data": {
      "text/plain": [
       "RangeIndex(start=0, stop=4, step=1)"
      ]
     },
     "execution_count": 32,
     "metadata": {},
     "output_type": "execute_result"
    }
   ],
   "execution_count": 32
  },
  {
   "metadata": {
    "ExecuteTime": {
     "end_time": "2025-08-24T11:54:38.649877Z",
     "start_time": "2025-08-24T11:54:38.642666Z"
    }
   },
   "cell_type": "code",
   "source": [
    "# values : gives the values of the series .\n",
    "std.values"
   ],
   "outputs": [
    {
     "data": {
      "text/plain": [
       "array([56, 77, 55, 78, 67, 56])"
      ]
     },
     "execution_count": 33,
     "metadata": {},
     "output_type": "execute_result"
    }
   ],
   "execution_count": 33
  },
  {
   "metadata": {
    "ExecuteTime": {
     "end_time": "2025-08-24T11:54:39.209621Z",
     "start_time": "2025-08-24T11:54:39.204796Z"
    }
   },
   "cell_type": "code",
   "source": "type(std.values)    # it returns a numpy array .",
   "outputs": [
    {
     "data": {
      "text/plain": [
       "numpy.ndarray"
      ]
     },
     "execution_count": 34,
     "metadata": {},
     "output_type": "execute_result"
    }
   ],
   "execution_count": 34
  },
  {
   "cell_type": "markdown",
   "metadata": {},
   "source": [
    "## Automatic alignment\n",
    "When an operation involves multiple `Series` objects, `pandas` automatically aligns items by matching index labels."
   ]
  },
  {
   "metadata": {
    "ExecuteTime": {
     "end_time": "2025-08-24T11:54:40.629273Z",
     "start_time": "2025-08-24T11:54:40.621222Z"
    }
   },
   "cell_type": "code",
   "source": "s2",
   "outputs": [
    {
     "data": {
      "text/plain": [
       "alice       68\n",
       "bob         83\n",
       "charles    112\n",
       "darwin      68\n",
       "dtype: int64"
      ]
     },
     "execution_count": 35,
     "metadata": {},
     "output_type": "execute_result"
    }
   ],
   "execution_count": 35
  },
  {
   "metadata": {
    "ExecuteTime": {
     "end_time": "2025-08-24T11:54:41.626628Z",
     "start_time": "2025-08-24T11:54:41.620545Z"
    }
   },
   "cell_type": "code",
   "source": "s3",
   "outputs": [
    {
     "data": {
      "text/plain": [
       "alice     68\n",
       "bob       83\n",
       "colin     86\n",
       "darwin    68\n",
       "dtype: int64"
      ]
     },
     "execution_count": 36,
     "metadata": {},
     "output_type": "execute_result"
    }
   ],
   "execution_count": 36
  },
  {
   "cell_type": "code",
   "metadata": {
    "ExecuteTime": {
     "end_time": "2025-08-24T11:54:42.609589Z",
     "start_time": "2025-08-24T11:54:42.595399Z"
    }
   },
   "source": [
    "print(s2.keys())\n",
    "print(s3.keys())\n",
    "\n",
    "s2 + s3"
   ],
   "outputs": [
    {
     "name": "stdout",
     "output_type": "stream",
     "text": [
      "Index(['alice', 'bob', 'charles', 'darwin'], dtype='object')\n",
      "Index(['alice', 'bob', 'colin', 'darwin'], dtype='object')\n"
     ]
    },
    {
     "data": {
      "text/plain": [
       "alice      136.0\n",
       "bob        166.0\n",
       "charles      NaN\n",
       "colin        NaN\n",
       "darwin     136.0\n",
       "dtype: float64"
      ]
     },
     "execution_count": 37,
     "metadata": {},
     "output_type": "execute_result"
    }
   ],
   "execution_count": 37
  },
  {
   "cell_type": "markdown",
   "metadata": {},
   "source": [
    "The resulting `Series` contains the union of index labels from `s2` and `s3`. Since `\"colin\"` is missing from `s2` and `\"charles\"` is missing from `s3`, these items have a `NaN` result value. (ie. Not-a-Number means *missing*).\n",
    "\n",
    "Automatic alignment is very handy when working with data that may come from various sources with varying structure and missing items. But if you forget to set the right index labels, you can have surprising results:"
   ]
  },
  {
   "cell_type": "code",
   "metadata": {
    "ExecuteTime": {
     "end_time": "2025-08-24T11:55:06.205534Z",
     "start_time": "2025-08-24T11:55:06.193197Z"
    }
   },
   "source": [
    "s5 = pd.Series([1000,1000,1000,1000])\n",
    "print(\"s2 =\", s2.values)\n",
    "print(\"s5 =\", s5.values)\n",
    "\n",
    "s2 + s5"
   ],
   "outputs": [
    {
     "name": "stdout",
     "output_type": "stream",
     "text": [
      "s2 = [ 68  83 112  68]\n",
      "s5 = [1000 1000 1000 1000]\n"
     ]
    },
    {
     "data": {
      "text/plain": [
       "alice     NaN\n",
       "bob       NaN\n",
       "charles   NaN\n",
       "darwin    NaN\n",
       "0         NaN\n",
       "1         NaN\n",
       "2         NaN\n",
       "3         NaN\n",
       "dtype: float64"
      ]
     },
     "execution_count": 39,
     "metadata": {},
     "output_type": "execute_result"
    }
   ],
   "execution_count": 39
  },
  {
   "cell_type": "markdown",
   "metadata": {},
   "source": [
    "Pandas could not align the `Series`, since their labels do not match at all, hence the full `NaN` result."
   ]
  },
  {
   "metadata": {},
   "cell_type": "markdown",
   "source": [
    "## Initializing a Series with a Scalar Value\n",
    "You can also initialize a `Series` object using a scalar and a list of index labels: all items will be set to the scalar."
   ]
  },
  {
   "metadata": {
    "ExecuteTime": {
     "end_time": "2025-08-24T11:55:08.113363Z",
     "start_time": "2025-08-24T11:55:08.102958Z"
    }
   },
   "cell_type": "code",
   "source": [
    "meaning = pd.Series(42, [\"life\", \"universe\", \"everything\"])\n",
    "meaning"
   ],
   "outputs": [
    {
     "data": {
      "text/plain": [
       "life          42\n",
       "universe      42\n",
       "everything    42\n",
       "dtype: int64"
      ]
     },
     "execution_count": 40,
     "metadata": {},
     "output_type": "execute_result"
    }
   ],
   "execution_count": 40
  },
  {
   "metadata": {},
   "cell_type": "markdown",
   "source": [
    "## Series using read_csv\n",
    "### With one col"
   ]
  },
  {
   "metadata": {
    "ExecuteTime": {
     "end_time": "2025-08-24T11:55:09.466364Z",
     "start_time": "2025-08-24T11:55:09.444783Z"
    }
   },
   "cell_type": "code",
   "source": [
    "views = pd.read_csv('VideoViewsGrowth.csv' )\n",
    "print(type(views))      # it returns a dataframe object\n",
    "print(views)"
   ],
   "outputs": [
    {
     "name": "stdout",
     "output_type": "stream",
     "text": [
      "<class 'pandas.core.frame.DataFrame'>\n",
      "     Views\n",
      "0       87\n",
      "1      174\n",
      "2      289\n",
      "3      333\n",
      "4      417\n",
      "..     ...\n",
      "145  18210\n",
      "146  18327\n",
      "147  18480\n",
      "148  18644\n",
      "149  18750\n",
      "\n",
      "[150 rows x 1 columns]\n"
     ]
    }
   ],
   "execution_count": 41
  },
  {
   "metadata": {},
   "cell_type": "markdown",
   "source": [
    "- So , pd.read_csv() by default returns a dataframe object .\n",
    "- Now to convert it into a series object we can use `.squeeze()` or use `.iloc[:, 0]` after reading ."
   ]
  },
  {
   "metadata": {
    "ExecuteTime": {
     "end_time": "2025-08-24T11:55:10.296427Z",
     "start_time": "2025-08-24T11:55:10.286452Z"
    }
   },
   "cell_type": "code",
   "source": [
    "views = pd.read_csv('VideoViewsGrowth.csv' ).squeeze()\n",
    "print(type(views))  # it returns a series object\n",
    "print(views)"
   ],
   "outputs": [
    {
     "name": "stdout",
     "output_type": "stream",
     "text": [
      "<class 'pandas.core.series.Series'>\n",
      "0         87\n",
      "1        174\n",
      "2        289\n",
      "3        333\n",
      "4        417\n",
      "       ...  \n",
      "145    18210\n",
      "146    18327\n",
      "147    18480\n",
      "148    18644\n",
      "149    18750\n",
      "Name: Views, Length: 150, dtype: int64\n"
     ]
    }
   ],
   "execution_count": 42
  },
  {
   "metadata": {
    "ExecuteTime": {
     "end_time": "2025-08-24T11:55:11.262279Z",
     "start_time": "2025-08-24T11:55:11.254806Z"
    }
   },
   "cell_type": "code",
   "source": [
    "views = pd.read_csv('VideoViewsGrowth.csv' ).iloc[:, 0]\n",
    "# can also use .iloc[:, 0] to convert dataframe to series .\n",
    "print(type(views))  # it returns a series object\n",
    "print(views)"
   ],
   "outputs": [
    {
     "name": "stdout",
     "output_type": "stream",
     "text": [
      "<class 'pandas.core.series.Series'>\n",
      "0         87\n",
      "1        174\n",
      "2        289\n",
      "3        333\n",
      "4        417\n",
      "       ...  \n",
      "145    18210\n",
      "146    18327\n",
      "147    18480\n",
      "148    18644\n",
      "149    18750\n",
      "Name: Views, Length: 150, dtype: int64\n"
     ]
    }
   ],
   "execution_count": 43
  },
  {
   "metadata": {},
   "cell_type": "markdown",
   "source": "### With 2 cols"
  },
  {
   "metadata": {
    "ExecuteTime": {
     "end_time": "2025-08-24T12:06:56.826141Z",
     "start_time": "2025-08-24T12:06:56.819356Z"
    }
   },
   "cell_type": "code",
   "source": [
    "VK = pd.read_csv('kohli_ipl.csv' )\n",
    "print(type(VK))\n",
    "# it returns a dataframe object .\n",
    "print(VK)"
   ],
   "outputs": [
    {
     "name": "stdout",
     "output_type": "stream",
     "text": [
      "<class 'pandas.core.frame.DataFrame'>\n",
      "     match_no  runs\n",
      "0           1     1\n",
      "1           2    23\n",
      "2           3    13\n",
      "3           4    12\n",
      "4           5     1\n",
      "..        ...   ...\n",
      "210       211     0\n",
      "211       212    20\n",
      "212       213    73\n",
      "213       214    25\n",
      "214       215     7\n",
      "\n",
      "[215 rows x 2 columns]\n"
     ]
    }
   ],
   "execution_count": 71
  },
  {
   "metadata": {
    "ExecuteTime": {
     "end_time": "2025-08-24T12:06:57.202085Z",
     "start_time": "2025-08-24T12:06:57.192667Z"
    }
   },
   "cell_type": "code",
   "source": [
    "VK = pd.read_csv('kohli_ipl.csv' , index_col= 0).squeeze()\n",
    "print(type(VK))\n",
    "# It returns a series object .\n",
    "print(VK)"
   ],
   "outputs": [
    {
     "name": "stdout",
     "output_type": "stream",
     "text": [
      "<class 'pandas.core.series.Series'>\n",
      "match_no\n",
      "1       1\n",
      "2      23\n",
      "3      13\n",
      "4      12\n",
      "5       1\n",
      "       ..\n",
      "211     0\n",
      "212    20\n",
      "213    73\n",
      "214    25\n",
      "215     7\n",
      "Name: runs, Length: 215, dtype: int64\n"
     ]
    }
   ],
   "execution_count": 72
  },
  {
   "metadata": {
    "ExecuteTime": {
     "end_time": "2025-08-24T12:06:58.110663Z",
     "start_time": "2025-08-24T12:06:58.102959Z"
    }
   },
   "cell_type": "code",
   "source": [
    "VK = pd.read_csv('kohli_ipl.csv', index_col=0).iloc[:, 0]\n",
    "print(type(VK))  # it returns a Series object\n",
    "print(VK)"
   ],
   "outputs": [
    {
     "name": "stdout",
     "output_type": "stream",
     "text": [
      "<class 'pandas.core.series.Series'>\n",
      "match_no\n",
      "1       1\n",
      "2      23\n",
      "3      13\n",
      "4      12\n",
      "5       1\n",
      "       ..\n",
      "211     0\n",
      "212    20\n",
      "213    73\n",
      "214    25\n",
      "215     7\n",
      "Name: runs, Length: 215, dtype: int64\n"
     ]
    }
   ],
   "execution_count": 73
  },
  {
   "metadata": {},
   "cell_type": "markdown",
   "source": [
    "- As shown, the name of the Series is `runs`, which comes from the heading of the second column in the CSV file. This name is used as the label for the values in the Series.\n",
    "- The code loads the CSV, sets the first column as the index, and selects the first data column as a Series because of index_col = 0 ."
   ]
  },
  {
   "metadata": {},
   "cell_type": "markdown",
   "source": "### With 3 col"
  },
  {
   "metadata": {
    "ExecuteTime": {
     "end_time": "2025-08-24T11:55:14.453477Z",
     "start_time": "2025-08-24T11:55:14.447317Z"
    }
   },
   "cell_type": "code",
   "source": [
    "movies = pd.read_csv('top_500_movies.csv')\n",
    "print(type(movies)) # it returns a dataframe object ."
   ],
   "outputs": [
    {
     "name": "stdout",
     "output_type": "stream",
     "text": [
      "<class 'pandas.core.frame.DataFrame'>\n"
     ]
    }
   ],
   "execution_count": 47
  },
  {
   "metadata": {
    "ExecuteTime": {
     "end_time": "2025-08-24T11:55:14.714771Z",
     "start_time": "2025-08-24T11:55:14.706077Z"
    }
   },
   "cell_type": "code",
   "source": "movies",
   "outputs": [
    {
     "data": {
      "text/plain": [
       "                   Movie Name             Main Lead\n",
       "0                12 Angry Men           Henry Fonda\n",
       "1                  12 Monkeys          Bruce Willis\n",
       "2                    3 Idiots            Aamir Khan\n",
       "3                          8½  Marcello Mastroianni\n",
       "4           A Better Tomorrow          Chow Yun-fat\n",
       "..                        ...                   ...\n",
       "512       You Only Live Twice          Sean Connery\n",
       "513                 Your Name      Ryunosuke Kamiki\n",
       "514     Zhang Yimou's To Live                Ge You\n",
       "515  Zindagi Na Milegi Dobara        Hrithik Roshan\n",
       "516                  Zootopia      Ginnifer Goodwin\n",
       "\n",
       "[517 rows x 2 columns]"
      ],
      "text/html": [
       "<div>\n",
       "<style scoped>\n",
       "    .dataframe tbody tr th:only-of-type {\n",
       "        vertical-align: middle;\n",
       "    }\n",
       "\n",
       "    .dataframe tbody tr th {\n",
       "        vertical-align: top;\n",
       "    }\n",
       "\n",
       "    .dataframe thead th {\n",
       "        text-align: right;\n",
       "    }\n",
       "</style>\n",
       "<table border=\"1\" class=\"dataframe\">\n",
       "  <thead>\n",
       "    <tr style=\"text-align: right;\">\n",
       "      <th></th>\n",
       "      <th>Movie Name</th>\n",
       "      <th>Main Lead</th>\n",
       "    </tr>\n",
       "  </thead>\n",
       "  <tbody>\n",
       "    <tr>\n",
       "      <th>0</th>\n",
       "      <td>12 Angry Men</td>\n",
       "      <td>Henry Fonda</td>\n",
       "    </tr>\n",
       "    <tr>\n",
       "      <th>1</th>\n",
       "      <td>12 Monkeys</td>\n",
       "      <td>Bruce Willis</td>\n",
       "    </tr>\n",
       "    <tr>\n",
       "      <th>2</th>\n",
       "      <td>3 Idiots</td>\n",
       "      <td>Aamir Khan</td>\n",
       "    </tr>\n",
       "    <tr>\n",
       "      <th>3</th>\n",
       "      <td>8½</td>\n",
       "      <td>Marcello Mastroianni</td>\n",
       "    </tr>\n",
       "    <tr>\n",
       "      <th>4</th>\n",
       "      <td>A Better Tomorrow</td>\n",
       "      <td>Chow Yun-fat</td>\n",
       "    </tr>\n",
       "    <tr>\n",
       "      <th>...</th>\n",
       "      <td>...</td>\n",
       "      <td>...</td>\n",
       "    </tr>\n",
       "    <tr>\n",
       "      <th>512</th>\n",
       "      <td>You Only Live Twice</td>\n",
       "      <td>Sean Connery</td>\n",
       "    </tr>\n",
       "    <tr>\n",
       "      <th>513</th>\n",
       "      <td>Your Name</td>\n",
       "      <td>Ryunosuke Kamiki</td>\n",
       "    </tr>\n",
       "    <tr>\n",
       "      <th>514</th>\n",
       "      <td>Zhang Yimou's To Live</td>\n",
       "      <td>Ge You</td>\n",
       "    </tr>\n",
       "    <tr>\n",
       "      <th>515</th>\n",
       "      <td>Zindagi Na Milegi Dobara</td>\n",
       "      <td>Hrithik Roshan</td>\n",
       "    </tr>\n",
       "    <tr>\n",
       "      <th>516</th>\n",
       "      <td>Zootopia</td>\n",
       "      <td>Ginnifer Goodwin</td>\n",
       "    </tr>\n",
       "  </tbody>\n",
       "</table>\n",
       "<p>517 rows × 2 columns</p>\n",
       "</div>"
      ]
     },
     "execution_count": 48,
     "metadata": {},
     "output_type": "execute_result"
    }
   ],
   "execution_count": 48
  },
  {
   "metadata": {
    "ExecuteTime": {
     "end_time": "2025-08-24T11:55:15.219558Z",
     "start_time": "2025-08-24T11:55:15.211103Z"
    }
   },
   "cell_type": "code",
   "source": [
    "# Convert dataframe to series using squeeze() or iloc[:, col_index]\n",
    "movies_series = pd.read_csv('top_500_movies.csv', index_col=0).squeeze()\n",
    "print(type(movies_series))  # it returns a series object .\n",
    "print(movies_series)"
   ],
   "outputs": [
    {
     "name": "stdout",
     "output_type": "stream",
     "text": [
      "<class 'pandas.core.series.Series'>\n",
      "Movie Name\n",
      "12 Angry Men                         Henry Fonda\n",
      "12 Monkeys                          Bruce Willis\n",
      "3 Idiots                              Aamir Khan\n",
      "8½                          Marcello Mastroianni\n",
      "A Better Tomorrow                   Chow Yun-fat\n",
      "                                    ...         \n",
      "You Only Live Twice                 Sean Connery\n",
      "Your Name                       Ryunosuke Kamiki\n",
      "Zhang Yimou's To Live                     Ge You\n",
      "Zindagi Na Milegi Dobara          Hrithik Roshan\n",
      "Zootopia                        Ginnifer Goodwin\n",
      "Name: Main Lead, Length: 517, dtype: object\n"
     ]
    }
   ],
   "execution_count": 49
  },
  {
   "metadata": {
    "ExecuteTime": {
     "end_time": "2025-08-24T11:55:15.549835Z",
     "start_time": "2025-08-24T11:55:15.543448Z"
    }
   },
   "cell_type": "code",
   "source": [
    "movies_series_using_iloc = pd.read_csv('top_500_movies.csv', index_col=0).iloc[:, 0]\n",
    "print(type(movies_series))  # it returns a series object .\n",
    "print(movies_series)"
   ],
   "outputs": [
    {
     "name": "stdout",
     "output_type": "stream",
     "text": [
      "<class 'pandas.core.series.Series'>\n",
      "Movie Name\n",
      "12 Angry Men                         Henry Fonda\n",
      "12 Monkeys                          Bruce Willis\n",
      "3 Idiots                              Aamir Khan\n",
      "8½                          Marcello Mastroianni\n",
      "A Better Tomorrow                   Chow Yun-fat\n",
      "                                    ...         \n",
      "You Only Live Twice                 Sean Connery\n",
      "Your Name                       Ryunosuke Kamiki\n",
      "Zhang Yimou's To Live                     Ge You\n",
      "Zindagi Na Milegi Dobara          Hrithik Roshan\n",
      "Zootopia                        Ginnifer Goodwin\n",
      "Name: Main Lead, Length: 517, dtype: object\n"
     ]
    }
   ],
   "execution_count": 50
  },
  {
   "metadata": {
    "ExecuteTime": {
     "end_time": "2025-08-24T11:55:16.539787Z",
     "start_time": "2025-08-24T11:55:16.531867Z"
    }
   },
   "cell_type": "code",
   "source": "movies_series",
   "outputs": [
    {
     "data": {
      "text/plain": [
       "Movie Name\n",
       "12 Angry Men                         Henry Fonda\n",
       "12 Monkeys                          Bruce Willis\n",
       "3 Idiots                              Aamir Khan\n",
       "8½                          Marcello Mastroianni\n",
       "A Better Tomorrow                   Chow Yun-fat\n",
       "                                    ...         \n",
       "You Only Live Twice                 Sean Connery\n",
       "Your Name                       Ryunosuke Kamiki\n",
       "Zhang Yimou's To Live                     Ge You\n",
       "Zindagi Na Milegi Dobara          Hrithik Roshan\n",
       "Zootopia                        Ginnifer Goodwin\n",
       "Name: Main Lead, Length: 517, dtype: object"
      ]
     },
     "execution_count": 51,
     "metadata": {},
     "output_type": "execute_result"
    }
   ],
   "execution_count": 51
  },
  {
   "metadata": {},
   "cell_type": "markdown",
   "source": "- So we have used open_csv to read a csv file and convert it into a series object , that is not its default behaviour ."
  },
  {
   "metadata": {},
   "cell_type": "markdown",
   "source": "### Series methods"
  },
  {
   "metadata": {},
   "cell_type": "markdown",
   "source": [
    "`head and tail`\n",
    "- They are used to get a quick overview of the data ."
   ]
  },
  {
   "metadata": {
    "ExecuteTime": {
     "end_time": "2025-08-23T14:23:44.829054Z",
     "start_time": "2025-08-23T14:23:44.820279Z"
    }
   },
   "cell_type": "code",
   "source": "movies_series.head()    # by default it returns first 5 rows , we can also pass a number to it to get that many rows from top .",
   "outputs": [
    {
     "data": {
      "text/plain": [
       "Movie Name\n",
       "12 Angry Men                  Henry Fonda\n",
       "12 Monkeys                   Bruce Willis\n",
       "3 Idiots                       Aamir Khan\n",
       "8½                   Marcello Mastroianni\n",
       "A Better Tomorrow            Chow Yun-fat\n",
       "Name: Main Lead, dtype: object"
      ]
     },
     "execution_count": 63,
     "metadata": {},
     "output_type": "execute_result"
    }
   ],
   "execution_count": 63
  },
  {
   "metadata": {
    "ExecuteTime": {
     "end_time": "2025-08-23T14:23:45.352329Z",
     "start_time": "2025-08-23T14:23:45.343345Z"
    }
   },
   "cell_type": "code",
   "source": "movies_series.head(8)",
   "outputs": [
    {
     "data": {
      "text/plain": [
       "Movie Name\n",
       "12 Angry Men                      Henry Fonda\n",
       "12 Monkeys                       Bruce Willis\n",
       "3 Idiots                           Aamir Khan\n",
       "8½                       Marcello Mastroianni\n",
       "A Better Tomorrow                Chow Yun-fat\n",
       "A Brighter Summer Day              Chang Chen\n",
       "A City of Sadness         Tony Leung Chiu-wai\n",
       "A Prophet                         Tahar Rahim\n",
       "Name: Main Lead, dtype: object"
      ]
     },
     "execution_count": 64,
     "metadata": {},
     "output_type": "execute_result"
    }
   ],
   "execution_count": 64
  },
  {
   "metadata": {
    "ExecuteTime": {
     "end_time": "2025-08-23T14:23:46.331476Z",
     "start_time": "2025-08-23T14:23:46.321763Z"
    }
   },
   "cell_type": "code",
   "source": "movies_series.tail()    # by default it returns last 5 rows , we can also pass a number to it to get that many rows from bottom .",
   "outputs": [
    {
     "data": {
      "text/plain": [
       "Movie Name\n",
       "You Only Live Twice             Sean Connery\n",
       "Your Name                   Ryunosuke Kamiki\n",
       "Zhang Yimou's To Live                 Ge You\n",
       "Zindagi Na Milegi Dobara      Hrithik Roshan\n",
       "Zootopia                    Ginnifer Goodwin\n",
       "Name: Main Lead, dtype: object"
      ]
     },
     "execution_count": 65,
     "metadata": {},
     "output_type": "execute_result"
    }
   ],
   "execution_count": 65
  },
  {
   "metadata": {},
   "cell_type": "markdown",
   "source": [
    "`sample`\n",
    "- it is used to get a random sample of items from an axis of object when there is some bias in the data ."
   ]
  },
  {
   "metadata": {
    "ExecuteTime": {
     "end_time": "2025-08-23T14:23:49.981788Z",
     "start_time": "2025-08-23T14:23:49.970401Z"
    }
   },
   "cell_type": "code",
   "source": "movies_series.sample()  # it returns a random row from the series , here also we can pass a number to it to get that many random rows .",
   "outputs": [
    {
     "data": {
      "text/plain": [
       "Movie Name\n",
       "Blue Is the Warmest Colour    Adèle Exarchopoulos\n",
       "Name: Main Lead, dtype: object"
      ]
     },
     "execution_count": 66,
     "metadata": {},
     "output_type": "execute_result"
    }
   ],
   "execution_count": 66
  },
  {
   "metadata": {},
   "cell_type": "markdown",
   "source": [
    "`value_counts`\n",
    "- It helps to get a count of unique values in the series , basically frequency of unique values in the series .\n"
   ]
  },
  {
   "metadata": {
    "ExecuteTime": {
     "end_time": "2025-08-23T14:23:51.711693Z",
     "start_time": "2025-08-23T14:23:51.701747Z"
    }
   },
   "cell_type": "code",
   "source": "movies_series.value_counts()",
   "outputs": [
    {
     "data": {
      "text/plain": [
       "Main Lead\n",
       "Tom Cruise           10\n",
       "Leonardo DiCaprio     9\n",
       "Shah Rukh Khan        8\n",
       "Keanu Reeves          7\n",
       "Brad Pitt             7\n",
       "                     ..\n",
       "Chris Hemsworth       1\n",
       "Ibrahim Ahmed         1\n",
       "Tahar Rahim           1\n",
       "Audrey Tautou         1\n",
       "Chishu Ryu            1\n",
       "Name: count, Length: 328, dtype: int64"
      ]
     },
     "execution_count": 67,
     "metadata": {},
     "output_type": "execute_result"
    }
   ],
   "execution_count": 67
  },
  {
   "metadata": {},
   "cell_type": "markdown",
   "source": [
    "`sort_values`\n",
    "- It helps to sort the series values in ascending or descending order ."
   ]
  },
  {
   "metadata": {
    "ExecuteTime": {
     "end_time": "2025-08-23T14:23:53.536126Z",
     "start_time": "2025-08-23T14:23:53.526764Z"
    }
   },
   "cell_type": "code",
   "source": "movies_series.sort_values(ascending= False)   # by default, it sorts in ascending order , here we have set this to false for sorting in descending order .",
   "outputs": [
    {
     "data": {
      "text/plain": [
       "Movie Name\n",
       "Ash Is Purest White               Zhao Tao\n",
       "Princess Mononoke             Yōji Matsuda\n",
       "Cinema of Greece: Z (1969)    Yves Montand\n",
       "Nobody Knows                   Yuya Yagira\n",
       "Burning                          Yoo Ah-in\n",
       "                                  ...     \n",
       "PK                              Aamir Khan\n",
       "Lagaan                          Aamir Khan\n",
       "Andaz Apna Apna                 Aamir Khan\n",
       "3 Idiots                        Aamir Khan\n",
       "Dangal                          Aamir Khan\n",
       "Name: Main Lead, Length: 517, dtype: object"
      ]
     },
     "execution_count": 68,
     "metadata": {},
     "output_type": "execute_result"
    }
   ],
   "execution_count": 68
  },
  {
   "metadata": {
    "ExecuteTime": {
     "end_time": "2025-08-23T14:23:55.364735Z",
     "start_time": "2025-08-23T14:23:55.357979Z"
    }
   },
   "cell_type": "code",
   "source": [
    "VK.sort_values(ascending=False).head(1).values[0]       # This is known as method chaining , where we use multiple methods in a single line of code .\n",
    "# this gives the maximum runs scored by Virat in an IPL match ."
   ],
   "outputs": [
    {
     "data": {
      "text/plain": [
       "np.int64(113)"
      ]
     },
     "execution_count": 69,
     "metadata": {},
     "output_type": "execute_result"
    }
   ],
   "execution_count": 69
  },
  {
   "metadata": {
    "ExecuteTime": {
     "end_time": "2025-08-23T14:23:56.506142Z",
     "start_time": "2025-08-23T14:23:56.500600Z"
    }
   },
   "cell_type": "code",
   "source": "movies_series.sort_index(ascending=False , inplace=True)    # this will sort the series based on its index labels in descending order and make it permanent using inplace = True argument .",
   "outputs": [],
   "execution_count": 70
  },
  {
   "metadata": {
    "ExecuteTime": {
     "end_time": "2025-08-23T14:23:57.243114Z",
     "start_time": "2025-08-23T14:23:57.231717Z"
    }
   },
   "cell_type": "code",
   "source": [
    "VK.sort_values(ascending= False)    # this is a temporary sorting , it does not change the original series object .\n",
    "# To make it permanent we can use inplace = True argument ."
   ],
   "outputs": [
    {
     "data": {
      "text/plain": [
       "match_no\n",
       "128    113\n",
       "126    109\n",
       "123    108\n",
       "120    100\n",
       "164    100\n",
       "      ... \n",
       "93       0\n",
       "130      0\n",
       "206      0\n",
       "207      0\n",
       "211      0\n",
       "Name: runs, Length: 215, dtype: int64"
      ]
     },
     "execution_count": 71,
     "metadata": {},
     "output_type": "execute_result"
    }
   ],
   "execution_count": 71
  },
  {
   "metadata": {
    "ExecuteTime": {
     "end_time": "2025-08-23T14:23:58.014195Z",
     "start_time": "2025-08-23T14:23:58.004292Z"
    }
   },
   "cell_type": "code",
   "source": [
    "VK = VK.sort_values(ascending= False)       # this is the correct way to make the sorting permanent .\n",
    "VK"
   ],
   "outputs": [
    {
     "data": {
      "text/plain": [
       "match_no\n",
       "128    113\n",
       "126    109\n",
       "123    108\n",
       "120    100\n",
       "164    100\n",
       "      ... \n",
       "93       0\n",
       "130      0\n",
       "206      0\n",
       "207      0\n",
       "211      0\n",
       "Name: runs, Length: 215, dtype: int64"
      ]
     },
     "execution_count": 72,
     "metadata": {},
     "output_type": "execute_result"
    }
   ],
   "execution_count": 72
  },
  {
   "metadata": {
    "ExecuteTime": {
     "end_time": "2025-08-23T14:23:59.446030Z",
     "start_time": "2025-08-23T14:23:59.436222Z"
    }
   },
   "cell_type": "code",
   "source": "VK",
   "outputs": [
    {
     "data": {
      "text/plain": [
       "match_no\n",
       "128    113\n",
       "126    109\n",
       "123    108\n",
       "120    100\n",
       "164    100\n",
       "      ... \n",
       "93       0\n",
       "130      0\n",
       "206      0\n",
       "207      0\n",
       "211      0\n",
       "Name: runs, Length: 215, dtype: int64"
      ]
     },
     "execution_count": 73,
     "metadata": {},
     "output_type": "execute_result"
    }
   ],
   "execution_count": 73
  },
  {
   "metadata": {},
   "cell_type": "markdown",
   "source": [
    "`sort_index`\n",
    "- It helps to sort the series based on its index labels ."
   ]
  },
  {
   "metadata": {
    "ExecuteTime": {
     "end_time": "2025-08-23T14:24:02.107693Z",
     "start_time": "2025-08-23T14:24:02.101020Z"
    }
   },
   "cell_type": "code",
   "source": [
    "VK.sort_values(inplace=True , ascending= False)\n",
    "# This line attempts to sort the VK Series in place, but the inplace parameter is deprecated for pandas Series. It will raise an error in recent pandas versions. Use assignment instead."
   ],
   "outputs": [],
   "execution_count": 74
  },
  {
   "metadata": {},
   "cell_type": "markdown",
   "source": "- Be careful while using inplace = True argument as it modifies the original series object and this operation is irreversible ."
  },
  {
   "metadata": {},
   "cell_type": "markdown",
   "source": "### Series Maths Methods"
  },
  {
   "metadata": {},
   "cell_type": "markdown",
   "source": [
    "`count()`\n",
    "- It returns the count of non-null values in the series , while in numpy we use .size to get the count of all values including null values ."
   ]
  },
  {
   "metadata": {},
   "cell_type": "markdown",
   "source": [
    "`sum() and prod()`\n",
    "- sum() : returns the sum of all non-null values in the series .\n",
    "- prod() : returns the product of all non-null values in the series ."
   ]
  },
  {
   "metadata": {
    "ExecuteTime": {
     "end_time": "2025-08-23T14:24:06.584309Z",
     "start_time": "2025-08-23T14:24:06.573094Z"
    }
   },
   "cell_type": "code",
   "source": "VK.count()",
   "outputs": [
    {
     "data": {
      "text/plain": [
       "np.int64(215)"
      ]
     },
     "execution_count": 75,
     "metadata": {},
     "output_type": "execute_result"
    }
   ],
   "execution_count": 75
  },
  {
   "metadata": {
    "ExecuteTime": {
     "end_time": "2025-08-23T14:24:07.363956Z",
     "start_time": "2025-08-23T14:24:07.357724Z"
    }
   },
   "cell_type": "code",
   "source": "VK.sum()",
   "outputs": [
    {
     "data": {
      "text/plain": [
       "np.int64(6634)"
      ]
     },
     "execution_count": 76,
     "metadata": {},
     "output_type": "execute_result"
    }
   ],
   "execution_count": 76
  },
  {
   "metadata": {
    "ExecuteTime": {
     "end_time": "2025-08-23T14:24:08.024310Z",
     "start_time": "2025-08-23T14:24:08.015910Z"
    }
   },
   "cell_type": "code",
   "source": "VK.prod()",
   "outputs": [
    {
     "data": {
      "text/plain": [
       "np.int64(0)"
      ]
     },
     "execution_count": 77,
     "metadata": {},
     "output_type": "execute_result"
    }
   ],
   "execution_count": 77
  },
  {
   "metadata": {},
   "cell_type": "markdown",
   "source": "`mean() , median() , mode() , std() and var()`"
  },
  {
   "metadata": {
    "ExecuteTime": {
     "end_time": "2025-08-23T14:24:11.157485Z",
     "start_time": "2025-08-23T14:24:11.145473Z"
    }
   },
   "cell_type": "code",
   "source": [
    "print(VK.mean())\n",
    "print(VK.median())\n",
    "print(VK.mode())    # it returns a series object containing all the modes in the series .\n",
    "print(movies_series.mode())   # here we have multiple modes in the series .\n",
    "print(VK.std())\n",
    "print(VK.var())"
   ],
   "outputs": [
    {
     "name": "stdout",
     "output_type": "stream",
     "text": [
      "30.855813953488372\n",
      "24.0\n",
      "0    0\n",
      "Name: runs, dtype: int64\n",
      "0    Tom Cruise\n",
      "Name: Main Lead, dtype: object\n",
      "26.22980132830278\n",
      "688.0024777222343\n"
     ]
    }
   ],
   "execution_count": 78
  },
  {
   "metadata": {},
   "cell_type": "markdown",
   "source": [
    "`min() and max()`\n",
    "- min() : returns the minimum value in the series .\n",
    "- max() : returns the maximum value in the series ."
   ]
  },
  {
   "metadata": {
    "ExecuteTime": {
     "end_time": "2025-08-23T14:24:16.307214Z",
     "start_time": "2025-08-23T14:24:16.300298Z"
    }
   },
   "cell_type": "code",
   "source": [
    "print(VK.min())\n",
    "print(VK.max())"
   ],
   "outputs": [
    {
     "name": "stdout",
     "output_type": "stream",
     "text": [
      "0\n",
      "113\n"
     ]
    }
   ],
   "execution_count": 79
  },
  {
   "metadata": {},
   "cell_type": "markdown",
   "source": [
    "`describe()`\n",
    "- It returns a summary of multiple maths methods at once ."
   ]
  },
  {
   "metadata": {
    "ExecuteTime": {
     "end_time": "2025-08-23T14:24:28.207159Z",
     "start_time": "2025-08-23T14:24:28.191901Z"
    }
   },
   "cell_type": "code",
   "source": "VK.describe()",
   "outputs": [
    {
     "data": {
      "text/plain": [
       "count    215.000000\n",
       "mean      30.855814\n",
       "std       26.229801\n",
       "min        0.000000\n",
       "25%        9.000000\n",
       "50%       24.000000\n",
       "75%       48.000000\n",
       "max      113.000000\n",
       "Name: runs, dtype: float64"
      ]
     },
     "execution_count": 80,
     "metadata": {},
     "output_type": "execute_result"
    }
   ],
   "execution_count": 80
  },
  {
   "metadata": {},
   "cell_type": "markdown",
   "source": [
    "### Series Indexing\n",
    "- integer indexing"
   ]
  },
  {
   "metadata": {
    "ExecuteTime": {
     "end_time": "2025-08-23T14:24:31.053251Z",
     "start_time": "2025-08-23T14:24:31.045471Z"
    }
   },
   "cell_type": "code",
   "source": [
    "x = pd.Series([12,13,14,35,46,57,58,79,9])\n",
    "# positive indexing\n",
    "x[2]"
   ],
   "outputs": [
    {
     "data": {
      "text/plain": [
       "np.int64(14)"
      ]
     },
     "execution_count": 81,
     "metadata": {},
     "output_type": "execute_result"
    }
   ],
   "execution_count": 81
  },
  {
   "metadata": {},
   "cell_type": "code",
   "source": [
    "# negative indexing\n",
    "x[-2]"
   ],
   "outputs": [],
   "execution_count": null
  },
  {
   "metadata": {},
   "cell_type": "markdown",
   "source": "- Negative indexing does not work in pandas series as it does in numpy arrays and python lists , we can use .iloc attribute to access elements using negative indexing ."
  },
  {
   "metadata": {
    "ExecuteTime": {
     "end_time": "2025-08-23T14:24:47.939545Z",
     "start_time": "2025-08-23T14:24:47.930595Z"
    }
   },
   "cell_type": "code",
   "source": "x.iloc[-2]",
   "outputs": [
    {
     "data": {
      "text/plain": [
       "np.int64(79)"
      ]
     },
     "execution_count": 83,
     "metadata": {},
     "output_type": "execute_result"
    }
   ],
   "execution_count": 83
  },
  {
   "metadata": {
    "ExecuteTime": {
     "end_time": "2025-08-23T14:24:48.663309Z",
     "start_time": "2025-08-23T14:24:48.650643Z"
    }
   },
   "cell_type": "code",
   "source": "movies.iloc[0] # iloc is used for integer based indexing , it stands for integer location .",
   "outputs": [
    {
     "data": {
      "text/plain": [
       "Movie Name    12 Angry Men\n",
       "Main Lead      Henry Fonda\n",
       "Name: 0, dtype: object"
      ]
     },
     "execution_count": 84,
     "metadata": {},
     "output_type": "execute_result"
    }
   ],
   "execution_count": 84
  },
  {
   "metadata": {
    "ExecuteTime": {
     "end_time": "2025-08-23T14:24:50.244442Z",
     "start_time": "2025-08-23T14:24:50.236772Z"
    }
   },
   "cell_type": "code",
   "source": "movies_series.iloc[-3]",
   "outputs": [
    {
     "data": {
      "text/plain": [
       "'Aamir Khan'"
      ]
     },
     "execution_count": 85,
     "metadata": {},
     "output_type": "execute_result"
    }
   ],
   "execution_count": 85
  },
  {
   "metadata": {
    "ExecuteTime": {
     "end_time": "2025-08-23T14:24:50.920633Z",
     "start_time": "2025-08-23T14:24:50.911488Z"
    }
   },
   "cell_type": "code",
   "source": "movies_series['3 Idiots']",
   "outputs": [
    {
     "data": {
      "text/plain": [
       "'Aamir Khan'"
      ]
     },
     "execution_count": 86,
     "metadata": {},
     "output_type": "execute_result"
    }
   ],
   "execution_count": 86
  },
  {
   "metadata": {},
   "cell_type": "markdown",
   "source": "### Series slicing"
  },
  {
   "metadata": {
    "ExecuteTime": {
     "end_time": "2025-08-23T14:24:56.020161Z",
     "start_time": "2025-08-23T14:24:56.012309Z"
    }
   },
   "cell_type": "code",
   "source": "VK[5:11]",
   "outputs": [
    {
     "data": {
      "text/plain": [
       "match_no\n",
       "82     99\n",
       "81     93\n",
       "145    92\n",
       "178    90\n",
       "160    84\n",
       "110    82\n",
       "Name: runs, dtype: int64"
      ]
     },
     "execution_count": 87,
     "metadata": {},
     "output_type": "execute_result"
    }
   ],
   "execution_count": 87
  },
  {
   "metadata": {
    "ExecuteTime": {
     "end_time": "2025-08-23T14:25:03.184474Z",
     "start_time": "2025-08-23T14:25:03.174347Z"
    }
   },
   "cell_type": "code",
   "source": "VK[::50]",
   "outputs": [
    {
     "data": {
      "text/plain": [
       "match_no\n",
       "128    113\n",
       "86      49\n",
       "47      27\n",
       "201     12\n",
       "113      1\n",
       "Name: runs, dtype: int64"
      ]
     },
     "execution_count": 89,
     "metadata": {},
     "output_type": "execute_result"
    }
   ],
   "execution_count": 89
  },
  {
   "metadata": {
    "ExecuteTime": {
     "end_time": "2025-08-23T14:25:07.870025Z",
     "start_time": "2025-08-23T14:25:07.861629Z"
    }
   },
   "cell_type": "code",
   "source": "VK[-7:]",
   "outputs": [
    {
     "data": {
      "text/plain": [
       "match_no\n",
       "135    0\n",
       "91     0\n",
       "93     0\n",
       "130    0\n",
       "206    0\n",
       "207    0\n",
       "211    0\n",
       "Name: runs, dtype: int64"
      ]
     },
     "execution_count": 90,
     "metadata": {},
     "output_type": "execute_result"
    }
   ],
   "execution_count": 90
  },
  {
   "metadata": {},
   "cell_type": "markdown",
   "source": "### fancy indexing in series"
  },
  {
   "metadata": {
    "ExecuteTime": {
     "end_time": "2025-08-23T14:25:11.907248Z",
     "start_time": "2025-08-23T14:25:11.894621Z"
    }
   },
   "cell_type": "code",
   "source": "VK[[1,2,7,5,12,37,39]]",
   "outputs": [
    {
     "data": {
      "text/plain": [
       "match_no\n",
       "1      1\n",
       "2     23\n",
       "7     34\n",
       "5      1\n",
       "12    38\n",
       "37    37\n",
       "39    23\n",
       "Name: runs, dtype: int64"
      ]
     },
     "execution_count": 91,
     "metadata": {},
     "output_type": "execute_result"
    }
   ],
   "execution_count": 91
  },
  {
   "metadata": {
    "ExecuteTime": {
     "end_time": "2025-08-23T14:25:13.448966Z",
     "start_time": "2025-08-23T14:25:13.433592Z"
    }
   },
   "cell_type": "code",
   "source": "type(movies)",
   "outputs": [
    {
     "data": {
      "text/plain": [
       "pandas.core.frame.DataFrame"
      ]
     },
     "execution_count": 92,
     "metadata": {},
     "output_type": "execute_result"
    }
   ],
   "execution_count": 92
  },
  {
   "metadata": {},
   "cell_type": "code",
   "source": [
    "movies['3 Idiots']\n",
    "# not working because it is a dataframe not a series ."
   ],
   "outputs": [],
   "execution_count": null
  },
  {
   "metadata": {
    "ExecuteTime": {
     "end_time": "2025-08-23T14:25:15.700944Z",
     "start_time": "2025-08-23T14:25:15.696121Z"
    }
   },
   "cell_type": "code",
   "source": [
    "# indexing with label , here label means custom index of the series object .\n",
    "movies_series['John Wick: Chapter 2']"
   ],
   "outputs": [
    {
     "data": {
      "text/plain": [
       "'Keanu Reeves'"
      ]
     },
     "execution_count": 94,
     "metadata": {},
     "output_type": "execute_result"
    }
   ],
   "execution_count": 94
  },
  {
   "metadata": {},
   "cell_type": "markdown",
   "source": "### Editing Series"
  },
  {
   "metadata": {
    "ExecuteTime": {
     "end_time": "2025-08-23T14:25:28.157388Z",
     "start_time": "2025-08-23T14:25:28.149433Z"
    }
   },
   "cell_type": "code",
   "source": "std",
   "outputs": [
    {
     "data": {
      "text/plain": [
       "students\n",
       "alice       56\n",
       "James       77\n",
       "Rahul       55\n",
       "Arjun       78\n",
       "shantanu    67\n",
       "Yukti       56\n",
       "Name: weight of Students, dtype: int64"
      ]
     },
     "execution_count": 95,
     "metadata": {},
     "output_type": "execute_result"
    }
   ],
   "execution_count": 95
  },
  {
   "metadata": {
    "ExecuteTime": {
     "end_time": "2025-08-23T14:25:29.222198Z",
     "start_time": "2025-08-23T14:25:29.216425Z"
    }
   },
   "cell_type": "code",
   "source": "std.iloc[0] = 86",
   "outputs": [],
   "execution_count": 96
  },
  {
   "metadata": {
    "ExecuteTime": {
     "end_time": "2025-08-23T14:25:29.805338Z",
     "start_time": "2025-08-23T14:25:29.798231Z"
    }
   },
   "cell_type": "code",
   "source": "std",
   "outputs": [
    {
     "data": {
      "text/plain": [
       "students\n",
       "alice       86\n",
       "James       77\n",
       "Rahul       55\n",
       "Arjun       78\n",
       "shantanu    67\n",
       "Yukti       56\n",
       "Name: weight of Students, dtype: int64"
      ]
     },
     "execution_count": 97,
     "metadata": {},
     "output_type": "execute_result"
    }
   ],
   "execution_count": 97
  },
  {
   "metadata": {
    "ExecuteTime": {
     "end_time": "2025-08-23T14:25:30.745417Z",
     "start_time": "2025-08-23T14:25:30.739635Z"
    }
   },
   "cell_type": "code",
   "source": "std['shantanu'] = 71",
   "outputs": [],
   "execution_count": 98
  },
  {
   "metadata": {
    "ExecuteTime": {
     "end_time": "2025-08-23T14:25:31.577269Z",
     "start_time": "2025-08-23T14:25:31.569910Z"
    }
   },
   "cell_type": "code",
   "source": "std",
   "outputs": [
    {
     "data": {
      "text/plain": [
       "students\n",
       "alice       86\n",
       "James       77\n",
       "Rahul       55\n",
       "Arjun       78\n",
       "shantanu    71\n",
       "Yukti       56\n",
       "Name: weight of Students, dtype: int64"
      ]
     },
     "execution_count": 99,
     "metadata": {},
     "output_type": "execute_result"
    }
   ],
   "execution_count": 99
  },
  {
   "metadata": {
    "ExecuteTime": {
     "end_time": "2025-08-23T14:25:32.863158Z",
     "start_time": "2025-08-23T14:25:32.857027Z"
    }
   },
   "cell_type": "code",
   "source": [
    "# what if an index does not exist\n",
    "std['eve'] = 90"
   ],
   "outputs": [],
   "execution_count": 100
  },
  {
   "metadata": {
    "ExecuteTime": {
     "end_time": "2025-08-23T14:25:33.760776Z",
     "start_time": "2025-08-23T14:25:33.754323Z"
    }
   },
   "cell_type": "code",
   "source": "std",
   "outputs": [
    {
     "data": {
      "text/plain": [
       "students\n",
       "alice       86\n",
       "James       77\n",
       "Rahul       55\n",
       "Arjun       78\n",
       "shantanu    71\n",
       "Yukti       56\n",
       "eve         90\n",
       "Name: weight of Students, dtype: int64"
      ]
     },
     "execution_count": 101,
     "metadata": {},
     "output_type": "execute_result"
    }
   ],
   "execution_count": 101
  },
  {
   "metadata": {
    "ExecuteTime": {
     "end_time": "2025-08-23T14:25:34.875192Z",
     "start_time": "2025-08-23T14:25:34.870796Z"
    }
   },
   "cell_type": "code",
   "source": [
    "# Then a new index is created with the given value .\n",
    "# if we read like std['emma'] it will give an error as there is no index named emma in the series , whereas std['eve'] = 90 created a new index eve in the series ."
   ],
   "outputs": [],
   "execution_count": 102
  },
  {
   "metadata": {
    "ExecuteTime": {
     "end_time": "2025-08-23T14:25:35.587131Z",
     "start_time": "2025-08-23T14:25:35.582319Z"
    }
   },
   "cell_type": "code",
   "source": [
    "# we can also use slicing to edit multiple values at once .\n",
    "a = pd.Series([12,35,76,23,97,35,64])"
   ],
   "outputs": [],
   "execution_count": 103
  },
  {
   "metadata": {
    "ExecuteTime": {
     "end_time": "2025-08-23T14:25:36.241725Z",
     "start_time": "2025-08-23T14:25:36.236672Z"
    }
   },
   "cell_type": "code",
   "source": "a[0:2] = 100",
   "outputs": [],
   "execution_count": 104
  },
  {
   "metadata": {
    "ExecuteTime": {
     "end_time": "2025-08-23T14:25:36.967648Z",
     "start_time": "2025-08-23T14:25:36.962167Z"
    }
   },
   "cell_type": "code",
   "source": "a",
   "outputs": [
    {
     "data": {
      "text/plain": [
       "0    100\n",
       "1    100\n",
       "2     76\n",
       "3     23\n",
       "4     97\n",
       "5     35\n",
       "6     64\n",
       "dtype: int64"
      ]
     },
     "execution_count": 105,
     "metadata": {},
     "output_type": "execute_result"
    }
   ],
   "execution_count": 105
  },
  {
   "metadata": {
    "ExecuteTime": {
     "end_time": "2025-08-23T14:25:37.704101Z",
     "start_time": "2025-08-23T14:25:37.698243Z"
    }
   },
   "cell_type": "code",
   "source": "a[0::2] = 50",
   "outputs": [],
   "execution_count": 106
  },
  {
   "metadata": {
    "ExecuteTime": {
     "end_time": "2025-08-23T14:25:38.129192Z",
     "start_time": "2025-08-23T14:25:38.120480Z"
    }
   },
   "cell_type": "code",
   "source": "a",
   "outputs": [
    {
     "data": {
      "text/plain": [
       "0     50\n",
       "1    100\n",
       "2     50\n",
       "3     23\n",
       "4     50\n",
       "5     35\n",
       "6     50\n",
       "dtype: int64"
      ]
     },
     "execution_count": 107,
     "metadata": {},
     "output_type": "execute_result"
    }
   ],
   "execution_count": 107
  },
  {
   "metadata": {
    "ExecuteTime": {
     "end_time": "2025-08-23T14:25:38.820586Z",
     "start_time": "2025-08-23T14:25:38.815316Z"
    }
   },
   "cell_type": "code",
   "source": "a[0:3] = [67,77,87]",
   "outputs": [],
   "execution_count": 108
  },
  {
   "metadata": {
    "ExecuteTime": {
     "end_time": "2025-08-23T14:25:39.435646Z",
     "start_time": "2025-08-23T14:25:39.429723Z"
    }
   },
   "cell_type": "code",
   "source": "a",
   "outputs": [
    {
     "data": {
      "text/plain": [
       "0    67\n",
       "1    77\n",
       "2    87\n",
       "3    23\n",
       "4    50\n",
       "5    35\n",
       "6    50\n",
       "dtype: int64"
      ]
     },
     "execution_count": 109,
     "metadata": {},
     "output_type": "execute_result"
    }
   ],
   "execution_count": 109
  },
  {
   "metadata": {
    "ExecuteTime": {
     "end_time": "2025-08-23T14:25:40.601016Z",
     "start_time": "2025-08-23T14:25:40.596822Z"
    }
   },
   "cell_type": "code",
   "source": [
    "# fancy indexing also works\n",
    "a[[0,3,4]] = [52,312,653]"
   ],
   "outputs": [],
   "execution_count": 110
  },
  {
   "metadata": {
    "ExecuteTime": {
     "end_time": "2025-08-23T14:25:41.414383Z",
     "start_time": "2025-08-23T14:25:41.404959Z"
    }
   },
   "cell_type": "code",
   "source": "a",
   "outputs": [
    {
     "data": {
      "text/plain": [
       "0     52\n",
       "1     77\n",
       "2     87\n",
       "3    312\n",
       "4    653\n",
       "5     35\n",
       "6     50\n",
       "dtype: int64"
      ]
     },
     "execution_count": 111,
     "metadata": {},
     "output_type": "execute_result"
    }
   ],
   "execution_count": 111
  },
  {
   "metadata": {
    "ExecuteTime": {
     "end_time": "2025-08-23T14:25:42.530597Z",
     "start_time": "2025-08-23T14:25:42.522663Z"
    }
   },
   "cell_type": "code",
   "source": "movies_series.sample(10)",
   "outputs": [
    {
     "data": {
      "text/plain": [
       "Movie Name\n",
       "Kaho Naa... Pyaar Hai             Hrithik Roshan\n",
       "Rain Man                          Dustin Hoffman\n",
       "Psycho                           Anthony Perkins\n",
       "Room                                 Brie Larson\n",
       "Run Lola Run                      Franka Potente\n",
       "Goodfellas                            Ray Liotta\n",
       "Mission: Impossible – Fallout         Tom Cruise\n",
       "The Sea Inside                     Javier Bardem\n",
       "Raise the Red Lantern                    Gong Li\n",
       "The Salesman                     Shahab Hosseini\n",
       "Name: Main Lead, dtype: object"
      ]
     },
     "execution_count": 112,
     "metadata": {},
     "output_type": "execute_result"
    }
   ],
   "execution_count": 112
  },
  {
   "metadata": {
    "ExecuteTime": {
     "end_time": "2025-08-23T14:25:43.706249Z",
     "start_time": "2025-08-23T14:25:43.697594Z"
    }
   },
   "cell_type": "code",
   "source": [
    "# using index label\n",
    "movies_series['Bahubali: The Beginning'] = 'Anushka Shetty'\n",
    "movies_series['Bahubali: The Beginning']"
   ],
   "outputs": [
    {
     "data": {
      "text/plain": [
       "'Anushka Shetty'"
      ]
     },
     "execution_count": 113,
     "metadata": {},
     "output_type": "execute_result"
    }
   ],
   "execution_count": 113
  },
  {
   "metadata": {},
   "cell_type": "markdown",
   "source": "### Series with Python Functionalities"
  },
  {
   "metadata": {
    "ExecuteTime": {
     "end_time": "2025-08-23T14:26:03.053866Z",
     "start_time": "2025-08-23T14:26:03.046891Z"
    }
   },
   "cell_type": "code",
   "source": [
    "# len(): Returns the number of elements in the Series.\n",
    "print(len(VK) , \"\\n\")  # Example usage\n",
    "\n",
    "# type(): Returns the type of the object.\n",
    "print(type(VK) , \"\\n\")  # Example usage\n",
    "\n",
    "# dir(): Lists all attributes and methods of the object.\n",
    "print(dir(VK) , \"\\n\")  # Example usage\n",
    "\n",
    "# sorted(): Returns a sorted list of the Series values, as it gives output in the form of list , not a series object . hence we don't use sorted instead we use sort_values() method of series .\n",
    "print(sorted(VK) , \"\\n\")  # Example usage\n",
    "\n",
    "# min(): Returns the minimum value in the Series.\n",
    "print(min(VK) , \"\\n\")  # Example usage\n",
    "\n",
    "# max(): Returns the maximum value in the Series.\n",
    "print(max(VK) , \"\\n\")  # Example usage"
   ],
   "outputs": [
    {
     "name": "stdout",
     "output_type": "stream",
     "text": [
      "215 \n",
      "\n",
      "<class 'pandas.core.series.Series'> \n",
      "\n",
      "['T', '_AXIS_LEN', '_AXIS_ORDERS', '_AXIS_TO_AXIS_NUMBER', '_HANDLED_TYPES', '__abs__', '__add__', '__and__', '__annotations__', '__array__', '__array_priority__', '__array_ufunc__', '__bool__', '__class__', '__column_consortium_standard__', '__contains__', '__copy__', '__deepcopy__', '__delattr__', '__delitem__', '__dict__', '__dir__', '__divmod__', '__doc__', '__eq__', '__finalize__', '__firstlineno__', '__float__', '__floordiv__', '__format__', '__ge__', '__getattr__', '__getattribute__', '__getitem__', '__getstate__', '__gt__', '__hash__', '__iadd__', '__iand__', '__ifloordiv__', '__imod__', '__imul__', '__init__', '__init_subclass__', '__int__', '__invert__', '__ior__', '__ipow__', '__isub__', '__iter__', '__itruediv__', '__ixor__', '__le__', '__len__', '__lt__', '__matmul__', '__mod__', '__module__', '__mul__', '__ne__', '__neg__', '__new__', '__nonzero__', '__or__', '__pandas_priority__', '__pos__', '__pow__', '__radd__', '__rand__', '__rdivmod__', '__reduce__', '__reduce_ex__', '__repr__', '__rfloordiv__', '__rmatmul__', '__rmod__', '__rmul__', '__ror__', '__round__', '__rpow__', '__rsub__', '__rtruediv__', '__rxor__', '__setattr__', '__setitem__', '__setstate__', '__sizeof__', '__static_attributes__', '__str__', '__sub__', '__subclasshook__', '__truediv__', '__weakref__', '__xor__', '_accessors', '_accum_func', '_agg_examples_doc', '_agg_see_also_doc', '_align_for_op', '_align_frame', '_align_series', '_append', '_arith_method', '_as_manager', '_attrs', '_binop', '_can_hold_na', '_check_inplace_and_allows_duplicate_labels', '_check_is_chained_assignment_possible', '_check_label_or_level_ambiguity', '_check_setitem_copy', '_clear_item_cache', '_clip_with_one_bound', '_clip_with_scalar', '_cmp_method', '_consolidate', '_consolidate_inplace', '_construct_axes_dict', '_construct_result', '_constructor', '_constructor_expanddim', '_constructor_expanddim_from_mgr', '_constructor_from_mgr', '_data', '_deprecate_downcast', '_dir_additions', '_dir_deletions', '_drop_axis', '_drop_labels_or_levels', '_duplicated', '_find_valid_index', '_flags', '_flex_method', '_from_mgr', '_get_axis', '_get_axis_name', '_get_axis_number', '_get_axis_resolvers', '_get_block_manager_axis', '_get_bool_data', '_get_cacher', '_get_cleaned_column_resolvers', '_get_index_resolvers', '_get_label_or_level_values', '_get_numeric_data', '_get_rows_with_mask', '_get_value', '_get_values_tuple', '_get_with', '_getitem_slice', '_gotitem', '_hidden_attrs', '_indexed_same', '_info_axis', '_info_axis_name', '_info_axis_number', '_init_dict', '_init_mgr', '_inplace_method', '_internal_names', '_internal_names_set', '_is_cached', '_is_copy', '_is_label_or_level_reference', '_is_label_reference', '_is_level_reference', '_is_mixed_type', '_is_view', '_is_view_after_cow_rules', '_item_cache', '_ixs', '_logical_func', '_logical_method', '_map_values', '_maybe_update_cacher', '_memory_usage', '_metadata', '_mgr', '_min_count_stat_function', '_name', '_needs_reindex_multi', '_pad_or_backfill', '_protect_consolidate', '_reduce', '_references', '_reindex_axes', '_reindex_indexer', '_reindex_multi', '_reindex_with_indexers', '_rename', '_replace_single', '_repr_data_resource_', '_repr_latex_', '_reset_cache', '_reset_cacher', '_set_as_cached', '_set_axis', '_set_axis_name', '_set_axis_nocheck', '_set_is_copy', '_set_labels', '_set_name', '_set_value', '_set_values', '_set_with', '_set_with_engine', '_shift_with_freq', '_slice', '_stat_function', '_stat_function_ddof', '_take_with_is_copy', '_to_latex_via_styler', '_typ', '_update_inplace', '_validate_dtype', '_values', '_where', 'abs', 'add', 'add_prefix', 'add_suffix', 'agg', 'aggregate', 'align', 'all', 'any', 'apply', 'argmax', 'argmin', 'argsort', 'array', 'asfreq', 'asof', 'astype', 'at', 'at_time', 'attrs', 'autocorr', 'axes', 'backfill', 'between', 'between_time', 'bfill', 'bool', 'case_when', 'clip', 'combine', 'combine_first', 'compare', 'convert_dtypes', 'copy', 'corr', 'count', 'cov', 'cummax', 'cummin', 'cumprod', 'cumsum', 'describe', 'diff', 'div', 'divide', 'divmod', 'dot', 'drop', 'drop_duplicates', 'droplevel', 'dropna', 'dtype', 'dtypes', 'duplicated', 'empty', 'eq', 'equals', 'ewm', 'expanding', 'explode', 'factorize', 'ffill', 'fillna', 'filter', 'first', 'first_valid_index', 'flags', 'floordiv', 'ge', 'get', 'groupby', 'gt', 'hasnans', 'head', 'hist', 'iat', 'idxmax', 'idxmin', 'iloc', 'index', 'infer_objects', 'info', 'interpolate', 'is_monotonic_decreasing', 'is_monotonic_increasing', 'is_unique', 'isin', 'isna', 'isnull', 'item', 'items', 'keys', 'kurt', 'kurtosis', 'last', 'last_valid_index', 'le', 'list', 'loc', 'lt', 'map', 'mask', 'max', 'mean', 'median', 'memory_usage', 'min', 'mod', 'mode', 'mul', 'multiply', 'name', 'nbytes', 'ndim', 'ne', 'nlargest', 'notna', 'notnull', 'nsmallest', 'nunique', 'pad', 'pct_change', 'pipe', 'plot', 'pop', 'pow', 'prod', 'product', 'quantile', 'radd', 'rank', 'ravel', 'rdiv', 'rdivmod', 'reindex', 'reindex_like', 'rename', 'rename_axis', 'reorder_levels', 'repeat', 'replace', 'resample', 'reset_index', 'rfloordiv', 'rmod', 'rmul', 'rolling', 'round', 'rpow', 'rsub', 'rtruediv', 'sample', 'searchsorted', 'sem', 'set_axis', 'set_flags', 'shape', 'shift', 'size', 'skew', 'sort_index', 'sort_values', 'squeeze', 'std', 'struct', 'sub', 'subtract', 'sum', 'swapaxes', 'swaplevel', 'tail', 'take', 'to_clipboard', 'to_csv', 'to_dict', 'to_excel', 'to_frame', 'to_hdf', 'to_json', 'to_latex', 'to_list', 'to_markdown', 'to_numpy', 'to_period', 'to_pickle', 'to_sql', 'to_string', 'to_timestamp', 'to_xarray', 'transform', 'transpose', 'truediv', 'truncate', 'tz_convert', 'tz_localize', 'unique', 'unstack', 'update', 'value_counts', 'values', 'var', 'view', 'where', 'xs'] \n",
      "\n",
      "[0, 0, 0, 0, 0, 0, 0, 0, 0, 1, 1, 1, 1, 1, 1, 1, 1, 2, 2, 3, 3, 3, 3, 3, 4, 4, 4, 4, 4, 5, 5, 5, 5, 5, 6, 6, 6, 6, 7, 7, 7, 7, 8, 8, 8, 8, 8, 8, 9, 9, 9, 9, 9, 9, 9, 10, 10, 10, 11, 11, 11, 12, 12, 12, 12, 12, 12, 12, 12, 13, 13, 13, 13, 14, 14, 14, 14, 15, 15, 16, 16, 16, 16, 16, 17, 17, 18, 18, 18, 18, 19, 19, 19, 20, 20, 20, 20, 21, 21, 21, 22, 22, 23, 23, 23, 23, 24, 24, 24, 25, 25, 25, 25, 25, 27, 27, 27, 28, 29, 30, 30, 30, 31, 31, 31, 32, 32, 32, 33, 33, 33, 33, 34, 34, 34, 35, 35, 35, 35, 35, 35, 36, 37, 38, 38, 38, 38, 39, 39, 39, 41, 41, 41, 42, 42, 43, 43, 44, 45, 46, 48, 48, 48, 48, 49, 50, 50, 51, 51, 51, 52, 53, 54, 54, 55, 56, 56, 57, 57, 57, 58, 58, 58, 58, 62, 62, 64, 65, 67, 67, 67, 68, 70, 70, 71, 72, 72, 73, 73, 73, 75, 75, 79, 80, 82, 84, 90, 92, 93, 99, 100, 100, 108, 109, 113] \n",
      "\n",
      "0 \n",
      "\n",
      "113 \n",
      "\n"
     ]
    }
   ],
   "execution_count": 114
  },
  {
   "metadata": {},
   "cell_type": "markdown",
   "source": "type conversion"
  },
  {
   "metadata": {
    "ExecuteTime": {
     "end_time": "2025-08-23T14:26:10.285055Z",
     "start_time": "2025-08-23T14:26:10.278214Z"
    }
   },
   "cell_type": "code",
   "source": [
    "print(\"list : \", list(std),\"\\n\")\n",
    "print(\"Dictionary : \", dict(std),\"\\n\")"
   ],
   "outputs": [
    {
     "name": "stdout",
     "output_type": "stream",
     "text": [
      "list :  [86, 77, 55, 78, 71, 56, 90] \n",
      "\n",
      "Dictionary :  {'alice': np.int64(86), 'James': np.int64(77), 'Rahul': np.int64(55), 'Arjun': np.int64(78), 'shantanu': np.int64(71), 'Yukti': np.int64(56), 'eve': np.int64(90)} \n",
      "\n"
     ]
    }
   ],
   "execution_count": 115
  },
  {
   "metadata": {},
   "cell_type": "markdown",
   "source": [
    "membership operator\n",
    "- by default, it works indexes ."
   ]
  },
  {
   "metadata": {
    "ExecuteTime": {
     "end_time": "2025-08-23T14:26:12.956626Z",
     "start_time": "2025-08-23T14:26:12.946814Z"
    }
   },
   "cell_type": "code",
   "source": "'Gladiator' in movies_series",
   "outputs": [
    {
     "data": {
      "text/plain": [
       "True"
      ]
     },
     "execution_count": 116,
     "metadata": {},
     "output_type": "execute_result"
    }
   ],
   "execution_count": 116
  },
  {
   "metadata": {
    "ExecuteTime": {
     "end_time": "2025-08-23T14:26:13.563489Z",
     "start_time": "2025-08-23T14:26:13.557027Z"
    }
   },
   "cell_type": "code",
   "source": [
    "'Aamir Khan' in movies_series\n",
    "# false because it only searched on indexes ."
   ],
   "outputs": [
    {
     "data": {
      "text/plain": [
       "False"
      ]
     },
     "execution_count": 117,
     "metadata": {},
     "output_type": "execute_result"
    }
   ],
   "execution_count": 117
  },
  {
   "metadata": {
    "ExecuteTime": {
     "end_time": "2025-08-23T14:26:14.279832Z",
     "start_time": "2025-08-23T14:26:14.270932Z"
    }
   },
   "cell_type": "code",
   "source": [
    "# use .values to search on values .\n",
    "'Aamir Khan' in movies_series.values"
   ],
   "outputs": [
    {
     "data": {
      "text/plain": [
       "True"
      ]
     },
     "execution_count": 118,
     "metadata": {},
     "output_type": "execute_result"
    }
   ],
   "execution_count": 118
  },
  {
   "metadata": {},
   "cell_type": "markdown",
   "source": [
    "looping\n",
    "- by default it works on values"
   ]
  },
  {
   "metadata": {
    "ExecuteTime": {
     "end_time": "2025-08-23T14:26:15.912957Z",
     "start_time": "2025-08-23T14:26:15.899868Z"
    }
   },
   "cell_type": "code",
   "source": [
    "for i in movies_series:\n",
    "  print(i)"
   ],
   "outputs": [
    {
     "name": "stdout",
     "output_type": "stream",
     "text": [
      "Ginnifer Goodwin\n",
      "Hrithik Roshan\n",
      "Ge You\n",
      "Ryunosuke Kamiki\n",
      "Sean Connery\n",
      "Wu Nien-jen\n",
      "Gael García Bernal\n",
      "Brad Pitt\n",
      "Harrison Ford\n",
      "Haluk Bilginer\n",
      "Bruno Ganz\n",
      "Ricardo Darín\n",
      "Miles Teller\n",
      "Babak Ahmadpoor\n",
      "Kotaro Daigo\n",
      "Hrithik Roshan\n",
      "Ari Folman\n",
      "Ben Burtt\n",
      "Penélope Cruz\n",
      "Madhavan\n",
      "Laia Costa\n",
      "Scarlett Johansson\n",
      "James Stewart\n",
      "Shah Rukh Khan\n",
      "George Clooney\n",
      "Ed Asner\n",
      "Clint Eastwood\n",
      "Bruce Willis\n",
      "Presley Chweneyagae\n",
      "Christian Slater\n",
      "Brad Pitt\n",
      "Gong Yoo\n",
      "Tom Hanks\n",
      "Tom Hanks\n",
      "Arnold Schwarzenegger\n",
      "Tom Cruise\n",
      "Tom Cruise\n",
      "Dustin Hoffman\n",
      "Pierce Brosnan\n",
      "Chishu Ryu\n",
      "Ge You\n",
      "Leonardo DiCaprio\n",
      "Ibrahim Ahmed\n",
      "Sean Connery\n",
      "Chris Hemsworth\n",
      "Daniel Day-Lewis\n",
      "Pierce Brosnan\n",
      "Leonardo DiCaprio\n",
      "Cillian Murphy\n",
      "Christian Friedel\n",
      "Kwak Do-won\n",
      "Kevin Spacey\n",
      "Jim Carrey\n",
      "Ben Affleck\n",
      "David Bennent\n",
      "Arnold Schwarzenegger\n",
      "Ian Holm\n",
      "Robert Redford\n",
      "Claes Bang\n",
      "Roger Moore\n",
      "Jesse Eisenberg\n",
      "Bruce Willis\n",
      "Jodie Foster\n",
      "Jack Nicholson\n",
      "Tim Robbins\n",
      "Sally Hawkins\n",
      "Max von Sydow\n",
      "Dieter Berner\n",
      "Ricardo Darín\n",
      "Ricardo Darín\n",
      "Javier Bardem\n",
      "Shahab Hosseini\n",
      "Leonardo DiCaprio\n",
      "Vladimir Garin\n",
      "Helen Mirren\n",
      "Sandra Bullock\n",
      "Hugh Jackman\n",
      "Adrien Brody\n",
      "Belén Rueda\n",
      "Chris Sarandon\n",
      "Ahmed Marei\n",
      "Gael García Bernal\n",
      "Robert De Niro\n",
      "Keanu Reeves\n",
      "Matt Damon\n",
      "Won Bin\n",
      "Elijah Wood\n",
      "Elijah Wood\n",
      "Elijah Wood\n",
      "Colin Farrell\n",
      "Ulrich Mühe\n",
      "Jodi Benson\n",
      "Matthew Broderick\n",
      "John Lone\n",
      "Colin Firth\n",
      "Colin Farrell\n",
      "Neel Sethi\n",
      "Bruce Reitherman\n",
      "Robert De Niro\n",
      "François Cluzet\n",
      "Craig T. Nelson\n",
      "Benedict Cumberbatch\n",
      "Mads Mikkelsen\n",
      "Song Kang-ho\n",
      "Samuel L. Jackson\n",
      "Kim Min-hee\n",
      "Tom Hanks\n",
      "Charlie Chaplin\n",
      "Toni Servillo\n",
      "Ralph Fiennes\n",
      "Dustin Hoffman\n",
      "Clint Eastwood\n",
      "Al Pacino\n",
      "Marlon Brando\n",
      "Noomi Rapace\n",
      "Harrison Ford\n",
      "Gene Hackman\n",
      "Mark Wahlberg\n",
      "Olivia Colman\n",
      "Ellen Burstyn\n",
      "John Hurt\n",
      "Baki Davrak\n",
      "Mathieu Amalric\n",
      "Fernando Tielve\n",
      "Leonardo DiCaprio\n",
      "Christian Bale\n",
      "Christian Bale\n",
      "Brad Pitt\n",
      "Tatyana Samoylova\n",
      "Gene Hackman\n",
      "Jean-Louis Trintignant\n",
      "Mohsen Ramezani\n",
      "Paul Newman\n",
      "Werner Krauss\n",
      "William Holden\n",
      "Jeremy Renner\n",
      "Jürgen Prochnow\n",
      "Pu Cunxin\n",
      "Sandra Bullock\n",
      "Jeff Bridges\n",
      "Brahim Haggiag\n",
      "Sener Sen\n",
      "Leonardo DiCaprio\n",
      "Jean Dujardin\n",
      "Jean-Pierre Léaud\n",
      "Arnold Schwarzenegger\n",
      "John David Washington\n",
      "Robert De Niro\n",
      "Homayoun Ershadi\n",
      "Mandy Moore\n",
      "Javier Cámara\n",
      "Darsheel Safary\n",
      "Johnny Depp\n",
      "Shah Rukh Khan\n",
      "Vijay Sethupathi\n",
      "Han Sanming\n",
      "Daisy Ridley\n",
      "Daisy Ridley\n",
      "Mark Hamill\n",
      "Mark Hamill\n",
      "Mark Hamill\n",
      "Aleksandr Kaydanovskiy\n",
      "Rumi Hiiragi\n",
      "Tom Holland\n",
      "Keanu Reeves\n",
      "Daniel Craig\n",
      "Takeshi Kitano\n",
      "Marilyn Monroe\n",
      "Donatas Banionis\n",
      "Chris Evans\n",
      "Dev Patel\n",
      "Daniel Craig\n",
      "Emily Blunt\n",
      "Leonardo DiCaprio\n",
      "Mike Myers\n",
      "Lily Franky\n",
      "Amitabh Bachchan\n",
      "Aida El-Kashef\n",
      "Robert Downey Jr.\n",
      "Stephen Chow\n",
      "Toshiro Mifune\n",
      "Al Pacino\n",
      "Brad Pitt\n",
      "Liam Neeson\n",
      "Al Pacino\n",
      "Tom Hanks\n",
      "Marion Cotillard\n",
      "Franka Potente\n",
      "Brie Larson\n",
      "Yalitza Aparicio\n",
      "Sylvester Stallone\n",
      "Sylvester Stallone\n",
      "Sylvester Stallone\n",
      "Ranbir Kapoor\n",
      "Harvey Keitel\n",
      "James Stewart\n",
      "Patton Oswalt\n",
      "Toshiro Mifune\n",
      "Gong Li\n",
      "Dustin Hoffman\n",
      "Robert De Niro\n",
      "N. T. Rama Rao Jr.\n",
      "Kangana Ranaut\n",
      "Daniel Craig\n",
      "John Travolta\n",
      "Anthony Perkins\n",
      "Hugh Jackman\n",
      "Yōji Matsuda\n",
      "Keira Knightley\n",
      "Arnold Schwarzenegger\n",
      "Noémie Merlant\n",
      "Hiroki Doi\n",
      "Karine Vanasse\n",
      "Jackie Chan\n",
      "Keanu Reeves\n",
      "Charlie Sheen\n",
      "Johnny Depp\n",
      "Johnny Depp\n",
      "Johnny Depp\n",
      "Johnny Depp\n",
      "Judi Dench\n",
      "Bibi Andersson\n",
      "Junko Iwao\n",
      "Sol Kyung-gu\n",
      "Subir Banerjee\n",
      "Harry Dean Stanton\n",
      "Song Kang-ho\n",
      "Kais Nashef\n",
      "Megumi Hayashibara\n",
      "Ivana Baquero\n",
      "Antonio Banderas\n",
      "Deepika Padukone\n",
      "Aamir Khan\n",
      "Cillian Murphy\n",
      "Jack Nicholson\n",
      "Charles Bronson\n",
      "Leonardo DiCaprio\n",
      "Muhammet Uzuner\n",
      "George Lazenby\n",
      "Choi Min-sik\n",
      "Ahn Seo-hyun\n",
      "Roger Moore\n",
      "George Clooney\n",
      "George Clooney\n",
      "George Clooney\n",
      "Max Schreck\n",
      "Cary Grant\n",
      "Yuya Yagira\n",
      "Daniel Craig\n",
      "Josh Brolin\n",
      "Ricardo Darín\n",
      "Peter Finch\n",
      "Megumi Ogata\n",
      "Sumi Shimamoto\n",
      "Woody Harrelson\n",
      "Noriko Hidaka\n",
      "Shah Rukh Khan\n",
      "Daniel Day-Lewis\n",
      "Naomi Watts\n",
      "Ming-Na Wen\n",
      "Dilip Kumar\n",
      "Nargis\n",
      "Kim Hye-ja\n",
      "Roger Moore\n",
      "John Goodman\n",
      "Brad Pitt\n",
      "Charlie Chaplin\n",
      "Auli'i Cravalho\n",
      "Tom Cruise\n",
      "Tom Cruise\n",
      "Tom Cruise\n",
      "Tom Cruise\n",
      "Tom Cruise\n",
      "Tom Cruise\n",
      "Tom Cruise\n",
      "Hilary Swank\n",
      "Jon Voight\n",
      "George Clooney\n",
      "Brigitte Helm\n",
      "Song Kang-ho\n",
      "Guy Pearce\n",
      "Adam Driver\n",
      "Mikhail Kaufman\n",
      "Tom Hardy\n",
      "Peter Lorre\n",
      "Jean Reno\n",
      "Tang Wei\n",
      "Scarlett Johansson\n",
      "Scarlett Johansson\n",
      "Roger Moore\n",
      "Saoirse Ronan\n",
      "Roberto Benigni\n",
      "Aleksei Serebryakov\n",
      "Mel Gibson\n",
      "Mel Gibson\n",
      "Kåre Hedebrant\n",
      "Jiang Wen\n",
      "Alain Delon\n",
      "Peter O'Toole\n",
      "Hrithik Roshan\n",
      "Aamir Khan\n",
      "Saoirse Ronan\n",
      "Ryan Gosling\n",
      "Vincent Cassel\n",
      "Marcello Mastroianni\n",
      "Stephen Chow\n",
      "Shah Rukh Khan\n",
      "Dustin Hoffman\n",
      "Uma Thurman\n",
      "Uma Thurman\n",
      "Shah Rukh Khan\n",
      "Hrithik Roshan\n",
      "Shah Rukh Khan\n",
      "Yash\n",
      "Yash\n",
      "Sam Neill\n",
      "Jeanne Moreau\n",
      "Joaquin Phoenix\n",
      "Keanu Reeves\n",
      "Keanu Reeves\n",
      "Keanu Reeves\n",
      "Keanu Reeves\n",
      "Hrithik Roshan\n",
      "Roy Scheider\n",
      "Robert Downey Jr.\n",
      "Donnie Yen\n",
      "Donnie Yen\n",
      "Matthew McConaughey\n",
      "Amy Poehler\n",
      "Brad Pitt\n",
      "Tony Leung Chiu-wai\n",
      "Edison Chen\n",
      "Andy Lau\n",
      "Harrison Ford\n",
      "Harrison Ford\n",
      "Leonardo DiCaprio\n",
      "Lubna Azabal\n",
      "Daniel Day-Lewis\n",
      "Tony Leung Chiu-wai\n",
      "Massimo Troisi\n",
      "Takashi Shimura\n",
      "Tadanobu Asano\n",
      "Lee Byung-hun\n",
      "Chieko Baisho\n",
      "Takeshi Kaneshiro\n",
      "Don Cheadle\n",
      "Jet Li\n",
      "Joaquin Phoenix\n",
      "Al Pacino\n",
      "Birol Ünel\n",
      "Chow Yun-fat\n",
      "Takeshi Kitano\n",
      "Ranveer Singh\n",
      "Dev Anand\n",
      "Chris Pratt\n",
      "Sandra Bullock\n",
      "Tsutomu Tatsumi\n",
      "Clint Eastwood\n",
      "Ray Liotta\n",
      "Matt Damon\n",
      "Vivien Leigh\n",
      "Ben Affleck\n",
      "Salvatore Abruzzese\n",
      "Sean Connery\n",
      "Pierce Brosnan\n",
      "Russell Crowe\n",
      "Atsuko Tanaka\n",
      "Daniel Kaluuya\n",
      "Manoj Bajpayee\n",
      "Ben Kingsley\n",
      "Idina Menzel\n",
      "Idina Menzel\n",
      "Sean Connery\n",
      "Tom Hanks\n",
      "Johannes Kuhnke\n",
      "Roger Moore\n",
      "Klaus Kinski\n",
      "Bruce Lee\n",
      "Sylvester Stallone\n",
      "Albert Brooks\n",
      "Brad Pitt\n",
      "Frances McDormand\n",
      "Leslie Cheung\n",
      "Bertil Guve\n",
      "Jack Nance\n",
      "Bruce Lee\n",
      "Jake Gyllenhaal\n",
      "Wagner Moura\n",
      "Wagner Moura\n",
      "Johnny Depp\n",
      "Tom Cruise\n",
      "Timothée Chalamet\n",
      "Timothée Chalamet\n",
      "Jackie Chan\n",
      "Hidetoshi Nishijima\n",
      "Mohanlal\n",
      "Mohanlal\n",
      "Sean Connery\n",
      "Bruno Ganz\n",
      "Christos Stergioglou\n",
      "Al Pacino\n",
      "Benedict Cumberbatch\n",
      "Jamie Foxx\n",
      "Shah Rukh Khan\n",
      "Bruce Willis\n",
      "Bruce Willis\n",
      "Pierce Brosnan\n",
      "Shah Rukh Khan\n",
      "Masahiro Motoki\n",
      "Jon Voight\n",
      "Amitabh Bachchan\n",
      "Leslie Cheung\n",
      "Aamir Khan\n",
      "Chow Yun-fat\n",
      "Mia Wasikowska\n",
      "Paul Newman\n",
      "Arnold Schwarzenegger\n",
      "Aleksei Kravchenko\n",
      "Anthony Gonzalez\n",
      "Hossain Sabzian\n",
      "Douglas Silva\n",
      "Alexandre Rodrigues\n",
      "Charlie Chaplin\n",
      "Orson Welles\n",
      "Yves Montand\n",
      "Philippe Noiret\n",
      "Brigitte Lin\n",
      "Jack Nicholson\n",
      "Clive Owen\n",
      "Amir Farrokh Hashemian\n",
      "Madhabi Mukherjee\n",
      "Johnny Depp\n",
      "Fernanda Montenegro\n",
      "Leonardo DiCaprio\n",
      "Mayumi Tanaka\n",
      "Tom Hanks\n",
      "Daniel Craig\n",
      "Robert De Niro\n",
      "Humphrey Bogart\n",
      "Luiz Carlos Vasconcelos\n",
      "Chris Evans\n",
      "Hind Rostom\n",
      "Daniel Auteuil\n",
      "Marc-André Grondin\n",
      "Paul Newman\n",
      "Nikita Mikhalkov\n",
      "Yoo Ah-in\n",
      "Saoirse Ronan\n",
      "Jean-Paul Belmondo\n",
      "Mel Gibson\n",
      "Matt Damon\n",
      "Matt Damon\n",
      "Matt Damon\n",
      "Patrick Huard\n",
      "Kyle MacLachlan\n",
      "Adèle Exarchopoulos\n",
      "Ryan Gosling\n",
      "Harrison Ford\n",
      "Scarlett Johansson\n",
      "Chadwick Boseman\n",
      "Breno Mello\n",
      "Amitabh Bachchan\n",
      "Javier Bardem\n",
      "Michael Keaton\n",
      "Sandra Bullock\n",
      "Lamberto Maggiorani\n",
      "Charlton Heston\n",
      "Paige O'Hara\n",
      "Aleksandr Antonov\n",
      "Tatsuya Fujiwara\n",
      "Ben Affleck\n",
      "Ranbir Kapoor\n",
      "Salman Khan\n",
      "Anushka Shetty\n",
      "Prabhas\n",
      "Michael J. Fox\n",
      "Robert Downey Jr.\n",
      "Robert Downey Jr.\n",
      "Sam Worthington\n",
      "Ryo Ishibashi\n",
      "Keira Knightley\n",
      "Dhanush\n",
      "Leslie Cheung\n",
      "Zhao Tao\n",
      "Ayushmann Khurrana\n",
      "Amy Adams\n",
      "Bruce Willis\n",
      "Ben Affleck\n",
      "Martin Sheen\n",
      "Mads Mikkelsen\n",
      "Keira Knightley\n",
      "Anatoly Solonitsyn\n",
      "Aamir Khan\n",
      "Audrey Tautou\n",
      "Gael García Bernal\n",
      "Gael García Bernal\n",
      "Christian Bale\n",
      "Kevin Spacey\n",
      "Robert Redford\n",
      "Cecilia Roth\n",
      "Scott Weinger\n",
      "Mitsuo Iwata\n",
      "Shahir Kabaha\n",
      "Klaus Kinski\n",
      "Arata Iura\n",
      "Golshifteh Farahani\n",
      "Roger Moore\n",
      "Jiang Wu\n",
      "Peyman Moaadi\n",
      "Tahar Rahim\n",
      "Tony Leung Chiu-wai\n",
      "Chang Chen\n",
      "Chow Yun-fat\n",
      "Marcello Mastroianni\n",
      "Aamir Khan\n",
      "Bruce Willis\n",
      "Henry Fonda\n"
     ]
    }
   ],
   "execution_count": 119
  },
  {
   "metadata": {
    "ExecuteTime": {
     "end_time": "2025-08-23T14:26:16.546824Z",
     "start_time": "2025-08-23T14:26:16.529275Z"
    }
   },
   "cell_type": "code",
   "source": [
    "# To print index use .index :\n",
    "for i in movies_series.index:\n",
    "  print(i)"
   ],
   "outputs": [
    {
     "name": "stdout",
     "output_type": "stream",
     "text": [
      "Zootopia\n",
      "Zindagi Na Milegi Dobara\n",
      "Zhang Yimou's To Live\n",
      "Your Name\n",
      "You Only Live Twice\n",
      "Yi Yi\n",
      "Y Tu Mamá También\n",
      "World War Z\n",
      "Witness\n",
      "Winter Sleep\n",
      "Wings of Desire\n",
      "Wild Tales\n",
      "Whiplash\n",
      "Where Is the Friend's Home?\n",
      "Weathering with You\n",
      "War\n",
      "Waltz with Bashir\n",
      "WALL·E\n",
      "Volver\n",
      "Vikram Vedha\n",
      "Victoria (2015)\n",
      "Vicky Cristina Barcelona\n",
      "Vertigo\n",
      "Veer-Zaara\n",
      "Up in the Air\n",
      "Up\n",
      "Unforgiven\n",
      "Unbreakable\n",
      "Tsotsi\n",
      "True Romance\n",
      "Troy\n",
      "Train to Busan\n",
      "Toy Story 3\n",
      "Toy Story\n",
      "Total Recall\n",
      "Top Gun: Maverick\n",
      "Top Gun\n",
      "Tootsie\n",
      "Tomorrow Never Dies\n",
      "Tokyo Story\n",
      "To Live\n",
      "Titanic\n",
      "Timbuktu\n",
      "Thunderball\n",
      "Thor: Ragnarok\n",
      "There Will Be Blood\n",
      "The World Is Not Enough\n",
      "The Wolf of Wall Street\n",
      "The Wind That Shakes the Barley\n",
      "The White Ribbon\n",
      "The Wailing\n",
      "The Usual Suspects\n",
      "The Truman Show\n",
      "The Town\n",
      "The Tin Drum\n",
      "The Terminator\n",
      "The Sweet Hereafter\n",
      "The Sting\n",
      "The Square\n",
      "The Spy Who Loved Me\n",
      "The Social Network\n",
      "The Sixth Sense\n",
      "The Silence of the Lambs\n",
      "The Shining\n",
      "The Shawshank Redemption\n",
      "The Shape of Water\n",
      "The Seventh Seal\n",
      "The Seventh Continent\n",
      "The Secret in Their Eyes (2009)\n",
      "The Secret in Their Eyes\n",
      "The Sea Inside\n",
      "The Salesman\n",
      "The Revenant\n",
      "The Return (2003)\n",
      "The Queen\n",
      "The Proposal\n",
      "The Prestige\n",
      "The Pianist\n",
      "The Orphanage\n",
      "The Nightmare Before Christmas\n",
      "The Night of Counting the Years\n",
      "The Motorcycle Diaries\n",
      "The Mission\n",
      "The Matrix\n",
      "The Martian\n",
      "The Man from Nowhere\n",
      "The Lord of the Rings: The Two Towers\n",
      "The Lord of the Rings: The Return of the King\n",
      "The Lord of the Rings: The Fellowship of the Ring\n",
      "The Lobster\n",
      "The Lives of Others\n",
      "The Little Mermaid (1989)\n",
      "The Lion King\n",
      "The Last Emperor\n",
      "The King’s Speech\n",
      "The Killing of a Sacred Deer\n",
      "The Jungle Book (2016)\n",
      "The Jungle Book (1967)\n",
      "The Irishman\n",
      "The Intouchables\n",
      "The Incredibles\n",
      "The Imitation Game\n",
      "The Hunt (2012)\n",
      "The Host (2006)\n",
      "The Hateful Eight\n",
      "The Handmaiden\n",
      "The Green Mile\n",
      "The Great Dictator\n",
      "The Great Beauty\n",
      "The Grand Budapest Hotel\n",
      "The Graduate\n",
      "The Good, the Bad and the Ugly\n",
      "The Godfather Part II\n",
      "The Godfather\n",
      "The Girl with the Dragon Tattoo (2009)\n",
      "The Fugitive\n",
      "The French Connection\n",
      "The Fighter\n",
      "The Favourite\n",
      "The Exorcist\n",
      "The Elephant Man\n",
      "The Edge of Heaven\n",
      "The Diving Bell and the Butterfly\n",
      "The Devil's Backbone\n",
      "The Departed\n",
      "The Dark Knight Rises\n",
      "The Dark Knight\n",
      "The Curious Case of Benjamin Button\n",
      "The Cranes Are Flying\n",
      "The Conversation\n",
      "The Conformist\n",
      "The Color of Paradise\n",
      "The Color of Money\n",
      "The Cabinet of Dr. Caligari\n",
      "The Bridge on the River Kwai\n",
      "The Bourne Legacy\n",
      "The Boat (Das Boot)\n",
      "The Blue Kite\n",
      "The Blind Side\n",
      "The Big Lebowski\n",
      "The Battle of Algiers\n",
      "The Bandit (1996, Turkey)\n",
      "The Aviator\n",
      "The Artist\n",
      "The 400 Blows\n",
      "Terminator 2: Judgment Day\n",
      "Tenet\n",
      "Taxi Driver\n",
      "Taste of Cherry\n",
      "Tangled\n",
      "Talk to Her\n",
      "Taare Zameen Par\n",
      "Sweeney Todd: The Demon Barber of Fleet Street\n",
      "Swades\n",
      "Super Deluxe\n",
      "Still Life\n",
      "Star Wars: The Last Jedi\n",
      "Star Wars: The Force Awakens\n",
      "Star Wars: Episode VI – Return of the Jedi\n",
      "Star Wars: Episode V – The Empire Strikes Back\n",
      "Star Wars: Episode IV – A New Hope\n",
      "Stalker\n",
      "Spirited Away\n",
      "Spider-Man: Homecoming\n",
      "Speed\n",
      "Spectre\n",
      "Sonatine\n",
      "Some Like It Hot\n",
      "Solaris (1972)\n",
      "Snowpiercer\n",
      "Slumdog Millionaire\n",
      "Skyfall\n",
      "Sicario\n",
      "Shutter Island\n",
      "Shrek\n",
      "Shoplifters\n",
      "Sholay\n",
      "Ship of Theseus\n",
      "Sherlock Holmes (2009)\n",
      "Shaolin Soccer\n",
      "Seven Samurai\n",
      "Serpico\n",
      "Se7en\n",
      "Schindler's List\n",
      "Scarface\n",
      "Saving Private Ryan\n",
      "Rust and Bone\n",
      "Run Lola Run\n",
      "Room\n",
      "Roma\n",
      "Rocky III\n",
      "Rocky II\n",
      "Rocky\n",
      "Rockstar\n",
      "Reservoir Dogs\n",
      "Rear Window\n",
      "Ratatouille\n",
      "Rashomon\n",
      "Raise the Red Lantern\n",
      "Rain Man\n",
      "Raging Bull\n",
      "RRR\n",
      "Queen\n",
      "Quantum of Solace\n",
      "Pulp Fiction\n",
      "Psycho\n",
      "Prisoners\n",
      "Princess Mononoke\n",
      "Pride & Prejudice (2005)\n",
      "Predator\n",
      "Portrait of a Lady on Fire\n",
      "Ponyo\n",
      "Polytechnique\n",
      "Police Story\n",
      "Point Break\n",
      "Platoon\n",
      "Pirates of the Caribbean: The Curse of the Black Pearl\n",
      "Pirates of the Caribbean: On Stranger Tides\n",
      "Pirates of the Caribbean: Dead Man's Chest\n",
      "Pirates of the Caribbean: At World's End\n",
      "Philomena\n",
      "Persona\n",
      "Perfect Blue\n",
      "Peppermint Candy\n",
      "Pather Panchali\n",
      "Paris, Texas\n",
      "Parasite\n",
      "Paradise Now\n",
      "Paprika\n",
      "Pan's Labyrinth\n",
      "Pain and Glory\n",
      "Padmaavat\n",
      "PK\n",
      "Oppenheimer\n",
      "One Flew Over the Cuckoo's Nest\n",
      "Once Upon a Time in the West\n",
      "Once Upon a Time in Hollywood\n",
      "Once Upon a Time in Anatolia\n",
      "On Her Majesty's Secret Service\n",
      "Oldboy\n",
      "Okja\n",
      "Octopussy\n",
      "Ocean's Twelve\n",
      "Ocean's Thirteen\n",
      "Ocean's Eleven\n",
      "Nosferatu (1922)\n",
      "North by Northwest\n",
      "Nobody Knows\n",
      "No Time to Die\n",
      "No Country for Old Men\n",
      "Nine Queens\n",
      "Network\n",
      "Neon Genesis Evangelion: The End of Evangelion\n",
      "Nausicaä of the Valley of the Wind\n",
      "Natural Born Killers\n",
      "My Neighbor Totoro\n",
      "My Name Is Khan\n",
      "My Left Foot\n",
      "Mulholland Drive\n",
      "Mulan (1998)\n",
      "Mughal-e-Azam\n",
      "Mother India\n",
      "Mother (2009)\n",
      "Moonraker\n",
      "Monsters, Inc.\n",
      "Moneyball\n",
      "Modern Times\n",
      "Moana\n",
      "Mission: Impossible – Rogue Nation\n",
      "Mission: Impossible – Ghost Protocol\n",
      "Mission: Impossible – Fallout\n",
      "Mission: Impossible III\n",
      "Mission: Impossible 2\n",
      "Mission: Impossible\n",
      "Minority Report\n",
      "Million Dollar Baby\n",
      "Midnight Cowboy\n",
      "Michael Clayton\n",
      "Metropolis\n",
      "Memories of Murder\n",
      "Memento\n",
      "Marriage Story\n",
      "Man with a Movie Camera\n",
      "Mad Max: Fury Road\n",
      "M (1931)\n",
      "Léon: The Professional\n",
      "Lust, Caution\n",
      "Lucy\n",
      "Lost in Translation\n",
      "Live and Let Die\n",
      "Little Women (2019)\n",
      "Life Is Beautiful\n",
      "Leviathan (2014)\n",
      "Lethal Weapon 2\n",
      "Lethal Weapon\n",
      "Let the Right One In\n",
      "Let the Bullets Fly\n",
      "Le Samouraï\n",
      "Lawrence of Arabia\n",
      "Lakshya\n",
      "Lagaan\n",
      "Lady Bird\n",
      "La La Land\n",
      "La Haine\n",
      "La Dolce Vita\n",
      "Kung Fu Hustle\n",
      "Kuch Kuch Hota Hai\n",
      "Kramer vs. Kramer\n",
      "Kill Bill: Vol. 2\n",
      "Kill Bill: Vol. 1\n",
      "Kal Ho Naa Ho\n",
      "Kaho Naa... Pyaar Hai\n",
      "Kabhi Khushi Kabhie Gham\n",
      "K.G.F: Chapter 2\n",
      "K.G.F: Chapter 1\n",
      "Jurassic Park\n",
      "Jules and Jim\n",
      "Joker\n",
      "John Wick: Chapter 4\n",
      "John Wick: Chapter 3 – Parabellum\n",
      "John Wick: Chapter 2\n",
      "John Wick\n",
      "Jodhaa Akbar\n",
      "Jaws\n",
      "Iron Man\n",
      "Ip Man 2\n",
      "Ip Man\n",
      "Interstellar\n",
      "Inside Out\n",
      "Inglourious Basterds\n",
      "Infernal Affairs III\n",
      "Infernal Affairs II\n",
      "Infernal Affairs\n",
      "Indiana Jones and the Raiders of the Lost Ark\n",
      "Indiana Jones and the Last Crusade\n",
      "Inception\n",
      "Incendies\n",
      "In the Name of the Father\n",
      "In the Mood for Love\n",
      "Il Postino\n",
      "Ikiru\n",
      "Ichi the Killer\n",
      "I Saw the Devil\n",
      "Howl's Moving Castle\n",
      "House of Flying Daggers\n",
      "Hotel Rwanda\n",
      "Hero\n",
      "Her\n",
      "Heat\n",
      "Head-On\n",
      "Hard Boiled\n",
      "Hana-bi\n",
      "Gully Boy\n",
      "Guide\n",
      "Guardians of the Galaxy\n",
      "Gravity\n",
      "Grave of the Fireflies\n",
      "Gran Torino\n",
      "Goodfellas\n",
      "Good Will Hunting\n",
      "Gone with the Wind\n",
      "Gone Girl\n",
      "Gomorrah\n",
      "Goldfinger\n",
      "GoldenEye\n",
      "Gladiator\n",
      "Ghost in the Shell (1995)\n",
      "Get Out\n",
      "Gangs of Wasseypur\n",
      "Gandhi\n",
      "Frozen II\n",
      "Frozen\n",
      "From Russia with Love\n",
      "Forrest Gump\n",
      "Force Majeure\n",
      "For Your Eyes Only\n",
      "Fitzcarraldo\n",
      "Fist of Fury\n",
      "First Blood\n",
      "Finding Nemo\n",
      "Fight Club\n",
      "Fargo\n",
      "Farewell My Concubine\n",
      "Fanny and Alexander\n",
      "Eraserhead\n",
      "Enter the Dragon\n",
      "Enemy (2013)\n",
      "Elite Squad: The Enemy Within\n",
      "Elite Squad\n",
      "Edward Scissorhands\n",
      "Edge of Tomorrow\n",
      "Dune: Part Two\n",
      "Dune (2021)\n",
      "Drunken Master\n",
      "Drive My Car\n",
      "Drishyam 2\n",
      "Drishyam\n",
      "Dr. No\n",
      "Downfall\n",
      "Dogtooth\n",
      "Dog Day Afternoon\n",
      "Doctor Strange\n",
      "Django Unchained\n",
      "Dilwale Dulhania Le Jayenge\n",
      "Die Hard 2\n",
      "Die Hard\n",
      "Die Another Day\n",
      "Devdas (2002)\n",
      "Departures\n",
      "Deliverance\n",
      "Deewaar\n",
      "Days of Being Wild\n",
      "Dangal\n",
      "Crouching Tiger, Hidden Dragon\n",
      "Crimson Peak\n",
      "Cool Hand Luke\n",
      "Commando\n",
      "Come and See\n",
      "Coco\n",
      "Close-Up\n",
      "City of Men\n",
      "City of God\n",
      "City Lights\n",
      "Citizen Kane\n",
      "Cinema of Greece: Z (1969)\n",
      "Cinema Paradiso\n",
      "Chungking Express\n",
      "Chinatown\n",
      "Children of Men\n",
      "Children of Heaven\n",
      "Charulata\n",
      "Charlie and the Chocolate Factory\n",
      "Central Station\n",
      "Catch Me If You Can\n",
      "Castle in the Sky\n",
      "Cast Away\n",
      "Casino Royale (2006)\n",
      "Casino\n",
      "Casablanca\n",
      "Carandiru\n",
      "Captain America: Civil War\n",
      "Cairo Station\n",
      "Caché\n",
      "C.R.A.Z.Y.\n",
      "Butch Cassidy and the Sundance Kid\n",
      "Burnt by the Sun\n",
      "Burning\n",
      "Brooklyn\n",
      "Breathless (1960)\n",
      "Braveheart\n",
      "Bourne Ultimatum\n",
      "Bourne Supremacy\n",
      "Bourne Identity\n",
      "Bon Cop, Bad Cop\n",
      "Blue Velvet\n",
      "Blue Is the Warmest Colour\n",
      "Blade Runner 2049\n",
      "Blade Runner\n",
      "Black Widow\n",
      "Black Panther\n",
      "Black Orpheus\n",
      "Black\n",
      "Biutiful\n",
      "Birdman\n",
      "Bird Box\n",
      "Bicycle Thieves\n",
      "Ben-Hur\n",
      "Beauty and the Beast (1991)\n",
      "Battleship Potemkin\n",
      "Battle Royale\n",
      "Batman v Superman: Dawn of Justice\n",
      "Barfi!\n",
      "Bajrangi Bhaijaan\n",
      "Bahubali: The Beginning\n",
      "Bahubali 2: The Conclusion\n",
      "Back to the Future\n",
      "Avengers: Infinity War\n",
      "Avengers: Endgame\n",
      "Avatar\n",
      "Audition\n",
      "Atonement\n",
      "Asuran\n",
      "Ashes of Time\n",
      "Ash Is Purest White\n",
      "Article 15\n",
      "Arrival\n",
      "Armageddon\n",
      "Argo\n",
      "Apocalypse Now\n",
      "Another Round\n",
      "Anna Karenina\n",
      "Andrei Rublev\n",
      "Andaz Apna Apna\n",
      "Amélie\n",
      "Amores perros\n",
      "Amores Perros\n",
      "American Psycho\n",
      "American Beauty\n",
      "All the President's Men\n",
      "All About My Mother\n",
      "Aladdin (1992)\n",
      "Akira\n",
      "Ajami\n",
      "Aguirre, the Wrath of God\n",
      "After Life\n",
      "About Elly\n",
      "A View to a Kill\n",
      "A Touch of Sin\n",
      "A Separation\n",
      "A Prophet\n",
      "A City of Sadness\n",
      "A Brighter Summer Day\n",
      "A Better Tomorrow\n",
      "8½\n",
      "3 Idiots\n",
      "12 Monkeys\n",
      "12 Angry Men\n"
     ]
    }
   ],
   "execution_count": 120
  },
  {
   "metadata": {},
   "cell_type": "markdown",
   "source": [
    "Arithmetic Operators(Broadcasting)\n",
    "- broadcasting since we are using only one scalar ."
   ]
  },
  {
   "metadata": {
    "ExecuteTime": {
     "end_time": "2025-08-23T14:26:17.973747Z",
     "start_time": "2025-08-23T14:26:17.966435Z"
    }
   },
   "cell_type": "code",
   "source": "100 + std   # we can use + , - , * , / , ** , %",
   "outputs": [
    {
     "data": {
      "text/plain": [
       "students\n",
       "alice       186\n",
       "James       177\n",
       "Rahul       155\n",
       "Arjun       178\n",
       "shantanu    171\n",
       "Yukti       156\n",
       "eve         190\n",
       "Name: weight of Students, dtype: int64"
      ]
     },
     "execution_count": 121,
     "metadata": {},
     "output_type": "execute_result"
    }
   ],
   "execution_count": 121
  },
  {
   "metadata": {
    "ExecuteTime": {
     "end_time": "2025-08-23T14:26:28.253417Z",
     "start_time": "2025-08-23T14:26:28.243029Z"
    }
   },
   "cell_type": "code",
   "source": [
    "# Relational Operators\n",
    "VK >= 20"
   ],
   "outputs": [
    {
     "data": {
      "text/plain": [
       "match_no\n",
       "128     True\n",
       "126     True\n",
       "123     True\n",
       "120     True\n",
       "164     True\n",
       "       ...  \n",
       "93     False\n",
       "130    False\n",
       "206    False\n",
       "207    False\n",
       "211    False\n",
       "Name: runs, Length: 215, dtype: bool"
      ]
     },
     "execution_count": 124,
     "metadata": {},
     "output_type": "execute_result"
    }
   ],
   "execution_count": 124
  },
  {
   "metadata": {
    "ExecuteTime": {
     "end_time": "2025-08-23T14:27:24.687342Z",
     "start_time": "2025-08-23T14:27:24.677072Z"
    }
   },
   "cell_type": "code",
   "source": "VK != 50",
   "outputs": [
    {
     "data": {
      "text/plain": [
       "match_no\n",
       "128    True\n",
       "126    True\n",
       "123    True\n",
       "120    True\n",
       "164    True\n",
       "       ... \n",
       "93     True\n",
       "130    True\n",
       "206    True\n",
       "207    True\n",
       "211    True\n",
       "Name: runs, Length: 215, dtype: bool"
      ]
     },
     "execution_count": 129,
     "metadata": {},
     "output_type": "execute_result"
    }
   ],
   "execution_count": 129
  },
  {
   "metadata": {},
   "cell_type": "markdown",
   "source": "### Boolean Indexing on Series"
  },
  {
   "metadata": {
    "ExecuteTime": {
     "end_time": "2025-08-23T14:30:07.329227Z",
     "start_time": "2025-08-23T14:30:07.324100Z"
    }
   },
   "cell_type": "code",
   "source": [
    "# Find no of 50's and 100's scored by kohli\n",
    "VK[VK >= 50].size"
   ],
   "outputs": [
    {
     "data": {
      "text/plain": [
       "50"
      ]
     },
     "execution_count": 131,
     "metadata": {},
     "output_type": "execute_result"
    }
   ],
   "execution_count": 131
  },
  {
   "metadata": {
    "ExecuteTime": {
     "end_time": "2025-08-23T14:31:33.312318Z",
     "start_time": "2025-08-23T14:31:33.306518Z"
    }
   },
   "cell_type": "code",
   "source": [
    "# find number of ducks\n",
    "VK[VK == 0].size"
   ],
   "outputs": [
    {
     "data": {
      "text/plain": [
       "9"
      ]
     },
     "execution_count": 132,
     "metadata": {},
     "output_type": "execute_result"
    }
   ],
   "execution_count": 132
  },
  {
   "metadata": {
    "ExecuteTime": {
     "end_time": "2025-08-23T14:33:43.725869Z",
     "start_time": "2025-08-23T14:33:43.717953Z"
    }
   },
   "cell_type": "code",
   "source": [
    "# find actors who have done more than 4 movies\n",
    "num_movies = movies_series.value_counts()\n",
    "num_movies[num_movies > 4]"
   ],
   "outputs": [
    {
     "data": {
      "text/plain": [
       "Main Lead\n",
       "Tom Cruise               10\n",
       "Leonardo DiCaprio         9\n",
       "Shah Rukh Khan            8\n",
       "Johnny Depp               7\n",
       "Keanu Reeves              7\n",
       "Brad Pitt                 7\n",
       "Roger Moore               6\n",
       "Bruce Willis              6\n",
       "Tom Hanks                 6\n",
       "Hrithik Roshan            5\n",
       "Matt Damon                5\n",
       "Harrison Ford             5\n",
       "Sean Connery              5\n",
       "Al Pacino                 5\n",
       "Aamir Khan                5\n",
       "Robert De Niro            5\n",
       "Daniel Craig              5\n",
       "George Clooney            5\n",
       "Arnold Schwarzenegger     5\n",
       "Name: count, dtype: int64"
      ]
     },
     "execution_count": 133,
     "metadata": {},
     "output_type": "execute_result"
    }
   ],
   "execution_count": 133
  },
  {
   "cell_type": "markdown",
   "metadata": {},
   "source": [
    "## Plotting a `Series`\n",
    "Pandas makes it easy to plot `Series` data using matplotlib (for more details on matplotlib, check out the [matplotlib tutorial](tools_matplotlib.ipynb)). Just import matplotlib and call the `plot()` method:"
   ]
  },
  {
   "metadata": {
    "ExecuteTime": {
     "end_time": "2025-08-23T14:42:33.719869Z",
     "start_time": "2025-08-23T14:42:33.569278Z"
    }
   },
   "cell_type": "code",
   "source": [
    "import matplotlib.pyplot as plt\n",
    "views.plot()"
   ],
   "outputs": [
    {
     "data": {
      "text/plain": [
       "<Axes: >"
      ]
     },
     "execution_count": 145,
     "metadata": {},
     "output_type": "execute_result"
    },
    {
     "data": {
      "text/plain": [
       "<Figure size 640x480 with 1 Axes>"
      ],
      "image/png": "[encoded data removed]"
     },
     "metadata": {},
     "output_type": "display_data"
    }
   ],
   "execution_count": 145
  },
  {
   "metadata": {
    "ExecuteTime": {
     "end_time": "2025-08-23T14:40:51.220197Z",
     "start_time": "2025-08-23T14:40:51.072702Z"
    }
   },
   "cell_type": "code",
   "source": "movies_series.value_counts().head(15).plot(kind='bar')",
   "outputs": [
    {
     "data": {
      "text/plain": [
       "<Axes: xlabel='Main Lead'>"
      ]
     },
     "execution_count": 140,
     "metadata": {},
     "output_type": "execute_result"
    },
    {
     "data": {
      "text/plain": [
       "<Figure size 640x480 with 1 Axes>"
      ],
      "image/png": "[encoded data removed]"
     },
     "metadata": {},
     "output_type": "display_data"
    }
   ],
   "execution_count": 140
  },
  {
   "cell_type": "code",
   "metadata": {
    "scrolled": true,
    "ExecuteTime": {
     "end_time": "2025-08-23T14:42:20.828325Z",
     "start_time": "2025-08-23T14:42:20.740955Z"
    }
   },
   "source": [
    "temperatures = [4.4,5.1,6.1,6.2,6.1,6.1,5.7,5.2,4.7,4.1,3.9,3.5]\n",
    "s7 = pd.Series(temperatures, name=\"Temperature\")\n",
    "s7.plot()"
   ],
   "outputs": [
    {
     "data": {
      "text/plain": [
       "<Axes: >"
      ]
     },
     "execution_count": 144,
     "metadata": {},
     "output_type": "execute_result"
    },
    {
     "data": {
      "text/plain": [
       "<Figure size 640x480 with 1 Axes>"
      ],
      "image/png": "[encoded data removed]"
     },
     "metadata": {},
     "output_type": "display_data"
    }
   ],
   "execution_count": 144
  },
  {
   "cell_type": "markdown",
   "metadata": {},
   "source": "There are *many* options for plotting your data. It is not necessary to list them all here: if you need a particular type of plot (histograms, pie charts, etc.), just look for it in the excellent [Visualization](http://pandas.pydata.org/pandas-docs/stable/visualization.html) section of pandas' documentation, and look at the example code."
  },
  {
   "metadata": {},
   "cell_type": "markdown",
   "source": "## Some important Series methods"
  },
  {
   "metadata": {},
   "cell_type": "markdown",
   "source": [
    "`astype()`\n",
    "- it is used to convert the datatype of the series to the desired datatype ."
   ]
  },
  {
   "metadata": {
    "ExecuteTime": {
     "end_time": "2025-08-24T11:57:43.816359Z",
     "start_time": "2025-08-24T11:57:43.810239Z"
    }
   },
   "cell_type": "code",
   "source": [
    "import sys\n",
    "sys.getsizeof(VK)"
   ],
   "outputs": [
    {
     "data": {
      "text/plain": [
       "3472"
      ]
     },
     "execution_count": 57,
     "metadata": {},
     "output_type": "execute_result"
    }
   ],
   "execution_count": 57
  },
  {
   "metadata": {
    "ExecuteTime": {
     "end_time": "2025-08-24T11:58:43.156506Z",
     "start_time": "2025-08-24T11:58:43.152642Z"
    }
   },
   "cell_type": "code",
   "source": "VK = VK.astype('int16')",
   "outputs": [],
   "execution_count": 61
  },
  {
   "metadata": {
    "ExecuteTime": {
     "end_time": "2025-08-24T11:58:46.646817Z",
     "start_time": "2025-08-24T11:58:46.642002Z"
    }
   },
   "cell_type": "code",
   "source": "sys.getsizeof(VK)",
   "outputs": [
    {
     "data": {
      "text/plain": [
       "2182"
      ]
     },
     "execution_count": 62,
     "metadata": {},
     "output_type": "execute_result"
    }
   ],
   "execution_count": 62
  },
  {
   "metadata": {
    "ExecuteTime": {
     "end_time": "2025-08-24T11:58:49.885106Z",
     "start_time": "2025-08-24T11:58:49.879210Z"
    }
   },
   "cell_type": "code",
   "source": "VK.dtype",
   "outputs": [
    {
     "data": {
      "text/plain": [
       "dtype('int16')"
      ]
     },
     "execution_count": 63,
     "metadata": {},
     "output_type": "execute_result"
    }
   ],
   "execution_count": 63
  },
  {
   "metadata": {},
   "cell_type": "markdown",
   "source": [
    "`between()`\n",
    "- it is used to filter the series values between two given values (inclusive of both the values) ."
   ]
  },
  {
   "metadata": {
    "ExecuteTime": {
     "end_time": "2025-08-24T12:03:00.320319Z",
     "start_time": "2025-08-24T12:03:00.316241Z"
    }
   },
   "cell_type": "code",
   "source": "mask = VK.between(51 , 99)",
   "outputs": [],
   "execution_count": 65
  },
  {
   "metadata": {
    "ExecuteTime": {
     "end_time": "2025-08-24T12:04:14.941106Z",
     "start_time": "2025-08-24T12:04:14.934271Z"
    }
   },
   "cell_type": "code",
   "source": "VK[mask].size",
   "outputs": [
    {
     "data": {
      "text/plain": [
       "43"
      ]
     },
     "execution_count": 68,
     "metadata": {},
     "output_type": "execute_result"
    }
   ],
   "execution_count": 68
  },
  {
   "metadata": {},
   "cell_type": "markdown",
   "source": [
    "`clip()`\n",
    "- it is used to limit the values in the series to a given range .\n",
    "- values below the lower limit are set to the lower limit , and values above the upper limit are set to the upper limit ."
   ]
  },
  {
   "metadata": {
    "ExecuteTime": {
     "end_time": "2025-08-24T12:07:15.969638Z",
     "start_time": "2025-08-24T12:07:15.963072Z"
    }
   },
   "cell_type": "code",
   "source": "VK.clip(lower=50 , upper=100)",
   "outputs": [
    {
     "data": {
      "text/plain": [
       "match_no\n",
       "1      50\n",
       "2      50\n",
       "3      50\n",
       "4      50\n",
       "5      50\n",
       "       ..\n",
       "211    50\n",
       "212    50\n",
       "213    73\n",
       "214    50\n",
       "215    50\n",
       "Name: runs, Length: 215, dtype: int64"
      ]
     },
     "execution_count": 74,
     "metadata": {},
     "output_type": "execute_result"
    }
   ],
   "execution_count": 74
  },
  {
   "metadata": {},
   "cell_type": "markdown",
   "source": [
    "`drop_duplicates()`\n",
    "- it is used to remove duplicate values from the series .\n",
    "- here we have the flexibility to delete the first occurrence or the last occurrence of the duplicate values using keep argument , by default it keeps the first occurrence ."
   ]
  },
  {
   "metadata": {
    "ExecuteTime": {
     "end_time": "2025-08-24T12:42:04.869561Z",
     "start_time": "2025-08-24T12:42:04.862307Z"
    }
   },
   "cell_type": "code",
   "source": [
    "temp = pd.Series([1,1,2,2,3,3,4,4,5,8,9,9,9,0,1])\n",
    "temp"
   ],
   "outputs": [
    {
     "data": {
      "text/plain": [
       "0     1\n",
       "1     1\n",
       "2     2\n",
       "3     2\n",
       "4     3\n",
       "5     3\n",
       "6     4\n",
       "7     4\n",
       "8     5\n",
       "9     8\n",
       "10    9\n",
       "11    9\n",
       "12    9\n",
       "13    0\n",
       "14    1\n",
       "dtype: int64"
      ]
     },
     "execution_count": 86,
     "metadata": {},
     "output_type": "execute_result"
    }
   ],
   "execution_count": 86
  },
  {
   "metadata": {
    "ExecuteTime": {
     "end_time": "2025-08-24T12:42:13.538170Z",
     "start_time": "2025-08-24T12:42:13.531462Z"
    }
   },
   "cell_type": "code",
   "source": "temp.drop_duplicates(keep='last')",
   "outputs": [
    {
     "data": {
      "text/plain": [
       "3     2\n",
       "5     3\n",
       "7     4\n",
       "8     5\n",
       "9     8\n",
       "12    9\n",
       "13    0\n",
       "14    1\n",
       "dtype: int64"
      ]
     },
     "execution_count": 88,
     "metadata": {},
     "output_type": "execute_result"
    }
   ],
   "execution_count": 88
  },
  {
   "metadata": {
    "ExecuteTime": {
     "end_time": "2025-08-24T12:36:10.025505Z",
     "start_time": "2025-08-24T12:36:10.015112Z"
    }
   },
   "cell_type": "code",
   "source": [
    "movies_series.drop_duplicates()\n",
    "# so now all the actors have one movie and total count is reduced from 517 to 328 ."
   ],
   "outputs": [
    {
     "data": {
      "text/plain": [
       "Movie Name\n",
       "12 Angry Men                  Henry Fonda\n",
       "12 Monkeys                   Bruce Willis\n",
       "3 Idiots                       Aamir Khan\n",
       "8½                   Marcello Mastroianni\n",
       "A Better Tomorrow            Chow Yun-fat\n",
       "                             ...         \n",
       "Whiplash                     Miles Teller\n",
       "Winter Sleep               Haluk Bilginer\n",
       "Yi Yi                         Wu Nien-jen\n",
       "Your Name                Ryunosuke Kamiki\n",
       "Zootopia                 Ginnifer Goodwin\n",
       "Name: Main Lead, Length: 328, dtype: object"
      ]
     },
     "execution_count": 82,
     "metadata": {},
     "output_type": "execute_result"
    }
   ],
   "execution_count": 82
  },
  {
   "metadata": {},
   "cell_type": "markdown",
   "source": [
    "`duplicated()`\n",
    "- checks if values are duplicated or not ."
   ]
  },
  {
   "metadata": {
    "ExecuteTime": {
     "end_time": "2025-08-24T12:42:21.725834Z",
     "start_time": "2025-08-24T12:42:21.718262Z"
    }
   },
   "cell_type": "code",
   "source": [
    "temp.duplicated()\n",
    "# false means not duplicated whereas true means duplicated ."
   ],
   "outputs": [
    {
     "data": {
      "text/plain": [
       "0     False\n",
       "1      True\n",
       "2     False\n",
       "3      True\n",
       "4     False\n",
       "5      True\n",
       "6     False\n",
       "7      True\n",
       "8     False\n",
       "9     False\n",
       "10    False\n",
       "11     True\n",
       "12     True\n",
       "13    False\n",
       "14     True\n",
       "dtype: bool"
      ]
     },
     "execution_count": 89,
     "metadata": {},
     "output_type": "execute_result"
    }
   ],
   "execution_count": 89
  },
  {
   "metadata": {
    "ExecuteTime": {
     "end_time": "2025-08-24T12:42:24.014414Z",
     "start_time": "2025-08-24T12:42:24.008487Z"
    }
   },
   "cell_type": "code",
   "source": [
    "# can also get the no. by adding sum() it basically adds all true so total duplicates .\n",
    "temp.duplicated().sum()"
   ],
   "outputs": [
    {
     "data": {
      "text/plain": [
       "np.int64(7)"
      ]
     },
     "execution_count": 90,
     "metadata": {},
     "output_type": "execute_result"
    }
   ],
   "execution_count": 90
  },
  {
   "metadata": {},
   "cell_type": "markdown",
   "source": [
    "`count() and size`\n",
    "- count function v/s size attribute .\n",
    "    - count function will only count non-nan values .\n",
    "    - size attribute also counts nan values ."
   ]
  },
  {
   "metadata": {
    "ExecuteTime": {
     "end_time": "2025-08-24T12:44:17.760431Z",
     "start_time": "2025-08-24T12:44:17.753061Z"
    }
   },
   "cell_type": "code",
   "source": [
    "t = pd.Series([1,2,3,np.nan,5,6,np.nan,8,np.nan,10])\n",
    "t"
   ],
   "outputs": [
    {
     "data": {
      "text/plain": [
       "0     1.0\n",
       "1     2.0\n",
       "2     3.0\n",
       "3     NaN\n",
       "4     5.0\n",
       "5     6.0\n",
       "6     NaN\n",
       "7     8.0\n",
       "8     NaN\n",
       "9    10.0\n",
       "dtype: float64"
      ]
     },
     "execution_count": 92,
     "metadata": {},
     "output_type": "execute_result"
    }
   ],
   "execution_count": 92
  },
  {
   "metadata": {
    "ExecuteTime": {
     "end_time": "2025-08-24T12:45:03.441401Z",
     "start_time": "2025-08-24T12:45:03.435975Z"
    }
   },
   "cell_type": "code",
   "source": "t.count()",
   "outputs": [
    {
     "data": {
      "text/plain": [
       "np.int64(7)"
      ]
     },
     "execution_count": 99,
     "metadata": {},
     "output_type": "execute_result"
    }
   ],
   "execution_count": 99
  },
  {
   "metadata": {
    "ExecuteTime": {
     "end_time": "2025-08-24T12:44:46.104646Z",
     "start_time": "2025-08-24T12:44:46.098523Z"
    }
   },
   "cell_type": "code",
   "source": "t.size",
   "outputs": [
    {
     "data": {
      "text/plain": [
       "10"
      ]
     },
     "execution_count": 97,
     "metadata": {},
     "output_type": "execute_result"
    }
   ],
   "execution_count": 97
  },
  {
   "metadata": {},
   "cell_type": "code",
   "outputs": [],
   "execution_count": null,
   "source": ""
  },
  {
   "metadata": {},
   "cell_type": "code",
   "outputs": [],
   "execution_count": null,
   "source": ""
  },
  {
   "metadata": {},
   "cell_type": "code",
   "outputs": [],
   "execution_count": null,
   "source": ""
  },
  {
   "metadata": {},
   "cell_type": "code",
   "outputs": [],
   "execution_count": null,
   "source": ""
  },
  {
   "metadata": {},
   "cell_type": "code",
   "outputs": [],
   "execution_count": null,
   "source": ""
  },
  {
   "metadata": {},
   "cell_type": "code",
   "outputs": [],
   "execution_count": null,
   "source": ""
  },
  {
   "metadata": {},
   "cell_type": "code",
   "outputs": [],
   "execution_count": null,
   "source": ""
  },
  {
   "metadata": {},
   "cell_type": "code",
   "outputs": [],
   "execution_count": null,
   "source": ""
  },
  {
   "cell_type": "markdown",
   "metadata": {},
   "source": [
    "# Handling time\n",
    "Many datasets have timestamps, and pandas is awesome at manipulating such data:\n",
    "* it can represent periods (such as 2016Q3) and frequencies (such as \"monthly\"),\n",
    "* it can convert periods to actual timestamps, and *vice versa*,\n",
    "* it can resample data and aggregate values any way you like,\n",
    "* it can handle timezones.\n",
    "\n",
    "## Time range\n",
    "Let's start by creating a time series using `pd.date_range()`. This returns a `DatetimeIndex` containing one datetime per hour for 12 hours starting on October 29th 2016 at 5:30pm."
   ]
  },
  {
   "cell_type": "code",
   "metadata": {},
   "source": [
    "dates = pd.date_range('2016/10/29 5:30pm', periods=12, freq='H')\n",
    "dates"
   ],
   "outputs": [],
   "execution_count": null
  },
  {
   "cell_type": "markdown",
   "metadata": {},
   "source": [
    "This `DatetimeIndex` may be used as an index in a `Series`:"
   ]
  },
  {
   "cell_type": "code",
   "metadata": {},
   "source": [
    "temp_series = pd.Series(temperatures, dates)\n",
    "temp_series"
   ],
   "outputs": [],
   "execution_count": null
  },
  {
   "cell_type": "markdown",
   "metadata": {},
   "source": [
    "Let's plot this series:"
   ]
  },
  {
   "cell_type": "code",
   "metadata": {},
   "source": [
    "temp_series.plot(kind=\"bar\")\n",
    "\n",
    "plt.grid(True)\n",
    "plt.show()"
   ],
   "outputs": [],
   "execution_count": null
  },
  {
   "cell_type": "markdown",
   "metadata": {},
   "source": [
    "## Resampling\n",
    "Pandas lets us resample a time series very simply. Just call the `resample()` method and specify a new frequency:"
   ]
  },
  {
   "cell_type": "code",
   "metadata": {},
   "source": [
    "temp_series_freq_2H = temp_series.resample(\"2H\")\n",
    "temp_series_freq_2H"
   ],
   "outputs": [],
   "execution_count": null
  },
  {
   "cell_type": "markdown",
   "metadata": {},
   "source": [
    "The resampling operation is actually a deferred operation, which is why we did not get a `Series` object, but a `DatetimeIndexResampler` object instead. To actually perform the resampling operation, we can simply call the `mean()` method: Pandas will compute the mean of every pair of consecutive hours:"
   ]
  },
  {
   "cell_type": "code",
   "metadata": {},
   "source": [
    "temp_series_freq_2H = temp_series_freq_2H.mean()"
   ],
   "outputs": [],
   "execution_count": null
  },
  {
   "cell_type": "markdown",
   "metadata": {},
   "source": [
    "Let's plot the result:"
   ]
  },
  {
   "cell_type": "code",
   "metadata": {},
   "source": [
    "temp_series_freq_2H.plot(kind=\"bar\")\n",
    "plt.show()"
   ],
   "outputs": [],
   "execution_count": null
  },
  {
   "cell_type": "markdown",
   "metadata": {},
   "source": [
    "Note how the values have automatically been aggregated into 2-hour periods. If we look at the 6-8pm period, for example, we had a value of `5.1` at 6:30pm, and `6.1` at 7:30pm. After resampling, we just have one value of `5.6`, which is the mean of `5.1` and `6.1`. Rather than computing the mean, we could have used any other aggregation function, for example we can decide to keep the minimum value of each period:"
   ]
  },
  {
   "cell_type": "code",
   "metadata": {},
   "source": [
    "temp_series_freq_2H = temp_series.resample(\"2H\").min()\n",
    "temp_series_freq_2H"
   ],
   "outputs": [],
   "execution_count": null
  },
  {
   "cell_type": "markdown",
   "metadata": {},
   "source": [
    "Or, equivalently, we could use the `apply()` method instead:"
   ]
  },
  {
   "cell_type": "code",
   "metadata": {},
   "source": [
    "temp_series_freq_2H = temp_series.resample(\"2H\").apply(np.min)\n",
    "temp_series_freq_2H"
   ],
   "outputs": [],
   "execution_count": null
  },
  {
   "cell_type": "markdown",
   "metadata": {},
   "source": [
    "## Upsampling and interpolation\n",
    "This was an example of downsampling. We can also upsample (ie. increase the frequency), but this creates holes in our data:"
   ]
  },
  {
   "cell_type": "code",
   "metadata": {},
   "source": [
    "temp_series_freq_15min = temp_series.resample(\"15Min\").mean()\n",
    "temp_series_freq_15min.head(n=10) # `head` displays the top n values"
   ],
   "outputs": [],
   "execution_count": null
  },
  {
   "cell_type": "markdown",
   "metadata": {},
   "source": [
    "One solution is to fill the gaps by interpolating. We just call the `interpolate()` method. The default is to use linear interpolation, but we can also select another method, such as cubic interpolation:"
   ]
  },
  {
   "cell_type": "code",
   "metadata": {
    "scrolled": true
   },
   "source": [
    "temp_series_freq_15min = temp_series.resample(\"15Min\").interpolate(method=\"cubic\")\n",
    "temp_series_freq_15min.head(n=10)"
   ],
   "outputs": [],
   "execution_count": null
  },
  {
   "cell_type": "code",
   "metadata": {},
   "source": [
    "temp_series.plot(label=\"Period: 1 hour\")\n",
    "temp_series_freq_15min.plot(label=\"Period: 15 minutes\")\n",
    "plt.legend()\n",
    "plt.show()"
   ],
   "outputs": [],
   "execution_count": null
  },
  {
   "cell_type": "markdown",
   "metadata": {},
   "source": [
    "## Timezones\n",
    "By default datetimes are *naive*: they are not aware of timezones, so 2016-10-30 02:30 might mean October 30th 2016 at 2:30am in Paris or in New York. We can make datetimes timezone *aware* by calling the `tz_localize()` method:"
   ]
  },
  {
   "cell_type": "code",
   "metadata": {},
   "source": [
    "temp_series_ny = temp_series.tz_localize(\"America/New_York\")\n",
    "temp_series_ny"
   ],
   "outputs": [],
   "execution_count": null
  },
  {
   "cell_type": "markdown",
   "metadata": {},
   "source": [
    "Note that `-04:00` is now appended to all the datetimes. This means that these datetimes refer to [UTC](https://en.wikipedia.org/wiki/Coordinated_Universal_Time) - 4 hours.\n",
    "\n",
    "We can convert these datetimes to Paris time like this:"
   ]
  },
  {
   "cell_type": "code",
   "metadata": {},
   "source": [
    "temp_series_paris = temp_series_ny.tz_convert(\"Europe/Paris\")\n",
    "temp_series_paris"
   ],
   "outputs": [],
   "execution_count": null
  },
  {
   "cell_type": "markdown",
   "metadata": {},
   "source": [
    "You may have noticed that the UTC offset changes from `+02:00` to `+01:00`: this is because France switches to winter time at 3am that particular night (time goes back to 2am). Notice that 2:30am occurs twice! Let's go back to a naive representation (if you log some data hourly using local time, without storing the timezone, you might get something like this):"
   ]
  },
  {
   "cell_type": "code",
   "metadata": {},
   "source": [
    "temp_series_paris_naive = temp_series_paris.tz_localize(None)\n",
    "temp_series_paris_naive"
   ],
   "outputs": [],
   "execution_count": null
  },
  {
   "cell_type": "markdown",
   "metadata": {},
   "source": [
    "Now `02:30` is really ambiguous. If we try to localize these naive datetimes to the Paris timezone, we get an error:"
   ]
  },
  {
   "cell_type": "code",
   "metadata": {},
   "source": [
    "try:\n",
    "    temp_series_paris_naive.tz_localize(\"Europe/Paris\")\n",
    "except Exception as e:\n",
    "    print(type(e))\n",
    "    print(e)"
   ],
   "outputs": [],
   "execution_count": null
  },
  {
   "cell_type": "markdown",
   "metadata": {},
   "source": [
    "Fortunately using the `ambiguous` argument we can tell pandas to infer the right DST (Daylight Saving Time) based on the order of the ambiguous timestamps:"
   ]
  },
  {
   "cell_type": "code",
   "metadata": {},
   "source": [
    "temp_series_paris_naive.tz_localize(\"Europe/Paris\", ambiguous=\"infer\")"
   ],
   "outputs": [],
   "execution_count": null
  },
  {
   "cell_type": "markdown",
   "metadata": {},
   "source": [
    "## Periods\n",
    "The `pd.period_range()` function returns a `PeriodIndex` instead of a `DatetimeIndex`. For example, let's get all quarters in 2016 and 2017:"
   ]
  },
  {
   "cell_type": "code",
   "metadata": {},
   "source": [
    "quarters = pd.period_range('2016Q1', periods=8, freq='Q')\n",
    "quarters"
   ],
   "outputs": [],
   "execution_count": null
  },
  {
   "cell_type": "markdown",
   "metadata": {},
   "source": [
    "Adding a number `N` to a `PeriodIndex` shifts the periods by `N` times the `PeriodIndex`'s frequency:"
   ]
  },
  {
   "cell_type": "code",
   "metadata": {},
   "source": [
    "quarters + 3"
   ],
   "outputs": [],
   "execution_count": null
  },
  {
   "cell_type": "markdown",
   "metadata": {},
   "source": [
    "The `asfreq()` method lets us change the frequency of the `PeriodIndex`. All periods are lengthened or shortened accordingly. For example, let's convert all the quarterly periods to monthly periods (zooming in):"
   ]
  },
  {
   "cell_type": "code",
   "metadata": {},
   "source": [
    "quarters.asfreq(\"M\")"
   ],
   "outputs": [],
   "execution_count": null
  },
  {
   "cell_type": "markdown",
   "metadata": {},
   "source": "By default, the `asfreq` zooms on the end of each period. We can tell it to zoom on the start of each period instead:"
  },
  {
   "cell_type": "code",
   "metadata": {},
   "source": [
    "quarters.asfreq(\"M\", how=\"start\")"
   ],
   "outputs": [],
   "execution_count": null
  },
  {
   "cell_type": "markdown",
   "metadata": {},
   "source": [
    "And we can zoom out:"
   ]
  },
  {
   "cell_type": "code",
   "metadata": {},
   "source": [
    "quarters.asfreq(\"A\")"
   ],
   "outputs": [],
   "execution_count": null
  },
  {
   "cell_type": "markdown",
   "metadata": {},
   "source": [
    "Of course we can create a `Series` with a `PeriodIndex`:"
   ]
  },
  {
   "cell_type": "code",
   "metadata": {},
   "source": [
    "quarterly_revenue = pd.Series([300, 320, 290, 390, 320, 360, 310, 410], index = quarters)\n",
    "quarterly_revenue"
   ],
   "outputs": [],
   "execution_count": null
  },
  {
   "cell_type": "code",
   "metadata": {},
   "source": [
    "quarterly_revenue.plot(kind=\"line\")\n",
    "plt.show()"
   ],
   "outputs": [],
   "execution_count": null
  },
  {
   "cell_type": "markdown",
   "metadata": {},
   "source": [
    "We can convert periods to timestamps by calling `to_timestamp`. By default this will give us the first day of each period, but by setting `how` and `freq`, we can get the last hour of each period:"
   ]
  },
  {
   "cell_type": "code",
   "metadata": {},
   "source": [
    "last_hours = quarterly_revenue.to_timestamp(how=\"end\", freq=\"H\")\n",
    "last_hours"
   ],
   "outputs": [],
   "execution_count": null
  },
  {
   "cell_type": "markdown",
   "metadata": {},
   "source": [
    "And back to periods by calling `to_period`:"
   ]
  },
  {
   "cell_type": "code",
   "metadata": {},
   "source": [
    "last_hours.to_period()"
   ],
   "outputs": [],
   "execution_count": null
  },
  {
   "cell_type": "markdown",
   "metadata": {},
   "source": [
    "Pandas also provides many other time-related functions that we recommend you check out in the [documentation](http://pandas.pydata.org/pandas-docs/stable/timeseries.html). To whet your appetite, here is one way to get the last business day of each month in 2016, at 9am:"
   ]
  },
  {
   "cell_type": "code",
   "metadata": {},
   "source": [
    "months_2016 = pd.period_range(\"2016\", periods=12, freq=\"M\")\n",
    "one_day_after_last_days = months_2016.asfreq(\"D\") + 1\n",
    "last_bdays = one_day_after_last_days.to_timestamp() - pd.tseries.offsets.BDay()\n",
    "last_bdays.to_period(\"H\") + 9"
   ],
   "outputs": [],
   "execution_count": null
  },
  {
   "cell_type": "markdown",
   "metadata": {},
   "source": [
    "# `DataFrame` objects\n",
    "A DataFrame object represents a spreadsheet, with cell values, column names and row index labels. You can define expressions to compute columns based on other columns, create pivot-tables, group rows, draw graphs, etc. You can see `DataFrame`s as dictionaries of `Series`.\n",
    "\n",
    "## Creating a `DataFrame`\n",
    "You can create a DataFrame by passing a dictionary of `Series` objects:"
   ]
  },
  {
   "cell_type": "code",
   "metadata": {},
   "source": [
    "people_dict = {\n",
    "    \"weight\": pd.Series([68, 83, 112], index=[\"alice\", \"bob\", \"charles\"]),\n",
    "    \"birthyear\": pd.Series([1984, 1985, 1992], index=[\"bob\", \"alice\", \"charles\"], name=\"year\"),\n",
    "    \"children\": pd.Series([0, 3], index=[\"charles\", \"bob\"]),\n",
    "    \"hobby\": pd.Series([\"Biking\", \"Dancing\"], index=[\"alice\", \"bob\"]),\n",
    "}\n",
    "people = pd.DataFrame(people_dict)\n",
    "people"
   ],
   "outputs": [],
   "execution_count": null
  },
  {
   "cell_type": "markdown",
   "metadata": {},
   "source": [
    "A few things to note:\n",
    "* the `Series` were automatically aligned based on their index,\n",
    "* missing values are represented as `NaN`,\n",
    "* `Series` names are ignored (the name `\"year\"` was dropped),\n",
    "* `DataFrame`s are displayed nicely in Jupyter notebooks, woohoo!"
   ]
  },
  {
   "cell_type": "markdown",
   "metadata": {},
   "source": [
    "You can access columns pretty much as you would expect. They are returned as `Series` objects:"
   ]
  },
  {
   "cell_type": "code",
   "metadata": {},
   "source": [
    "people[\"birthyear\"]"
   ],
   "outputs": [],
   "execution_count": null
  },
  {
   "cell_type": "markdown",
   "metadata": {},
   "source": [
    "You can also get multiple columns at once:"
   ]
  },
  {
   "cell_type": "code",
   "metadata": {},
   "source": [
    "people[[\"birthyear\", \"hobby\"]]"
   ],
   "outputs": [],
   "execution_count": null
  },
  {
   "cell_type": "markdown",
   "metadata": {},
   "source": [
    "If you pass a list of columns and/or index row labels to the `DataFrame` constructor, it will guarantee that these columns and/or rows will exist, in that order, and no other column/row will exist. For example:"
   ]
  },
  {
   "cell_type": "code",
   "metadata": {},
   "source": [
    "d2 = pd.DataFrame(\n",
    "        people_dict,\n",
    "        columns=[\"birthyear\", \"weight\", \"height\"],\n",
    "        index=[\"bob\", \"alice\", \"eugene\"]\n",
    "     )\n",
    "d2"
   ],
   "outputs": [],
   "execution_count": null
  },
  {
   "cell_type": "markdown",
   "metadata": {},
   "source": [
    "Another convenient way to create a `DataFrame` is to pass all the values to the constructor as an `ndarray`, or a list of lists, and specify the column names and row index labels separately:"
   ]
  },
  {
   "cell_type": "code",
   "metadata": {},
   "source": [
    "values = [\n",
    "            [1985, np.nan, \"Biking\",   68],\n",
    "            [1984, 3,      \"Dancing\",  83],\n",
    "            [1992, 0,      np.nan,    112]\n",
    "         ]\n",
    "d3 = pd.DataFrame(\n",
    "        values,\n",
    "        columns=[\"birthyear\", \"children\", \"hobby\", \"weight\"],\n",
    "        index=[\"alice\", \"bob\", \"charles\"]\n",
    "     )\n",
    "d3"
   ],
   "outputs": [],
   "execution_count": null
  },
  {
   "cell_type": "markdown",
   "metadata": {},
   "source": [
    "To specify missing values, you can either use `np.nan` or NumPy's masked arrays:"
   ]
  },
  {
   "cell_type": "code",
   "metadata": {},
   "source": [
    "masked_array = np.ma.asarray(values, dtype=np.object)\n",
    "masked_array[(0, 2), (1, 2)] = np.ma.masked\n",
    "d3 = pd.DataFrame(\n",
    "        masked_array,\n",
    "        columns=[\"birthyear\", \"children\", \"hobby\", \"weight\"],\n",
    "        index=[\"alice\", \"bob\", \"charles\"]\n",
    "     )\n",
    "d3"
   ],
   "outputs": [],
   "execution_count": null
  },
  {
   "cell_type": "markdown",
   "metadata": {},
   "source": [
    "Instead of an `ndarray`, you can also pass a `DataFrame` object:"
   ]
  },
  {
   "cell_type": "code",
   "metadata": {},
   "source": [
    "d4 = pd.DataFrame(\n",
    "         d3,\n",
    "         columns=[\"hobby\", \"children\"],\n",
    "         index=[\"alice\", \"bob\"]\n",
    "     )\n",
    "d4"
   ],
   "outputs": [],
   "execution_count": null
  },
  {
   "cell_type": "markdown",
   "metadata": {},
   "source": [
    "It is also possible to create a `DataFrame` with a dictionary (or list) of dictionaries (or list):"
   ]
  },
  {
   "cell_type": "code",
   "metadata": {},
   "source": [
    "people = pd.DataFrame({\n",
    "    \"birthyear\": {\"alice\":1985, \"bob\": 1984, \"charles\": 1992},\n",
    "    \"hobby\": {\"alice\":\"Biking\", \"bob\": \"Dancing\"},\n",
    "    \"weight\": {\"alice\":68, \"bob\": 83, \"charles\": 112},\n",
    "    \"children\": {\"bob\": 3, \"charles\": 0}\n",
    "})\n",
    "people"
   ],
   "outputs": [],
   "execution_count": null
  },
  {
   "cell_type": "markdown",
   "metadata": {},
   "source": [
    "## Multi-indexing\n",
    "If all columns are tuples of the same size, then they are understood as a multi-index. The same goes for row index labels. For example:"
   ]
  },
  {
   "cell_type": "code",
   "metadata": {},
   "source": [
    "d5 = pd.DataFrame(\n",
    "  {\n",
    "    (\"public\", \"birthyear\"):\n",
    "        {(\"Paris\",\"alice\"):1985, (\"Paris\",\"bob\"): 1984, (\"London\",\"charles\"): 1992},\n",
    "    (\"public\", \"hobby\"):\n",
    "        {(\"Paris\",\"alice\"):\"Biking\", (\"Paris\",\"bob\"): \"Dancing\"},\n",
    "    (\"private\", \"weight\"):\n",
    "        {(\"Paris\",\"alice\"):68, (\"Paris\",\"bob\"): 83, (\"London\",\"charles\"): 112},\n",
    "    (\"private\", \"children\"):\n",
    "        {(\"Paris\", \"alice\"):np.nan, (\"Paris\",\"bob\"): 3, (\"London\",\"charles\"): 0}\n",
    "  }\n",
    ")\n",
    "d5"
   ],
   "outputs": [],
   "execution_count": null
  },
  {
   "cell_type": "markdown",
   "metadata": {},
   "source": [
    "You can now get a `DataFrame` containing all the `\"public\"` columns very simply:"
   ]
  },
  {
   "cell_type": "code",
   "metadata": {},
   "source": [
    "d5[\"public\"]"
   ],
   "outputs": [],
   "execution_count": null
  },
  {
   "cell_type": "code",
   "metadata": {},
   "source": [
    "d5[\"public\", \"hobby\"]  # Same result as d5[\"public\"][\"hobby\"]"
   ],
   "outputs": [],
   "execution_count": null
  },
  {
   "cell_type": "markdown",
   "metadata": {},
   "source": [
    "## Dropping a level\n",
    "Let's look at `d5` again:"
   ]
  },
  {
   "cell_type": "code",
   "metadata": {},
   "source": [
    "d5"
   ],
   "outputs": [],
   "execution_count": null
  },
  {
   "cell_type": "markdown",
   "metadata": {},
   "source": [
    "There are two levels of columns, and two levels of indices. We can drop a column level by calling `droplevel()` (the same goes for indices):"
   ]
  },
  {
   "cell_type": "code",
   "metadata": {},
   "source": [
    "d5.columns = d5.columns.droplevel(level = 0)\n",
    "d5"
   ],
   "outputs": [],
   "execution_count": null
  },
  {
   "cell_type": "markdown",
   "metadata": {},
   "source": [
    "## Transposing\n",
    "You can swap columns and indices using the `T` attribute:"
   ]
  },
  {
   "cell_type": "code",
   "metadata": {},
   "source": [
    "d6 = d5.T\n",
    "d6"
   ],
   "outputs": [],
   "execution_count": null
  },
  {
   "cell_type": "markdown",
   "metadata": {},
   "source": [
    "## Stacking and unstacking levels\n",
    "Calling the `stack()` method will push the lowest column level after the lowest index:"
   ]
  },
  {
   "cell_type": "code",
   "metadata": {},
   "source": [
    "d7 = d6.stack()\n",
    "d7"
   ],
   "outputs": [],
   "execution_count": null
  },
  {
   "cell_type": "markdown",
   "metadata": {},
   "source": [
    "Note that many `NaN` values appeared. This makes sense because many new combinations did not exist before (eg. there was no `bob` in `London`).\n",
    "\n",
    "Calling `unstack()` will do the reverse, once again creating many `NaN` values."
   ]
  },
  {
   "cell_type": "code",
   "metadata": {},
   "source": [
    "d8 = d7.unstack()\n",
    "d8"
   ],
   "outputs": [],
   "execution_count": null
  },
  {
   "cell_type": "markdown",
   "metadata": {},
   "source": [
    "If we call `unstack` again, we end up with a `Series` object:"
   ]
  },
  {
   "cell_type": "code",
   "metadata": {},
   "source": [
    "d9 = d8.unstack()\n",
    "d9"
   ],
   "outputs": [],
   "execution_count": null
  },
  {
   "cell_type": "markdown",
   "metadata": {},
   "source": [
    "The `stack()` and `unstack()` methods let you select the `level` to stack/unstack. You can even stack/unstack multiple levels at once:"
   ]
  },
  {
   "cell_type": "code",
   "metadata": {
    "scrolled": true
   },
   "source": [
    "d10 = d9.unstack(level = (0,1))\n",
    "d10"
   ],
   "outputs": [],
   "execution_count": null
  },
  {
   "cell_type": "markdown",
   "metadata": {},
   "source": [
    "## Most methods return modified copies\n",
    "As you may have noticed, the `stack()` and `unstack()` methods do not modify the object they apply to. Instead, they work on a copy and return that copy. This is true of most methods in pandas."
   ]
  },
  {
   "cell_type": "markdown",
   "metadata": {},
   "source": [
    "## Accessing rows\n",
    "Let's go back to the `people` `DataFrame`:"
   ]
  },
  {
   "cell_type": "code",
   "metadata": {},
   "source": [
    "people"
   ],
   "outputs": [],
   "execution_count": null
  },
  {
   "cell_type": "markdown",
   "metadata": {},
   "source": [
    "The `loc` attribute lets you access rows instead of columns. The result is a `Series` object in which the `DataFrame`'s column names are mapped to row index labels:"
   ]
  },
  {
   "cell_type": "code",
   "metadata": {},
   "source": [
    "people.loc[\"charles\"]"
   ],
   "outputs": [],
   "execution_count": null
  },
  {
   "cell_type": "markdown",
   "metadata": {},
   "source": [
    "You can also access rows by integer location using the `iloc` attribute:"
   ]
  },
  {
   "cell_type": "code",
   "metadata": {},
   "source": [
    "people.iloc[2]"
   ],
   "outputs": [],
   "execution_count": null
  },
  {
   "cell_type": "markdown",
   "metadata": {},
   "source": [
    "You can also get a slice of rows, and this returns a `DataFrame` object:"
   ]
  },
  {
   "cell_type": "code",
   "metadata": {},
   "source": [
    "people.iloc[1:3]"
   ],
   "outputs": [],
   "execution_count": null
  },
  {
   "cell_type": "markdown",
   "metadata": {},
   "source": [
    "Finally, you can pass a boolean array to get the matching rows:"
   ]
  },
  {
   "cell_type": "code",
   "metadata": {},
   "source": [
    "people[np.array([True, False, True])]"
   ],
   "outputs": [],
   "execution_count": null
  },
  {
   "cell_type": "markdown",
   "metadata": {},
   "source": [
    "This is most useful when combined with boolean expressions:"
   ]
  },
  {
   "cell_type": "code",
   "metadata": {},
   "source": [
    "people[people[\"birthyear\"] < 1990]"
   ],
   "outputs": [],
   "execution_count": null
  },
  {
   "cell_type": "markdown",
   "metadata": {},
   "source": [
    "## Adding and removing columns\n",
    "You can generally treat `DataFrame` objects like dictionaries of `Series`, so the following work fine:"
   ]
  },
  {
   "cell_type": "code",
   "metadata": {},
   "source": [
    "people"
   ],
   "outputs": [],
   "execution_count": null
  },
  {
   "cell_type": "code",
   "metadata": {},
   "source": [
    "people[\"age\"] = 2018 - people[\"birthyear\"]  # adds a new column \"age\"\n",
    "people[\"over 30\"] = people[\"age\"] > 30      # adds another column \"over 30\"\n",
    "birthyears = people.pop(\"birthyear\")\n",
    "del people[\"children\"]\n",
    "\n",
    "people"
   ],
   "outputs": [],
   "execution_count": null
  },
  {
   "cell_type": "code",
   "metadata": {},
   "source": [
    "birthyears"
   ],
   "outputs": [],
   "execution_count": null
  },
  {
   "cell_type": "markdown",
   "metadata": {},
   "source": [
    "When you add a new colum, it must have the same number of rows. Missing rows are filled with NaN, and extra rows are ignored:"
   ]
  },
  {
   "cell_type": "code",
   "metadata": {},
   "source": [
    "people[\"pets\"] = pd.Series({\"bob\": 0, \"charles\": 5, \"eugene\":1})  # alice is missing, eugene is ignored\n",
    "people"
   ],
   "outputs": [],
   "execution_count": null
  },
  {
   "cell_type": "markdown",
   "metadata": {},
   "source": [
    "When adding a new column, it is added at the end (on the right) by default. You can also insert a column anywhere else using the `insert()` method:"
   ]
  },
  {
   "cell_type": "code",
   "metadata": {},
   "source": [
    "people.insert(1, \"height\", [172, 181, 185])\n",
    "people"
   ],
   "outputs": [],
   "execution_count": null
  },
  {
   "cell_type": "markdown",
   "metadata": {},
   "source": [
    "## Assigning new columns\n",
    "You can also create new columns by calling the `assign()` method. Note that this returns a new `DataFrame` object, the original is not modified:"
   ]
  },
  {
   "cell_type": "code",
   "metadata": {},
   "source": [
    "people.assign(\n",
    "    body_mass_index = people[\"weight\"] / (people[\"height\"] / 100) ** 2,\n",
    "    has_pets = people[\"pets\"] > 0\n",
    ")"
   ],
   "outputs": [],
   "execution_count": null
  },
  {
   "cell_type": "markdown",
   "metadata": {},
   "source": [
    "Note that you cannot access columns created within the same assignment:"
   ]
  },
  {
   "cell_type": "code",
   "metadata": {},
   "source": [
    "try:\n",
    "    people.assign(\n",
    "        body_mass_index = people[\"weight\"] / (people[\"height\"] / 100) ** 2,\n",
    "        overweight = people[\"body_mass_index\"] > 25\n",
    "    )\n",
    "except KeyError as e:\n",
    "    print(\"Key error:\", e)"
   ],
   "outputs": [],
   "execution_count": null
  },
  {
   "cell_type": "markdown",
   "metadata": {},
   "source": [
    "The solution is to split this assignment in two consecutive assignments:"
   ]
  },
  {
   "cell_type": "code",
   "metadata": {},
   "source": [
    "d6 = people.assign(body_mass_index = people[\"weight\"] / (people[\"height\"] / 100) ** 2)\n",
    "d6.assign(overweight = d6[\"body_mass_index\"] > 25)"
   ],
   "outputs": [],
   "execution_count": null
  },
  {
   "cell_type": "markdown",
   "metadata": {},
   "source": [
    "Having to create a temporary variable `d6` is not very convenient. You may want to just chain the assigment calls, but it does not work because the `people` object is not actually modified by the first assignment:"
   ]
  },
  {
   "cell_type": "code",
   "metadata": {},
   "source": [
    "try:\n",
    "    (people\n",
    "         .assign(body_mass_index = people[\"weight\"] / (people[\"height\"] / 100) ** 2)\n",
    "         .assign(overweight = people[\"body_mass_index\"] > 25)\n",
    "    )\n",
    "except KeyError as e:\n",
    "    print(\"Key error:\", e)"
   ],
   "outputs": [],
   "execution_count": null
  },
  {
   "cell_type": "markdown",
   "metadata": {},
   "source": [
    "But fear not, there is a simple solution. You can pass a function to the `assign()` method (typically a `lambda` function), and this function will be called with the `DataFrame` as a parameter:"
   ]
  },
  {
   "cell_type": "code",
   "metadata": {},
   "source": [
    "(people\n",
    "     .assign(body_mass_index = lambda df: df[\"weight\"] / (df[\"height\"] / 100) ** 2)\n",
    "     .assign(overweight = lambda df: df[\"body_mass_index\"] > 25)\n",
    ")"
   ],
   "outputs": [],
   "execution_count": null
  },
  {
   "cell_type": "markdown",
   "metadata": {},
   "source": [
    "Problem solved!"
   ]
  },
  {
   "cell_type": "markdown",
   "metadata": {},
   "source": [
    "## Evaluating an expression\n",
    "A great feature supported by pandas is expression evaluation. This relies on the `numexpr` library which must be installed."
   ]
  },
  {
   "cell_type": "code",
   "metadata": {},
   "source": [
    "people.eval(\"weight / (height/100) ** 2 > 25\")"
   ],
   "outputs": [],
   "execution_count": null
  },
  {
   "cell_type": "markdown",
   "metadata": {},
   "source": [
    "Assignment expressions are also supported. Let's set `inplace=True` to directly modify the `DataFrame` rather than getting a modified copy:"
   ]
  },
  {
   "cell_type": "code",
   "metadata": {},
   "source": [
    "people.eval(\"body_mass_index = weight / (height/100) ** 2\", inplace=True)\n",
    "people"
   ],
   "outputs": [],
   "execution_count": null
  },
  {
   "cell_type": "markdown",
   "metadata": {},
   "source": [
    "You can use a local or global variable in an expression by prefixing it with `'@'`:"
   ]
  },
  {
   "cell_type": "code",
   "metadata": {},
   "source": [
    "overweight_threshold = 30\n",
    "people.eval(\"overweight = body_mass_index > @overweight_threshold\", inplace=True)\n",
    "people"
   ],
   "outputs": [],
   "execution_count": null
  },
  {
   "cell_type": "markdown",
   "metadata": {},
   "source": [
    "## Querying a `DataFrame`\n",
    "The `query()` method lets you filter a `DataFrame` based on a query expression:"
   ]
  },
  {
   "cell_type": "code",
   "metadata": {},
   "source": [
    "people.query(\"age > 30 and pets == 0\")"
   ],
   "outputs": [],
   "execution_count": null
  },
  {
   "cell_type": "markdown",
   "metadata": {},
   "source": [
    "## Sorting a `DataFrame`\n",
    "You can sort a `DataFrame` by calling its `sort_index` method. By default it sorts the rows by their index label, in ascending order, but let's reverse the order:"
   ]
  },
  {
   "cell_type": "code",
   "metadata": {},
   "source": [
    "people.sort_index(ascending=False)"
   ],
   "outputs": [],
   "execution_count": null
  },
  {
   "cell_type": "markdown",
   "metadata": {},
   "source": [
    "Note that `sort_index` returned a sorted *copy* of the `DataFrame`. To modify `people` directly, we can set the `inplace` argument to `True`. Also, we can sort the columns instead of the rows by setting `axis=1`:"
   ]
  },
  {
   "cell_type": "code",
   "metadata": {},
   "source": [
    "people.sort_index(axis=1, inplace=True)\n",
    "people"
   ],
   "outputs": [],
   "execution_count": null
  },
  {
   "cell_type": "markdown",
   "metadata": {},
   "source": [
    "To sort the `DataFrame` by the values instead of the labels, we can use `sort_values` and specify the column to sort by:"
   ]
  },
  {
   "cell_type": "code",
   "metadata": {},
   "source": [
    "people.sort_values(by=\"age\", inplace=True)\n",
    "people"
   ],
   "outputs": [],
   "execution_count": null
  },
  {
   "cell_type": "markdown",
   "metadata": {},
   "source": [
    "## Plotting a `DataFrame`\n",
    "Just like for `Series`, pandas makes it easy to draw nice graphs based on a `DataFrame`.\n",
    "\n",
    "For example, it is trivial to create a line plot from a `DataFrame`'s data by calling its `plot` method:"
   ]
  },
  {
   "cell_type": "code",
   "metadata": {},
   "source": [
    "people.plot(kind = \"line\", x = \"body_mass_index\", y = [\"height\", \"weight\"])\n",
    "plt.show()"
   ],
   "outputs": [],
   "execution_count": null
  },
  {
   "cell_type": "markdown",
   "metadata": {},
   "source": [
    "You can pass extra arguments supported by matplotlib's functions. For example, we can create scatterplot and pass it a list of sizes using the `s` argument of matplotlib's `scatter()` function:"
   ]
  },
  {
   "cell_type": "code",
   "metadata": {
    "scrolled": true
   },
   "source": [
    "people.plot(kind = \"scatter\", x = \"height\", y = \"weight\", s=[40, 120, 200])\n",
    "plt.show()"
   ],
   "outputs": [],
   "execution_count": null
  },
  {
   "cell_type": "markdown",
   "metadata": {},
   "source": [
    "Again, there are way too many options to list here: the best option is to scroll through the [Visualization](http://pandas.pydata.org/pandas-docs/stable/visualization.html) page in pandas' documentation, find the plot you are interested in and look at the example code."
   ]
  },
  {
   "cell_type": "markdown",
   "metadata": {},
   "source": [
    "## Operations on `DataFrame`s\n",
    "Although `DataFrame`s do not try to mimick NumPy arrays, there are a few similarities. Let's create a `DataFrame` to demonstrate this:"
   ]
  },
  {
   "cell_type": "code",
   "metadata": {},
   "source": [
    "grades_array = np.array([[8,8,9],[10,9,9],[4, 8, 2], [9, 10, 10]])\n",
    "grades = pd.DataFrame(grades_array, columns=[\"sep\", \"oct\", \"nov\"], index=[\"alice\",\"bob\",\"charles\",\"darwin\"])\n",
    "grades"
   ],
   "outputs": [],
   "execution_count": null
  },
  {
   "cell_type": "markdown",
   "metadata": {},
   "source": [
    "You can apply NumPy mathematical functions on a `DataFrame`: the function is applied to all values:"
   ]
  },
  {
   "cell_type": "code",
   "metadata": {},
   "source": [
    "np.sqrt(grades)"
   ],
   "outputs": [],
   "execution_count": null
  },
  {
   "cell_type": "markdown",
   "metadata": {},
   "source": [
    "Similarly, adding a single value to a `DataFrame` will add that value to all elements in the `DataFrame`. This is called *broadcasting*:"
   ]
  },
  {
   "cell_type": "code",
   "metadata": {},
   "source": [
    "grades + 1"
   ],
   "outputs": [],
   "execution_count": null
  },
  {
   "cell_type": "markdown",
   "metadata": {},
   "source": [
    "Of course, the same is true for all other binary operations, including arithmetic (`*`,`/`,`**`...) and conditional (`>`, `==`...) operations:"
   ]
  },
  {
   "cell_type": "code",
   "metadata": {},
   "source": [
    "grades >= 5"
   ],
   "outputs": [],
   "execution_count": null
  },
  {
   "cell_type": "markdown",
   "metadata": {},
   "source": [
    "Aggregation operations, such as computing the `max`, the `sum` or the `mean` of a `DataFrame`, apply to each column, and you get back a `Series` object:"
   ]
  },
  {
   "cell_type": "code",
   "metadata": {},
   "source": [
    "grades.mean()"
   ],
   "outputs": [],
   "execution_count": null
  },
  {
   "cell_type": "markdown",
   "metadata": {},
   "source": [
    "The `all` method is also an aggregation operation: it checks whether all values are `True` or not. Let's see during which months all students got a grade greater than `5`:"
   ]
  },
  {
   "cell_type": "code",
   "metadata": {},
   "source": [
    "(grades > 5).all()"
   ],
   "outputs": [],
   "execution_count": null
  },
  {
   "cell_type": "markdown",
   "metadata": {},
   "source": [
    "Most of these functions take an optional `axis` parameter which lets you specify along which axis of the `DataFrame` you want the operation executed. The default is `axis=0`, meaning that the operation is executed vertically (on each column). You can set `axis=1` to execute the operation horizontally (on each row). For example, let's find out which students had all grades greater than `5`:"
   ]
  },
  {
   "cell_type": "code",
   "metadata": {},
   "source": [
    "(grades > 5).all(axis = 1)"
   ],
   "outputs": [],
   "execution_count": null
  },
  {
   "cell_type": "markdown",
   "metadata": {},
   "source": [
    "The `any` method returns `True` if any value is True. Let's see who got at least one grade 10:"
   ]
  },
  {
   "cell_type": "code",
   "metadata": {},
   "source": [
    "(grades == 10).any(axis = 1)"
   ],
   "outputs": [],
   "execution_count": null
  },
  {
   "cell_type": "markdown",
   "metadata": {},
   "source": [
    "If you add a `Series` object to a `DataFrame` (or execute any other binary operation), pandas attempts to broadcast the operation to all *rows* in the `DataFrame`. This only works if the `Series` has the same size as the `DataFrame`s rows. For example, let's subtract the `mean` of the `DataFrame` (a `Series` object) from the `DataFrame`:"
   ]
  },
  {
   "cell_type": "code",
   "metadata": {},
   "source": [
    "grades - grades.mean()  # equivalent to: grades - [7.75, 8.75, 7.50]"
   ],
   "outputs": [],
   "execution_count": null
  },
  {
   "cell_type": "markdown",
   "metadata": {},
   "source": [
    "We subtracted `7.75` from all September grades, `8.75` from October grades and `7.50` from November grades. It is equivalent to subtracting this `DataFrame`:"
   ]
  },
  {
   "cell_type": "code",
   "metadata": {},
   "source": [
    "pd.DataFrame([[7.75, 8.75, 7.50]]*4, index=grades.index, columns=grades.columns)"
   ],
   "outputs": [],
   "execution_count": null
  },
  {
   "cell_type": "markdown",
   "metadata": {},
   "source": [
    "If you want to subtract the global mean from every grade, here is one way to do it:"
   ]
  },
  {
   "cell_type": "code",
   "metadata": {
    "scrolled": true
   },
   "source": [
    "grades - grades.values.mean() # subtracts the global mean (8.00) from all grades"
   ],
   "outputs": [],
   "execution_count": null
  },
  {
   "cell_type": "markdown",
   "metadata": {},
   "source": [
    "## Automatic alignment\n",
    "Similar to `Series`, when operating on multiple `DataFrame`s, pandas automatically aligns them by row index label, but also by column names. Let's create a `DataFrame` with bonus points for each person from October to December:"
   ]
  },
  {
   "cell_type": "code",
   "metadata": {},
   "source": [
    "bonus_array = np.array([[0,np.nan,2],[np.nan,1,0],[0, 1, 0], [3, 3, 0]])\n",
    "bonus_points = pd.DataFrame(bonus_array, columns=[\"oct\", \"nov\", \"dec\"], index=[\"bob\",\"colin\", \"darwin\", \"charles\"])\n",
    "bonus_points"
   ],
   "outputs": [],
   "execution_count": null
  },
  {
   "cell_type": "code",
   "metadata": {
    "scrolled": true
   },
   "source": [
    "grades + bonus_points"
   ],
   "outputs": [],
   "execution_count": null
  },
  {
   "cell_type": "markdown",
   "metadata": {},
   "source": [
    "Looks like the addition worked in some cases but way too many elements are now empty. That's because when aligning the `DataFrame`s, some columns and rows were only present on one side, and thus they were considered missing on the other side (`NaN`). Then adding `NaN` to a number results in `NaN`, hence the result.\n",
    "\n",
    "## Handling missing data\n",
    "Dealing with missing data is a frequent task when working with real life data. Pandas offers a few tools to handle missing data.\n",
    " \n",
    "Let's try to fix the problem above. For example, we can decide that missing data should result in a zero, instead of `NaN`. We can replace all `NaN` values by a any value using the `fillna()` method:"
   ]
  },
  {
   "cell_type": "code",
   "metadata": {
    "scrolled": true
   },
   "source": [
    "(grades + bonus_points).fillna(0)"
   ],
   "outputs": [],
   "execution_count": null
  },
  {
   "cell_type": "markdown",
   "metadata": {},
   "source": [
    "It's a bit unfair that we're setting grades to zero in September, though. Perhaps we should decide that missing grades are missing grades, but missing bonus points should be replaced by zeros:"
   ]
  },
  {
   "cell_type": "code",
   "metadata": {},
   "source": [
    "fixed_bonus_points = bonus_points.fillna(0)\n",
    "fixed_bonus_points.insert(0, \"sep\", 0)\n",
    "fixed_bonus_points.loc[\"alice\"] = 0\n",
    "grades + fixed_bonus_points"
   ],
   "outputs": [],
   "execution_count": null
  },
  {
   "cell_type": "markdown",
   "metadata": {},
   "source": [
    "That's much better: although we made up some data, we have not been too unfair.\n",
    "\n",
    "Another way to handle missing data is to interpolate. Let's look at the `bonus_points` `DataFrame` again:"
   ]
  },
  {
   "cell_type": "code",
   "metadata": {},
   "source": [
    "bonus_points"
   ],
   "outputs": [],
   "execution_count": null
  },
  {
   "cell_type": "markdown",
   "metadata": {},
   "source": [
    "Now let's call the `interpolate` method. By default, it interpolates vertically (`axis=0`), so let's tell it to interpolate horizontally (`axis=1`)."
   ]
  },
  {
   "cell_type": "code",
   "metadata": {},
   "source": [
    "bonus_points.interpolate(axis=1)"
   ],
   "outputs": [],
   "execution_count": null
  },
  {
   "cell_type": "markdown",
   "metadata": {},
   "source": [
    "Bob had 0 bonus points in October, and 2 in December. When we interpolate for November, we get the mean: 1 bonus point. Colin had 1 bonus point in November, but we do not know how many bonus points he had in September, so we cannot interpolate, this is why there is still a missing value in October after interpolation. To fix this, we can set the September bonus points to 0 before interpolation."
   ]
  },
  {
   "cell_type": "code",
   "metadata": {},
   "source": [
    "better_bonus_points = bonus_points.copy()\n",
    "better_bonus_points.insert(0, \"sep\", 0)\n",
    "better_bonus_points.loc[\"alice\"] = 0\n",
    "better_bonus_points = better_bonus_points.interpolate(axis=1)\n",
    "better_bonus_points"
   ],
   "outputs": [],
   "execution_count": null
  },
  {
   "cell_type": "markdown",
   "metadata": {},
   "source": [
    "Great, now we have reasonable bonus points everywhere. Let's find out the final grades:"
   ]
  },
  {
   "cell_type": "code",
   "metadata": {},
   "source": [
    "grades + better_bonus_points"
   ],
   "outputs": [],
   "execution_count": null
  },
  {
   "cell_type": "markdown",
   "metadata": {},
   "source": [
    "It is slightly annoying that the September column ends up on the right. This is because the `DataFrame`s we are adding do not have the exact same columns (the `grades` `DataFrame` is missing the `\"dec\"` column), so to make things predictable, pandas orders the final columns alphabetically. To fix this, we can simply add the missing column before adding:"
   ]
  },
  {
   "cell_type": "code",
   "metadata": {
    "scrolled": true
   },
   "source": [
    "grades[\"dec\"] = np.nan\n",
    "final_grades = grades + better_bonus_points\n",
    "final_grades"
   ],
   "outputs": [],
   "execution_count": null
  },
  {
   "cell_type": "markdown",
   "metadata": {},
   "source": [
    "There's not much we can do about December and Colin: it's bad enough that we are making up bonus points, but we can't reasonably make up grades (well I guess some teachers probably do). So let's call the `dropna()` method to get rid of rows that are full of `NaN`s:"
   ]
  },
  {
   "cell_type": "code",
   "metadata": {},
   "source": [
    "final_grades_clean = final_grades.dropna(how=\"all\")\n",
    "final_grades_clean"
   ],
   "outputs": [],
   "execution_count": null
  },
  {
   "cell_type": "markdown",
   "metadata": {},
   "source": [
    "Now let's remove columns that are full of `NaN`s by setting the `axis` argument to `1`:"
   ]
  },
  {
   "cell_type": "code",
   "metadata": {},
   "source": [
    "final_grades_clean = final_grades_clean.dropna(axis=1, how=\"all\")\n",
    "final_grades_clean"
   ],
   "outputs": [],
   "execution_count": null
  },
  {
   "cell_type": "markdown",
   "metadata": {},
   "source": [
    "## Aggregating with `groupby`\n",
    "Similar to the SQL language, pandas allows grouping your data into groups to run calculations over each group.\n",
    "\n",
    "First, let's add some extra data about each person so we can group them, and let's go back to the `final_grades` `DataFrame` so we can see how `NaN` values are handled:"
   ]
  },
  {
   "cell_type": "code",
   "metadata": {
    "scrolled": true
   },
   "source": [
    "final_grades[\"hobby\"] = [\"Biking\", \"Dancing\", np.nan, \"Dancing\", \"Biking\"]\n",
    "final_grades"
   ],
   "outputs": [],
   "execution_count": null
  },
  {
   "cell_type": "markdown",
   "metadata": {},
   "source": [
    "Now let's group data in this `DataFrame` by hobby:"
   ]
  },
  {
   "cell_type": "code",
   "metadata": {},
   "source": [
    "grouped_grades = final_grades.groupby(\"hobby\")\n",
    "grouped_grades"
   ],
   "outputs": [],
   "execution_count": null
  },
  {
   "cell_type": "markdown",
   "metadata": {},
   "source": [
    "We are ready to compute the average grade per hobby:"
   ]
  },
  {
   "cell_type": "code",
   "metadata": {},
   "source": [
    "grouped_grades.mean()"
   ],
   "outputs": [],
   "execution_count": null
  },
  {
   "cell_type": "markdown",
   "metadata": {},
   "source": [
    "That was easy! Note that the `NaN` values have simply been skipped when computing the means."
   ]
  },
  {
   "cell_type": "markdown",
   "metadata": {},
   "source": [
    "## Pivot tables\n",
    "Pandas supports spreadsheet-like [pivot tables](https://en.wikipedia.org/wiki/Pivot_table) that allow quick data summarization. To illustrate this, let's create a simple `DataFrame`:"
   ]
  },
  {
   "cell_type": "code",
   "metadata": {},
   "source": [
    "bonus_points"
   ],
   "outputs": [],
   "execution_count": null
  },
  {
   "cell_type": "code",
   "metadata": {},
   "source": [
    "more_grades = final_grades_clean.stack().reset_index()\n",
    "more_grades.columns = [\"name\", \"month\", \"grade\"]\n",
    "more_grades[\"bonus\"] = [np.nan, np.nan, np.nan, 0, np.nan, 2, 3, 3, 0, 0, 1, 0]\n",
    "more_grades"
   ],
   "outputs": [],
   "execution_count": null
  },
  {
   "cell_type": "markdown",
   "metadata": {},
   "source": [
    "Now we can call the `pd.pivot_table()` function for this `DataFrame`, asking to group by the `name` column. By default, `pivot_table()` computes the mean of each numeric column:"
   ]
  },
  {
   "cell_type": "code",
   "metadata": {},
   "source": [
    "pd.pivot_table(more_grades, index=\"name\")"
   ],
   "outputs": [],
   "execution_count": null
  },
  {
   "cell_type": "markdown",
   "metadata": {},
   "source": [
    "We can change the aggregation function by setting the `aggfunc` argument, and we can also specify the list of columns whose values will be aggregated:"
   ]
  },
  {
   "cell_type": "code",
   "metadata": {},
   "source": [
    "pd.pivot_table(more_grades, index=\"name\", values=[\"grade\",\"bonus\"], aggfunc=np.max)"
   ],
   "outputs": [],
   "execution_count": null
  },
  {
   "cell_type": "markdown",
   "metadata": {},
   "source": [
    "We can also specify the `columns` to aggregate over horizontally, and request the grand totals for each row and column by setting `margins=True`:"
   ]
  },
  {
   "cell_type": "code",
   "metadata": {},
   "source": [
    "pd.pivot_table(more_grades, index=\"name\", values=\"grade\", columns=\"month\", margins=True)"
   ],
   "outputs": [],
   "execution_count": null
  },
  {
   "cell_type": "markdown",
   "metadata": {},
   "source": [
    "Finally, we can specify multiple index or column names, and pandas will create multi-level indices:"
   ]
  },
  {
   "cell_type": "code",
   "metadata": {},
   "source": [
    "pd.pivot_table(more_grades, index=(\"name\", \"month\"), margins=True)"
   ],
   "outputs": [],
   "execution_count": null
  },
  {
   "cell_type": "markdown",
   "metadata": {},
   "source": [
    "## Overview functions\n",
    "When dealing with large `DataFrames`, it is useful to get a quick overview of its content. Pandas offers a few functions for this. First, let's create a large `DataFrame` with a mix of numeric values, missing values and text values. Notice how Jupyter displays only the corners of the `DataFrame`:"
   ]
  },
  {
   "cell_type": "code",
   "metadata": {},
   "source": [
    "much_data = np.fromfunction(lambda x,y: (x+y*y)%17*11, (10000, 26))\n",
    "large_df = pd.DataFrame(much_data, columns=list(\"ABCDEFGHIJKLMNOPQRSTUVWXYZ\"))\n",
    "large_df[large_df % 16 == 0] = np.nan\n",
    "large_df.insert(3,\"some_text\", \"Blabla\")\n",
    "large_df"
   ],
   "outputs": [],
   "execution_count": null
  },
  {
   "cell_type": "markdown",
   "metadata": {},
   "source": [
    "The `head()` method returns the top 5 rows:"
   ]
  },
  {
   "cell_type": "code",
   "metadata": {},
   "source": [
    "large_df.head()"
   ],
   "outputs": [],
   "execution_count": null
  },
  {
   "cell_type": "markdown",
   "metadata": {},
   "source": [
    "Of course there's also a `tail()` function to view the bottom 5 rows. You can pass the number of rows you want:"
   ]
  },
  {
   "cell_type": "code",
   "metadata": {},
   "source": [
    "large_df.tail(n=2)"
   ],
   "outputs": [],
   "execution_count": null
  },
  {
   "cell_type": "markdown",
   "metadata": {},
   "source": [
    "The `info()` method prints out a summary of each columns contents:"
   ]
  },
  {
   "cell_type": "code",
   "metadata": {},
   "source": [
    "large_df.info()"
   ],
   "outputs": [],
   "execution_count": null
  },
  {
   "cell_type": "markdown",
   "metadata": {},
   "source": [
    "Finally, the `describe()` method gives a nice overview of the main aggregated values over each column:\n",
    "* `count`: number of non-null (not NaN) values\n",
    "* `mean`: mean of non-null values\n",
    "* `std`: [standard deviation](https://en.wikipedia.org/wiki/Standard_deviation) of non-null values\n",
    "* `min`: minimum of non-null values\n",
    "* `25%`, `50%`, `75%`: 25th, 50th and 75th [percentile](https://en.wikipedia.org/wiki/Percentile) of non-null values\n",
    "* `max`: maximum of non-null values"
   ]
  },
  {
   "cell_type": "code",
   "metadata": {},
   "source": [
    "large_df.describe()"
   ],
   "outputs": [],
   "execution_count": null
  },
  {
   "cell_type": "markdown",
   "metadata": {},
   "source": [
    "# Saving & loading\n",
    "Pandas can save `DataFrame`s to various backends, including file formats such as CSV, Excel, JSON, HTML and HDF5, or to a SQL database. Let's create a `DataFrame` to demonstrate this:"
   ]
  },
  {
   "cell_type": "code",
   "metadata": {},
   "source": [
    "my_df = pd.DataFrame(\n",
    "    [[\"Biking\", 68.5, 1985, np.nan], [\"Dancing\", 83.1, 1984, 3]], \n",
    "    columns=[\"hobby\",\"weight\",\"birthyear\",\"children\"],\n",
    "    index=[\"alice\", \"bob\"]\n",
    ")\n",
    "my_df"
   ],
   "outputs": [],
   "execution_count": null
  },
  {
   "cell_type": "markdown",
   "metadata": {},
   "source": [
    "## Saving\n",
    "Let's save it to CSV, HTML and JSON:"
   ]
  },
  {
   "cell_type": "code",
   "metadata": {},
   "source": [
    "my_df.to_csv(\"my_df.csv\")\n",
    "my_df.to_html(\"my_df.html\")\n",
    "my_df.to_json(\"my_df.json\")"
   ],
   "outputs": [],
   "execution_count": null
  },
  {
   "cell_type": "markdown",
   "metadata": {},
   "source": [
    "Done! Let's take a peek at what was saved:"
   ]
  },
  {
   "cell_type": "code",
   "metadata": {},
   "source": [
    "for filename in (\"my_df.csv\", \"my_df.html\", \"my_df.json\"):\n",
    "    print(\"#\", filename)\n",
    "    with open(filename, \"rt\") as f:\n",
    "        print(f.read())\n",
    "        print()\n"
   ],
   "outputs": [],
   "execution_count": null
  },
  {
   "cell_type": "markdown",
   "metadata": {},
   "source": [
    "Note that the index is saved as the first column (with no name) in a CSV file, as `<th>` tags in HTML and as keys in JSON.\n",
    "\n",
    "Saving to other formats works very similarly, but some formats require extra libraries to be installed. For example, saving to Excel requires the openpyxl library:"
   ]
  },
  {
   "cell_type": "code",
   "metadata": {},
   "source": [
    "try:\n",
    "    my_df.to_excel(\"my_df.xlsx\", sheet_name='People')\n",
    "except ImportError as e:\n",
    "    print(e)"
   ],
   "outputs": [],
   "execution_count": null
  },
  {
   "cell_type": "markdown",
   "metadata": {},
   "source": [
    "## Loading\n",
    "Now let's load our CSV file back into a `DataFrame`:"
   ]
  },
  {
   "cell_type": "code",
   "metadata": {},
   "source": [
    "my_df_loaded = pd.read_csv(\"my_df.csv\", index_col=0)\n",
    "my_df_loaded"
   ],
   "outputs": [],
   "execution_count": null
  },
  {
   "cell_type": "markdown",
   "metadata": {},
   "source": [
    "As you might guess, there are similar `read_json`, `read_html`, `read_excel` functions as well.  We can also read data straight from the Internet. For example, let's load the top 1,000 U.S. cities from github:"
   ]
  },
  {
   "cell_type": "code",
   "metadata": {},
   "source": [
    "us_cities = None\n",
    "try:\n",
    "    csv_url = \"https://raw.githubusercontent.com/plotly/datasets/master/us-cities-top-1k.csv\"\n",
    "    us_cities = pd.read_csv(csv_url, index_col=0)\n",
    "    us_cities = us_cities.head()\n",
    "except IOError as e:\n",
    "    print(e)\n",
    "us_cities"
   ],
   "outputs": [],
   "execution_count": null
  },
  {
   "cell_type": "markdown",
   "metadata": {},
   "source": [
    "There are more options available, in particular regarding datetime format. Check out the [documentation](http://pandas.pydata.org/pandas-docs/stable/io.html) for more details."
   ]
  },
  {
   "cell_type": "markdown",
   "metadata": {},
   "source": [
    "# Combining `DataFrame`s\n",
    "\n",
    "## SQL-like joins\n",
    "One powerful feature of pandas is it's ability to perform SQL-like joins on `DataFrame`s. Various types of joins are supported: inner joins, left/right outer joins and full joins. To illustrate this, let's start by creating a couple simple `DataFrame`s:"
   ]
  },
  {
   "cell_type": "code",
   "metadata": {},
   "source": [
    "city_loc = pd.DataFrame(\n",
    "    [\n",
    "        [\"CA\", \"San Francisco\", 37.781334, -122.416728],\n",
    "        [\"NY\", \"New York\", 40.705649, -74.008344],\n",
    "        [\"FL\", \"Miami\", 25.791100, -80.320733],\n",
    "        [\"OH\", \"Cleveland\", 41.473508, -81.739791],\n",
    "        [\"UT\", \"Salt Lake City\", 40.755851, -111.896657]\n",
    "    ], columns=[\"state\", \"city\", \"lat\", \"lng\"])\n",
    "city_loc"
   ],
   "outputs": [],
   "execution_count": null
  },
  {
   "cell_type": "code",
   "metadata": {},
   "source": [
    "city_pop = pd.DataFrame(\n",
    "    [\n",
    "        [808976, \"San Francisco\", \"California\"],\n",
    "        [8363710, \"New York\", \"New-York\"],\n",
    "        [413201, \"Miami\", \"Florida\"],\n",
    "        [2242193, \"Houston\", \"Texas\"]\n",
    "    ], index=[3,4,5,6], columns=[\"population\", \"city\", \"state\"])\n",
    "city_pop"
   ],
   "outputs": [],
   "execution_count": null
  },
  {
   "cell_type": "markdown",
   "metadata": {},
   "source": [
    "Now let's join these `DataFrame`s using the `merge()` function:"
   ]
  },
  {
   "cell_type": "code",
   "metadata": {},
   "source": [
    "pd.merge(left=city_loc, right=city_pop, on=\"city\")"
   ],
   "outputs": [],
   "execution_count": null
  },
  {
   "cell_type": "markdown",
   "metadata": {},
   "source": [
    "Note that both `DataFrame`s have a column named `state`, so in the result they got renamed to `state_x` and `state_y`.\n",
    "\n",
    "Also, note that Cleveland, Salt Lake City and Houston were dropped because they don't exist in *both* `DataFrame`s. This is the equivalent of a SQL `INNER JOIN`. If you want a `FULL OUTER JOIN`, where no city gets dropped and `NaN` values are added, you must specify `how=\"outer\"`:"
   ]
  },
  {
   "cell_type": "code",
   "metadata": {},
   "source": [
    "all_cities = pd.merge(left=city_loc, right=city_pop, on=\"city\", how=\"outer\")\n",
    "all_cities"
   ],
   "outputs": [],
   "execution_count": null
  },
  {
   "cell_type": "markdown",
   "metadata": {},
   "source": [
    "Of course `LEFT OUTER JOIN` is also available by setting `how=\"left\"`: only the cities present in the left `DataFrame` end up in the result. Similarly, with `how=\"right\"` only cities in the right `DataFrame` appear in the result. For example:"
   ]
  },
  {
   "cell_type": "code",
   "metadata": {},
   "source": [
    "pd.merge(left=city_loc, right=city_pop, on=\"city\", how=\"right\")"
   ],
   "outputs": [],
   "execution_count": null
  },
  {
   "cell_type": "markdown",
   "metadata": {},
   "source": [
    "If the key to join on is actually in one (or both) `DataFrame`'s index, you must use `left_index=True` and/or `right_index=True`. If the key column names differ, you must use `left_on` and `right_on`. For example:"
   ]
  },
  {
   "cell_type": "code",
   "metadata": {},
   "source": [
    "city_pop2 = city_pop.copy()\n",
    "city_pop2.columns = [\"population\", \"name\", \"state\"]\n",
    "pd.merge(left=city_loc, right=city_pop2, left_on=\"city\", right_on=\"name\")"
   ],
   "outputs": [],
   "execution_count": null
  },
  {
   "cell_type": "markdown",
   "metadata": {},
   "source": [
    "## Concatenation\n",
    "Rather than joining `DataFrame`s, we may just want to concatenate them. That's what `concat()` is for:"
   ]
  },
  {
   "cell_type": "code",
   "metadata": {},
   "source": [
    "result_concat = pd.concat([city_loc, city_pop])\n",
    "result_concat"
   ],
   "outputs": [],
   "execution_count": null
  },
  {
   "cell_type": "markdown",
   "metadata": {},
   "source": [
    "Note that this operation aligned the data horizontally (by columns) but not vertically (by rows). In this example, we end up with multiple rows having the same index (eg. 3). Pandas handles this rather gracefully:"
   ]
  },
  {
   "cell_type": "code",
   "metadata": {},
   "source": [
    "result_concat.loc[3]"
   ],
   "outputs": [],
   "execution_count": null
  },
  {
   "cell_type": "markdown",
   "metadata": {},
   "source": [
    "Or you can tell pandas to just ignore the index:"
   ]
  },
  {
   "cell_type": "code",
   "metadata": {},
   "source": [
    "pd.concat([city_loc, city_pop], ignore_index=True)"
   ],
   "outputs": [],
   "execution_count": null
  },
  {
   "cell_type": "markdown",
   "metadata": {},
   "source": [
    "Notice that when a column does not exist in a `DataFrame`, it acts as if it was filled with `NaN` values. If we set `join=\"inner\"`, then only columns that exist in *both* `DataFrame`s are returned:"
   ]
  },
  {
   "cell_type": "code",
   "metadata": {},
   "source": [
    "pd.concat([city_loc, city_pop], join=\"inner\")"
   ],
   "outputs": [],
   "execution_count": null
  },
  {
   "cell_type": "markdown",
   "metadata": {},
   "source": [
    "You can concatenate `DataFrame`s horizontally instead of vertically by setting `axis=1`:"
   ]
  },
  {
   "cell_type": "code",
   "metadata": {
    "scrolled": true
   },
   "source": [
    "pd.concat([city_loc, city_pop], axis=1)"
   ],
   "outputs": [],
   "execution_count": null
  },
  {
   "cell_type": "markdown",
   "metadata": {},
   "source": [
    "In this case it really does not make much sense because the indices do not align well (eg. Cleveland and San Francisco end up on the same row, because they shared the index label `3`). So let's reindex the `DataFrame`s by city name before concatenating:"
   ]
  },
  {
   "cell_type": "code",
   "metadata": {
    "scrolled": true
   },
   "source": [
    "pd.concat([city_loc.set_index(\"city\"), city_pop.set_index(\"city\")], axis=1)"
   ],
   "outputs": [],
   "execution_count": null
  },
  {
   "cell_type": "markdown",
   "metadata": {},
   "source": [
    "This looks a lot like a `FULL OUTER JOIN`, except that the `state` columns were not renamed to `state_x` and `state_y`, and the `city` column is now the index."
   ]
  },
  {
   "cell_type": "markdown",
   "metadata": {},
   "source": [
    "The `append()` method is a useful shorthand for concatenating `DataFrame`s vertically:"
   ]
  },
  {
   "cell_type": "code",
   "metadata": {},
   "source": [
    "city_loc.append(city_pop)"
   ],
   "outputs": [],
   "execution_count": null
  },
  {
   "cell_type": "markdown",
   "metadata": {},
   "source": [
    "As always in pandas, the `append()` method does *not* actually modify `city_loc`: it works on a copy and returns the modified copy."
   ]
  },
  {
   "cell_type": "markdown",
   "metadata": {},
   "source": [
    "# Categories\n",
    "It is quite frequent to have values that represent categories, for example `1` for female and `2` for male, or `\"A\"` for Good, `\"B\"` for Average, `\"C\"` for Bad. These categorical values can be hard to read and cumbersome to handle, but fortunately pandas makes it easy. To illustrate this, let's take the `city_pop` `DataFrame` we created earlier, and add a column that represents a category:"
   ]
  },
  {
   "cell_type": "code",
   "metadata": {},
   "source": [
    "city_eco = city_pop.copy()\n",
    "city_eco[\"eco_code\"] = [17, 17, 34, 20]\n",
    "city_eco"
   ],
   "outputs": [],
   "execution_count": null
  },
  {
   "cell_type": "markdown",
   "metadata": {},
   "source": [
    "Right now the `eco_code` column is full of apparently meaningless codes. Let's fix that. First, we will create a new categorical column based on the `eco_code`s:"
   ]
  },
  {
   "cell_type": "code",
   "metadata": {},
   "source": [
    "city_eco[\"economy\"] = city_eco[\"eco_code\"].astype('category')\n",
    "city_eco[\"economy\"].cat.categories"
   ],
   "outputs": [],
   "execution_count": null
  },
  {
   "cell_type": "markdown",
   "metadata": {},
   "source": [
    "Now we can give each category a meaningful name:"
   ]
  },
  {
   "cell_type": "code",
   "metadata": {},
   "source": [
    "city_eco[\"economy\"].cat.categories = [\"Finance\", \"Energy\", \"Tourism\"]\n",
    "city_eco"
   ],
   "outputs": [],
   "execution_count": null
  },
  {
   "cell_type": "markdown",
   "metadata": {},
   "source": [
    "Note that categorical values are sorted according to their categorical order, *not* their alphabetical order:"
   ]
  },
  {
   "cell_type": "code",
   "metadata": {},
   "source": [
    "city_eco.sort_values(by=\"economy\", ascending=False)"
   ],
   "outputs": [],
   "execution_count": null
  },
  {
   "cell_type": "markdown",
   "metadata": {},
   "source": [
    "# What next?\n",
    "As you probably noticed by now, pandas is quite a large library with *many* features. Although we went through the most important features, there is still a lot to discover. Probably the best way to learn more is to get your hands dirty with some real-life data. It is also a good idea to go through pandas' excellent [documentation](http://pandas.pydata.org/pandas-docs/stable/index.html), in particular the [Cookbook](http://pandas.pydata.org/pandas-docs/stable/cookbook.html)."
   ]
  },
  {
   "cell_type": "code",
   "metadata": {},
   "source": [],
   "outputs": [],
   "execution_count": null
  }
 ],
 "metadata": {
  "kernelspec": {
   "display_name": "Python 3",
   "language": "python",
   "name": "python3"
  },
  "language_info": {
   "codemirror_mode": {
    "name": "ipython",
    "version": 3
   },
   "file_extension": ".py",
   "mimetype": "text/x-python",
   "name": "python",
   "nbconvert_exporter": "python",
   "pygments_lexer": "ipython3",
   "version": "3.7.10"
  },
  "toc": {
   "toc_cell": false,
   "toc_number_sections": true,
   "toc_section_display": "none",
   "toc_threshold": 6,
   "toc_window_display": true
  }
 },
 "nbformat": 4,
 "nbformat_minor": 4
}
